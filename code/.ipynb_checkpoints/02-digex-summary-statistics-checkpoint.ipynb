{
 "cells": [
  {
   "cell_type": "markdown",
   "id": "20d1b0e3-e966-4f91-88e5-0f26ed5554f8",
   "metadata": {},
   "source": [
    "# Summary statistics "
   ]
  },
  {
   "cell_type": "markdown",
   "id": "6cbd674e-5ab7-4abd-b5f9-c6b41e69aafa",
   "metadata": {},
   "source": [
    "This notebook contains code for the analysis of summary statistics for data used in the project: Digital experiments survey."
   ]
  },
  {
   "cell_type": "code",
   "execution_count": 2,
   "id": "b3efc572-dded-4634-ba37-b8ef7ac696a2",
   "metadata": {},
   "outputs": [],
   "source": [
    "import pathlib   # standard library\n",
    "\n",
    "import yaml   # 3rd party packages\n",
    "import joypy\n",
    "import pandas as pd\n",
    "import numpy as np\n",
    "from matplotlib import pyplot as plt\n",
    "\n",
    "from scripts.load_data import get_raw_data_filepath    # local imports"
   ]
  },
  {
   "cell_type": "markdown",
   "id": "82c310f5-9a30-4016-95be-74971cc942a6",
   "metadata": {},
   "source": [
    "## load raw data"
   ]
  },
  {
   "cell_type": "code",
   "execution_count": 3,
   "id": "9e7fbd20-87ed-481a-9911-d755c1fac590",
   "metadata": {},
   "outputs": [],
   "source": [
    "raw_data_path = get_raw_data_filepath(main=False) \n",
    "raw_data_df = pd.read_excel(raw_data_path)"
   ]
  },
  {
   "cell_type": "markdown",
   "id": "3adbd602-44b3-4071-a5c7-57ffa16625c7",
   "metadata": {},
   "source": [
    "## describe data"
   ]
  },
  {
   "cell_type": "code",
   "execution_count": 3,
   "id": "0905c5e9-753c-46c9-9b72-afb0e3547da9",
   "metadata": {},
   "outputs": [],
   "source": [
    "# https://aeturrell.github.io/coding-for-economists/data-numbers.html#counts\n",
    "# count() and value_counts() and mode()"
   ]
  },
  {
   "cell_type": "code",
   "execution_count": null,
   "id": "b054aab7-1631-4b47-928f-0ce991817eea",
   "metadata": {},
   "outputs": [],
   "source": [
    "# Summarise numerical values with .describe()\n"
   ]
  },
  {
   "cell_type": "code",
   "execution_count": null,
   "id": "64e7a47c-27e5-437e-a1ec-d92af9b85c2e",
   "metadata": {},
   "outputs": [],
   "source": [
    "# table = df[[\"mass\", \"height\"]].agg([np.mean, np.std])\n",
    "# table"
   ]
  },
  {
   "cell_type": "code",
   "execution_count": null,
   "id": "9ca25bdf-7a6d-4bef-ad32-8eb2e17ce610",
   "metadata": {},
   "outputs": [],
   "source": [
    "# Aggregation: https://aeturrell.github.io/coding-for-economists/data-transformation.html#aggregation\n",
    "\n",
    "# Groupby and aggregate: https://aeturrell.github.io/coding-for-economists/data-transformation.html#groupby-and-then-aggregate-aka-split-apply-combine"
   ]
  },
  {
   "cell_type": "code",
   "execution_count": null,
   "id": "5f688af4-5fc5-454b-a2ae-e345ce27a160",
   "metadata": {},
   "outputs": [],
   "source": [
    "## Spread and Distribution: https://aeturrell.github.io/coding-for-economists/data-numbers.html#counts"
   ]
  },
  {
   "cell_type": "code",
   "execution_count": null,
   "id": "630b7dab-7772-4470-8e58-798f476dc3e8",
   "metadata": {},
   "outputs": [],
   "source": [
    "from skimpy import skim\n",
    "\n",
    "skim(df)"
   ]
  },
  {
   "cell_type": "code",
   "execution_count": null,
   "id": "b3a67b3b-ca3a-4e27-a657-aabc04a06e89",
   "metadata": {},
   "outputs": [],
   "source": [
    "# Make quick charts with .plot.*\n"
   ]
  }
 ],
 "metadata": {
  "kernelspec": {
   "display_name": "Python 3 (ipykernel)",
   "language": "python",
   "name": "python3"
  },
  "language_info": {
   "codemirror_mode": {
    "name": "ipython",
    "version": 3
   },
   "file_extension": ".py",
   "mimetype": "text/x-python",
   "name": "python",
   "nbconvert_exporter": "python",
   "pygments_lexer": "ipython3",
   "version": "3.11.0"
  }
 },
 "nbformat": 4,
 "nbformat_minor": 5
}
