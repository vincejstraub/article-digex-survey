{
 "cells": [
  {
   "cell_type": "markdown",
   "id": "b5150774-edf4-4c82-9bd4-35b88db7778d",
   "metadata": {},
   "source": [
    "# Exploratory analysis "
   ]
  },
  {
   "cell_type": "markdown",
   "id": "6009978f-fa14-4786-84ec-6f1d2557b0e0",
   "metadata": {},
   "source": [
    "This notebook contains code for exploratory data analysis of data used in the project: Public attitudes and ethical guidelines in digital field experiments (digex)."
   ]
  },
  {
   "cell_type": "markdown",
   "id": "57018cd9-e9c5-4ac7-8a93-078196055526",
   "metadata": {
    "tags": []
   },
   "source": [
    "# TO DO"
   ]
  },
  {
   "cell_type": "markdown",
   "id": "ff116ac0-7017-4a63-a0a7-cdae8019b4ee",
   "metadata": {
    "jp-MarkdownHeadingCollapsed": true,
    "tags": []
   },
   "source": [
    "**We can roughly use the below bullet points taken from [2022-digex-study-design](https://docs.google.com/document/d/1nsaXEn04s9LTsjqrpbUpZlyQ3CAcuqkOwy1ZM0d-kKY/edit#) as section headings for this notebook to conduct the exploratory analysis**:\n",
    "\n",
    "- To address question 1, we will provide frequency tables or plots and descriptive statistics (M, SD, range) for the variables: awareness of the fact that academic researchers use social media data, awareness of the advantages of social media data that account for why academics collect them, awareness of social media data use, and awareness of social media interaction methods. \n",
    "\n",
    "- To address question 2, we will provide frequency tables or plots and descriptive statistics (M, SD, range) for each of the 4 vignette studies presented in section 2 of the survey for the variable: attitudes towards actual research studies. \n",
    "\n",
    "- To address question 3, we will provide frequency tables or plots for the variables attitudes towards study design factors and attitudes towards ethical principles. Moreover, we will also use a mixed-methods approach to analyze open-ended free-text responses (see below).\n",
    "\n",
    "- To further address questions 1-3, open-ended free-text inputs of both the open “other” options of selection items and the  open-ended free-text answers (i.e., what do you think it means for an academic study to receive \"ethical approval”, describe any concerns you might have, what additional information about the study or the researchers that would influence your level of concern, are there any other features of research that are important for determining your level of concern, are there any additional factors that you think should be considered) will be analyzed using a mixed-methods approach to detect common topics, sentiments, and themes. "
   ]
  },
  {
   "cell_type": "markdown",
   "id": "2bd3083f-ec31-4300-8e86-cd50fe0b5498",
   "metadata": {},
   "source": [
    "## Set working directory"
   ]
  },
  {
   "cell_type": "code",
   "execution_count": 1,
   "id": "e81b947d-7cc3-44ac-8f27-1743f89901a9",
   "metadata": {},
   "outputs": [],
   "source": [
    "import pathlib   # Change cwd\n",
    "import os \n",
    "\n",
    "path = pathlib.Path.cwd().parent\n",
    "os.chdir(path)"
   ]
  },
  {
   "cell_type": "markdown",
   "id": "81c8ead7-601f-4663-9449-4ed6294c2743",
   "metadata": {
    "tags": []
   },
   "source": [
    "## Imports"
   ]
  },
  {
   "cell_type": "code",
   "execution_count": 2,
   "id": "0124c32d-cd56-461d-897e-5d230daae8be",
   "metadata": {},
   "outputs": [],
   "source": [
    "import joypy\n",
    "import pandas as pd\n",
    "import numpy as np\n",
    "from matplotlib import pyplot as plt"
   ]
  },
  {
   "cell_type": "markdown",
   "id": "9f58243d-2dca-430c-bb74-6a09064297ef",
   "metadata": {
    "tags": []
   },
   "source": [
    "## Load processed data"
   ]
  },
  {
   "cell_type": "code",
   "execution_count": null,
   "id": "3473d16f-0d4a-48cf-9fa1-c02fa8acabf5",
   "metadata": {},
   "outputs": [],
   "source": [
    "processed_data_path = get_data_filepath(\n",
    "    file=config.PROCESSED_DATA_FILEPATH, \n",
    "    data_path=config.PROCESSED_DATA_DIR,\n",
    "    main=False\n",
    ") \n",
    "\n",
    "digex_df = pd.read_csv(processed_data_path, index_col=0)\n",
    "\n",
    "digex_df.head()"
   ]
  },
  {
   "cell_type": "markdown",
   "id": "efd5a2e1",
   "metadata": {},
   "source": [
    "The above didn't work for me (Jason), so using the below."
   ]
  },
  {
   "cell_type": "code",
   "execution_count": 3,
   "id": "d1d179cb",
   "metadata": {},
   "outputs": [
    {
     "data": {
      "text/html": [
       "<div>\n",
       "<style scoped>\n",
       "    .dataframe tbody tr th:only-of-type {\n",
       "        vertical-align: middle;\n",
       "    }\n",
       "\n",
       "    .dataframe tbody tr th {\n",
       "        vertical-align: top;\n",
       "    }\n",
       "\n",
       "    .dataframe thead th {\n",
       "        text-align: right;\n",
       "    }\n",
       "</style>\n",
       "<table border=\"1\" class=\"dataframe\">\n",
       "  <thead>\n",
       "    <tr style=\"text-align: right;\">\n",
       "      <th></th>\n",
       "      <th>duration_sec</th>\n",
       "      <th>finished</th>\n",
       "      <th>sm_use</th>\n",
       "      <th>age</th>\n",
       "      <th>gender_id</th>\n",
       "      <th>ethnic_id</th>\n",
       "      <th>edu</th>\n",
       "      <th>politic_views</th>\n",
       "      <th>aware_sm_res</th>\n",
       "      <th>aware_sm_advan</th>\n",
       "      <th>...</th>\n",
       "      <th>rank_pub_interst</th>\n",
       "      <th>rank_add_fac_1</th>\n",
       "      <th>rank_add_fac_1_pos</th>\n",
       "      <th>rank_add_fac_2</th>\n",
       "      <th>rank_add_fac_2_pos</th>\n",
       "      <th>rank_add_fac_3</th>\n",
       "      <th>rank_add_fac_3_pos</th>\n",
       "      <th>aware_sm_advan_score</th>\n",
       "      <th>aware_sm_interact_score</th>\n",
       "      <th>aware_sm_use_score</th>\n",
       "    </tr>\n",
       "  </thead>\n",
       "  <tbody>\n",
       "    <tr>\n",
       "      <th>1</th>\n",
       "      <td>912.0</td>\n",
       "      <td>True</td>\n",
       "      <td>Facebook</td>\n",
       "      <td>29.0</td>\n",
       "      <td>Male</td>\n",
       "      <td>Asian - Eastern</td>\n",
       "      <td>Highschool</td>\n",
       "      <td>Slightly liberal</td>\n",
       "      <td>Extremely aware</td>\n",
       "      <td>['… are large and can contain millions of data...</td>\n",
       "      <td>...</td>\n",
       "      <td>1.0</td>\n",
       "      <td>NaN</td>\n",
       "      <td>NaN</td>\n",
       "      <td>NaN</td>\n",
       "      <td>NaN</td>\n",
       "      <td>NaN</td>\n",
       "      <td>NaN</td>\n",
       "      <td>4</td>\n",
       "      <td>0</td>\n",
       "      <td>9</td>\n",
       "    </tr>\n",
       "    <tr>\n",
       "      <th>2</th>\n",
       "      <td>720.0</td>\n",
       "      <td>True</td>\n",
       "      <td>Twitter</td>\n",
       "      <td>33.0</td>\n",
       "      <td>Male</td>\n",
       "      <td>Mixed race</td>\n",
       "      <td>Highschool</td>\n",
       "      <td>Neutral/ Neither conservative or liberal</td>\n",
       "      <td>Moderately aware</td>\n",
       "      <td>['… are large and can contain millions of data...</td>\n",
       "      <td>...</td>\n",
       "      <td>4.0</td>\n",
       "      <td>NaN</td>\n",
       "      <td>NaN</td>\n",
       "      <td>NaN</td>\n",
       "      <td>NaN</td>\n",
       "      <td>NaN</td>\n",
       "      <td>NaN</td>\n",
       "      <td>1</td>\n",
       "      <td>1</td>\n",
       "      <td>9</td>\n",
       "    </tr>\n",
       "    <tr>\n",
       "      <th>3</th>\n",
       "      <td>1874.0</td>\n",
       "      <td>True</td>\n",
       "      <td>Facebook</td>\n",
       "      <td>33.0</td>\n",
       "      <td>Female</td>\n",
       "      <td>Pacific Islander</td>\n",
       "      <td>Bachelor's degree</td>\n",
       "      <td>Very liberal</td>\n",
       "      <td>Extremely aware</td>\n",
       "      <td>['… are large and can contain millions of data...</td>\n",
       "      <td>...</td>\n",
       "      <td>1.0</td>\n",
       "      <td>NaN</td>\n",
       "      <td>NaN</td>\n",
       "      <td>NaN</td>\n",
       "      <td>NaN</td>\n",
       "      <td>NaN</td>\n",
       "      <td>NaN</td>\n",
       "      <td>2</td>\n",
       "      <td>2</td>\n",
       "      <td>5</td>\n",
       "    </tr>\n",
       "    <tr>\n",
       "      <th>4</th>\n",
       "      <td>1264.0</td>\n",
       "      <td>True</td>\n",
       "      <td>Facebook</td>\n",
       "      <td>73.0</td>\n",
       "      <td>Female</td>\n",
       "      <td>White / Caucasian</td>\n",
       "      <td>Highschool</td>\n",
       "      <td>Slightly conservative</td>\n",
       "      <td>Moderately aware</td>\n",
       "      <td>['… are large and can contain millions of data...</td>\n",
       "      <td>...</td>\n",
       "      <td>1.0</td>\n",
       "      <td>NaN</td>\n",
       "      <td>8.0</td>\n",
       "      <td>NaN</td>\n",
       "      <td>NaN</td>\n",
       "      <td>NaN</td>\n",
       "      <td>NaN</td>\n",
       "      <td>1</td>\n",
       "      <td>1</td>\n",
       "      <td>6</td>\n",
       "    </tr>\n",
       "    <tr>\n",
       "      <th>5</th>\n",
       "      <td>556.0</td>\n",
       "      <td>True</td>\n",
       "      <td>Twitter</td>\n",
       "      <td>27.0</td>\n",
       "      <td>Female</td>\n",
       "      <td>Native-American</td>\n",
       "      <td>Highschool</td>\n",
       "      <td>Very liberal</td>\n",
       "      <td>Extremely aware</td>\n",
       "      <td>['… often capture social relationships not fou...</td>\n",
       "      <td>...</td>\n",
       "      <td>7.0</td>\n",
       "      <td>NaN</td>\n",
       "      <td>NaN</td>\n",
       "      <td>NaN</td>\n",
       "      <td>NaN</td>\n",
       "      <td>NaN</td>\n",
       "      <td>NaN</td>\n",
       "      <td>0</td>\n",
       "      <td>3</td>\n",
       "      <td>9</td>\n",
       "    </tr>\n",
       "  </tbody>\n",
       "</table>\n",
       "<p>5 rows × 51 columns</p>\n",
       "</div>"
      ],
      "text/plain": [
       "   duration_sec  finished    sm_use   age gender_id          ethnic_id  \\\n",
       "1         912.0      True  Facebook  29.0      Male    Asian - Eastern   \n",
       "2         720.0      True   Twitter  33.0      Male         Mixed race   \n",
       "3        1874.0      True  Facebook  33.0    Female   Pacific Islander   \n",
       "4        1264.0      True  Facebook  73.0    Female  White / Caucasian   \n",
       "5         556.0      True   Twitter  27.0    Female    Native-American   \n",
       "\n",
       "                 edu                             politic_views  \\\n",
       "1         Highschool                          Slightly liberal   \n",
       "2         Highschool  Neutral/ Neither conservative or liberal   \n",
       "3  Bachelor's degree                              Very liberal   \n",
       "4         Highschool                     Slightly conservative   \n",
       "5         Highschool                              Very liberal   \n",
       "\n",
       "       aware_sm_res                                     aware_sm_advan  ...  \\\n",
       "1   Extremely aware  ['… are large and can contain millions of data...  ...   \n",
       "2  Moderately aware  ['… are large and can contain millions of data...  ...   \n",
       "3   Extremely aware  ['… are large and can contain millions of data...  ...   \n",
       "4  Moderately aware  ['… are large and can contain millions of data...  ...   \n",
       "5   Extremely aware  ['… often capture social relationships not fou...  ...   \n",
       "\n",
       "  rank_pub_interst rank_add_fac_1 rank_add_fac_1_pos rank_add_fac_2  \\\n",
       "1              1.0            NaN                NaN            NaN   \n",
       "2              4.0            NaN                NaN            NaN   \n",
       "3              1.0            NaN                NaN            NaN   \n",
       "4              1.0            NaN                8.0            NaN   \n",
       "5              7.0            NaN                NaN            NaN   \n",
       "\n",
       "  rank_add_fac_2_pos rank_add_fac_3 rank_add_fac_3_pos aware_sm_advan_score  \\\n",
       "1                NaN            NaN                NaN                    4   \n",
       "2                NaN            NaN                NaN                    1   \n",
       "3                NaN            NaN                NaN                    2   \n",
       "4                NaN            NaN                NaN                    1   \n",
       "5                NaN            NaN                NaN                    0   \n",
       "\n",
       "  aware_sm_interact_score aware_sm_use_score  \n",
       "1                       0                  9  \n",
       "2                       1                  9  \n",
       "3                       2                  5  \n",
       "4                       1                  6  \n",
       "5                       3                  9  \n",
       "\n",
       "[5 rows x 51 columns]"
      ]
     },
     "execution_count": 3,
     "metadata": {},
     "output_type": "execute_result"
    }
   ],
   "source": [
    "digex_df = pd.read_csv('/Users/jasonburton/Documents/GitHub/article-digex-survey/data/processed/digex-survey-responses-processed.csv', index_col=0)\n",
    "\n",
    "digex_df.head()"
   ]
  },
  {
   "cell_type": "markdown",
   "id": "7452d92e-a30d-4720-a355-31bdf5e6e28e",
   "metadata": {
    "tags": []
   },
   "source": [
    "## Exploratory data analysis"
   ]
  },
  {
   "cell_type": "markdown",
   "id": "7c2aaa26-6394-4c0f-92d5-2ba35eee4289",
   "metadata": {},
   "source": [
    "Resources:\n",
    "- https://aeturrell.github.io/coding-for-economists/data-exploratory-analysis.html#the-pandas-profiling-package\n",
    "- https://deepnote.com/@deepnote/Joyplot-Introduction-4666e1a3-3249-442e-9a94-2bbcc5cb1b1d"
   ]
  },
  {
   "cell_type": "markdown",
   "id": "6d767843-097b-4c31-8327-9759f891ebc8",
   "metadata": {},
   "source": [
    "### Demographics"
   ]
  },
  {
   "cell_type": "markdown",
   "id": "b2154f14-2b1b-4e7f-96c7-1c60d9a999da",
   "metadata": {},
   "source": [
    "**Variables to examine: 0-14**"
   ]
  },
  {
   "cell_type": "markdown",
   "id": "8f424173",
   "metadata": {},
   "source": [
    "#### Age"
   ]
  },
  {
   "cell_type": "code",
   "execution_count": 4,
   "id": "49a19600-cefd-42a3-a409-91fb7aa49ee2",
   "metadata": {},
   "outputs": [
    {
     "name": "stdout",
     "output_type": "stream",
     "text": [
      "Mean age: 41.66332665330661\n",
      "SD age: 13.635931661776896\n",
      "Minimum age: 18.0\n",
      "Maximum age: 78.0\n"
     ]
    }
   ],
   "source": [
    "print(\"Mean age:\", digex_df['age'].mean())\n",
    "print(\"SD age:\", digex_df['age'].std())\n",
    "print(\"Minimum age:\", digex_df['age'].min())\n",
    "print(\"Maximum age:\", digex_df['age'].max())"
   ]
  },
  {
   "cell_type": "markdown",
   "id": "f2fe4108",
   "metadata": {},
   "source": [
    "#### Gender"
   ]
  },
  {
   "cell_type": "code",
   "execution_count": 5,
   "id": "a2daa37d",
   "metadata": {},
   "outputs": [
    {
     "data": {
      "text/plain": [
       "Male                         0.565130\n",
       "Female                       0.414830\n",
       "Non-binary / third gender    0.016032\n",
       "Prefer not to say            0.004008\n",
       "Name: gender_id, dtype: float64"
      ]
     },
     "execution_count": 5,
     "metadata": {},
     "output_type": "execute_result"
    }
   ],
   "source": [
    "digex_df['gender_id'].value_counts(normalize=True, dropna=False)"
   ]
  },
  {
   "cell_type": "markdown",
   "id": "a6d78bbf",
   "metadata": {},
   "source": [
    "#### Ethnicity"
   ]
  },
  {
   "cell_type": "code",
   "execution_count": 6,
   "id": "7c8c9d9c",
   "metadata": {},
   "outputs": [
    {
     "data": {
      "text/plain": [
       "White / Caucasian    0.795591\n",
       "African-American     0.064128\n",
       "Mixed race           0.040080\n",
       "Hispanic             0.038076\n",
       "Asian - Eastern      0.032064\n",
       "Asian - Indian       0.014028\n",
       "Native-American      0.006012\n",
       "Pacific Islander     0.002004\n",
       "Prefer not to say    0.002004\n",
       "Asian - Southeast    0.002004\n",
       "Carribean            0.002004\n",
       "Other                0.002004\n",
       "Name: ethnic_id, dtype: float64"
      ]
     },
     "execution_count": 6,
     "metadata": {},
     "output_type": "execute_result"
    }
   ],
   "source": [
    "digex_df['ethnic_id'].value_counts(normalize=True, dropna=False)"
   ]
  },
  {
   "cell_type": "markdown",
   "id": "83cc05c8",
   "metadata": {},
   "source": [
    "#### Social media use\n",
    "\n",
    "*Note: there's an error on Qualtrics such that participants could only pick one option, instead of multiple. Since this is just a screener, we can simply note that all participants reported being a regular user of at least one of Facebook, Twitter, and/or Reddit*"
   ]
  },
  {
   "cell_type": "code",
   "execution_count": 7,
   "id": "55befe12",
   "metadata": {},
   "outputs": [
    {
     "data": {
      "text/plain": [
       "Facebook    258\n",
       "Reddit      133\n",
       "Twitter     108\n",
       "Name: sm_use, dtype: int64"
      ]
     },
     "execution_count": 7,
     "metadata": {},
     "output_type": "execute_result"
    }
   ],
   "source": [
    "digex_df['sm_use'].value_counts(dropna=False)"
   ]
  },
  {
   "cell_type": "markdown",
   "id": "763a2660",
   "metadata": {},
   "source": [
    "#### Political views"
   ]
  },
  {
   "cell_type": "code",
   "execution_count": 8,
   "id": "fba57260",
   "metadata": {},
   "outputs": [
    {
     "data": {
      "text/plain": [
       "Very liberal                                150\n",
       "Slightly liberal                            126\n",
       "Slightly conservative                        96\n",
       "Neutral/ Neither conservative or liberal     89\n",
       "Very conservative                            35\n",
       "Prefer not to say                             3\n",
       "Name: politic_views, dtype: int64"
      ]
     },
     "execution_count": 8,
     "metadata": {},
     "output_type": "execute_result"
    }
   ],
   "source": [
    "digex_df['politic_views'].value_counts(dropna=False)"
   ]
  },
  {
   "cell_type": "code",
   "execution_count": 9,
   "id": "7f51306f",
   "metadata": {},
   "outputs": [
    {
     "data": {
      "text/plain": [
       "0.5531062124248497"
      ]
     },
     "execution_count": 9,
     "metadata": {},
     "output_type": "execute_result"
    }
   ],
   "source": [
    "# proportion liberal\n",
    "( (digex_df['politic_views'].value_counts()['Very liberal']) + \n",
    "(digex_df['politic_views'].value_counts()['Slightly liberal']) )/len(digex_df)"
   ]
  },
  {
   "cell_type": "code",
   "execution_count": 10,
   "id": "b96f2f3e",
   "metadata": {},
   "outputs": [
    {
     "data": {
      "text/plain": [
       "0.2625250501002004"
      ]
     },
     "execution_count": 10,
     "metadata": {},
     "output_type": "execute_result"
    }
   ],
   "source": [
    "# proportion conservative\n",
    "( (digex_df['politic_views'].value_counts()['Very conservative']) + \n",
    "(digex_df['politic_views'].value_counts()['Slightly conservative']) )/len(digex_df)"
   ]
  },
  {
   "cell_type": "markdown",
   "id": "b8b83b68-9a10-4dd8-ba06-267f793f2980",
   "metadata": {},
   "source": [
    "### Prior awareness"
   ]
  },
  {
   "cell_type": "markdown",
   "id": "6b05d969-36ab-495d-9f49-a5f94a8abe13",
   "metadata": {},
   "source": [
    "**Variables to examine: 8-15**"
   ]
  },
  {
   "cell_type": "code",
   "execution_count": null,
   "id": "b296bfce-ae1a-4834-b423-ee2cc2cf5d28",
   "metadata": {},
   "outputs": [],
   "source": []
  },
  {
   "cell_type": "markdown",
   "id": "f7dfbeed-33b9-43db-9dd0-73a38b9824d4",
   "metadata": {},
   "source": [
    "### Study descriptions"
   ]
  },
  {
   "cell_type": "markdown",
   "id": "6ac8ac2f-a24b-450c-952b-30ee1c95f625",
   "metadata": {},
   "source": [
    "**Variables to examine: 16-27**"
   ]
  },
  {
   "cell_type": "markdown",
   "id": "2ab99530-bf28-43e2-9364-58b763c091f6",
   "metadata": {},
   "source": [
    "#### Study 1"
   ]
  },
  {
   "cell_type": "code",
   "execution_count": 11,
   "id": "2bf7c828-3723-4b47-9630-b6a84e576d18",
   "metadata": {},
   "outputs": [
    {
     "data": {
      "text/plain": [
       "Completely acceptable      0.314629\n",
       "Somewhat acceptable        0.288577\n",
       "Somewhat unacceptable      0.162325\n",
       "Neutral                    0.124248\n",
       "Completely unacceptable    0.110220\n",
       "Name: study_1_ethic_acc, dtype: float64"
      ]
     },
     "execution_count": 11,
     "metadata": {},
     "output_type": "execute_result"
    }
   ],
   "source": [
    "digex_df['study_1_ethic_acc'].value_counts(normalize=True, dropna=False)"
   ]
  },
  {
   "cell_type": "markdown",
   "id": "64d556f4-5174-440b-bd1a-31b39d6ce7e8",
   "metadata": {},
   "source": [
    "#### Study 2"
   ]
  },
  {
   "cell_type": "code",
   "execution_count": 12,
   "id": "a8e8e5ca-6dc6-4c10-a59d-08b518df0d80",
   "metadata": {},
   "outputs": [
    {
     "data": {
      "text/plain": [
       "Somewhat acceptable        0.266533\n",
       "Completely acceptable      0.232465\n",
       "Somewhat unacceptable      0.222445\n",
       "Neutral                    0.164329\n",
       "Completely unacceptable    0.114228\n",
       "Name: study_2_ethic_acc, dtype: float64"
      ]
     },
     "execution_count": 12,
     "metadata": {},
     "output_type": "execute_result"
    }
   ],
   "source": [
    "digex_df['study_2_ethic_acc'].value_counts(normalize=True, dropna=False)"
   ]
  },
  {
   "cell_type": "markdown",
   "id": "ef6125e8-4a4f-4216-82fe-e3979a564a5f",
   "metadata": {},
   "source": [
    "#### Study 3"
   ]
  },
  {
   "cell_type": "code",
   "execution_count": 13,
   "id": "8ffb67b7-e050-40ca-b88f-b08702fdfe2b",
   "metadata": {},
   "outputs": [
    {
     "data": {
      "text/plain": [
       "Completely acceptable      0.498998\n",
       "Somewhat acceptable        0.268537\n",
       "Neutral                    0.112224\n",
       "Somewhat unacceptable      0.078156\n",
       "Completely unacceptable    0.042084\n",
       "Name: study_3_ethic_acc, dtype: float64"
      ]
     },
     "execution_count": 13,
     "metadata": {},
     "output_type": "execute_result"
    }
   ],
   "source": [
    "digex_df['study_3_ethic_acc'].value_counts(normalize=True, dropna=False)"
   ]
  },
  {
   "cell_type": "markdown",
   "id": "092d4157-3768-4b0c-8aa6-808d44a1c107",
   "metadata": {},
   "source": [
    "#### Study 4"
   ]
  },
  {
   "cell_type": "code",
   "execution_count": 14,
   "id": "8d02c135-f3c7-4e93-8d22-0a406548e9b0",
   "metadata": {},
   "outputs": [
    {
     "data": {
      "text/plain": [
       "Somewhat acceptable        0.242485\n",
       "Completely acceptable      0.230461\n",
       "Somewhat unacceptable      0.220441\n",
       "Neutral                    0.176353\n",
       "Completely unacceptable    0.130261\n",
       "Name: study_4_ethic_acc, dtype: float64"
      ]
     },
     "execution_count": 14,
     "metadata": {},
     "output_type": "execute_result"
    }
   ],
   "source": [
    "digex_df['study_4_ethic_acc'].value_counts(normalize=True, dropna=False)"
   ]
  },
  {
   "cell_type": "markdown",
   "id": "06f2671f",
   "metadata": {},
   "source": [
    "#### Study comparison"
   ]
  },
  {
   "cell_type": "code",
   "execution_count": 15,
   "id": "39b9173f",
   "metadata": {},
   "outputs": [],
   "source": [
    "study_1_ethic_acc_num = digex_df['study_1_ethic_acc'].map({'Completely unacceptable': -2, \n",
    "                                                           'Somewhat unacceptable': -1, \n",
    "                                                           'Neutral': 0, \n",
    "                                                           'Somewhat acceptable': 1, \n",
    "                                                           'Completely acceptable': 2})\n",
    "study_2_ethic_acc_num = digex_df['study_2_ethic_acc'].map({'Completely unacceptable': -2, \n",
    "                                                           'Somewhat unacceptable': -1, \n",
    "                                                           'Neutral': 0, \n",
    "                                                           'Somewhat acceptable': 1, \n",
    "                                                           'Completely acceptable': 2})\n",
    "study_3_ethic_acc_num = digex_df['study_3_ethic_acc'].map({'Completely unacceptable': -2, \n",
    "                                                           'Somewhat unacceptable': -1, \n",
    "                                                           'Neutral': 0, \n",
    "                                                           'Somewhat acceptable': 1, \n",
    "                                                           'Completely acceptable': 2})\n",
    "study_4_ethic_acc_num = digex_df['study_4_ethic_acc'].map({'Completely unacceptable': -2, \n",
    "                                                           'Somewhat unacceptable': -1, \n",
    "                                                           'Neutral': 0, \n",
    "                                                           'Somewhat acceptable': 1, \n",
    "                                                           'Completely acceptable': 2})"
   ]
  },
  {
   "cell_type": "code",
   "execution_count": 16,
   "id": "39de1541",
   "metadata": {},
   "outputs": [
    {
     "name": "stdout",
     "output_type": "stream",
     "text": [
      "Mean Study 1 acceptance: 0.5350701402805611\n",
      "Mean Study 2 acceptance: 0.280561122244489\n",
      "Mean Study 3 acceptance: 1.1042084168336674\n",
      "Mean Study 4 acceptance: 0.22244488977955912\n"
     ]
    }
   ],
   "source": [
    "print(\"Mean Study 1 acceptance:\", study_1_ethic_acc_num.mean())\n",
    "print(\"Mean Study 2 acceptance:\", study_2_ethic_acc_num.mean())\n",
    "print(\"Mean Study 3 acceptance:\", study_3_ethic_acc_num.mean())\n",
    "print(\"Mean Study 4 acceptance:\", study_4_ethic_acc_num.mean())"
   ]
  },
  {
   "cell_type": "code",
   "execution_count": 17,
   "id": "80ac3c79",
   "metadata": {},
   "outputs": [
    {
     "data": {
      "image/png": "[encoded data removed]",
      "text/plain": [
       "<Figure size 640x480 with 1 Axes>"
      ]
     },
     "metadata": {},
     "output_type": "display_data"
    }
   ],
   "source": [
    "fig, ax = plt.subplots()\n",
    "\n",
    "x = [1,2,3,4]\n",
    "y = [study_1_ethic_acc_num.mean(), \n",
    "     study_2_ethic_acc_num.mean(),\n",
    "     study_3_ethic_acc_num.mean(),\n",
    "     study_4_ethic_acc_num.mean()]\n",
    "yerr = [study_1_ethic_acc_num.std(), \n",
    "     study_2_ethic_acc_num.std(),\n",
    "     study_3_ethic_acc_num.std(),\n",
    "     study_4_ethic_acc_num.std()] \n",
    "\n",
    "ax.errorbar(x, y, yerr, fmt='o', linewidth=2, capsize=6)\n",
    "\n",
    "ax.set(xlim=(0, 5), xticks=np.arange(1, 5),\n",
    "       ylim=(-2, 3), yticks=np.arange(-2, 3))\n",
    "\n",
    "plt.xlabel('Study Number') \n",
    "plt.ylabel('Ethical Acceptance ±1 SD') \n",
    "\n",
    "plt.show()"
   ]
  },
  {
   "cell_type": "markdown",
   "id": "ee7e046a-efd4-477d-b322-766b0e39c432",
   "metadata": {},
   "source": [
    "### Study design features"
   ]
  },
  {
   "cell_type": "code",
   "execution_count": null,
   "id": "8f45cd8a-8ba9-4b28-8318-2fe6b86be47d",
   "metadata": {},
   "outputs": [],
   "source": []
  },
  {
   "cell_type": "markdown",
   "id": "ebdf076d",
   "metadata": {},
   "source": [
    "### Ethical priorities"
   ]
  },
  {
   "cell_type": "code",
   "execution_count": 18,
   "id": "cef20e7f",
   "metadata": {},
   "outputs": [],
   "source": [
    "ranks = digex_df[['rank_sci_repro', 'rank_resp', 'rank_just', 'rank_anony', 'rank_harms', 'rank_balance', 'rank_pub_interst']]\n"
   ]
  },
  {
   "cell_type": "markdown",
   "id": "d2582960",
   "metadata": {},
   "source": [
    "Ranks by means (lower value = higher priority)."
   ]
  },
  {
   "cell_type": "code",
   "execution_count": 19,
   "id": "6f3b150b",
   "metadata": {},
   "outputs": [
    {
     "data": {
      "text/plain": [
       "rank_harms          2.697395\n",
       "rank_anony          3.054108\n",
       "rank_resp           3.527054\n",
       "rank_pub_interst    3.573146\n",
       "rank_just           4.651303\n",
       "rank_balance        4.975952\n",
       "rank_sci_repro      5.521042\n",
       "dtype: float64"
      ]
     },
     "execution_count": 19,
     "metadata": {},
     "output_type": "execute_result"
    }
   ],
   "source": [
    "ranks_means = ranks.mean()\n",
    "ranks_means.sort_values(inplace=True, ascending=True)\n",
    "ranks_means"
   ]
  },
  {
   "cell_type": "markdown",
   "id": "a82696cd",
   "metadata": {},
   "source": [
    "Ranks by Borda count (higher value = higher priority)."
   ]
  },
  {
   "cell_type": "code",
   "execution_count": 20,
   "id": "b77dfdb8",
   "metadata": {},
   "outputs": [
    {
     "data": {
      "text/plain": [
       "rank_harms          2147.0\n",
       "rank_anony          1969.0\n",
       "rank_resp           1733.0\n",
       "rank_pub_interst    1710.0\n",
       "rank_just           1172.0\n",
       "rank_balance        1010.0\n",
       "rank_sci_repro       738.0\n",
       "dtype: float64"
      ]
     },
     "execution_count": 20,
     "metadata": {},
     "output_type": "execute_result"
    }
   ],
   "source": [
    "ranks_borda = ranks.replace({1:6, 2:5, 3:4, 4:3, 5:2, 6:1, 7:0})    \n",
    "ranks_borda = ranks_borda.sum()\n",
    "ranks_borda.sort_values(inplace=True, ascending=False)\n",
    "ranks_borda"
   ]
  }
 ],
 "metadata": {
  "kernelspec": {
   "display_name": "Python 3 (ipykernel)",
   "language": "python",
   "name": "python3"
  },
  "language_info": {
   "codemirror_mode": {
    "name": "ipython",
    "version": 3
   },
   "file_extension": ".py",
   "mimetype": "text/x-python",
   "name": "python",
   "nbconvert_exporter": "python",
   "pygments_lexer": "ipython3",
   "version": "3.8.9"
  }
 },
 "nbformat": 4,
 "nbformat_minor": 5
}
