{
 "cells": [
  {
   "cell_type": "markdown",
   "id": "b5150774-edf4-4c82-9bd4-35b88db7778d",
   "metadata": {},
   "source": [
    "# Exploratory analysis "
   ]
  },
  {
   "cell_type": "markdown",
   "id": "6009978f-fa14-4786-84ec-6f1d2557b0e0",
   "metadata": {},
   "source": [
    "This notebook contains code for exploratory data analysis of data used in the project: Public attitudes and ethical guidelines in digital field experiments (digex)."
   ]
  },
  {
   "cell_type": "markdown",
   "id": "57018cd9-e9c5-4ac7-8a93-078196055526",
   "metadata": {
    "tags": []
   },
   "source": [
    "# TO DO"
   ]
  },
  {
   "cell_type": "markdown",
   "id": "ff116ac0-7017-4a63-a0a7-cdae8019b4ee",
   "metadata": {
    "jp-MarkdownHeadingCollapsed": true,
    "tags": []
   },
   "source": [
    "**We can roughly use the below bullet points taken from [2022-digex-study-design](https://docs.google.com/document/d/1nsaXEn04s9LTsjqrpbUpZlyQ3CAcuqkOwy1ZM0d-kKY/edit#) as section headings for this notebook to conduct the exploratory analysis**:\n",
    "\n",
    "- To address question 1, we will provide frequency tables or plots and descriptive statistics (M, SD, range) for the variables: awareness of the fact that academic researchers use social media data, awareness of the advantages of social media data that account for why academics collect them, awareness of social media data use, and awareness of social media interaction methods. \n",
    "\n",
    "- To address question 2, we will provide frequency tables or plots and descriptive statistics (M, SD, range) for each of the 4 vignette studies presented in section 2 of the survey for the variable: attitudes towards actual research studies. \n",
    "\n",
    "- To address question 3, we will provide frequency tables or plots for the variables attitudes towards study design factors and attitudes towards ethical principles. Moreover, we will also use a mixed-methods approach to analyze open-ended free-text responses (see below).\n",
    "\n",
    "- To further address questions 1-3, open-ended free-text inputs of both the open “other” options of selection items and the  open-ended free-text answers (i.e., what do you think it means for an academic study to receive \"ethical approval”, describe any concerns you might have, what additional information about the study or the researchers that would influence your level of concern, are there any other features of research that are important for determining your level of concern, are there any additional factors that you think should be libsidered) will be analyzed using a mixed-methods approach to detect common topics, sentiments, and themes. "
   ]
  },
  {
   "cell_type": "markdown",
   "id": "2bd3083f-ec31-4300-8e86-cd50fe0b5498",
   "metadata": {},
   "source": [
    "## Set working directory"
   ]
  },
  {
   "cell_type": "code",
   "execution_count": 1,
   "id": "e81b947d-7cc3-44ac-8f27-1743f89901a9",
   "metadata": {},
   "outputs": [],
   "source": [
    "import pathlib   # Change cwd\n",
    "import os \n",
    "\n",
    "path = pathlib.Path.cwd().parent\n",
    "os.chdir(path)"
   ]
  },
  {
   "cell_type": "markdown",
   "id": "81c8ead7-601f-4663-9449-4ed6294c2743",
   "metadata": {
    "tags": []
   },
   "source": [
    "## Imports"
   ]
  },
  {
   "cell_type": "code",
   "execution_count": 2,
   "id": "0124c32d-cd56-461d-897e-5d230daae8be",
   "metadata": {},
   "outputs": [],
   "source": [
    "import joypy\n",
    "import pandas as pd\n",
    "import numpy as np\n",
    "import seaborn as sns\n",
    "from matplotlib import pyplot as plt"
   ]
  },
  {
   "cell_type": "markdown",
   "id": "1c9d41a0-26dc-46bc-92ed-b2fbd3baa8e2",
   "metadata": {},
   "source": [
    "## Plotting presets"
   ]
  },
  {
   "cell_type": "code",
   "execution_count": null,
   "id": "1415e48c-abd0-4163-9a46-c094c35347b7",
   "metadata": {},
   "outputs": [],
   "source": [
    "digex_style = config.MPL_STYLE_FILEPATH\n",
    "digex_palette = config.PALETTE\n",
    "\n",
    "plt.style.use(digex_style)\n",
    "sns.color_palette(digex_palette)"
   ]
  },
  {
   "cell_type": "markdown",
   "id": "9f58243d-2dca-430c-bb74-6a09064297ef",
   "metadata": {
    "tags": []
   },
   "source": [
    "## Load processed data"
   ]
  },
  {
   "cell_type": "code",
   "execution_count": null,
   "id": "3473d16f-0d4a-48cf-9fa1-c02fa8acabf5",
   "metadata": {},
   "outputs": [],
   "source": [
    "processed_data_path = get_data_filepath(\n",
    "    file=config.PROCESSED_DATA_FILEPATH, \n",
    "    data_path=config.PROCESSED_DATA_DIR,\n",
    "    main=False\n",
    ") \n",
    "\n",
    "digex_df = pd.read_csv(processed_data_path, index_col=0)\n",
    "\n",
    "digex_df.head()"
   ]
  },
  {
   "cell_type": "markdown",
   "id": "efd5a2e1",
   "metadata": {},
   "source": [
    "The above didn't work for me (Jason), so using the below."
   ]
  },
  {
   "cell_type": "code",
   "execution_count": 3,
   "id": "d1d179cb",
   "metadata": {},
   "outputs": [
    {
     "data": {
      "text/html": [
       "<div>\n",
       "<style scoped>\n",
       "    .dataframe tbody tr th:only-of-type {\n",
       "        vertical-align: middle;\n",
       "    }\n",
       "\n",
       "    .dataframe tbody tr th {\n",
       "        vertical-align: top;\n",
       "    }\n",
       "\n",
       "    .dataframe thead th {\n",
       "        text-align: right;\n",
       "    }\n",
       "</style>\n",
       "<table border=\"1\" class=\"dataframe\">\n",
       "  <thead>\n",
       "    <tr style=\"text-align: right;\">\n",
       "      <th></th>\n",
       "      <th>duration_sec</th>\n",
       "      <th>finished</th>\n",
       "      <th>sm_use</th>\n",
       "      <th>age</th>\n",
       "      <th>gender_id</th>\n",
       "      <th>ethnic_id</th>\n",
       "      <th>edu</th>\n",
       "      <th>politic_views</th>\n",
       "      <th>aware_sm_res</th>\n",
       "      <th>aware_sm_advan</th>\n",
       "      <th>...</th>\n",
       "      <th>rank_pub_interst</th>\n",
       "      <th>rank_add_fac_1</th>\n",
       "      <th>rank_add_fac_1_pos</th>\n",
       "      <th>rank_add_fac_2</th>\n",
       "      <th>rank_add_fac_2_pos</th>\n",
       "      <th>rank_add_fac_3</th>\n",
       "      <th>rank_add_fac_3_pos</th>\n",
       "      <th>aware_sm_advan_score</th>\n",
       "      <th>aware_sm_interact_score</th>\n",
       "      <th>aware_sm_use_score</th>\n",
       "    </tr>\n",
       "  </thead>\n",
       "  <tbody>\n",
       "    <tr>\n",
       "      <th>1</th>\n",
       "      <td>912.0</td>\n",
       "      <td>True</td>\n",
       "      <td>Facebook</td>\n",
       "      <td>29.0</td>\n",
       "      <td>Male</td>\n",
       "      <td>Asian - Eastern</td>\n",
       "      <td>Highschool</td>\n",
       "      <td>Slightly liberal</td>\n",
       "      <td>Extremely aware</td>\n",
       "      <td>['… are large and can contain millions of data...</td>\n",
       "      <td>...</td>\n",
       "      <td>1.0</td>\n",
       "      <td>NaN</td>\n",
       "      <td>NaN</td>\n",
       "      <td>NaN</td>\n",
       "      <td>NaN</td>\n",
       "      <td>NaN</td>\n",
       "      <td>NaN</td>\n",
       "      <td>4</td>\n",
       "      <td>0</td>\n",
       "      <td>9</td>\n",
       "    </tr>\n",
       "    <tr>\n",
       "      <th>2</th>\n",
       "      <td>720.0</td>\n",
       "      <td>True</td>\n",
       "      <td>Twitter</td>\n",
       "      <td>33.0</td>\n",
       "      <td>Male</td>\n",
       "      <td>Mixed race</td>\n",
       "      <td>Highschool</td>\n",
       "      <td>Neutral/ Neither conservative or liberal</td>\n",
       "      <td>Moderately aware</td>\n",
       "      <td>['… are large and can contain millions of data...</td>\n",
       "      <td>...</td>\n",
       "      <td>4.0</td>\n",
       "      <td>NaN</td>\n",
       "      <td>NaN</td>\n",
       "      <td>NaN</td>\n",
       "      <td>NaN</td>\n",
       "      <td>NaN</td>\n",
       "      <td>NaN</td>\n",
       "      <td>1</td>\n",
       "      <td>1</td>\n",
       "      <td>9</td>\n",
       "    </tr>\n",
       "    <tr>\n",
       "      <th>3</th>\n",
       "      <td>1874.0</td>\n",
       "      <td>True</td>\n",
       "      <td>Facebook</td>\n",
       "      <td>33.0</td>\n",
       "      <td>Female</td>\n",
       "      <td>Pacific Islander</td>\n",
       "      <td>Bachelor's degree</td>\n",
       "      <td>Very liberal</td>\n",
       "      <td>Extremely aware</td>\n",
       "      <td>['… are large and can contain millions of data...</td>\n",
       "      <td>...</td>\n",
       "      <td>1.0</td>\n",
       "      <td>NaN</td>\n",
       "      <td>NaN</td>\n",
       "      <td>NaN</td>\n",
       "      <td>NaN</td>\n",
       "      <td>NaN</td>\n",
       "      <td>NaN</td>\n",
       "      <td>2</td>\n",
       "      <td>2</td>\n",
       "      <td>5</td>\n",
       "    </tr>\n",
       "    <tr>\n",
       "      <th>4</th>\n",
       "      <td>1264.0</td>\n",
       "      <td>True</td>\n",
       "      <td>Facebook</td>\n",
       "      <td>73.0</td>\n",
       "      <td>Female</td>\n",
       "      <td>White / Caucasian</td>\n",
       "      <td>Highschool</td>\n",
       "      <td>Slightly conservative</td>\n",
       "      <td>Moderately aware</td>\n",
       "      <td>['… are large and can contain millions of data...</td>\n",
       "      <td>...</td>\n",
       "      <td>1.0</td>\n",
       "      <td>NaN</td>\n",
       "      <td>8.0</td>\n",
       "      <td>NaN</td>\n",
       "      <td>NaN</td>\n",
       "      <td>NaN</td>\n",
       "      <td>NaN</td>\n",
       "      <td>1</td>\n",
       "      <td>1</td>\n",
       "      <td>6</td>\n",
       "    </tr>\n",
       "    <tr>\n",
       "      <th>5</th>\n",
       "      <td>556.0</td>\n",
       "      <td>True</td>\n",
       "      <td>Twitter</td>\n",
       "      <td>27.0</td>\n",
       "      <td>Female</td>\n",
       "      <td>Native-American</td>\n",
       "      <td>Highschool</td>\n",
       "      <td>Very liberal</td>\n",
       "      <td>Extremely aware</td>\n",
       "      <td>['… often capture social relationships not fou...</td>\n",
       "      <td>...</td>\n",
       "      <td>7.0</td>\n",
       "      <td>NaN</td>\n",
       "      <td>NaN</td>\n",
       "      <td>NaN</td>\n",
       "      <td>NaN</td>\n",
       "      <td>NaN</td>\n",
       "      <td>NaN</td>\n",
       "      <td>0</td>\n",
       "      <td>3</td>\n",
       "      <td>9</td>\n",
       "    </tr>\n",
       "  </tbody>\n",
       "</table>\n",
       "<p>5 rows × 51 columns</p>\n",
       "</div>"
      ],
      "text/plain": [
       "   duration_sec  finished    sm_use   age gender_id          ethnic_id  \\\n",
       "1         912.0      True  Facebook  29.0      Male    Asian - Eastern   \n",
       "2         720.0      True   Twitter  33.0      Male         Mixed race   \n",
       "3        1874.0      True  Facebook  33.0    Female   Pacific Islander   \n",
       "4        1264.0      True  Facebook  73.0    Female  White / Caucasian   \n",
       "5         556.0      True   Twitter  27.0    Female    Native-American   \n",
       "\n",
       "                 edu                             politic_views  \\\n",
       "1         Highschool                          Slightly liberal   \n",
       "2         Highschool  Neutral/ Neither conservative or liberal   \n",
       "3  Bachelor's degree                              Very liberal   \n",
       "4         Highschool                     Slightly conservative   \n",
       "5         Highschool                              Very liberal   \n",
       "\n",
       "       aware_sm_res                                     aware_sm_advan  ...  \\\n",
       "1   Extremely aware  ['… are large and can contain millions of data...  ...   \n",
       "2  Moderately aware  ['… are large and can contain millions of data...  ...   \n",
       "3   Extremely aware  ['… are large and can contain millions of data...  ...   \n",
       "4  Moderately aware  ['… are large and can contain millions of data...  ...   \n",
       "5   Extremely aware  ['… often capture social relationships not fou...  ...   \n",
       "\n",
       "  rank_pub_interst rank_add_fac_1 rank_add_fac_1_pos rank_add_fac_2  \\\n",
       "1              1.0            NaN                NaN            NaN   \n",
       "2              4.0            NaN                NaN            NaN   \n",
       "3              1.0            NaN                NaN            NaN   \n",
       "4              1.0            NaN                8.0            NaN   \n",
       "5              7.0            NaN                NaN            NaN   \n",
       "\n",
       "  rank_add_fac_2_pos rank_add_fac_3 rank_add_fac_3_pos aware_sm_advan_score  \\\n",
       "1                NaN            NaN                NaN                    4   \n",
       "2                NaN            NaN                NaN                    1   \n",
       "3                NaN            NaN                NaN                    2   \n",
       "4                NaN            NaN                NaN                    1   \n",
       "5                NaN            NaN                NaN                    0   \n",
       "\n",
       "  aware_sm_interact_score aware_sm_use_score  \n",
       "1                       0                  9  \n",
       "2                       1                  9  \n",
       "3                       2                  5  \n",
       "4                       1                  6  \n",
       "5                       3                  9  \n",
       "\n",
       "[5 rows x 51 columns]"
      ]
     },
     "execution_count": 3,
     "metadata": {},
     "output_type": "execute_result"
    }
   ],
   "source": [
    "digex_df = pd.read_csv('/Users/jasonburton/Documents/GitHub/article-digex-survey/data/processed/digex-survey-responses-processed.csv', index_col=0)\n",
    "\n",
    "digex_df.head()"
   ]
  },
  {
   "cell_type": "markdown",
   "id": "7452d92e-a30d-4720-a355-31bdf5e6e28e",
   "metadata": {
    "tags": []
   },
   "source": [
    "## Exploratory data analysis"
   ]
  },
  {
   "cell_type": "markdown",
   "id": "7c2aaa26-6394-4c0f-92d5-2ba35eee4289",
   "metadata": {},
   "source": [
    "Resources:\n",
    "- https://aeturrell.github.io/coding-for-economists/data-exploratory-analysis.html#the-pandas-profiling-package\n",
    "- https://deepnote.com/@deepnote/Joyplot-Introduction-4666e1a3-3249-442e-9a94-2bbcc5cb1b1d"
   ]
  },
  {
   "cell_type": "markdown",
   "id": "924a0434-7e0e-4f2b-961f-ba5c3f14d81f",
   "metadata": {},
   "source": [
    "### Demographics"
   ]
  },
  {
   "cell_type": "markdown",
   "id": "611f4d7c-4bc8-4ba9-9b31-c9f81f4ffd02",
   "metadata": {},
   "source": [
    "see `02-digex-summary-statistics.ipynb`\n",
    "\n",
    "(VS: I've added both our code there; apologies for not making it clear that I had already done some demographic summary stats!)"
   ]
  },
  {
   "cell_type": "markdown",
   "id": "b8b83b68-9a10-4dd8-ba06-267f793f2980",
   "metadata": {},
   "source": [
    "### Prior awareness"
   ]
  },
  {
   "cell_type": "markdown",
   "id": "6b05d969-36ab-495d-9f49-a5f94a8abe13",
   "metadata": {},
   "source": [
    "**Variables to examine: 8-15**"
   ]
  },
  {
   "cell_type": "markdown",
   "id": "4ae8c7ba",
   "metadata": {},
   "source": [
    "JB: struggling here... trying to parse the values to make dummy variables such that theres a separate column for `… are always representative of people’s offline behavior`, `… are naturalistic in that they do not require researchers to directly interact with research volunteers`, etc. with a 1 indicating that the participant checked the box and 0 indicating that they didn't"
   ]
  },
  {
   "cell_type": "code",
   "execution_count": 4,
   "id": "b296bfce-ae1a-4834-b423-ee2cc2cf5d28",
   "metadata": {},
   "outputs": [],
   "source": [
    "# remove brackets from the column values\n",
    "digex_df['aware_sm_advan'] = digex_df['aware_sm_advan'].replace('\\[', '', regex=True).replace('\\]', '', regex=True)\n",
    "\n",
    "# parse by comma separators\n",
    "digex_df['aware_sm_advan'] = digex_df['aware_sm_advan'].apply(lambda x: x.split(','))"
   ]
  },
  {
   "cell_type": "code",
   "execution_count": 5,
   "id": "dc31e405",
   "metadata": {},
   "outputs": [
    {
     "name": "stderr",
     "output_type": "stream",
     "text": [
      "/var/folders/hb/n58jwxy14vnc7667mqz9vyn40000gn/T/ipykernel_71777/2288516674.py:2: FutureWarning: Using the level keyword in DataFrame and Series aggregations is deprecated and will be removed in a future version. Use groupby instead. df.sum(level=1) should use df.groupby(level=1).sum().\n",
      "  dummy_df = pd.get_dummies(digex_df['aware_sm_advan'].apply(pd.Series).stack()).sum(level=0)\n"
     ]
    }
   ],
   "source": [
    "# get dummies\n",
    "dummy_df = pd.get_dummies(digex_df['aware_sm_advan'].apply(pd.Series).stack()).sum(level=0)"
   ]
  },
  {
   "cell_type": "code",
   "execution_count": 6,
   "id": "437d5cb2",
   "metadata": {},
   "outputs": [
    {
     "data": {
      "text/html": [
       "<div>\n",
       "<style scoped>\n",
       "    .dataframe tbody tr th:only-of-type {\n",
       "        vertical-align: middle;\n",
       "    }\n",
       "\n",
       "    .dataframe tbody tr th {\n",
       "        vertical-align: top;\n",
       "    }\n",
       "\n",
       "    .dataframe thead th {\n",
       "        text-align: right;\n",
       "    }\n",
       "</style>\n",
       "<table border=\"1\" class=\"dataframe\">\n",
       "  <thead>\n",
       "    <tr style=\"text-align: right;\">\n",
       "      <th></th>\n",
       "      <th>'… are always representative of people’s offline behavior'</th>\n",
       "      <th>'… are naturalistic in that they do not require researchers to directly interact with research volunteers'</th>\n",
       "      <th>'… are readily accessible to researchers and easy to collect'</th>\n",
       "      <th>'… are unaffected by the way social media platforms work'</th>\n",
       "      <th>'… are well formatted and never contain any missing data'</th>\n",
       "      <th>'… often capture social relationships not found using traditional methods (e.g. surveys)'</th>\n",
       "      <th>'… reflect events in real-time and can be collected continuously over time'</th>\n",
       "      <th>'None of the above'</th>\n",
       "      <th>'… are always representative of people’s offline behavior'</th>\n",
       "      <th>'… are large and can contain millions of data points'</th>\n",
       "      <th>'… are naturalistic in that they do not require researchers to directly interact with research volunteers'</th>\n",
       "      <th>'… are readily accessible to researchers and easy to collect'</th>\n",
       "      <th>'… are unaffected by the way social media platforms work'</th>\n",
       "      <th>'… often capture social relationships not found using traditional methods (e.g. surveys)'</th>\n",
       "      <th>'… reflect events in real-time and can be collected continuously over time'</th>\n",
       "    </tr>\n",
       "  </thead>\n",
       "  <tbody>\n",
       "    <tr>\n",
       "      <th>1</th>\n",
       "      <td>0</td>\n",
       "      <td>1</td>\n",
       "      <td>0</td>\n",
       "      <td>0</td>\n",
       "      <td>0</td>\n",
       "      <td>1</td>\n",
       "      <td>1</td>\n",
       "      <td>0</td>\n",
       "      <td>0</td>\n",
       "      <td>1</td>\n",
       "      <td>0</td>\n",
       "      <td>0</td>\n",
       "      <td>0</td>\n",
       "      <td>0</td>\n",
       "      <td>0</td>\n",
       "    </tr>\n",
       "    <tr>\n",
       "      <th>2</th>\n",
       "      <td>0</td>\n",
       "      <td>0</td>\n",
       "      <td>0</td>\n",
       "      <td>0</td>\n",
       "      <td>0</td>\n",
       "      <td>0</td>\n",
       "      <td>0</td>\n",
       "      <td>0</td>\n",
       "      <td>0</td>\n",
       "      <td>1</td>\n",
       "      <td>0</td>\n",
       "      <td>0</td>\n",
       "      <td>0</td>\n",
       "      <td>0</td>\n",
       "      <td>0</td>\n",
       "    </tr>\n",
       "    <tr>\n",
       "      <th>3</th>\n",
       "      <td>0</td>\n",
       "      <td>1</td>\n",
       "      <td>1</td>\n",
       "      <td>0</td>\n",
       "      <td>0</td>\n",
       "      <td>1</td>\n",
       "      <td>0</td>\n",
       "      <td>0</td>\n",
       "      <td>0</td>\n",
       "      <td>1</td>\n",
       "      <td>0</td>\n",
       "      <td>0</td>\n",
       "      <td>0</td>\n",
       "      <td>0</td>\n",
       "      <td>0</td>\n",
       "    </tr>\n",
       "    <tr>\n",
       "      <th>4</th>\n",
       "      <td>0</td>\n",
       "      <td>0</td>\n",
       "      <td>1</td>\n",
       "      <td>0</td>\n",
       "      <td>0</td>\n",
       "      <td>1</td>\n",
       "      <td>0</td>\n",
       "      <td>0</td>\n",
       "      <td>0</td>\n",
       "      <td>1</td>\n",
       "      <td>0</td>\n",
       "      <td>0</td>\n",
       "      <td>0</td>\n",
       "      <td>0</td>\n",
       "      <td>0</td>\n",
       "    </tr>\n",
       "    <tr>\n",
       "      <th>5</th>\n",
       "      <td>0</td>\n",
       "      <td>0</td>\n",
       "      <td>1</td>\n",
       "      <td>0</td>\n",
       "      <td>0</td>\n",
       "      <td>0</td>\n",
       "      <td>0</td>\n",
       "      <td>0</td>\n",
       "      <td>0</td>\n",
       "      <td>0</td>\n",
       "      <td>0</td>\n",
       "      <td>0</td>\n",
       "      <td>0</td>\n",
       "      <td>1</td>\n",
       "      <td>0</td>\n",
       "    </tr>\n",
       "    <tr>\n",
       "      <th>...</th>\n",
       "      <td>...</td>\n",
       "      <td>...</td>\n",
       "      <td>...</td>\n",
       "      <td>...</td>\n",
       "      <td>...</td>\n",
       "      <td>...</td>\n",
       "      <td>...</td>\n",
       "      <td>...</td>\n",
       "      <td>...</td>\n",
       "      <td>...</td>\n",
       "      <td>...</td>\n",
       "      <td>...</td>\n",
       "      <td>...</td>\n",
       "      <td>...</td>\n",
       "      <td>...</td>\n",
       "    </tr>\n",
       "    <tr>\n",
       "      <th>495</th>\n",
       "      <td>0</td>\n",
       "      <td>0</td>\n",
       "      <td>1</td>\n",
       "      <td>0</td>\n",
       "      <td>0</td>\n",
       "      <td>1</td>\n",
       "      <td>1</td>\n",
       "      <td>0</td>\n",
       "      <td>0</td>\n",
       "      <td>1</td>\n",
       "      <td>0</td>\n",
       "      <td>0</td>\n",
       "      <td>0</td>\n",
       "      <td>0</td>\n",
       "      <td>0</td>\n",
       "    </tr>\n",
       "    <tr>\n",
       "      <th>496</th>\n",
       "      <td>1</td>\n",
       "      <td>1</td>\n",
       "      <td>1</td>\n",
       "      <td>1</td>\n",
       "      <td>0</td>\n",
       "      <td>1</td>\n",
       "      <td>0</td>\n",
       "      <td>0</td>\n",
       "      <td>0</td>\n",
       "      <td>0</td>\n",
       "      <td>0</td>\n",
       "      <td>0</td>\n",
       "      <td>0</td>\n",
       "      <td>0</td>\n",
       "      <td>1</td>\n",
       "    </tr>\n",
       "    <tr>\n",
       "      <th>497</th>\n",
       "      <td>0</td>\n",
       "      <td>0</td>\n",
       "      <td>1</td>\n",
       "      <td>0</td>\n",
       "      <td>0</td>\n",
       "      <td>0</td>\n",
       "      <td>0</td>\n",
       "      <td>0</td>\n",
       "      <td>0</td>\n",
       "      <td>0</td>\n",
       "      <td>0</td>\n",
       "      <td>0</td>\n",
       "      <td>0</td>\n",
       "      <td>1</td>\n",
       "      <td>0</td>\n",
       "    </tr>\n",
       "    <tr>\n",
       "      <th>498</th>\n",
       "      <td>0</td>\n",
       "      <td>0</td>\n",
       "      <td>1</td>\n",
       "      <td>0</td>\n",
       "      <td>0</td>\n",
       "      <td>1</td>\n",
       "      <td>0</td>\n",
       "      <td>0</td>\n",
       "      <td>0</td>\n",
       "      <td>1</td>\n",
       "      <td>0</td>\n",
       "      <td>0</td>\n",
       "      <td>0</td>\n",
       "      <td>0</td>\n",
       "      <td>0</td>\n",
       "    </tr>\n",
       "    <tr>\n",
       "      <th>499</th>\n",
       "      <td>0</td>\n",
       "      <td>1</td>\n",
       "      <td>1</td>\n",
       "      <td>0</td>\n",
       "      <td>0</td>\n",
       "      <td>1</td>\n",
       "      <td>1</td>\n",
       "      <td>0</td>\n",
       "      <td>0</td>\n",
       "      <td>1</td>\n",
       "      <td>0</td>\n",
       "      <td>0</td>\n",
       "      <td>0</td>\n",
       "      <td>0</td>\n",
       "      <td>0</td>\n",
       "    </tr>\n",
       "  </tbody>\n",
       "</table>\n",
       "<p>499 rows × 15 columns</p>\n",
       "</div>"
      ],
      "text/plain": [
       "      '… are always representative of people’s offline behavior'  \\\n",
       "1                                                    0             \n",
       "2                                                    0             \n",
       "3                                                    0             \n",
       "4                                                    0             \n",
       "5                                                    0             \n",
       "..                                                 ...             \n",
       "495                                                  0             \n",
       "496                                                  1             \n",
       "497                                                  0             \n",
       "498                                                  0             \n",
       "499                                                  0             \n",
       "\n",
       "      '… are naturalistic in that they do not require researchers to directly interact with research volunteers'  \\\n",
       "1                                                    1                                                             \n",
       "2                                                    0                                                             \n",
       "3                                                    1                                                             \n",
       "4                                                    0                                                             \n",
       "5                                                    0                                                             \n",
       "..                                                 ...                                                             \n",
       "495                                                  0                                                             \n",
       "496                                                  1                                                             \n",
       "497                                                  0                                                             \n",
       "498                                                  0                                                             \n",
       "499                                                  1                                                             \n",
       "\n",
       "      '… are readily accessible to researchers and easy to collect'  \\\n",
       "1                                                    0                \n",
       "2                                                    0                \n",
       "3                                                    1                \n",
       "4                                                    1                \n",
       "5                                                    1                \n",
       "..                                                 ...                \n",
       "495                                                  1                \n",
       "496                                                  1                \n",
       "497                                                  1                \n",
       "498                                                  1                \n",
       "499                                                  1                \n",
       "\n",
       "      '… are unaffected by the way social media platforms work'  \\\n",
       "1                                                    0            \n",
       "2                                                    0            \n",
       "3                                                    0            \n",
       "4                                                    0            \n",
       "5                                                    0            \n",
       "..                                                 ...            \n",
       "495                                                  0            \n",
       "496                                                  1            \n",
       "497                                                  0            \n",
       "498                                                  0            \n",
       "499                                                  0            \n",
       "\n",
       "      '… are well formatted and never contain any missing data'  \\\n",
       "1                                                    0            \n",
       "2                                                    0            \n",
       "3                                                    0            \n",
       "4                                                    0            \n",
       "5                                                    0            \n",
       "..                                                 ...            \n",
       "495                                                  0            \n",
       "496                                                  0            \n",
       "497                                                  0            \n",
       "498                                                  0            \n",
       "499                                                  0            \n",
       "\n",
       "      '… often capture social relationships not found using traditional methods (e.g. surveys)'  \\\n",
       "1                                                    1                                            \n",
       "2                                                    0                                            \n",
       "3                                                    1                                            \n",
       "4                                                    1                                            \n",
       "5                                                    0                                            \n",
       "..                                                 ...                                            \n",
       "495                                                  1                                            \n",
       "496                                                  1                                            \n",
       "497                                                  0                                            \n",
       "498                                                  1                                            \n",
       "499                                                  1                                            \n",
       "\n",
       "      '… reflect events in real-time and can be collected continuously over time'  \\\n",
       "1                                                    1                              \n",
       "2                                                    0                              \n",
       "3                                                    0                              \n",
       "4                                                    0                              \n",
       "5                                                    0                              \n",
       "..                                                 ...                              \n",
       "495                                                  1                              \n",
       "496                                                  0                              \n",
       "497                                                  0                              \n",
       "498                                                  0                              \n",
       "499                                                  1                              \n",
       "\n",
       "     'None of the above'  \\\n",
       "1                      0   \n",
       "2                      0   \n",
       "3                      0   \n",
       "4                      0   \n",
       "5                      0   \n",
       "..                   ...   \n",
       "495                    0   \n",
       "496                    0   \n",
       "497                    0   \n",
       "498                    0   \n",
       "499                    0   \n",
       "\n",
       "     '… are always representative of people’s offline behavior'  \\\n",
       "1                                                    0            \n",
       "2                                                    0            \n",
       "3                                                    0            \n",
       "4                                                    0            \n",
       "5                                                    0            \n",
       "..                                                 ...            \n",
       "495                                                  0            \n",
       "496                                                  0            \n",
       "497                                                  0            \n",
       "498                                                  0            \n",
       "499                                                  0            \n",
       "\n",
       "     '… are large and can contain millions of data points'  \\\n",
       "1                                                    1       \n",
       "2                                                    1       \n",
       "3                                                    1       \n",
       "4                                                    1       \n",
       "5                                                    0       \n",
       "..                                                 ...       \n",
       "495                                                  1       \n",
       "496                                                  0       \n",
       "497                                                  0       \n",
       "498                                                  1       \n",
       "499                                                  1       \n",
       "\n",
       "     '… are naturalistic in that they do not require researchers to directly interact with research volunteers'  \\\n",
       "1                                                    0                                                            \n",
       "2                                                    0                                                            \n",
       "3                                                    0                                                            \n",
       "4                                                    0                                                            \n",
       "5                                                    0                                                            \n",
       "..                                                 ...                                                            \n",
       "495                                                  0                                                            \n",
       "496                                                  0                                                            \n",
       "497                                                  0                                                            \n",
       "498                                                  0                                                            \n",
       "499                                                  0                                                            \n",
       "\n",
       "     '… are readily accessible to researchers and easy to collect'  \\\n",
       "1                                                    0               \n",
       "2                                                    0               \n",
       "3                                                    0               \n",
       "4                                                    0               \n",
       "5                                                    0               \n",
       "..                                                 ...               \n",
       "495                                                  0               \n",
       "496                                                  0               \n",
       "497                                                  0               \n",
       "498                                                  0               \n",
       "499                                                  0               \n",
       "\n",
       "     '… are unaffected by the way social media platforms work'  \\\n",
       "1                                                    0           \n",
       "2                                                    0           \n",
       "3                                                    0           \n",
       "4                                                    0           \n",
       "5                                                    0           \n",
       "..                                                 ...           \n",
       "495                                                  0           \n",
       "496                                                  0           \n",
       "497                                                  0           \n",
       "498                                                  0           \n",
       "499                                                  0           \n",
       "\n",
       "     '… often capture social relationships not found using traditional methods (e.g. surveys)'  \\\n",
       "1                                                    0                                           \n",
       "2                                                    0                                           \n",
       "3                                                    0                                           \n",
       "4                                                    0                                           \n",
       "5                                                    1                                           \n",
       "..                                                 ...                                           \n",
       "495                                                  0                                           \n",
       "496                                                  0                                           \n",
       "497                                                  1                                           \n",
       "498                                                  0                                           \n",
       "499                                                  0                                           \n",
       "\n",
       "     '… reflect events in real-time and can be collected continuously over time'  \n",
       "1                                                    0                            \n",
       "2                                                    0                            \n",
       "3                                                    0                            \n",
       "4                                                    0                            \n",
       "5                                                    0                            \n",
       "..                                                 ...                            \n",
       "495                                                  0                            \n",
       "496                                                  1                            \n",
       "497                                                  0                            \n",
       "498                                                  0                            \n",
       "499                                                  0                            \n",
       "\n",
       "[499 rows x 15 columns]"
      ]
     },
     "execution_count": 6,
     "metadata": {},
     "output_type": "execute_result"
    }
   ],
   "source": [
    "# view dummies\n",
    "dummy_df"
   ]
  },
  {
   "cell_type": "markdown",
   "id": "cb90c48e",
   "metadata": {},
   "source": [
    "**Why does `dummy_df` have 15 columns with some column names looking identical?**"
   ]
  },
  {
   "cell_type": "markdown",
   "id": "f7dfbeed-33b9-43db-9dd0-73a38b9824d4",
   "metadata": {},
   "source": [
    "### Study descriptions"
   ]
  },
  {
   "cell_type": "markdown",
   "id": "6ac8ac2f-a24b-450c-952b-30ee1c95f625",
   "metadata": {},
   "source": [
    "**Variables to examine: 16-27**"
   ]
  },
  {
   "cell_type": "markdown",
   "id": "2ab99530-bf28-43e2-9364-58b763c091f6",
   "metadata": {},
   "source": [
    "#### Study 1"
   ]
  },
  {
   "cell_type": "code",
   "execution_count": 7,
   "id": "2bf7c828-3723-4b47-9630-b6a84e576d18",
   "metadata": {},
   "outputs": [
    {
     "data": {
      "text/plain": [
       "Completely acceptable      0.314629\n",
       "Somewhat acceptable        0.288577\n",
       "Somewhat unacceptable      0.162325\n",
       "Neutral                    0.124248\n",
       "Completely unacceptable    0.110220\n",
       "Name: study_1_ethic_acc, dtype: float64"
      ]
     },
     "execution_count": 7,
     "metadata": {},
     "output_type": "execute_result"
    }
   ],
   "source": [
    "digex_df['study_1_ethic_acc'].value_counts(normalize=True, dropna=False)"
   ]
  },
  {
   "cell_type": "markdown",
   "id": "64d556f4-5174-440b-bd1a-31b39d6ce7e8",
   "metadata": {},
   "source": [
    "#### Study 2"
   ]
  },
  {
   "cell_type": "code",
   "execution_count": 8,
   "id": "a8e8e5ca-6dc6-4c10-a59d-08b518df0d80",
   "metadata": {},
   "outputs": [
    {
     "data": {
      "text/plain": [
       "Somewhat acceptable        0.266533\n",
       "Completely acceptable      0.232465\n",
       "Somewhat unacceptable      0.222445\n",
       "Neutral                    0.164329\n",
       "Completely unacceptable    0.114228\n",
       "Name: study_2_ethic_acc, dtype: float64"
      ]
     },
     "execution_count": 8,
     "metadata": {},
     "output_type": "execute_result"
    }
   ],
   "source": [
    "digex_df['study_2_ethic_acc'].value_counts(normalize=True, dropna=False)"
   ]
  },
  {
   "cell_type": "markdown",
   "id": "ef6125e8-4a4f-4216-82fe-e3979a564a5f",
   "metadata": {},
   "source": [
    "#### Study 3"
   ]
  },
  {
   "cell_type": "code",
   "execution_count": 9,
   "id": "8ffb67b7-e050-40ca-b88f-b08702fdfe2b",
   "metadata": {},
   "outputs": [
    {
     "data": {
      "text/plain": [
       "Completely acceptable      0.498998\n",
       "Somewhat acceptable        0.268537\n",
       "Neutral                    0.112224\n",
       "Somewhat unacceptable      0.078156\n",
       "Completely unacceptable    0.042084\n",
       "Name: study_3_ethic_acc, dtype: float64"
      ]
     },
     "execution_count": 9,
     "metadata": {},
     "output_type": "execute_result"
    }
   ],
   "source": [
    "digex_df['study_3_ethic_acc'].value_counts(normalize=True, dropna=False)"
   ]
  },
  {
   "cell_type": "markdown",
   "id": "092d4157-3768-4b0c-8aa6-808d44a1c107",
   "metadata": {},
   "source": [
    "#### Study 4"
   ]
  },
  {
   "cell_type": "code",
   "execution_count": 10,
   "id": "8d02c135-f3c7-4e93-8d22-0a406548e9b0",
   "metadata": {},
   "outputs": [
    {
     "data": {
      "text/plain": [
       "Somewhat acceptable        0.242485\n",
       "Completely acceptable      0.230461\n",
       "Somewhat unacceptable      0.220441\n",
       "Neutral                    0.176353\n",
       "Completely unacceptable    0.130261\n",
       "Name: study_4_ethic_acc, dtype: float64"
      ]
     },
     "execution_count": 10,
     "metadata": {},
     "output_type": "execute_result"
    }
   ],
   "source": [
    "digex_df['study_4_ethic_acc'].value_counts(normalize=True, dropna=False)"
   ]
  },
  {
   "cell_type": "markdown",
   "id": "06f2671f",
   "metadata": {},
   "source": [
    "#### Study comparison"
   ]
  },
  {
   "cell_type": "code",
   "execution_count": 11,
   "id": "5684640a",
   "metadata": {},
   "outputs": [],
   "source": [
    "digex_df['Hangartner et al.'] = digex_df['study_1_ethic_acc'].map({'Completely unacceptable': -2, \n",
    "                                                                       'Somewhat unacceptable': -1, \n",
    "                                                                       'Neutral': 0, \n",
    "                                                                       'Somewhat acceptable': 1, \n",
    "                                                                       'Completely acceptable': 2})\n",
    "\n",
    "digex_df['Pennycook et al.'] = digex_df['study_2_ethic_acc'].map({'Completely unacceptable': -2, \n",
    "                                                                       'Somewhat unacceptable': -1, \n",
    "                                                                       'Neutral': 0, \n",
    "                                                                       'Somewhat acceptable': 1, \n",
    "                                                                       'Completely acceptable': 2})\n",
    "\n",
    "digex_df['Levy'] = digex_df['study_3_ethic_acc'].map({'Completely unacceptable': -2, \n",
    "                                                                       'Somewhat unacceptable': -1, \n",
    "                                                                       'Neutral': 0, \n",
    "                                                                       'Somewhat acceptable': 1, \n",
    "                                                                       'Completely acceptable': 2})\n",
    "\n",
    "digex_df['Mosleh et al.'] = digex_df['study_4_ethic_acc'].map({'Completely unacceptable': -2, \n",
    "                                                                       'Somewhat unacceptable': -1, \n",
    "                                                                       'Neutral': 0, \n",
    "                                                                       'Somewhat acceptable': 1, \n",
    "                                                                       'Completely acceptable': 2})"
   ]
  },
  {
   "cell_type": "code",
   "execution_count": 12,
   "id": "1cee1b08",
   "metadata": {},
   "outputs": [],
   "source": [
    "# Create a list to hold the re-coded values\n",
    "recoded_values = []\n",
    "\n",
    "# Iterate over the values in the column\n",
    "for value in digex_df['politic_views']:\n",
    "    # Check the value and assign a new value based on the criteria\n",
    "    if value in [\"Very liberal\", \"Slightly liberal\"]:\n",
    "        recoded_value = \"liberal\"\n",
    "    elif value in [\"Very conservative\", \"Slightly conservative\"]:\n",
    "        recoded_value = \"conservative\"\n",
    "    else:\n",
    "        recoded_value = \"other\"\n",
    "        \n",
    "    # Add the recoded value to the list\n",
    "    recoded_values.append(recoded_value)"
   ]
  },
  {
   "cell_type": "code",
   "execution_count": 13,
   "id": "a5551ca4",
   "metadata": {},
   "outputs": [],
   "source": [
    "digex_df['Politics'] = recoded_values"
   ]
  },
  {
   "cell_type": "code",
   "execution_count": 14,
   "id": "a1a43063",
   "metadata": {},
   "outputs": [],
   "source": [
    "study_comparison = digex_df[['Politics', 'Hangartner et al.', 'Pennycook et al.', 'Levy', 'Mosleh et al.']]"
   ]
  },
  {
   "cell_type": "code",
   "execution_count": 15,
   "id": "fe99dd29",
   "metadata": {},
   "outputs": [
    {
     "data": {
      "text/plain": [
       "Hangartner et al.    0.535070\n",
       "Pennycook et al.     0.280561\n",
       "Levy                 1.104208\n",
       "Mosleh et al.        0.222445\n",
       "dtype: float64"
      ]
     },
     "execution_count": 15,
     "metadata": {},
     "output_type": "execute_result"
    }
   ],
   "source": [
    "# mean acceptance by study (-2 = completely unacceptable; 2 = completely acceptable)\n",
    "study_comparison.mean(numeric_only=True)"
   ]
  },
  {
   "cell_type": "code",
   "execution_count": 16,
   "id": "c4d7d830",
   "metadata": {},
   "outputs": [
    {
     "data": {
      "text/html": [
       "<div>\n",
       "<style scoped>\n",
       "    .dataframe tbody tr th:only-of-type {\n",
       "        vertical-align: middle;\n",
       "    }\n",
       "\n",
       "    .dataframe tbody tr th {\n",
       "        vertical-align: top;\n",
       "    }\n",
       "\n",
       "    .dataframe thead th {\n",
       "        text-align: right;\n",
       "    }\n",
       "</style>\n",
       "<table border=\"1\" class=\"dataframe\">\n",
       "  <thead>\n",
       "    <tr style=\"text-align: right;\">\n",
       "      <th></th>\n",
       "      <th>Politics</th>\n",
       "      <th>Study</th>\n",
       "      <th>value</th>\n",
       "    </tr>\n",
       "  </thead>\n",
       "  <tbody>\n",
       "    <tr>\n",
       "      <th>0</th>\n",
       "      <td>liberal</td>\n",
       "      <td>Hangartner et al.</td>\n",
       "      <td>0</td>\n",
       "    </tr>\n",
       "    <tr>\n",
       "      <th>1</th>\n",
       "      <td>other</td>\n",
       "      <td>Hangartner et al.</td>\n",
       "      <td>2</td>\n",
       "    </tr>\n",
       "    <tr>\n",
       "      <th>2</th>\n",
       "      <td>liberal</td>\n",
       "      <td>Hangartner et al.</td>\n",
       "      <td>2</td>\n",
       "    </tr>\n",
       "    <tr>\n",
       "      <th>3</th>\n",
       "      <td>conservative</td>\n",
       "      <td>Hangartner et al.</td>\n",
       "      <td>0</td>\n",
       "    </tr>\n",
       "    <tr>\n",
       "      <th>4</th>\n",
       "      <td>liberal</td>\n",
       "      <td>Hangartner et al.</td>\n",
       "      <td>2</td>\n",
       "    </tr>\n",
       "    <tr>\n",
       "      <th>...</th>\n",
       "      <td>...</td>\n",
       "      <td>...</td>\n",
       "      <td>...</td>\n",
       "    </tr>\n",
       "    <tr>\n",
       "      <th>1991</th>\n",
       "      <td>other</td>\n",
       "      <td>Mosleh et al.</td>\n",
       "      <td>2</td>\n",
       "    </tr>\n",
       "    <tr>\n",
       "      <th>1992</th>\n",
       "      <td>conservative</td>\n",
       "      <td>Mosleh et al.</td>\n",
       "      <td>2</td>\n",
       "    </tr>\n",
       "    <tr>\n",
       "      <th>1993</th>\n",
       "      <td>liberal</td>\n",
       "      <td>Mosleh et al.</td>\n",
       "      <td>2</td>\n",
       "    </tr>\n",
       "    <tr>\n",
       "      <th>1994</th>\n",
       "      <td>liberal</td>\n",
       "      <td>Mosleh et al.</td>\n",
       "      <td>0</td>\n",
       "    </tr>\n",
       "    <tr>\n",
       "      <th>1995</th>\n",
       "      <td>liberal</td>\n",
       "      <td>Mosleh et al.</td>\n",
       "      <td>-1</td>\n",
       "    </tr>\n",
       "  </tbody>\n",
       "</table>\n",
       "<p>1996 rows × 3 columns</p>\n",
       "</div>"
      ],
      "text/plain": [
       "          Politics              Study  value\n",
       "0          liberal  Hangartner et al.      0\n",
       "1            other  Hangartner et al.      2\n",
       "2          liberal  Hangartner et al.      2\n",
       "3     conservative  Hangartner et al.      0\n",
       "4          liberal  Hangartner et al.      2\n",
       "...            ...                ...    ...\n",
       "1991         other      Mosleh et al.      2\n",
       "1992  conservative      Mosleh et al.      2\n",
       "1993       liberal      Mosleh et al.      2\n",
       "1994       liberal      Mosleh et al.      0\n",
       "1995       liberal      Mosleh et al.     -1\n",
       "\n",
       "[1996 rows x 3 columns]"
      ]
     },
     "execution_count": 16,
     "metadata": {},
     "output_type": "execute_result"
    }
   ],
   "source": [
    "# Use the melt function to reshape the dataframe\n",
    "study_comparison = study_comparison.melt(id_vars=\"Politics\", var_name=\"Study\", value_name=\"value\")\n",
    "study_comparison"
   ]
  },
  {
   "cell_type": "code",
   "execution_count": 17,
   "id": "2d556e11",
   "metadata": {},
   "outputs": [
    {
     "data": {
      "image/png": "[encoded data removed]",
      "text/plain": [
       "<Figure size 640x480 with 1 Axes>"
      ]
     },
     "metadata": {},
     "output_type": "display_data"
    }
   ],
   "source": [
    "# Use seaborn's pointplot function to create the error plot\n",
    "sns.pointplot(x=\"Study\", y=\"value\", hue=\"Politics\", data=study_comparison, dodge=0.25, join=False,\n",
    "              palette={\"liberal\": \"blue\", \"conservative\": \"red\", \"other\": \"grey\"})\n",
    "\n",
    "# Get the current tick locations and labels\n",
    "xticks, xticklabels = plt.xticks()\n",
    "\n",
    "# Set the tick labels to be rotated by 45 degrees\n",
    "plt.xticks(xticks, xticklabels, rotation=45)\n",
    "\n",
    "# Adjust the y axis\n",
    "plt.ylim(-2, 2)\n",
    "plt.ylabel(\"Acceptance\")\n",
    "\n",
    "# Add a thin, dashed, horizontal line through 0 on the y-axis using the axhline function\n",
    "plt.axhline(0, linestyle=\"--\", linewidth=1, color=\"black\")\n",
    "\n",
    "# Show the plot\n",
    "plt.show()"
   ]
  },
  {
   "cell_type": "markdown",
   "id": "ee7e046a-efd4-477d-b322-766b0e39c432",
   "metadata": {},
   "source": [
    "### Study design features"
   ]
  },
  {
   "cell_type": "code",
   "execution_count": 18,
   "id": "8f45cd8a-8ba9-4b28-8318-2fe6b86be47d",
   "metadata": {},
   "outputs": [],
   "source": [
    "# Select columns with index positions 25 through 34 (inclusive)\n",
    "design_fts = digex_df.iloc[:, 25:34]\n",
    "\n",
    "# Recode the values in the column using the replace function\n",
    "design_fts = design_fts.replace({\"Not at all important\": 0, \"Slightly important\": 1, \"Moderately important\": 2, \"Very important\": 3, \"Extremely important\": 4})"
   ]
  },
  {
   "cell_type": "code",
   "execution_count": 19,
   "id": "fbb109d6",
   "metadata": {},
   "outputs": [
    {
     "data": {
      "text/plain": [
       "design_partic_aware    2.799599\n",
       "design_cont            2.464930\n",
       "design_inter_type      2.438878\n",
       "design_type_data       2.376754\n",
       "design_res_purp        2.360721\n",
       "design_inter_impact    2.310621\n",
       "design_admin_inter     1.917836\n",
       "design_len_data        1.861723\n",
       "design_num_users       1.857715\n",
       "dtype: float64"
      ]
     },
     "execution_count": 19,
     "metadata": {},
     "output_type": "execute_result"
    }
   ],
   "source": [
    "# inspect average importance rating of each study design feature\n",
    "design_fts.mean(numeric_only=True).sort_values(ascending=False)"
   ]
  },
  {
   "cell_type": "code",
   "execution_count": 20,
   "id": "a41d7bb7",
   "metadata": {},
   "outputs": [],
   "source": [
    "design_plot = design_fts.melt(var_name=\"Feature\", value_name=\"Importance\")"
   ]
  },
  {
   "cell_type": "code",
   "execution_count": 21,
   "id": "42cece97",
   "metadata": {},
   "outputs": [
    {
     "data": {
      "image/png": "[encoded data removed]",
      "text/plain": [
       "<Figure size 640x480 with 1 Axes>"
      ]
     },
     "metadata": {},
     "output_type": "display_data"
    }
   ],
   "source": [
    "# Use seaborn's pointplot function to create the error plot\n",
    "sns.pointplot(x=\"Feature\", y=\"Importance\", data=design_plot, join=False)\n",
    "\n",
    "# Shift the x-axis ticks to the left using the tick_params function\n",
    "plt.tick_params(axis='x', labelrotation=70)\n",
    "\n",
    "# Adjust the y axis\n",
    "plt.ylim(0, 4)\n",
    "\n",
    "# Show the plot\n",
    "plt.show()"
   ]
  },
  {
   "cell_type": "markdown",
   "id": "ebdf076d",
   "metadata": {},
   "source": [
    "### Ethical priorities"
   ]
  },
  {
   "cell_type": "code",
   "execution_count": 22,
   "id": "cef20e7f",
   "metadata": {},
   "outputs": [],
   "source": [
    "ranks = digex_df[['rank_sci_repro', 'rank_resp', 'rank_just', 'rank_anony', 'rank_harms', 'rank_balance', 'rank_pub_interst']]"
   ]
  },
  {
   "cell_type": "markdown",
   "id": "d2582960",
   "metadata": {},
   "source": [
    "Ranks by means (lower value = higher priority)."
   ]
  },
  {
   "cell_type": "code",
   "execution_count": 23,
   "id": "6f3b150b",
   "metadata": {},
   "outputs": [
    {
     "data": {
      "text/plain": [
       "rank_harms          2.697395\n",
       "rank_anony          3.054108\n",
       "rank_resp           3.527054\n",
       "rank_pub_interst    3.573146\n",
       "rank_just           4.651303\n",
       "rank_balance        4.975952\n",
       "rank_sci_repro      5.521042\n",
       "dtype: float64"
      ]
     },
     "execution_count": 23,
     "metadata": {},
     "output_type": "execute_result"
    }
   ],
   "source": [
    "ranks_means = ranks.mean()\n",
    "ranks_means.sort_values(inplace=True, ascending=True)\n",
    "ranks_means"
   ]
  },
  {
   "cell_type": "markdown",
   "id": "a82696cd",
   "metadata": {},
   "source": [
    "Ranks by Borda count (higher value = higher priority)."
   ]
  },
  {
   "cell_type": "code",
   "execution_count": 24,
   "id": "b77dfdb8",
   "metadata": {},
   "outputs": [
    {
     "data": {
      "text/plain": [
       "rank_harms          2147.0\n",
       "rank_anony          1969.0\n",
       "rank_resp           1733.0\n",
       "rank_pub_interst    1710.0\n",
       "rank_just           1172.0\n",
       "rank_balance        1010.0\n",
       "rank_sci_repro       738.0\n",
       "dtype: float64"
      ]
     },
     "execution_count": 24,
     "metadata": {},
     "output_type": "execute_result"
    }
   ],
   "source": [
    "ranks_borda = ranks.replace({1:6, 2:5, 3:4, 4:3, 5:2, 6:1, 7:0})    \n",
    "ranks_borda = ranks_borda.sum()\n",
    "ranks_borda.sort_values(inplace=True, ascending=False)\n",
    "ranks_borda"
   ]
  }
 ],
 "metadata": {
  "kernelspec": {
   "display_name": "Python 3.8.9 64-bit",
   "language": "python",
   "name": "python3"
  },
  "language_info": {
   "codemirror_mode": {
    "name": "ipython",
    "version": 3
   },
   "file_extension": ".py",
   "mimetype": "text/x-python",
   "name": "python",
   "nbconvert_exporter": "python",
   "pygments_lexer": "ipython3",
   "version": "3.8.9"
  },
  "vscode": {
   "interpreter": {
    "hash": "31f2aee4e71d21fbe5cf8b01ff0e069b9275f58929596ceb00d14d90e3e16cd6"
   }
  }
 },
 "nbformat": 4,
 "nbformat_minor": 5
}
