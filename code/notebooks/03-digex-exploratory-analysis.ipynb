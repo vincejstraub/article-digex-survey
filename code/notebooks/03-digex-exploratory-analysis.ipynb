{
 "cells": [
  {
   "cell_type": "markdown",
   "id": "b5150774-edf4-4c82-9bd4-35b88db7778d",
   "metadata": {},
   "source": [
    "# Exploratory analysis "
   ]
  },
  {
   "cell_type": "markdown",
   "id": "6009978f-fa14-4786-84ec-6f1d2557b0e0",
   "metadata": {},
   "source": [
    "This notebook contains code for exploratory data analysis of data used in the project: Public attitudes and ethical guidelines in digital field experiments (digex)."
   ]
  },
  {
   "cell_type": "markdown",
   "id": "57018cd9-e9c5-4ac7-8a93-078196055526",
   "metadata": {
    "tags": []
   },
   "source": [
    "# TO DO"
   ]
  },
  {
   "cell_type": "markdown",
   "id": "ff116ac0-7017-4a63-a0a7-cdae8019b4ee",
   "metadata": {
    "jp-MarkdownHeadingCollapsed": true,
    "tags": []
   },
   "source": [
    "**We can roughly use the below bullet points taken from [2022-digex-study-design](https://docs.google.com/document/d/1nsaXEn04s9LTsjqrpbUpZlyQ3CAcuqkOwy1ZM0d-kKY/edit#) as section headings for this notebook to conduct the exploratory analysis**:\n",
    "\n",
    "- To address question 1, we will provide frequency tables or plots and descriptive statistics (M, SD, range) for the variables: awareness of the fact that academic researchers use social media data, awareness of the advantages of social media data that account for why academics collect them, awareness of social media data use, and awareness of social media interaction methods. \n",
    "\n",
    "- To address question 2, we will provide frequency tables or plots and descriptive statistics (M, SD, range) for each of the 4 vignette studies presented in section 2 of the survey for the variable: attitudes towards actual research studies. \n",
    "\n",
    "- To address question 3, we will provide frequency tables or plots for the variables attitudes towards study design factors and attitudes towards ethical principles. Moreover, we will also use a mixed-methods approach to analyze open-ended free-text responses (see below).\n",
    "\n",
    "- To further address questions 1-3, open-ended free-text inputs of both the open “other” options of selection items and the  open-ended free-text answers (i.e., what do you think it means for an academic study to receive \"ethical approval”, describe any concerns you might have, what additional information about the study or the researchers that would influence your level of concern, are there any other features of research that are important for determining your level of concern, are there any additional factors that you think should be considered) will be analyzed using a mixed-methods approach to detect common topics, sentiments, and themes. "
   ]
  },
  {
   "cell_type": "markdown",
   "id": "2bd3083f-ec31-4300-8e86-cd50fe0b5498",
   "metadata": {},
   "source": [
    "## Set working directory"
   ]
  },
  {
   "cell_type": "code",
   "execution_count": 1,
   "id": "e81b947d-7cc3-44ac-8f27-1743f89901a9",
   "metadata": {},
   "outputs": [],
   "source": [
    "import pathlib   # Change cwd\n",
    "import os \n",
    "\n",
    "path = pathlib.Path.cwd().parent\n",
    "os.chdir(path)"
   ]
  },
  {
   "cell_type": "markdown",
   "id": "81c8ead7-601f-4663-9449-4ed6294c2743",
   "metadata": {
    "tags": []
   },
   "source": [
    "## Imports"
   ]
  },
  {
   "cell_type": "code",
   "execution_count": 2,
   "id": "0124c32d-cd56-461d-897e-5d230daae8be",
   "metadata": {},
   "outputs": [],
   "source": [
    "import joypy\n",
    "import pandas as pd\n",
    "import numpy as np\n",
    "from matplotlib import pyplot as plt"
   ]
  },
  {
   "cell_type": "markdown",
   "id": "9f58243d-2dca-430c-bb74-6a09064297ef",
   "metadata": {
    "tags": []
   },
   "source": [
    "## Load processed data"
   ]
  },
  {
   "cell_type": "code",
   "execution_count": 7,
   "id": "3473d16f-0d4a-48cf-9fa1-c02fa8acabf5",
   "metadata": {},
   "outputs": [
    {
     "data": {
      "text/html": [
       "<div>\n",
       "<style scoped>\n",
       "    .dataframe tbody tr th:only-of-type {\n",
       "        vertical-align: middle;\n",
       "    }\n",
       "\n",
       "    .dataframe tbody tr th {\n",
       "        vertical-align: top;\n",
       "    }\n",
       "\n",
       "    .dataframe thead th {\n",
       "        text-align: right;\n",
       "    }\n",
       "</style>\n",
       "<table border=\"1\" class=\"dataframe\">\n",
       "  <thead>\n",
       "    <tr style=\"text-align: right;\">\n",
       "      <th></th>\n",
       "      <th>sm_use</th>\n",
       "      <th>age</th>\n",
       "      <th>gender_id</th>\n",
       "      <th>ethnic_id</th>\n",
       "      <th>edu</th>\n",
       "      <th>politic_views</th>\n",
       "      <th>aware_sm_res</th>\n",
       "      <th>aware_sm_advan</th>\n",
       "      <th>aware_sm_interact</th>\n",
       "      <th>aware_sm_use</th>\n",
       "      <th>...</th>\n",
       "      <th>rank_pub_interst</th>\n",
       "      <th>rank_add_fac_1</th>\n",
       "      <th>rank_add_fac_1_pos</th>\n",
       "      <th>rank_add_fac_2</th>\n",
       "      <th>rank_add_fac_2_pos</th>\n",
       "      <th>rank_add_fac_3</th>\n",
       "      <th>rank_add_fac_3_pos</th>\n",
       "      <th>aware_sm_advan_score</th>\n",
       "      <th>aware_sm_interact_score</th>\n",
       "      <th>aware_sm_use_score</th>\n",
       "    </tr>\n",
       "  </thead>\n",
       "  <tbody>\n",
       "    <tr>\n",
       "      <th>1</th>\n",
       "      <td>Facebook</td>\n",
       "      <td>29.0</td>\n",
       "      <td>Male</td>\n",
       "      <td>Asian - Eastern</td>\n",
       "      <td>Highschool</td>\n",
       "      <td>Slightly liberal</td>\n",
       "      <td>Extremely aware</td>\n",
       "      <td>['… are large and can contain millions of data...</td>\n",
       "      <td>['Creating fake accounts (\"bots\")', 'Secretly ...</td>\n",
       "      <td>['Political elections (e.g. voting behavior)',...</td>\n",
       "      <td>...</td>\n",
       "      <td>1.0</td>\n",
       "      <td>NaN</td>\n",
       "      <td>NaN</td>\n",
       "      <td>NaN</td>\n",
       "      <td>NaN</td>\n",
       "      <td>NaN</td>\n",
       "      <td>NaN</td>\n",
       "      <td>4</td>\n",
       "      <td>0</td>\n",
       "      <td>9</td>\n",
       "    </tr>\n",
       "    <tr>\n",
       "      <th>2</th>\n",
       "      <td>Twitter</td>\n",
       "      <td>33.0</td>\n",
       "      <td>Male</td>\n",
       "      <td>Mixed race</td>\n",
       "      <td>Highschool</td>\n",
       "      <td>Neutral/ Neither conservative or liberal</td>\n",
       "      <td>Moderately aware</td>\n",
       "      <td>['… are large and can contain millions of data...</td>\n",
       "      <td>['Privately messaging users', \"Publicly postin...</td>\n",
       "      <td>['Political elections (e.g. voting behavior)',...</td>\n",
       "      <td>...</td>\n",
       "      <td>4.0</td>\n",
       "      <td>NaN</td>\n",
       "      <td>NaN</td>\n",
       "      <td>NaN</td>\n",
       "      <td>NaN</td>\n",
       "      <td>NaN</td>\n",
       "      <td>NaN</td>\n",
       "      <td>1</td>\n",
       "      <td>1</td>\n",
       "      <td>9</td>\n",
       "    </tr>\n",
       "    <tr>\n",
       "      <th>3</th>\n",
       "      <td>Facebook</td>\n",
       "      <td>33.0</td>\n",
       "      <td>Female</td>\n",
       "      <td>Pacific Islander</td>\n",
       "      <td>Bachelor's degree</td>\n",
       "      <td>Very liberal</td>\n",
       "      <td>Extremely aware</td>\n",
       "      <td>['… are large and can contain millions of data...</td>\n",
       "      <td>['Privately messaging users', \"Publicly postin...</td>\n",
       "      <td>['Political elections (e.g. voting behavior)',...</td>\n",
       "      <td>...</td>\n",
       "      <td>1.0</td>\n",
       "      <td>NaN</td>\n",
       "      <td>NaN</td>\n",
       "      <td>NaN</td>\n",
       "      <td>NaN</td>\n",
       "      <td>NaN</td>\n",
       "      <td>NaN</td>\n",
       "      <td>2</td>\n",
       "      <td>2</td>\n",
       "      <td>5</td>\n",
       "    </tr>\n",
       "    <tr>\n",
       "      <th>4</th>\n",
       "      <td>Facebook</td>\n",
       "      <td>73.0</td>\n",
       "      <td>Female</td>\n",
       "      <td>White / Caucasian</td>\n",
       "      <td>Highschool</td>\n",
       "      <td>Slightly conservative</td>\n",
       "      <td>Moderately aware</td>\n",
       "      <td>['… are large and can contain millions of data...</td>\n",
       "      <td>['Creating fake accounts (\"bots\")']</td>\n",
       "      <td>['Political elections (e.g. voting behavior)',...</td>\n",
       "      <td>...</td>\n",
       "      <td>1.0</td>\n",
       "      <td>NaN</td>\n",
       "      <td>8.0</td>\n",
       "      <td>NaN</td>\n",
       "      <td>NaN</td>\n",
       "      <td>NaN</td>\n",
       "      <td>NaN</td>\n",
       "      <td>1</td>\n",
       "      <td>1</td>\n",
       "      <td>6</td>\n",
       "    </tr>\n",
       "    <tr>\n",
       "      <th>5</th>\n",
       "      <td>Twitter</td>\n",
       "      <td>27.0</td>\n",
       "      <td>Female</td>\n",
       "      <td>Native-American</td>\n",
       "      <td>Highschool</td>\n",
       "      <td>Very liberal</td>\n",
       "      <td>Extremely aware</td>\n",
       "      <td>['… often capture social relationships not fou...</td>\n",
       "      <td>['Privately messaging users', \"Publicly postin...</td>\n",
       "      <td>['Political elections (e.g. voting behavior)',...</td>\n",
       "      <td>...</td>\n",
       "      <td>7.0</td>\n",
       "      <td>NaN</td>\n",
       "      <td>NaN</td>\n",
       "      <td>NaN</td>\n",
       "      <td>NaN</td>\n",
       "      <td>NaN</td>\n",
       "      <td>NaN</td>\n",
       "      <td>0</td>\n",
       "      <td>3</td>\n",
       "      <td>9</td>\n",
       "    </tr>\n",
       "  </tbody>\n",
       "</table>\n",
       "<p>5 rows × 49 columns</p>\n",
       "</div>"
      ],
      "text/plain": [
       "     sm_use   age gender_id          ethnic_id                edu  \\\n",
       "1  Facebook  29.0      Male    Asian - Eastern         Highschool   \n",
       "2   Twitter  33.0      Male         Mixed race         Highschool   \n",
       "3  Facebook  33.0    Female   Pacific Islander  Bachelor's degree   \n",
       "4  Facebook  73.0    Female  White / Caucasian         Highschool   \n",
       "5   Twitter  27.0    Female    Native-American         Highschool   \n",
       "\n",
       "                              politic_views      aware_sm_res  \\\n",
       "1                          Slightly liberal   Extremely aware   \n",
       "2  Neutral/ Neither conservative or liberal  Moderately aware   \n",
       "3                              Very liberal   Extremely aware   \n",
       "4                     Slightly conservative  Moderately aware   \n",
       "5                              Very liberal   Extremely aware   \n",
       "\n",
       "                                      aware_sm_advan  \\\n",
       "1  ['… are large and can contain millions of data...   \n",
       "2  ['… are large and can contain millions of data...   \n",
       "3  ['… are large and can contain millions of data...   \n",
       "4  ['… are large and can contain millions of data...   \n",
       "5  ['… often capture social relationships not fou...   \n",
       "\n",
       "                                   aware_sm_interact  \\\n",
       "1  ['Creating fake accounts (\"bots\")', 'Secretly ...   \n",
       "2  ['Privately messaging users', \"Publicly postin...   \n",
       "3  ['Privately messaging users', \"Publicly postin...   \n",
       "4                ['Creating fake accounts (\"bots\")']   \n",
       "5  ['Privately messaging users', \"Publicly postin...   \n",
       "\n",
       "                                        aware_sm_use  ... rank_pub_interst  \\\n",
       "1  ['Political elections (e.g. voting behavior)',...  ...              1.0   \n",
       "2  ['Political elections (e.g. voting behavior)',...  ...              4.0   \n",
       "3  ['Political elections (e.g. voting behavior)',...  ...              1.0   \n",
       "4  ['Political elections (e.g. voting behavior)',...  ...              1.0   \n",
       "5  ['Political elections (e.g. voting behavior)',...  ...              7.0   \n",
       "\n",
       "  rank_add_fac_1 rank_add_fac_1_pos rank_add_fac_2 rank_add_fac_2_pos  \\\n",
       "1            NaN                NaN            NaN                NaN   \n",
       "2            NaN                NaN            NaN                NaN   \n",
       "3            NaN                NaN            NaN                NaN   \n",
       "4            NaN                8.0            NaN                NaN   \n",
       "5            NaN                NaN            NaN                NaN   \n",
       "\n",
       "  rank_add_fac_3 rank_add_fac_3_pos aware_sm_advan_score  \\\n",
       "1            NaN                NaN                    4   \n",
       "2            NaN                NaN                    1   \n",
       "3            NaN                NaN                    2   \n",
       "4            NaN                NaN                    1   \n",
       "5            NaN                NaN                    0   \n",
       "\n",
       "  aware_sm_interact_score aware_sm_use_score  \n",
       "1                       0                  9  \n",
       "2                       1                  9  \n",
       "3                       2                  5  \n",
       "4                       1                  6  \n",
       "5                       3                  9  \n",
       "\n",
       "[5 rows x 49 columns]"
      ]
     },
     "execution_count": 7,
     "metadata": {},
     "output_type": "execute_result"
    }
   ],
   "source": [
    "processed_data_path = get_data_filepath(\n",
    "    file=config.PROCESSED_DATA_FILEPATH, \n",
    "    data_path=config.PROCESSED_DATA_DIR,\n",
    "    main=False\n",
    ") \n",
    "\n",
    "digex_df = pd.read_csv(processed_data_path, index_col=0)\n",
    "\n",
    "digex_df.head()"
   ]
  },
  {
   "cell_type": "markdown",
   "id": "7452d92e-a30d-4720-a355-31bdf5e6e28e",
   "metadata": {
    "tags": []
   },
   "source": [
    "## Exploratory data analysis"
   ]
  },
  {
   "cell_type": "markdown",
   "id": "7c2aaa26-6394-4c0f-92d5-2ba35eee4289",
   "metadata": {},
   "source": [
    "Resources:\n",
    "- https://aeturrell.github.io/coding-for-economists/data-exploratory-analysis.html#the-pandas-profiling-package\n",
    "- https://deepnote.com/@deepnote/Joyplot-Introduction-4666e1a3-3249-442e-9a94-2bbcc5cb1b1d"
   ]
  },
  {
   "cell_type": "markdown",
   "id": "db1fa6ac-9729-420c-a59c-b778ef2d6839",
   "metadata": {},
   "source": [
    "### Demographics"
   ]
  },
  {
   "cell_type": "code",
   "execution_count": null,
   "id": "fece98de-4af5-4661-b00b-396711ebfc0d",
   "metadata": {},
   "outputs": [],
   "source": []
  },
  {
   "cell_type": "markdown",
   "id": "709689f2-57f2-4053-ab55-c1a80c9d369c",
   "metadata": {},
   "source": [
    "### Prior awarenesss"
   ]
  },
  {
   "cell_type": "code",
   "execution_count": null,
   "id": "df5ad52a-3c0d-4204-bcbe-ace209d5482b",
   "metadata": {},
   "outputs": [],
   "source": []
  },
  {
   "cell_type": "markdown",
   "id": "f7dfbeed-33b9-43db-9dd0-73a38b9824d4",
   "metadata": {},
   "source": [
    "### Study descriptions"
   ]
  },
  {
   "cell_type": "code",
   "execution_count": null,
   "id": "05e38a47-6433-47ad-95b2-8d8fdbb69869",
   "metadata": {},
   "outputs": [],
   "source": []
  },
  {
   "cell_type": "markdown",
   "id": "2ab99530-bf28-43e2-9364-58b763c091f6",
   "metadata": {},
   "source": [
    "#### Study 1"
   ]
  },
  {
   "cell_type": "code",
   "execution_count": null,
   "id": "2bf7c828-3723-4b47-9630-b6a84e576d18",
   "metadata": {},
   "outputs": [],
   "source": []
  },
  {
   "cell_type": "markdown",
   "id": "64d556f4-5174-440b-bd1a-31b39d6ce7e8",
   "metadata": {},
   "source": [
    "#### Study 2"
   ]
  },
  {
   "cell_type": "code",
   "execution_count": null,
   "id": "a8e8e5ca-6dc6-4c10-a59d-08b518df0d80",
   "metadata": {},
   "outputs": [],
   "source": []
  },
  {
   "cell_type": "markdown",
   "id": "ef6125e8-4a4f-4216-82fe-e3979a564a5f",
   "metadata": {},
   "source": [
    "#### Study 3"
   ]
  },
  {
   "cell_type": "code",
   "execution_count": null,
   "id": "8ffb67b7-e050-40ca-b88f-b08702fdfe2b",
   "metadata": {},
   "outputs": [],
   "source": []
  },
  {
   "cell_type": "markdown",
   "id": "092d4157-3768-4b0c-8aa6-808d44a1c107",
   "metadata": {},
   "source": [
    "#### Study 4"
   ]
  },
  {
   "cell_type": "code",
   "execution_count": null,
   "id": "8d02c135-f3c7-4e93-8d22-0a406548e9b0",
   "metadata": {},
   "outputs": [],
   "source": []
  },
  {
   "cell_type": "markdown",
   "id": "ee7e046a-efd4-477d-b322-766b0e39c432",
   "metadata": {},
   "source": [
    "### Study design features"
   ]
  },
  {
   "cell_type": "code",
   "execution_count": null,
   "id": "8f45cd8a-8ba9-4b28-8318-2fe6b86be47d",
   "metadata": {},
   "outputs": [],
   "source": []
  }
 ],
 "metadata": {
  "kernelspec": {
   "display_name": "Python 3 (ipykernel)",
   "language": "python",
   "name": "python3"
  },
  "language_info": {
   "codemirror_mode": {
    "name": "ipython",
    "version": 3
   },
   "file_extension": ".py",
   "mimetype": "text/x-python",
   "name": "python",
   "nbconvert_exporter": "python",
   "pygments_lexer": "ipython3",
   "version": "3.9.12"
  }
 },
 "nbformat": 4,
 "nbformat_minor": 5
}
