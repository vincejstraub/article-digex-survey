{
 "cells": [
  {
   "cell_type": "markdown",
   "id": "b5150774-edf4-4c82-9bd4-35b88db7778d",
   "metadata": {},
   "source": [
    "# Data visualization"
   ]
  },
  {
   "cell_type": "markdown",
   "id": "6009978f-fa14-4786-84ec-6f1d2557b0e0",
   "metadata": {},
   "source": [
    "This notebook contains code for the visualization of data used in the project: Digital experiments survey."
   ]
  },
  {
   "cell_type": "markdown",
   "id": "129b39a6-bbe8-4dd7-af65-d8d21cd7fc5b",
   "metadata": {},
   "source": [
    "## Set working directory"
   ]
  },
  {
   "cell_type": "code",
   "execution_count": 1,
   "id": "ca863140-16a0-46d7-8dc6-497cbb8e0659",
   "metadata": {},
   "outputs": [],
   "source": [
    "import pathlib   # Change cwd\n",
    "import os \n",
    "\n",
    "path = pathlib.Path.cwd().parent\n",
    "os.chdir(path)"
   ]
  },
  {
   "cell_type": "markdown",
   "id": "05e3d3a2-b97c-4441-8a67-b4a2d67ca0b2",
   "metadata": {
    "tags": []
   },
   "source": [
    "## Imports"
   ]
  },
  {
   "cell_type": "code",
   "execution_count": 2,
   "id": "993ce44a-7723-4a36-adbd-10d95335a78d",
   "metadata": {},
   "outputs": [],
   "source": [
    "import joypy\n",
    "import pandas as pd\n",
    "import numpy as np\n",
    "from matplotlib import pyplot as plt"
   ]
  },
  {
   "cell_type": "markdown",
   "id": "0ea70661-d6bb-4086-9acd-eaafd35b8a96",
   "metadata": {},
   "source": [
    "Create a structure based on:\n",
    "\n",
    "https://aeturrell.github.io/coding-for-economists/vis-intro.html"
   ]
  }
 ],
 "metadata": {
  "kernelspec": {
   "display_name": "Python 3 (ipykernel)",
   "language": "python",
   "name": "python3"
  },
  "language_info": {
   "codemirror_mode": {
    "name": "ipython",
    "version": 3
   },
   "file_extension": ".py",
   "mimetype": "text/x-python",
   "name": "python",
   "nbconvert_exporter": "python",
   "pygments_lexer": "ipython3",
   "version": "3.9.12"
  }
 },
 "nbformat": 4,
 "nbformat_minor": 5
}
