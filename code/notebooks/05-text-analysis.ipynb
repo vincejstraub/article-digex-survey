{
 "cells": [
  {
   "cell_type": "markdown",
   "id": "256e7883-e873-4827-9f10-dce45e50d749",
   "metadata": {},
   "source": [
    "## Set working directory"
   ]
  },
  {
   "cell_type": "markdown",
   "id": "89743443-d885-4026-9ad3-580e2b65cd03",
   "metadata": {},
   "source": [
    "https://aeturrell.github.io/coding-for-economists/text-intro.html"
   ]
  },
  {
   "cell_type": "code",
   "execution_count": 1,
   "id": "387bfd43-8428-43e9-952d-12a68661bc49",
   "metadata": {},
   "outputs": [],
   "source": [
    "import pathlib   # Change cwd\n",
    "import os \n",
    "\n",
    "path = pathlib.Path.cwd().parent\n",
    "os.chdir(path)"
   ]
  },
  {
   "cell_type": "markdown",
   "id": "6d3d0619-8962-416b-ac6d-c721266174c8",
   "metadata": {
    "tags": []
   },
   "source": [
    "## Imports"
   ]
  },
  {
   "cell_type": "code",
   "execution_count": 2,
   "id": "cfdf6f36-c1ab-43bc-8a16-309525fe3186",
   "metadata": {},
   "outputs": [],
   "source": [
    "import yaml   # 3rd party packages\n",
    "import warnings\n",
    "import pandas as pd\n",
    "import numpy as np\n",
    "from matplotlib import pyplot as plt\n",
    "from pandas_profiling import ProfileReport\n",
    "\n",
    "from digex_src import config    # Local imports\n",
    "from digex_src import preprocess_data\n",
    "from digex_src.load_data import get_data_filepath\n",
    "\n",
    "warnings.filterwarnings('ignore')    # Ignore warnings"
   ]
  }
 ],
 "metadata": {
  "kernelspec": {
   "display_name": "Python 3 (ipykernel)",
   "language": "python",
   "name": "python3"
  },
  "language_info": {
   "codemirror_mode": {
    "name": "ipython",
    "version": 3
   },
   "file_extension": ".py",
   "mimetype": "text/x-python",
   "name": "python",
   "nbconvert_exporter": "python",
   "pygments_lexer": "ipython3",
   "version": "3.9.12"
  }
 },
 "nbformat": 4,
 "nbformat_minor": 5
}
