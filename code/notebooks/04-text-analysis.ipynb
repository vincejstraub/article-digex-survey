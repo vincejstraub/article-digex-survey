{
 "cells": [
  {
   "cell_type": "markdown",
   "id": "69526049-1e7f-42f7-9763-310d32b3421f",
   "metadata": {},
   "source": [
    "# Text analysis"
   ]
  },
  {
   "cell_type": "markdown",
   "id": "11e26c09-5eb6-49c7-be83-bfc7075170dc",
   "metadata": {},
   "source": [
    "This notebook contains code for the  analysis of text data used in the project: Public attitudes and ethical guidelines in digital field experiments (digex)."
   ]
  },
  {
   "cell_type": "markdown",
   "id": "bfe0e367-6412-4346-bf30-f1deed579115",
   "metadata": {
    "tags": []
   },
   "source": [
    "# TO DO"
   ]
  },
  {
   "cell_type": "markdown",
   "id": "4050b999-9ded-4541-bf07-f74dee538866",
   "metadata": {
    "jp-MarkdownHeadingCollapsed": true,
    "tags": []
   },
   "source": [
    "**We can roughly use the below bullet points taken from [2022-digex-study-design](https://docs.google.com/document/d/1nsaXEn04s9LTsjqrpbUpZlyQ3CAcuqkOwy1ZM0d-kKY/edit#) as section headings for this notebook to conduct the exploratory analysis**:\n",
    "\n",
    "- To further address questions 1-3, open-ended free-text inputs of both the open “other” options of selection items and the  open-ended free-text answers (i.e., what do you think it means for an academic study to receive \"ethical approval”, describe any concerns you might have, what additional information about the study or the researchers that would influence your level of concern, are there any other features of research that are important for determining your level of concern, are there any additional factors that you think should be considered) will be analyzed using a mixed-methods approach to detect common topics, sentiments, and themes. \n",
    " \n",
    "- The mixed-methods analysis approach will consist of combining quantitative textual analysis, specifically, topic (detection) modeling and sentiment analysis, with qualitative coding, specifically, structured tabular thematic analysis (ST-TA). Topic modeling will involve applying Latent Dirichlet Allocation to identify words within each  open-ended free-text response that are most frequently associated with each of the k identified topics, and produce the probability that each open-ended free-text response within the corpus of responses is associated with each of k topics (Jelodar et al. 2019). Sentiment analysis will involve assigning a polarity score in the range [−1, 1] through the Valence Aware Dictionary for sEntiment Reasoning (VADER) method. VADER is a lexicon-based sentiment analysis engine that combines lexicon-based methods with a rule-based modeling consisting of human validated rules Elbagir and Yang (2019). Models will be implemented using the R package topicmodels and the Python packages Natural Language Toolkit (NLTK). \n",
    "\n",
    "- The purpose of manual coding is to validate the topic models, specifically, the representatives of the detected topics and the number of topics k, and to identify further themes (Züll 2016). To implement ST-TA we will follow the method described by Robinson (2021). One to two coders will qualitatively identify themes mentioned by the participants and subsequently categorize all responses accordingly in order to receive a frequency measure. Specifically, coders will read the responses and add each theme as a column in a coding sheet. It will be coded whether the respective theme appears in the other responses (= 1) or not (= 0). If a coder encounters new relevant themes, they will be added and coded later. Nonsense responses will be excluded during coding. Ambiguities will be discussed and solved in pairs. If no solution can be found, a third coder will be consulted. Results from the  open-ended free-text items will be displayed in frequency tables or plots, word clouds, and summarized in quotes. "
   ]
  },
  {
   "cell_type": "markdown",
   "id": "256e7883-e873-4827-9f10-dce45e50d749",
   "metadata": {},
   "source": [
    "## Set working directory"
   ]
  },
  {
   "cell_type": "code",
   "execution_count": 1,
   "id": "387bfd43-8428-43e9-952d-12a68661bc49",
   "metadata": {},
   "outputs": [],
   "source": [
    "import pathlib   # Change cwd\n",
    "import os \n",
    "\n",
    "path = pathlib.Path.cwd().parent\n",
    "os.chdir(path)"
   ]
  },
  {
   "cell_type": "markdown",
   "id": "6d3d0619-8962-416b-ac6d-c721266174c8",
   "metadata": {
    "tags": []
   },
   "source": [
    "## Imports"
   ]
  },
  {
   "cell_type": "code",
   "execution_count": 2,
   "id": "cfdf6f36-c1ab-43bc-8a16-309525fe3186",
   "metadata": {},
   "outputs": [
    {
     "ename": "ImportError",
     "evalue": "cannot import name 'preprocess_data' from 'digex_src' (/Users/jasonburton/Documents/GitHub/article-digex-survey/code/digex_src/__init__.py)",
     "output_type": "error",
     "traceback": [
      "\u001b[0;31m---------------------------------------------------------------------------\u001b[0m",
      "\u001b[0;31mImportError\u001b[0m                               Traceback (most recent call last)",
      "Cell \u001b[0;32mIn [2], line 9\u001b[0m\n\u001b[1;32m      6\u001b[0m \u001b[38;5;28;01mfrom\u001b[39;00m \u001b[38;5;21;01mpandas_profiling\u001b[39;00m \u001b[38;5;28;01mimport\u001b[39;00m ProfileReport\n\u001b[1;32m      8\u001b[0m \u001b[38;5;28;01mfrom\u001b[39;00m \u001b[38;5;21;01mdigex_src\u001b[39;00m \u001b[38;5;28;01mimport\u001b[39;00m config    \u001b[38;5;66;03m# Local imports\u001b[39;00m\n\u001b[0;32m----> 9\u001b[0m \u001b[38;5;28;01mfrom\u001b[39;00m \u001b[38;5;21;01mdigex_src\u001b[39;00m \u001b[38;5;28;01mimport\u001b[39;00m preprocess_data\n\u001b[1;32m     10\u001b[0m \u001b[38;5;28;01mfrom\u001b[39;00m \u001b[38;5;21;01mdigex_src\u001b[39;00m\u001b[38;5;21;01m.\u001b[39;00m\u001b[38;5;21;01mload_data\u001b[39;00m \u001b[38;5;28;01mimport\u001b[39;00m get_data_filepath\n\u001b[1;32m     12\u001b[0m warnings\u001b[38;5;241m.\u001b[39mfilterwarnings(\u001b[38;5;124m'\u001b[39m\u001b[38;5;124mignore\u001b[39m\u001b[38;5;124m'\u001b[39m)    \u001b[38;5;66;03m# Ignore warnings\u001b[39;00m\n",
      "\u001b[0;31mImportError\u001b[0m: cannot import name 'preprocess_data' from 'digex_src' (/Users/jasonburton/Documents/GitHub/article-digex-survey/code/digex_src/__init__.py)"
     ]
    }
   ],
   "source": [
    "import yaml   # 3rd party packages\n",
    "import warnings\n",
    "import pandas as pd\n",
    "import numpy as np\n",
    "from matplotlib import pyplot as plt\n",
    "from pandas_profiling import ProfileReport\n",
    "\n",
    "from digex_src import config    # Local imports\n",
    "from digex_src import preprocess_data\n",
    "from digex_src.load_data import get_data_filepath\n",
    "\n",
    "warnings.filterwarnings('ignore')    # Ignore warnings"
   ]
  },
  {
   "cell_type": "markdown",
   "id": "52669183-cf45-473f-b018-054807a0a2d2",
   "metadata": {},
   "source": [
    "## Plotting presets"
   ]
  },
  {
   "cell_type": "code",
   "execution_count": null,
   "id": "e8a91bc3-eddf-4ac0-a05d-1eb481118487",
   "metadata": {},
   "outputs": [],
   "source": [
    "digex_style = config.MPL_STYLE_FILEPATH\n",
    "digex_palette = config.PALETTE\n",
    "\n",
    "plt.style.use(digex_style)\n",
    "sns.color_palette(digex_palette)"
   ]
  },
  {
   "cell_type": "markdown",
   "id": "6e7cd644-aa2d-43e4-a3d4-305843a5e190",
   "metadata": {
    "tags": []
   },
   "source": [
    "## Load processed data"
   ]
  },
  {
   "cell_type": "code",
   "execution_count": null,
   "id": "36d9b182-ea8f-41d9-90ac-d6bd849c15a0",
   "metadata": {},
   "outputs": [],
   "source": [
    "processed_data_path = get_data_filepath(\n",
    "    file=config.PROCESSED_DATA_FILEPATH, \n",
    "    data_path=config.PROCESSED_DATA_DIR,\n",
    "    main=False\n",
    ") \n",
    "\n",
    "digex_df = pd.read_csv(processed_data_path, index_col=0)\n",
    "\n",
    "digex_df.head()"
   ]
  },
  {
   "cell_type": "code",
   "execution_count": 3,
   "id": "9073a6dc",
   "metadata": {},
   "outputs": [
    {
     "data": {
      "text/html": [
       "<div>\n",
       "<style scoped>\n",
       "    .dataframe tbody tr th:only-of-type {\n",
       "        vertical-align: middle;\n",
       "    }\n",
       "\n",
       "    .dataframe tbody tr th {\n",
       "        vertical-align: top;\n",
       "    }\n",
       "\n",
       "    .dataframe thead th {\n",
       "        text-align: right;\n",
       "    }\n",
       "</style>\n",
       "<table border=\"1\" class=\"dataframe\">\n",
       "  <thead>\n",
       "    <tr style=\"text-align: right;\">\n",
       "      <th></th>\n",
       "      <th>duration_sec</th>\n",
       "      <th>finished</th>\n",
       "      <th>sm_use</th>\n",
       "      <th>age</th>\n",
       "      <th>gender_id</th>\n",
       "      <th>ethnic_id</th>\n",
       "      <th>edu</th>\n",
       "      <th>politic_views</th>\n",
       "      <th>aware_sm_res</th>\n",
       "      <th>aware_sm_advan</th>\n",
       "      <th>...</th>\n",
       "      <th>rank_pub_interst</th>\n",
       "      <th>rank_add_fac_1</th>\n",
       "      <th>rank_add_fac_1_pos</th>\n",
       "      <th>rank_add_fac_2</th>\n",
       "      <th>rank_add_fac_2_pos</th>\n",
       "      <th>rank_add_fac_3</th>\n",
       "      <th>rank_add_fac_3_pos</th>\n",
       "      <th>aware_sm_advan_score</th>\n",
       "      <th>aware_sm_interact_score</th>\n",
       "      <th>aware_sm_use_score</th>\n",
       "    </tr>\n",
       "  </thead>\n",
       "  <tbody>\n",
       "    <tr>\n",
       "      <th>1</th>\n",
       "      <td>912.0</td>\n",
       "      <td>True</td>\n",
       "      <td>Facebook</td>\n",
       "      <td>29.0</td>\n",
       "      <td>Male</td>\n",
       "      <td>Asian - Eastern</td>\n",
       "      <td>Highschool</td>\n",
       "      <td>Slightly liberal</td>\n",
       "      <td>Extremely aware</td>\n",
       "      <td>['… are large and can contain millions of data...</td>\n",
       "      <td>...</td>\n",
       "      <td>1.0</td>\n",
       "      <td>NaN</td>\n",
       "      <td>NaN</td>\n",
       "      <td>NaN</td>\n",
       "      <td>NaN</td>\n",
       "      <td>NaN</td>\n",
       "      <td>NaN</td>\n",
       "      <td>4</td>\n",
       "      <td>0</td>\n",
       "      <td>9</td>\n",
       "    </tr>\n",
       "    <tr>\n",
       "      <th>2</th>\n",
       "      <td>720.0</td>\n",
       "      <td>True</td>\n",
       "      <td>Twitter</td>\n",
       "      <td>33.0</td>\n",
       "      <td>Male</td>\n",
       "      <td>Mixed race</td>\n",
       "      <td>Highschool</td>\n",
       "      <td>Neutral/ Neither conservative or liberal</td>\n",
       "      <td>Moderately aware</td>\n",
       "      <td>['… are large and can contain millions of data...</td>\n",
       "      <td>...</td>\n",
       "      <td>4.0</td>\n",
       "      <td>NaN</td>\n",
       "      <td>NaN</td>\n",
       "      <td>NaN</td>\n",
       "      <td>NaN</td>\n",
       "      <td>NaN</td>\n",
       "      <td>NaN</td>\n",
       "      <td>1</td>\n",
       "      <td>1</td>\n",
       "      <td>9</td>\n",
       "    </tr>\n",
       "    <tr>\n",
       "      <th>3</th>\n",
       "      <td>1874.0</td>\n",
       "      <td>True</td>\n",
       "      <td>Facebook</td>\n",
       "      <td>33.0</td>\n",
       "      <td>Female</td>\n",
       "      <td>Pacific Islander</td>\n",
       "      <td>Bachelor's degree</td>\n",
       "      <td>Very liberal</td>\n",
       "      <td>Extremely aware</td>\n",
       "      <td>['… are large and can contain millions of data...</td>\n",
       "      <td>...</td>\n",
       "      <td>1.0</td>\n",
       "      <td>NaN</td>\n",
       "      <td>NaN</td>\n",
       "      <td>NaN</td>\n",
       "      <td>NaN</td>\n",
       "      <td>NaN</td>\n",
       "      <td>NaN</td>\n",
       "      <td>2</td>\n",
       "      <td>2</td>\n",
       "      <td>5</td>\n",
       "    </tr>\n",
       "    <tr>\n",
       "      <th>4</th>\n",
       "      <td>1264.0</td>\n",
       "      <td>True</td>\n",
       "      <td>Facebook</td>\n",
       "      <td>73.0</td>\n",
       "      <td>Female</td>\n",
       "      <td>White / Caucasian</td>\n",
       "      <td>Highschool</td>\n",
       "      <td>Slightly conservative</td>\n",
       "      <td>Moderately aware</td>\n",
       "      <td>['… are large and can contain millions of data...</td>\n",
       "      <td>...</td>\n",
       "      <td>1.0</td>\n",
       "      <td>NaN</td>\n",
       "      <td>8.0</td>\n",
       "      <td>NaN</td>\n",
       "      <td>NaN</td>\n",
       "      <td>NaN</td>\n",
       "      <td>NaN</td>\n",
       "      <td>1</td>\n",
       "      <td>1</td>\n",
       "      <td>6</td>\n",
       "    </tr>\n",
       "    <tr>\n",
       "      <th>5</th>\n",
       "      <td>556.0</td>\n",
       "      <td>True</td>\n",
       "      <td>Twitter</td>\n",
       "      <td>27.0</td>\n",
       "      <td>Female</td>\n",
       "      <td>Native-American</td>\n",
       "      <td>Highschool</td>\n",
       "      <td>Very liberal</td>\n",
       "      <td>Extremely aware</td>\n",
       "      <td>['… often capture social relationships not fou...</td>\n",
       "      <td>...</td>\n",
       "      <td>7.0</td>\n",
       "      <td>NaN</td>\n",
       "      <td>NaN</td>\n",
       "      <td>NaN</td>\n",
       "      <td>NaN</td>\n",
       "      <td>NaN</td>\n",
       "      <td>NaN</td>\n",
       "      <td>0</td>\n",
       "      <td>3</td>\n",
       "      <td>9</td>\n",
       "    </tr>\n",
       "  </tbody>\n",
       "</table>\n",
       "<p>5 rows × 51 columns</p>\n",
       "</div>"
      ],
      "text/plain": [
       "   duration_sec  finished    sm_use   age gender_id          ethnic_id  \\\n",
       "1         912.0      True  Facebook  29.0      Male    Asian - Eastern   \n",
       "2         720.0      True   Twitter  33.0      Male         Mixed race   \n",
       "3        1874.0      True  Facebook  33.0    Female   Pacific Islander   \n",
       "4        1264.0      True  Facebook  73.0    Female  White / Caucasian   \n",
       "5         556.0      True   Twitter  27.0    Female    Native-American   \n",
       "\n",
       "                 edu                             politic_views  \\\n",
       "1         Highschool                          Slightly liberal   \n",
       "2         Highschool  Neutral/ Neither conservative or liberal   \n",
       "3  Bachelor's degree                              Very liberal   \n",
       "4         Highschool                     Slightly conservative   \n",
       "5         Highschool                              Very liberal   \n",
       "\n",
       "       aware_sm_res                                     aware_sm_advan  ...  \\\n",
       "1   Extremely aware  ['… are large and can contain millions of data...  ...   \n",
       "2  Moderately aware  ['… are large and can contain millions of data...  ...   \n",
       "3   Extremely aware  ['… are large and can contain millions of data...  ...   \n",
       "4  Moderately aware  ['… are large and can contain millions of data...  ...   \n",
       "5   Extremely aware  ['… often capture social relationships not fou...  ...   \n",
       "\n",
       "  rank_pub_interst rank_add_fac_1 rank_add_fac_1_pos rank_add_fac_2  \\\n",
       "1              1.0            NaN                NaN            NaN   \n",
       "2              4.0            NaN                NaN            NaN   \n",
       "3              1.0            NaN                NaN            NaN   \n",
       "4              1.0            NaN                8.0            NaN   \n",
       "5              7.0            NaN                NaN            NaN   \n",
       "\n",
       "  rank_add_fac_2_pos rank_add_fac_3 rank_add_fac_3_pos aware_sm_advan_score  \\\n",
       "1                NaN            NaN                NaN                    4   \n",
       "2                NaN            NaN                NaN                    1   \n",
       "3                NaN            NaN                NaN                    2   \n",
       "4                NaN            NaN                NaN                    1   \n",
       "5                NaN            NaN                NaN                    0   \n",
       "\n",
       "  aware_sm_interact_score aware_sm_use_score  \n",
       "1                       0                  9  \n",
       "2                       1                  9  \n",
       "3                       2                  5  \n",
       "4                       1                  6  \n",
       "5                       3                  9  \n",
       "\n",
       "[5 rows x 51 columns]"
      ]
     },
     "execution_count": 3,
     "metadata": {},
     "output_type": "execute_result"
    }
   ],
   "source": [
    "digex_df = pd.read_csv('/Users/jasonburton/Documents/GitHub/article-digex-survey/data/processed/digex-survey-responses-processed.csv', index_col=0)\n",
    "\n",
    "digex_df.head()"
   ]
  },
  {
   "cell_type": "markdown",
   "id": "6a3ec59c-e373-4877-b9cd-885960850c47",
   "metadata": {
    "tags": []
   },
   "source": [
    "## Exploratory data analysis"
   ]
  },
  {
   "cell_type": "markdown",
   "id": "5c20eb82-ec57-402b-ac8e-51c1b5c63712",
   "metadata": {},
   "source": [
    "Resources:\n",
    "- see `docs/resources/`\n",
    "- Text as Data, Chris Bail"
   ]
  },
  {
   "cell_type": "markdown",
   "id": "935b73b1-72f9-4589-a8a5-4d3940ec258e",
   "metadata": {},
   "source": [
    "**Variables to examine: 15, 17, 18, 20, 21, 23, 24, 26, 27, 37, 45-50**"
   ]
  },
  {
   "cell_type": "markdown",
   "id": "5914667c",
   "metadata": {},
   "source": [
    "I think the variable list above is off (e.g., variable 15 and 18 are not text).\n",
    "\n",
    "#### Variable 14: understanding of ethical approval"
   ]
  },
  {
   "cell_type": "code",
   "execution_count": 4,
   "id": "ceed7a66",
   "metadata": {},
   "outputs": [],
   "source": [
    "from sklearn.feature_extraction.text  import CountVectorizer\n",
    "from sklearn.feature_extraction.text  import TfidfVectorizer"
   ]
  },
  {
   "cell_type": "markdown",
   "id": "398caedc",
   "metadata": {},
   "source": [
    "Get the most frequent words used."
   ]
  },
  {
   "cell_type": "code",
   "execution_count": 5,
   "id": "f2b19b1f",
   "metadata": {},
   "outputs": [
    {
     "name": "stdout",
     "output_type": "stream",
     "text": [
      "The 25 words with the highest TF:\n",
      " ['ethical' 'approval' 'means' 'research' 'data' 'study' 'institution'\n",
      " 'think' 'harm' 'participants' 'experiment' 'sure' 'standards'\n",
      " 'researchers' 'people' 'information' 'way' 'methods' 'make' 'board'\n",
      " 'used' 'doing' 'researcher' 'ensure' 'need']\n"
     ]
    }
   ],
   "source": [
    "def get_tf_top_features(documents, n_top=25):\n",
    "  vect = CountVectorizer(stop_words='english', ngram_range= (1,1))\n",
    "  tf = vect.fit_transform(documents)\n",
    "  importance = np.argsort(np.asarray(tf.sum(axis=0)).ravel())[::-1]\n",
    "  tf_feature_names = np.array(vect.get_feature_names_out())\n",
    "  return tf_feature_names[importance[:n_top]]\n",
    "\n",
    "print('The 25 words with the highest TF:\\n', get_tf_top_features(digex_df['ethic_appr']))"
   ]
  },
  {
   "cell_type": "markdown",
   "id": "b4f4a8a7",
   "metadata": {},
   "source": [
    "Make a wordcloud (note -- this isn't quite right because it's using unprocessed text)."
   ]
  },
  {
   "cell_type": "code",
   "execution_count": 6,
   "id": "5f3b8593",
   "metadata": {},
   "outputs": [
    {
     "data": {
      "image/png": "[encoded data removed]",
      "text/plain": [
       "<PIL.Image.Image image mode=RGB size=400x200>"
      ]
     },
     "execution_count": 6,
     "metadata": {},
     "output_type": "execute_result"
    }
   ],
   "source": [
    "# Import the wordcloud library\n",
    "from wordcloud import WordCloud\n",
    "\n",
    "# Join the different processed titles together.\n",
    "long_string = ','.join(list(digex_df['ethic_appr'].values))\n",
    "\n",
    "# Create a WordCloud object\n",
    "wordcloud = WordCloud(background_color=\"white\", max_words=5000, contour_width=3, contour_color='steelblue')\n",
    "\n",
    "# Generate a word cloud\n",
    "wordcloud.generate(long_string)\n",
    "\n",
    "# Visualize the word cloud\n",
    "wordcloud.to_image()"
   ]
  },
  {
   "cell_type": "markdown",
   "id": "63775c55",
   "metadata": {},
   "source": [
    "Get the words with the highest TFIDF."
   ]
  },
  {
   "cell_type": "code",
   "execution_count": 7,
   "id": "01566e8d",
   "metadata": {},
   "outputs": [
    {
     "name": "stdout",
     "output_type": "stream",
     "text": [
      "The 25 words with the highest TFIDF:\n",
      " ['ethical' 'approval' 'means' 'research' 'data' 'study' 'institution'\n",
      " 'think' 'harm' 'participants' 'experiment' 'standards' 'sure' 'people'\n",
      " 'way' 'researchers' 'methods' 'doing' 'make' 'information' 'researcher'\n",
      " 'used' 'board' 'ensure' 'need']\n"
     ]
    }
   ],
   "source": [
    "def get_tfidf_top_features(documents, n_top=25):\n",
    "  tfidf_vectorizer = TfidfVectorizer(max_df=0.95, min_df=3,  stop_words='english')\n",
    "  tfidf = tfidf_vectorizer.fit_transform(documents)\n",
    "  importance = np.argsort(np.asarray(tfidf.sum(axis=0)).ravel())[::-1]\n",
    "  tfidf_feature_names = np.array(tfidf_vectorizer.get_feature_names_out())\n",
    "  return tfidf_feature_names[importance[:n_top]]\n",
    "\n",
    "print('The 25 words with the highest TFIDF:\\n', get_tfidf_top_features(digex_df['ethic_appr']))"
   ]
  },
  {
   "cell_type": "markdown",
   "id": "e49c0a2a",
   "metadata": {},
   "source": [
    "Preprocess text and implement LDA topic model."
   ]
  },
  {
   "cell_type": "code",
   "execution_count": 8,
   "id": "e5276ff3",
   "metadata": {},
   "outputs": [
    {
     "data": {
      "text/plain": [
       "1      [scope, project, actions, cross, certain, boun...\n",
       "2      [think, ethical, approval, means, experiment, ...\n",
       "3      [researchers, focus, ethical, standards, gain,...\n",
       "4      [think, ethical, approval, means, things, coll...\n",
       "5                                           [set, rules]\n",
       "                             ...                        \n",
       "495                   [approval, type, thing, deceptive]\n",
       "496    [researchers, taking, mental, note, standards,...\n",
       "497    [think, ethical, approval, means, institutions...\n",
       "498    [think, ethical, approval, means, experiment, ...\n",
       "499    [think, ethical, approval, academic, experimen...\n",
       "Name: ethic_appr, Length: 499, dtype: object"
      ]
     },
     "execution_count": 8,
     "metadata": {},
     "output_type": "execute_result"
    }
   ],
   "source": [
    "# lowercase, tokenize, remove stopwords\n",
    "\n",
    "from gensim.utils import simple_preprocess\n",
    "from gensim.parsing.preprocessing import remove_stopword_tokens\n",
    "\n",
    "\n",
    "ethic_txt = digex_df['ethic_appr'].apply(simple_preprocess)\n",
    "ethic_txt = ethic_txt.apply(remove_stopword_tokens)\n",
    "ethic_txt\n"
   ]
  },
  {
   "cell_type": "code",
   "execution_count": 9,
   "id": "4c373ee5",
   "metadata": {},
   "outputs": [
    {
     "data": {
      "text/plain": [
       "1      [scope, project, action, cross, certain, bound...\n",
       "2      [think, ethical, approval, mean, experiment, g...\n",
       "3      [researcher, focus, ethical, standard, gain, d...\n",
       "4      [think, ethical, approval, mean, thing, collec...\n",
       "5                                            [set, rule]\n",
       "                             ...                        \n",
       "495                   [approval, type, thing, deceptive]\n",
       "496    [researcher, take, mental, note, standard, mea...\n",
       "497    [think, ethical, approval, mean, institution, ...\n",
       "498    [think, ethical, approval, mean, experiment, d...\n",
       "499    [think, ethical, approval, academic, experimen...\n",
       "Name: ethic_appr, Length: 499, dtype: object"
      ]
     },
     "execution_count": 9,
     "metadata": {},
     "output_type": "execute_result"
    }
   ],
   "source": [
    "# lemmatize\n",
    "\n",
    "import nltk\n",
    "from nltk.stem import WordNetLemmatizer\n",
    "from nltk import pos_tag\n",
    "\n",
    "def lemmatization(text):\n",
    "    result=[]\n",
    "    wordnet = WordNetLemmatizer()\n",
    "    for token,tag in pos_tag(text):\n",
    "        pos=tag[0].lower()\n",
    "        if pos not in ['a', 'r', 'n', 'v']:\n",
    "            pos='n'\n",
    "        result.append(wordnet.lemmatize(token,pos))\n",
    "    return result\n",
    "\n",
    "ethic_txt = ethic_txt.apply(lemmatization)\n",
    "ethic_txt"
   ]
  },
  {
   "cell_type": "code",
   "execution_count": 10,
   "id": "6e4cb72e",
   "metadata": {},
   "outputs": [],
   "source": [
    "# create gensim corpus\n",
    "\n",
    "import gensim.corpora as corpora\n",
    "\n",
    "id2word = corpora.Dictionary(ethic_txt)\n",
    "texts = ethic_txt\n",
    "corpus = [id2word.doc2bow(text) for text in texts]"
   ]
  },
  {
   "cell_type": "code",
   "execution_count": 11,
   "id": "efd61854",
   "metadata": {},
   "outputs": [
    {
     "name": "stdout",
     "output_type": "stream",
     "text": [
      "[(0,\n",
      "  '0.056*\"ethical\" + 0.036*\"approval\" + 0.025*\"mean\" + 0.024*\"data\" + '\n",
      "  '0.022*\"research\" + 0.020*\"study\" + 0.018*\"researcher\" + 0.016*\"participant\" '\n",
      "  '+ 0.015*\"experiment\" + 0.014*\"harm\"'),\n",
      " (1,\n",
      "  '0.041*\"mean\" + 0.032*\"research\" + 0.031*\"approval\" + 0.027*\"ethical\" + '\n",
      "  '0.024*\"study\" + 0.021*\"institution\" + 0.016*\"think\" + 0.016*\"experiment\" + '\n",
      "  '0.013*\"standard\" + 0.013*\"participant\"')]\n"
     ]
    }
   ],
   "source": [
    "# implement lda... topics aren't very interpretable... we probably need to remove the most frequent words\n",
    "\n",
    "import gensim\n",
    "from pprint import pprint\n",
    "\n",
    "num_topics = 2\n",
    "\n",
    "# Build LDA model\n",
    "lda_model = gensim.models.LdaModel(corpus=corpus,\n",
    "                                    id2word=id2word,\n",
    "                                    num_topics=num_topics)\n",
    "\n",
    "# Print the keywords in the topics\n",
    "pprint(lda_model.print_topics())"
   ]
  }
 ],
 "metadata": {
  "kernelspec": {
   "display_name": "Python 3 (ipykernel)",
   "language": "python",
   "name": "python3"
  },
  "language_info": {
   "codemirror_mode": {
    "name": "ipython",
    "version": 3
   },
   "file_extension": ".py",
   "mimetype": "text/x-python",
   "name": "python",
   "nbconvert_exporter": "python",
   "pygments_lexer": "ipython3",
   "version": "3.8.9"
  }
 },
 "nbformat": 4,
 "nbformat_minor": 5
}
