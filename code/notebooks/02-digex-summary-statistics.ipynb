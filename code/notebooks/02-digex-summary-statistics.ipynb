{
 "cells": [
  {
   "cell_type": "markdown",
   "id": "20d1b0e3-e966-4f91-88e5-0f26ed5554f8",
   "metadata": {},
   "source": [
    "# Summary statistics "
   ]
  },
  {
   "cell_type": "markdown",
   "id": "6cbd674e-5ab7-4abd-b5f9-c6b41e69aafa",
   "metadata": {},
   "source": [
    "This notebook contains code for the analysis of summary statistics for data used in the project: Public attitudes and ethical guidelines in digital field experiments (digex)."
   ]
  },
  {
   "cell_type": "markdown",
   "id": "01f74970-8444-4a21-b6c0-32f85e42606a",
   "metadata": {},
   "source": [
    "# TO DO\n",
    "\n",
    "Taken from [2022-digex-study-design](https://docs.google.com/document/d/1nsaXEn04s9LTsjqrpbUpZlyQ3CAcuqkOwy1ZM0d-kKY/edit#):\n",
    "\n",
    "### Data Analysis Methods\n",
    "\n",
    "- Following the methodology of Fiesler and Proferes 2018 and other prior studies, we will use both qualitative and quantitative, statistical analysis to analyze  responses. Since the majority of questions contained in the survey will elicit responses on an ordinal scale of measurement, we primarily will use a number of descriptive statistics:\n",
    "\n",
    "- To describe the general behavior of participants when filling out the survey, we will calculate the means, standard deviations, and ranges  (M, SD, range) for the response rate, the number of screened out participants, the number of complete and incomplete survey participations, and the completion time. \n",
    "\n",
    "- We will further describe the composition of the obtained sample by providing frequency tables or plots and descriptive statistics (M, SD, range) for the demographic variables of gender, age, ethnic background, education level, and political viewpoint. \n"
   ]
  },
  {
   "cell_type": "markdown",
   "id": "0e734fff-a286-48e5-a5ac-a51eeceb6871",
   "metadata": {},
   "source": [
    "## Set working directory"
   ]
  },
  {
   "cell_type": "code",
   "execution_count": 1,
   "id": "58aad47d-1892-4c10-81bb-dc47ae4f4d08",
   "metadata": {},
   "outputs": [],
   "source": [
    "import pathlib   # Change cwd\n",
    "import os \n",
    "\n",
    "path = pathlib.Path.cwd().parent\n",
    "os.chdir(path)"
   ]
  },
  {
   "cell_type": "markdown",
   "id": "efa27ad6-b68d-4b46-a252-2591ff578ba2",
   "metadata": {
    "tags": []
   },
   "source": [
    "## Imports"
   ]
  },
  {
   "cell_type": "code",
   "execution_count": 3,
   "id": "b3efc572-dded-4634-ba37-b8ef7ac696a2",
   "metadata": {},
   "outputs": [],
   "source": [
    "import pathlib   # Standard library\n",
    "\n",
    "import yaml   # 3rd party packages\n",
    "import joypy\n",
    "import pandas as pd\n",
    "import numpy as np\n",
    "from matplotlib import pyplot as plt\n",
    "\n",
    "from digex_src import config    # Local imports\n",
    "from digex_src import preprocess\n",
    "from digex_src.load_data import get_data_filepath"
   ]
  },
  {
   "cell_type": "markdown",
   "id": "82c310f5-9a30-4016-95be-74971cc942a6",
   "metadata": {
    "tags": []
   },
   "source": [
    "## load processed data"
   ]
  },
  {
   "cell_type": "code",
   "execution_count": 7,
   "id": "9e7fbd20-87ed-481a-9911-d755c1fac590",
   "metadata": {},
   "outputs": [
    {
     "data": {
      "text/html": [
       "<div>\n",
       "<style scoped>\n",
       "    .dataframe tbody tr th:only-of-type {\n",
       "        vertical-align: middle;\n",
       "    }\n",
       "\n",
       "    .dataframe tbody tr th {\n",
       "        vertical-align: top;\n",
       "    }\n",
       "\n",
       "    .dataframe thead th {\n",
       "        text-align: right;\n",
       "    }\n",
       "</style>\n",
       "<table border=\"1\" class=\"dataframe\">\n",
       "  <thead>\n",
       "    <tr style=\"text-align: right;\">\n",
       "      <th></th>\n",
       "      <th>sm_use</th>\n",
       "      <th>age</th>\n",
       "      <th>gender_id</th>\n",
       "      <th>ethnic_id</th>\n",
       "      <th>edu</th>\n",
       "      <th>politic_views</th>\n",
       "      <th>aware_sm_res</th>\n",
       "      <th>aware_sm_advan</th>\n",
       "      <th>aware_sm_interact</th>\n",
       "      <th>aware_sm_use</th>\n",
       "      <th>...</th>\n",
       "      <th>rank_pub_interst</th>\n",
       "      <th>rank_add_fac_1</th>\n",
       "      <th>rank_add_fac_1_pos</th>\n",
       "      <th>rank_add_fac_2</th>\n",
       "      <th>rank_add_fac_2_pos</th>\n",
       "      <th>rank_add_fac_3</th>\n",
       "      <th>rank_add_fac_3_pos</th>\n",
       "      <th>aware_sm_advan_score</th>\n",
       "      <th>aware_sm_interact_score</th>\n",
       "      <th>aware_sm_use_score</th>\n",
       "    </tr>\n",
       "  </thead>\n",
       "  <tbody>\n",
       "    <tr>\n",
       "      <th>1</th>\n",
       "      <td>Facebook</td>\n",
       "      <td>29.0</td>\n",
       "      <td>Male</td>\n",
       "      <td>Asian - Eastern</td>\n",
       "      <td>Highschool</td>\n",
       "      <td>Slightly liberal</td>\n",
       "      <td>Extremely aware</td>\n",
       "      <td>['… are large and can contain millions of data...</td>\n",
       "      <td>['Creating fake accounts (\"bots\")', 'Secretly ...</td>\n",
       "      <td>['Political elections (e.g. voting behavior)',...</td>\n",
       "      <td>...</td>\n",
       "      <td>1.0</td>\n",
       "      <td>NaN</td>\n",
       "      <td>NaN</td>\n",
       "      <td>NaN</td>\n",
       "      <td>NaN</td>\n",
       "      <td>NaN</td>\n",
       "      <td>NaN</td>\n",
       "      <td>4</td>\n",
       "      <td>0</td>\n",
       "      <td>9</td>\n",
       "    </tr>\n",
       "    <tr>\n",
       "      <th>2</th>\n",
       "      <td>Twitter</td>\n",
       "      <td>33.0</td>\n",
       "      <td>Male</td>\n",
       "      <td>Mixed race</td>\n",
       "      <td>Highschool</td>\n",
       "      <td>Neutral/ Neither conservative or liberal</td>\n",
       "      <td>Moderately aware</td>\n",
       "      <td>['… are large and can contain millions of data...</td>\n",
       "      <td>['Privately messaging users', \"Publicly postin...</td>\n",
       "      <td>['Political elections (e.g. voting behavior)',...</td>\n",
       "      <td>...</td>\n",
       "      <td>4.0</td>\n",
       "      <td>NaN</td>\n",
       "      <td>NaN</td>\n",
       "      <td>NaN</td>\n",
       "      <td>NaN</td>\n",
       "      <td>NaN</td>\n",
       "      <td>NaN</td>\n",
       "      <td>1</td>\n",
       "      <td>1</td>\n",
       "      <td>9</td>\n",
       "    </tr>\n",
       "    <tr>\n",
       "      <th>3</th>\n",
       "      <td>Facebook</td>\n",
       "      <td>33.0</td>\n",
       "      <td>Female</td>\n",
       "      <td>Pacific Islander</td>\n",
       "      <td>Bachelor's degree</td>\n",
       "      <td>Very liberal</td>\n",
       "      <td>Extremely aware</td>\n",
       "      <td>['… are large and can contain millions of data...</td>\n",
       "      <td>['Privately messaging users', \"Publicly postin...</td>\n",
       "      <td>['Political elections (e.g. voting behavior)',...</td>\n",
       "      <td>...</td>\n",
       "      <td>1.0</td>\n",
       "      <td>NaN</td>\n",
       "      <td>NaN</td>\n",
       "      <td>NaN</td>\n",
       "      <td>NaN</td>\n",
       "      <td>NaN</td>\n",
       "      <td>NaN</td>\n",
       "      <td>2</td>\n",
       "      <td>2</td>\n",
       "      <td>5</td>\n",
       "    </tr>\n",
       "    <tr>\n",
       "      <th>4</th>\n",
       "      <td>Facebook</td>\n",
       "      <td>73.0</td>\n",
       "      <td>Female</td>\n",
       "      <td>White / Caucasian</td>\n",
       "      <td>Highschool</td>\n",
       "      <td>Slightly conservative</td>\n",
       "      <td>Moderately aware</td>\n",
       "      <td>['… are large and can contain millions of data...</td>\n",
       "      <td>['Creating fake accounts (\"bots\")']</td>\n",
       "      <td>['Political elections (e.g. voting behavior)',...</td>\n",
       "      <td>...</td>\n",
       "      <td>1.0</td>\n",
       "      <td>NaN</td>\n",
       "      <td>8.0</td>\n",
       "      <td>NaN</td>\n",
       "      <td>NaN</td>\n",
       "      <td>NaN</td>\n",
       "      <td>NaN</td>\n",
       "      <td>1</td>\n",
       "      <td>1</td>\n",
       "      <td>6</td>\n",
       "    </tr>\n",
       "    <tr>\n",
       "      <th>5</th>\n",
       "      <td>Twitter</td>\n",
       "      <td>27.0</td>\n",
       "      <td>Female</td>\n",
       "      <td>Native-American</td>\n",
       "      <td>Highschool</td>\n",
       "      <td>Very liberal</td>\n",
       "      <td>Extremely aware</td>\n",
       "      <td>['… often capture social relationships not fou...</td>\n",
       "      <td>['Privately messaging users', \"Publicly postin...</td>\n",
       "      <td>['Political elections (e.g. voting behavior)',...</td>\n",
       "      <td>...</td>\n",
       "      <td>7.0</td>\n",
       "      <td>NaN</td>\n",
       "      <td>NaN</td>\n",
       "      <td>NaN</td>\n",
       "      <td>NaN</td>\n",
       "      <td>NaN</td>\n",
       "      <td>NaN</td>\n",
       "      <td>0</td>\n",
       "      <td>3</td>\n",
       "      <td>9</td>\n",
       "    </tr>\n",
       "  </tbody>\n",
       "</table>\n",
       "<p>5 rows × 49 columns</p>\n",
       "</div>"
      ],
      "text/plain": [
       "     sm_use   age gender_id          ethnic_id                edu  \\\n",
       "1  Facebook  29.0      Male    Asian - Eastern         Highschool   \n",
       "2   Twitter  33.0      Male         Mixed race         Highschool   \n",
       "3  Facebook  33.0    Female   Pacific Islander  Bachelor's degree   \n",
       "4  Facebook  73.0    Female  White / Caucasian         Highschool   \n",
       "5   Twitter  27.0    Female    Native-American         Highschool   \n",
       "\n",
       "                              politic_views      aware_sm_res  \\\n",
       "1                          Slightly liberal   Extremely aware   \n",
       "2  Neutral/ Neither conservative or liberal  Moderately aware   \n",
       "3                              Very liberal   Extremely aware   \n",
       "4                     Slightly conservative  Moderately aware   \n",
       "5                              Very liberal   Extremely aware   \n",
       "\n",
       "                                      aware_sm_advan  \\\n",
       "1  ['… are large and can contain millions of data...   \n",
       "2  ['… are large and can contain millions of data...   \n",
       "3  ['… are large and can contain millions of data...   \n",
       "4  ['… are large and can contain millions of data...   \n",
       "5  ['… often capture social relationships not fou...   \n",
       "\n",
       "                                   aware_sm_interact  \\\n",
       "1  ['Creating fake accounts (\"bots\")', 'Secretly ...   \n",
       "2  ['Privately messaging users', \"Publicly postin...   \n",
       "3  ['Privately messaging users', \"Publicly postin...   \n",
       "4                ['Creating fake accounts (\"bots\")']   \n",
       "5  ['Privately messaging users', \"Publicly postin...   \n",
       "\n",
       "                                        aware_sm_use  ... rank_pub_interst  \\\n",
       "1  ['Political elections (e.g. voting behavior)',...  ...              1.0   \n",
       "2  ['Political elections (e.g. voting behavior)',...  ...              4.0   \n",
       "3  ['Political elections (e.g. voting behavior)',...  ...              1.0   \n",
       "4  ['Political elections (e.g. voting behavior)',...  ...              1.0   \n",
       "5  ['Political elections (e.g. voting behavior)',...  ...              7.0   \n",
       "\n",
       "  rank_add_fac_1 rank_add_fac_1_pos rank_add_fac_2 rank_add_fac_2_pos  \\\n",
       "1            NaN                NaN            NaN                NaN   \n",
       "2            NaN                NaN            NaN                NaN   \n",
       "3            NaN                NaN            NaN                NaN   \n",
       "4            NaN                8.0            NaN                NaN   \n",
       "5            NaN                NaN            NaN                NaN   \n",
       "\n",
       "  rank_add_fac_3 rank_add_fac_3_pos aware_sm_advan_score  \\\n",
       "1            NaN                NaN                    4   \n",
       "2            NaN                NaN                    1   \n",
       "3            NaN                NaN                    2   \n",
       "4            NaN                NaN                    1   \n",
       "5            NaN                NaN                    0   \n",
       "\n",
       "  aware_sm_interact_score aware_sm_use_score  \n",
       "1                       0                  9  \n",
       "2                       1                  9  \n",
       "3                       2                  5  \n",
       "4                       1                  6  \n",
       "5                       3                  9  \n",
       "\n",
       "[5 rows x 49 columns]"
      ]
     },
     "execution_count": 7,
     "metadata": {},
     "output_type": "execute_result"
    }
   ],
   "source": [
    "processed_data_path = get_data_filepath(\n",
    "    file=config.PROCESSED_DATA_FILEPATH, \n",
    "    data_path=config.PROCESSED_DATA_DIR,\n",
    "    main=False\n",
    ") \n",
    "\n",
    "digex_df = pd.read_csv(processed_data_path, index_col=0)\n",
    "\n",
    "digex_df.head()"
   ]
  },
  {
   "cell_type": "markdown",
   "id": "3adbd602-44b3-4071-a5c7-57ffa16625c7",
   "metadata": {},
   "source": [
    "## describe data"
   ]
  },
  {
   "cell_type": "code",
   "execution_count": null,
   "id": "6b95abca-517c-43a3-9970-8b4e8df064b7",
   "metadata": {},
   "outputs": [],
   "source": [
    "Metadata\n",
    "- duration\n",
    "\n",
    "\n",
    "Demographics\n",
    "- LocationLatitude\tLocationLongitude"
   ]
  },
  {
   "cell_type": "code",
   "execution_count": 3,
   "id": "0905c5e9-753c-46c9-9b72-afb0e3547da9",
   "metadata": {},
   "outputs": [],
   "source": [
    "# https://aeturrell.github.io/coding-for-economists/data-numbers.html#counts\n",
    "# count() and value_counts() and mode()"
   ]
  },
  {
   "cell_type": "code",
   "execution_count": null,
   "id": "b054aab7-1631-4b47-928f-0ce991817eea",
   "metadata": {},
   "outputs": [],
   "source": [
    "# Summarise numerical values with .describe()\n"
   ]
  },
  {
   "cell_type": "code",
   "execution_count": null,
   "id": "64e7a47c-27e5-437e-a1ec-d92af9b85c2e",
   "metadata": {},
   "outputs": [],
   "source": [
    "# table = df[[\"mass\", \"height\"]].agg([np.mean, np.std])\n",
    "# table"
   ]
  },
  {
   "cell_type": "code",
   "execution_count": null,
   "id": "9ca25bdf-7a6d-4bef-ad32-8eb2e17ce610",
   "metadata": {},
   "outputs": [],
   "source": [
    "# Aggregation: https://aeturrell.github.io/coding-for-economists/data-transformation.html#aggregation\n",
    "\n",
    "# Groupby and aggregate: https://aeturrell.github.io/coding-for-economists/data-transformation.html#groupby-and-then-aggregate-aka-split-apply-combine"
   ]
  },
  {
   "cell_type": "code",
   "execution_count": null,
   "id": "5f688af4-5fc5-454b-a2ae-e345ce27a160",
   "metadata": {},
   "outputs": [],
   "source": [
    "## Spread and Distribution: https://aeturrell.github.io/coding-for-economists/data-numbers.html#counts"
   ]
  },
  {
   "cell_type": "code",
   "execution_count": null,
   "id": "630b7dab-7772-4470-8e58-798f476dc3e8",
   "metadata": {},
   "outputs": [],
   "source": [
    "from skimpy import skim\n",
    "\n",
    "skim(df)"
   ]
  },
  {
   "cell_type": "code",
   "execution_count": null,
   "id": "b3a67b3b-ca3a-4e27-a657-aabc04a06e89",
   "metadata": {},
   "outputs": [],
   "source": [
    "# Make quick charts with .plot.*"
   ]
  },
  {
   "cell_type": "markdown",
   "id": "109da723-8f69-4f60-b1df-4253a9d1539b",
   "metadata": {
    "tags": []
   },
   "source": [
    "## Create script"
   ]
  },
  {
   "cell_type": "code",
   "execution_count": 5,
   "id": "17932126-a637-41a5-b958-1a246b888263",
   "metadata": {},
   "outputs": [
    {
     "name": "stdout",
     "output_type": "stream",
     "text": [
      "Overwriting scripts/get_summary_statistics.py\n"
     ]
    }
   ],
   "source": [
    "%%writefile scripts/get_summary_statistics.py\n",
    "\n",
    "'Hello'"
   ]
  }
 ],
 "metadata": {
  "kernelspec": {
   "display_name": "Python 3 (ipykernel)",
   "language": "python",
   "name": "python3"
  },
  "language_info": {
   "codemirror_mode": {
    "name": "ipython",
    "version": 3
   },
   "file_extension": ".py",
   "mimetype": "text/x-python",
   "name": "python",
   "nbconvert_exporter": "python",
   "pygments_lexer": "ipython3",
   "version": "3.9.12"
  }
 },
 "nbformat": 4,
 "nbformat_minor": 5
}
