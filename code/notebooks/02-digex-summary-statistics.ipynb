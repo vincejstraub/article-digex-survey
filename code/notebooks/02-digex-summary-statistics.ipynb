{
 "cells": [
  {
   "cell_type": "markdown",
   "id": "20d1b0e3-e966-4f91-88e5-0f26ed5554f8",
   "metadata": {},
   "source": [
    "# Summary statistics "
   ]
  },
  {
   "cell_type": "markdown",
   "id": "6cbd674e-5ab7-4abd-b5f9-c6b41e69aafa",
   "metadata": {},
   "source": [
    "This notebook contains code for the analysis of summary statistics for data used in the project: Public attitudes and ethical guidelines in digital field experiments (digex)."
   ]
  },
  {
   "cell_type": "markdown",
   "id": "01f74970-8444-4a21-b6c0-32f85e42606a",
   "metadata": {},
   "source": [
    "# TO DO\n",
    "\n",
    "Taken from [2022-digex-study-design](https://docs.google.com/document/d/1nsaXEn04s9LTsjqrpbUpZlyQ3CAcuqkOwy1ZM0d-kKY/edit#):\n",
    "\n",
    "- To describe the general behavior of participants when filling out the survey, we will calculate the means, standard deviations, and ranges  (M, SD, range) for the response rate, the number of screened out participants, the number of complete and incomplete survey participations, and the completion time. \n",
    "\n",
    "- We will further describe the composition of the obtained sample by providing frequency tables or plots and descriptive statistics (M, SD, range) for the demographic variables of gender, age, ethnic background, education level, and political viewpoint. \n"
   ]
  },
  {
   "cell_type": "markdown",
   "id": "0e734fff-a286-48e5-a5ac-a51eeceb6871",
   "metadata": {},
   "source": [
    "## Set working directory"
   ]
  },
  {
   "cell_type": "code",
   "execution_count": 1,
   "id": "58aad47d-1892-4c10-81bb-dc47ae4f4d08",
   "metadata": {},
   "outputs": [],
   "source": [
    "import pathlib   # Change cwd\n",
    "import os \n",
    "\n",
    "path = pathlib.Path.cwd().parent\n",
    "os.chdir(path)"
   ]
  },
  {
   "cell_type": "markdown",
   "id": "efa27ad6-b68d-4b46-a252-2591ff578ba2",
   "metadata": {
    "tags": []
   },
   "source": [
    "## Imports"
   ]
  },
  {
   "cell_type": "code",
   "execution_count": 60,
   "id": "b3efc572-dded-4634-ba37-b8ef7ac696a2",
   "metadata": {},
   "outputs": [],
   "source": [
    "import pathlib   # Standard library\n",
    "\n",
    "import yaml   # 3rd party packages\n",
    "import joypy\n",
    "import pandas as pd\n",
    "import numpy as np\n",
    "from skimpy import skim\n",
    "from matplotlib import pyplot as plt\n",
    "\n",
    "from digex_src import config    # Local imports\n",
    "from digex_src import preprocess\n",
    "from digex_src import get_summary_statistics\n",
    "from digex_src.load_data import get_data_filepath"
   ]
  },
  {
   "cell_type": "markdown",
   "id": "82c310f5-9a30-4016-95be-74971cc942a6",
   "metadata": {
    "tags": []
   },
   "source": [
    "## load processed data"
   ]
  },
  {
   "cell_type": "code",
   "execution_count": 3,
   "id": "9e7fbd20-87ed-481a-9911-d755c1fac590",
   "metadata": {},
   "outputs": [
    {
     "data": {
      "text/html": [
       "<div>\n",
       "<style scoped>\n",
       "    .dataframe tbody tr th:only-of-type {\n",
       "        vertical-align: middle;\n",
       "    }\n",
       "\n",
       "    .dataframe tbody tr th {\n",
       "        vertical-align: top;\n",
       "    }\n",
       "\n",
       "    .dataframe thead th {\n",
       "        text-align: right;\n",
       "    }\n",
       "</style>\n",
       "<table border=\"1\" class=\"dataframe\">\n",
       "  <thead>\n",
       "    <tr style=\"text-align: right;\">\n",
       "      <th></th>\n",
       "      <th>duration_sec</th>\n",
       "      <th>finished</th>\n",
       "      <th>sm_use</th>\n",
       "      <th>age</th>\n",
       "      <th>gender_id</th>\n",
       "      <th>ethnic_id</th>\n",
       "      <th>edu</th>\n",
       "      <th>politic_views</th>\n",
       "      <th>aware_sm_res</th>\n",
       "      <th>aware_sm_advan</th>\n",
       "      <th>...</th>\n",
       "      <th>rank_pub_interst</th>\n",
       "      <th>rank_add_fac_1</th>\n",
       "      <th>rank_add_fac_1_pos</th>\n",
       "      <th>rank_add_fac_2</th>\n",
       "      <th>rank_add_fac_2_pos</th>\n",
       "      <th>rank_add_fac_3</th>\n",
       "      <th>rank_add_fac_3_pos</th>\n",
       "      <th>aware_sm_advan_score</th>\n",
       "      <th>aware_sm_interact_score</th>\n",
       "      <th>aware_sm_use_score</th>\n",
       "    </tr>\n",
       "  </thead>\n",
       "  <tbody>\n",
       "    <tr>\n",
       "      <th>1</th>\n",
       "      <td>912.0</td>\n",
       "      <td>True</td>\n",
       "      <td>Facebook</td>\n",
       "      <td>29.0</td>\n",
       "      <td>Male</td>\n",
       "      <td>Asian - Eastern</td>\n",
       "      <td>Highschool</td>\n",
       "      <td>Slightly liberal</td>\n",
       "      <td>Extremely aware</td>\n",
       "      <td>['… are large and can contain millions of data...</td>\n",
       "      <td>...</td>\n",
       "      <td>1.0</td>\n",
       "      <td>NaN</td>\n",
       "      <td>NaN</td>\n",
       "      <td>NaN</td>\n",
       "      <td>NaN</td>\n",
       "      <td>NaN</td>\n",
       "      <td>NaN</td>\n",
       "      <td>4</td>\n",
       "      <td>0</td>\n",
       "      <td>9</td>\n",
       "    </tr>\n",
       "    <tr>\n",
       "      <th>2</th>\n",
       "      <td>720.0</td>\n",
       "      <td>True</td>\n",
       "      <td>Twitter</td>\n",
       "      <td>33.0</td>\n",
       "      <td>Male</td>\n",
       "      <td>Mixed race</td>\n",
       "      <td>Highschool</td>\n",
       "      <td>Neutral/ Neither conservative or liberal</td>\n",
       "      <td>Moderately aware</td>\n",
       "      <td>['… are large and can contain millions of data...</td>\n",
       "      <td>...</td>\n",
       "      <td>4.0</td>\n",
       "      <td>NaN</td>\n",
       "      <td>NaN</td>\n",
       "      <td>NaN</td>\n",
       "      <td>NaN</td>\n",
       "      <td>NaN</td>\n",
       "      <td>NaN</td>\n",
       "      <td>1</td>\n",
       "      <td>1</td>\n",
       "      <td>9</td>\n",
       "    </tr>\n",
       "    <tr>\n",
       "      <th>3</th>\n",
       "      <td>1874.0</td>\n",
       "      <td>True</td>\n",
       "      <td>Facebook</td>\n",
       "      <td>33.0</td>\n",
       "      <td>Female</td>\n",
       "      <td>Pacific Islander</td>\n",
       "      <td>Bachelor's degree</td>\n",
       "      <td>Very liberal</td>\n",
       "      <td>Extremely aware</td>\n",
       "      <td>['… are large and can contain millions of data...</td>\n",
       "      <td>...</td>\n",
       "      <td>1.0</td>\n",
       "      <td>NaN</td>\n",
       "      <td>NaN</td>\n",
       "      <td>NaN</td>\n",
       "      <td>NaN</td>\n",
       "      <td>NaN</td>\n",
       "      <td>NaN</td>\n",
       "      <td>2</td>\n",
       "      <td>2</td>\n",
       "      <td>5</td>\n",
       "    </tr>\n",
       "    <tr>\n",
       "      <th>4</th>\n",
       "      <td>1264.0</td>\n",
       "      <td>True</td>\n",
       "      <td>Facebook</td>\n",
       "      <td>73.0</td>\n",
       "      <td>Female</td>\n",
       "      <td>White / Caucasian</td>\n",
       "      <td>Highschool</td>\n",
       "      <td>Slightly conservative</td>\n",
       "      <td>Moderately aware</td>\n",
       "      <td>['… are large and can contain millions of data...</td>\n",
       "      <td>...</td>\n",
       "      <td>1.0</td>\n",
       "      <td>NaN</td>\n",
       "      <td>8.0</td>\n",
       "      <td>NaN</td>\n",
       "      <td>NaN</td>\n",
       "      <td>NaN</td>\n",
       "      <td>NaN</td>\n",
       "      <td>1</td>\n",
       "      <td>1</td>\n",
       "      <td>6</td>\n",
       "    </tr>\n",
       "    <tr>\n",
       "      <th>5</th>\n",
       "      <td>556.0</td>\n",
       "      <td>True</td>\n",
       "      <td>Twitter</td>\n",
       "      <td>27.0</td>\n",
       "      <td>Female</td>\n",
       "      <td>Native-American</td>\n",
       "      <td>Highschool</td>\n",
       "      <td>Very liberal</td>\n",
       "      <td>Extremely aware</td>\n",
       "      <td>['… often capture social relationships not fou...</td>\n",
       "      <td>...</td>\n",
       "      <td>7.0</td>\n",
       "      <td>NaN</td>\n",
       "      <td>NaN</td>\n",
       "      <td>NaN</td>\n",
       "      <td>NaN</td>\n",
       "      <td>NaN</td>\n",
       "      <td>NaN</td>\n",
       "      <td>0</td>\n",
       "      <td>3</td>\n",
       "      <td>9</td>\n",
       "    </tr>\n",
       "  </tbody>\n",
       "</table>\n",
       "<p>5 rows × 51 columns</p>\n",
       "</div>"
      ],
      "text/plain": [
       "   duration_sec  finished    sm_use   age gender_id          ethnic_id  \\\n",
       "1         912.0      True  Facebook  29.0      Male    Asian - Eastern   \n",
       "2         720.0      True   Twitter  33.0      Male         Mixed race   \n",
       "3        1874.0      True  Facebook  33.0    Female   Pacific Islander   \n",
       "4        1264.0      True  Facebook  73.0    Female  White / Caucasian   \n",
       "5         556.0      True   Twitter  27.0    Female    Native-American   \n",
       "\n",
       "                 edu                             politic_views  \\\n",
       "1         Highschool                          Slightly liberal   \n",
       "2         Highschool  Neutral/ Neither conservative or liberal   \n",
       "3  Bachelor's degree                              Very liberal   \n",
       "4         Highschool                     Slightly conservative   \n",
       "5         Highschool                              Very liberal   \n",
       "\n",
       "       aware_sm_res                                     aware_sm_advan  ...  \\\n",
       "1   Extremely aware  ['… are large and can contain millions of data...  ...   \n",
       "2  Moderately aware  ['… are large and can contain millions of data...  ...   \n",
       "3   Extremely aware  ['… are large and can contain millions of data...  ...   \n",
       "4  Moderately aware  ['… are large and can contain millions of data...  ...   \n",
       "5   Extremely aware  ['… often capture social relationships not fou...  ...   \n",
       "\n",
       "  rank_pub_interst rank_add_fac_1 rank_add_fac_1_pos rank_add_fac_2  \\\n",
       "1              1.0            NaN                NaN            NaN   \n",
       "2              4.0            NaN                NaN            NaN   \n",
       "3              1.0            NaN                NaN            NaN   \n",
       "4              1.0            NaN                8.0            NaN   \n",
       "5              7.0            NaN                NaN            NaN   \n",
       "\n",
       "  rank_add_fac_2_pos rank_add_fac_3 rank_add_fac_3_pos aware_sm_advan_score  \\\n",
       "1                NaN            NaN                NaN                    4   \n",
       "2                NaN            NaN                NaN                    1   \n",
       "3                NaN            NaN                NaN                    2   \n",
       "4                NaN            NaN                NaN                    1   \n",
       "5                NaN            NaN                NaN                    0   \n",
       "\n",
       "  aware_sm_interact_score aware_sm_use_score  \n",
       "1                       0                  9  \n",
       "2                       1                  9  \n",
       "3                       2                  5  \n",
       "4                       1                  6  \n",
       "5                       3                  9  \n",
       "\n",
       "[5 rows x 51 columns]"
      ]
     },
     "execution_count": 3,
     "metadata": {},
     "output_type": "execute_result"
    }
   ],
   "source": [
    "processed_data_path = get_data_filepath(\n",
    "    file=config.PROCESSED_DATA_FILEPATH, \n",
    "    data_path=config.PROCESSED_DATA_DIR,\n",
    "    main=False\n",
    ") \n",
    "\n",
    "digex_df = pd.read_csv(processed_data_path, index_col=0)\n",
    "\n",
    "digex_df.head()"
   ]
  },
  {
   "cell_type": "markdown",
   "id": "3adbd602-44b3-4071-a5c7-57ffa16625c7",
   "metadata": {},
   "source": [
    "## Summary statistics"
   ]
  },
  {
   "cell_type": "markdown",
   "id": "efde1569-fe13-47ad-b401-15cac7be037d",
   "metadata": {},
   "source": [
    "**Variables to examine: 16-27**"
   ]
  },
  {
   "cell_type": "markdown",
   "id": "114c4da2-2e22-44e9-a172-b7bf19dd43f5",
   "metadata": {},
   "source": [
    "### Overview"
   ]
  },
  {
   "cell_type": "code",
   "execution_count": 61,
   "id": "eccf6ce8-0be9-41e0-b35f-254cea3643c7",
   "metadata": {},
   "outputs": [
    {
     "data": {
      "text/html": [
       "<pre style=\"white-space:pre;overflow-x:auto;line-height:normal;font-family:Menlo,'DejaVu Sans Mono',consolas,'Courier New',monospace\">╭──────────────────────────────────────────────── skimpy summary ─────────────────────────────────────────────────╮\n",
       "│ <span style=\"font-style: italic\">         Data Summary         </span> <span style=\"font-style: italic\">      Data Types       </span>                                                          │\n",
       "│ ┏━━━━━━━━━━━━━━━━━━━┳━━━━━━━━┓ ┏━━━━━━━━━━━━━┳━━━━━━━┓                                                          │\n",
       "│ ┃<span style=\"color: #008080; text-decoration-color: #008080; font-weight: bold\"> dataframe         </span>┃<span style=\"color: #008080; text-decoration-color: #008080; font-weight: bold\"> Values </span>┃ ┃<span style=\"color: #008080; text-decoration-color: #008080; font-weight: bold\"> Column Type </span>┃<span style=\"color: #008080; text-decoration-color: #008080; font-weight: bold\"> Count </span>┃                                                          │\n",
       "│ ┡━━━━━━━━━━━━━━━━━━━╇━━━━━━━━┩ ┡━━━━━━━━━━━━━╇━━━━━━━┩                                                          │\n",
       "│ │ Number of rows    │ 499    │ │ string      │ 35    │                                                          │\n",
       "│ │ Number of columns │ 51     │ │ float64     │ 12    │                                                          │\n",
       "│ └───────────────────┴────────┘ │ int64       │ 3     │                                                          │\n",
       "│                                │ bool        │ 1     │                                                          │\n",
       "│                                └─────────────┴───────┘                                                          │\n",
       "│ <span style=\"font-style: italic\">                                                    number                                                    </span>  │\n",
       "│ ┏━━━━━━━━━━━━━━━━━━━━━━━━━━━━━━┳━━━━━━━┳━━━━━━━━┳━━━━━━━━┳━━━━━━━┳━━━━━━━┳━━━━━━━┳━━━━━━━━┳━━━━━━━━┳━━━━━━━━━┓  │\n",
       "│ ┃<span style=\"font-weight: bold\"> column_name                  </span>┃<span style=\"font-weight: bold\"> NA    </span>┃<span style=\"font-weight: bold\"> NA %   </span>┃<span style=\"font-weight: bold\"> mean   </span>┃<span style=\"font-weight: bold\"> sd    </span>┃<span style=\"font-weight: bold\"> p0    </span>┃<span style=\"font-weight: bold\"> p25   </span>┃<span style=\"font-weight: bold\"> p75    </span>┃<span style=\"font-weight: bold\"> p100   </span>┃<span style=\"font-weight: bold\"> hist    </span>┃  │\n",
       "│ ┡━━━━━━━━━━━━━━━━━━━━━━━━━━━━━━╇━━━━━━━╇━━━━━━━━╇━━━━━━━━╇━━━━━━━╇━━━━━━━╇━━━━━━━╇━━━━━━━━╇━━━━━━━━╇━━━━━━━━━┩  │\n",
       "│ │ <span style=\"color: #af87ff; text-decoration-color: #af87ff\">duration_sec                </span> │ <span style=\"color: #008080; text-decoration-color: #008080\">    0</span> │ <span style=\"color: #008080; text-decoration-color: #008080\">     0</span> │ <span style=\"color: #008080; text-decoration-color: #008080\">  1000</span> │ <span style=\"color: #008080; text-decoration-color: #008080\">  580</span> │ <span style=\"color: #008080; text-decoration-color: #008080\">  150</span> │ <span style=\"color: #008080; text-decoration-color: #008080\">  610</span> │ <span style=\"color: #008080; text-decoration-color: #008080\">  1200</span> │ <span style=\"color: #008080; text-decoration-color: #008080\">  5000</span> │ <span style=\"color: #008000; text-decoration-color: #008000\">  █▅▁  </span> │  │\n",
       "│ │ <span style=\"color: #af87ff; text-decoration-color: #af87ff\">age                         </span> │ <span style=\"color: #008080; text-decoration-color: #008080\">    0</span> │ <span style=\"color: #008080; text-decoration-color: #008080\">     0</span> │ <span style=\"color: #008080; text-decoration-color: #008080\">    42</span> │ <span style=\"color: #008080; text-decoration-color: #008080\">   14</span> │ <span style=\"color: #008080; text-decoration-color: #008080\">   18</span> │ <span style=\"color: #008080; text-decoration-color: #008080\">   31</span> │ <span style=\"color: #008080; text-decoration-color: #008080\">    52</span> │ <span style=\"color: #008080; text-decoration-color: #008080\">    78</span> │ <span style=\"color: #008000; text-decoration-color: #008000\">▄█▆▄▃▁ </span> │  │\n",
       "│ │ <span style=\"color: #af87ff; text-decoration-color: #af87ff\">rank_sci_repro              </span> │ <span style=\"color: #008080; text-decoration-color: #008080\">    0</span> │ <span style=\"color: #008080; text-decoration-color: #008080\">     0</span> │ <span style=\"color: #008080; text-decoration-color: #008080\">   5.5</span> │ <span style=\"color: #008080; text-decoration-color: #008080\">  1.7</span> │ <span style=\"color: #008080; text-decoration-color: #008080\">    1</span> │ <span style=\"color: #008080; text-decoration-color: #008080\">    5</span> │ <span style=\"color: #008080; text-decoration-color: #008080\">     7</span> │ <span style=\"color: #008080; text-decoration-color: #008080\">     7</span> │ <span style=\"color: #008000; text-decoration-color: #008000\">  ▁▁▂█ </span> │  │\n",
       "│ │ <span style=\"color: #af87ff; text-decoration-color: #af87ff\">rank_resp                   </span> │ <span style=\"color: #008080; text-decoration-color: #008080\">    0</span> │ <span style=\"color: #008080; text-decoration-color: #008080\">     0</span> │ <span style=\"color: #008080; text-decoration-color: #008080\">   3.5</span> │ <span style=\"color: #008080; text-decoration-color: #008080\">  2.1</span> │ <span style=\"color: #008080; text-decoration-color: #008080\">    1</span> │ <span style=\"color: #008080; text-decoration-color: #008080\">    2</span> │ <span style=\"color: #008080; text-decoration-color: #008080\">     5</span> │ <span style=\"color: #008080; text-decoration-color: #008080\">     7</span> │ <span style=\"color: #008000; text-decoration-color: #008000\">▇▆▅▅▃█ </span> │  │\n",
       "│ │ <span style=\"color: #af87ff; text-decoration-color: #af87ff\">rank_just                   </span> │ <span style=\"color: #008080; text-decoration-color: #008080\">    0</span> │ <span style=\"color: #008080; text-decoration-color: #008080\">     0</span> │ <span style=\"color: #008080; text-decoration-color: #008080\">   4.7</span> │ <span style=\"color: #008080; text-decoration-color: #008080\">  1.7</span> │ <span style=\"color: #008080; text-decoration-color: #008080\">    1</span> │ <span style=\"color: #008080; text-decoration-color: #008080\">    4</span> │ <span style=\"color: #008080; text-decoration-color: #008080\">     6</span> │ <span style=\"color: #008080; text-decoration-color: #008080\">     7</span> │ <span style=\"color: #008000; text-decoration-color: #008000\">▁▂▃▄▅█ </span> │  │\n",
       "│ │ <span style=\"color: #af87ff; text-decoration-color: #af87ff\">rank_anony                  </span> │ <span style=\"color: #008080; text-decoration-color: #008080\">    0</span> │ <span style=\"color: #008080; text-decoration-color: #008080\">     0</span> │ <span style=\"color: #008080; text-decoration-color: #008080\">   3.1</span> │ <span style=\"color: #008080; text-decoration-color: #008080\">  1.6</span> │ <span style=\"color: #008080; text-decoration-color: #008080\">    1</span> │ <span style=\"color: #008080; text-decoration-color: #008080\">    2</span> │ <span style=\"color: #008080; text-decoration-color: #008080\">     4</span> │ <span style=\"color: #008080; text-decoration-color: #008080\">     7</span> │ <span style=\"color: #008000; text-decoration-color: #008000\">▅█▆▄▃▃ </span> │  │\n",
       "│ │ <span style=\"color: #af87ff; text-decoration-color: #af87ff\">rank_harms                  </span> │ <span style=\"color: #008080; text-decoration-color: #008080\">    0</span> │ <span style=\"color: #008080; text-decoration-color: #008080\">     0</span> │ <span style=\"color: #008080; text-decoration-color: #008080\">   2.7</span> │ <span style=\"color: #008080; text-decoration-color: #008080\">  1.8</span> │ <span style=\"color: #008080; text-decoration-color: #008080\">    1</span> │ <span style=\"color: #008080; text-decoration-color: #008080\">    1</span> │ <span style=\"color: #008080; text-decoration-color: #008080\">     4</span> │ <span style=\"color: #008080; text-decoration-color: #008080\">     7</span> │ <span style=\"color: #008000; text-decoration-color: #008000\">█▄▃▂▂▂ </span> │  │\n",
       "│ │ <span style=\"color: #af87ff; text-decoration-color: #af87ff\">rank_balance                </span> │ <span style=\"color: #008080; text-decoration-color: #008080\">    0</span> │ <span style=\"color: #008080; text-decoration-color: #008080\">     0</span> │ <span style=\"color: #008080; text-decoration-color: #008080\">     5</span> │ <span style=\"color: #008080; text-decoration-color: #008080\">  1.6</span> │ <span style=\"color: #008080; text-decoration-color: #008080\">    1</span> │ <span style=\"color: #008080; text-decoration-color: #008080\">    4</span> │ <span style=\"color: #008080; text-decoration-color: #008080\">     6</span> │ <span style=\"color: #008080; text-decoration-color: #008080\">     7</span> │ <span style=\"color: #008000; text-decoration-color: #008000\">▁▁▂▂▄█ </span> │  │\n",
       "│ │ <span style=\"color: #af87ff; text-decoration-color: #af87ff\">rank_pub_interst            </span> │ <span style=\"color: #008080; text-decoration-color: #008080\">    0</span> │ <span style=\"color: #008080; text-decoration-color: #008080\">     0</span> │ <span style=\"color: #008080; text-decoration-color: #008080\">   3.6</span> │ <span style=\"color: #008080; text-decoration-color: #008080\">  1.8</span> │ <span style=\"color: #008080; text-decoration-color: #008080\">    1</span> │ <span style=\"color: #008080; text-decoration-color: #008080\">    2</span> │ <span style=\"color: #008080; text-decoration-color: #008080\">     5</span> │ <span style=\"color: #008080; text-decoration-color: #008080\">     7</span> │ <span style=\"color: #008000; text-decoration-color: #008000\">▅██▇▅▇ </span> │  │\n",
       "│ │ <span style=\"color: #af87ff; text-decoration-color: #af87ff\">rank_add_fac_1_pos          </span> │ <span style=\"color: #008080; text-decoration-color: #008080\">  350</span> │ <span style=\"color: #008080; text-decoration-color: #008080\">    70</span> │ <span style=\"color: #008080; text-decoration-color: #008080\">   4.4</span> │ <span style=\"color: #008080; text-decoration-color: #008080\">  3.3</span> │ <span style=\"color: #008080; text-decoration-color: #008080\">    0</span> │ <span style=\"color: #008080; text-decoration-color: #008080\">    1</span> │ <span style=\"color: #008080; text-decoration-color: #008080\">     8</span> │ <span style=\"color: #008080; text-decoration-color: #008080\">    10</span> │ <span style=\"color: #008000; text-decoration-color: #008000\">█▂▁▂▇▁ </span> │  │\n",
       "│ │ <span style=\"color: #af87ff; text-decoration-color: #af87ff\">rank_add_fac_2_pos          </span> │ <span style=\"color: #008080; text-decoration-color: #008080\">  410</span> │ <span style=\"color: #008080; text-decoration-color: #008080\">    83</span> │ <span style=\"color: #008080; text-decoration-color: #008080\">   5.2</span> │ <span style=\"color: #008080; text-decoration-color: #008080\">  3.8</span> │ <span style=\"color: #008080; text-decoration-color: #008080\">    0</span> │ <span style=\"color: #008080; text-decoration-color: #008080\">    2</span> │ <span style=\"color: #008080; text-decoration-color: #008080\">     9</span> │ <span style=\"color: #008080; text-decoration-color: #008080\">    10</span> │ <span style=\"color: #008000; text-decoration-color: #008000\">▄▅ ▁▁█ </span> │  │\n",
       "│ │ <span style=\"color: #af87ff; text-decoration-color: #af87ff\">rank_add_fac_3_pos          </span> │ <span style=\"color: #008080; text-decoration-color: #008080\">  420</span> │ <span style=\"color: #008080; text-decoration-color: #008080\">    84</span> │ <span style=\"color: #008080; text-decoration-color: #008080\">   5.8</span> │ <span style=\"color: #008080; text-decoration-color: #008080\">  4.1</span> │ <span style=\"color: #008080; text-decoration-color: #008080\">    0</span> │ <span style=\"color: #008080; text-decoration-color: #008080\">    2</span> │ <span style=\"color: #008080; text-decoration-color: #008080\">    10</span> │ <span style=\"color: #008080; text-decoration-color: #008080\">    10</span> │ <span style=\"color: #008000; text-decoration-color: #008000\">▄▄  ▁█ </span> │  │\n",
       "│ │ <span style=\"color: #af87ff; text-decoration-color: #af87ff\">aware_sm_advan_score        </span> │ <span style=\"color: #008080; text-decoration-color: #008080\">    0</span> │ <span style=\"color: #008080; text-decoration-color: #008080\">     0</span> │ <span style=\"color: #008080; text-decoration-color: #008080\">   1.9</span> │ <span style=\"color: #008080; text-decoration-color: #008080\">  1.2</span> │ <span style=\"color: #008080; text-decoration-color: #008080\">   -3</span> │ <span style=\"color: #008080; text-decoration-color: #008080\">    1</span> │ <span style=\"color: #008080; text-decoration-color: #008080\">     3</span> │ <span style=\"color: #008080; text-decoration-color: #008080\">     4</span> │ <span style=\"color: #008000; text-decoration-color: #008000\"> ▁▂▅▆█ </span> │  │\n",
       "│ │ <span style=\"color: #af87ff; text-decoration-color: #af87ff\">aware_sm_interact_sc        </span> │ <span style=\"color: #008080; text-decoration-color: #008080\">    0</span> │ <span style=\"color: #008080; text-decoration-color: #008080\">     0</span> │ <span style=\"color: #008080; text-decoration-color: #008080\">   1.3</span> │ <span style=\"color: #008080; text-decoration-color: #008080\">    1</span> │ <span style=\"color: #008080; text-decoration-color: #008080\">   -1</span> │ <span style=\"color: #008080; text-decoration-color: #008080\">    0</span> │ <span style=\"color: #008080; text-decoration-color: #008080\">     2</span> │ <span style=\"color: #008080; text-decoration-color: #008080\">     3</span> │ <span style=\"color: #008000; text-decoration-color: #008000\">▁▆ █▇▃ </span> │  │\n",
       "│ │ <span style=\"color: #af87ff; text-decoration-color: #af87ff\">aware_sm_use_score          </span> │ <span style=\"color: #008080; text-decoration-color: #008080\">    0</span> │ <span style=\"color: #008080; text-decoration-color: #008080\">     0</span> │ <span style=\"color: #008080; text-decoration-color: #008080\">   6.6</span> │ <span style=\"color: #008080; text-decoration-color: #008080\">  2.4</span> │ <span style=\"color: #008080; text-decoration-color: #008080\">    0</span> │ <span style=\"color: #008080; text-decoration-color: #008080\">    5</span> │ <span style=\"color: #008080; text-decoration-color: #008080\">     9</span> │ <span style=\"color: #008080; text-decoration-color: #008080\">     9</span> │ <span style=\"color: #008000; text-decoration-color: #008000\">▁ ▃▂▄█ </span> │  │\n",
       "│ └──────────────────────────────┴───────┴────────┴────────┴───────┴───────┴───────┴────────┴────────┴─────────┘  │\n",
       "│ <span style=\"font-style: italic\">                                                    string                                                    </span>  │\n",
       "│ ┏━━━━━━━━━━━━━━━━━━━━━━━━━━━━━━━━━━━━━┳━━━━━━━━━┳━━━━━━━━━━━┳━━━━━━━━━━━━━━━━━━━━━━━━━━┳━━━━━━━━━━━━━━━━━━━━━┓  │\n",
       "│ ┃<span style=\"font-weight: bold\"> column_name                         </span>┃<span style=\"font-weight: bold\"> NA      </span>┃<span style=\"font-weight: bold\"> NA %      </span>┃<span style=\"font-weight: bold\"> words per row            </span>┃<span style=\"font-weight: bold\"> total words         </span>┃  │\n",
       "│ ┡━━━━━━━━━━━━━━━━━━━━━━━━━━━━━━━━━━━━━╇━━━━━━━━━╇━━━━━━━━━━━╇━━━━━━━━━━━━━━━━━━━━━━━━━━╇━━━━━━━━━━━━━━━━━━━━━┩  │\n",
       "│ │ <span style=\"color: #af87ff; text-decoration-color: #af87ff\">sm_use                             </span> │ <span style=\"color: #008080; text-decoration-color: #008080\">      0</span> │ <span style=\"color: #008080; text-decoration-color: #008080\">        0</span> │ <span style=\"color: #008080; text-decoration-color: #008080\">                       1</span> │ <span style=\"color: #008080; text-decoration-color: #008080\">                500</span> │  │\n",
       "│ │ <span style=\"color: #af87ff; text-decoration-color: #af87ff\">gender_id                          </span> │ <span style=\"color: #008080; text-decoration-color: #008080\">      0</span> │ <span style=\"color: #008080; text-decoration-color: #008080\">        0</span> │ <span style=\"color: #008080; text-decoration-color: #008080\">                       1</span> │ <span style=\"color: #008080; text-decoration-color: #008080\">                500</span> │  │\n",
       "│ │ <span style=\"color: #af87ff; text-decoration-color: #af87ff\">ethnic_id                          </span> │ <span style=\"color: #008080; text-decoration-color: #008080\">      0</span> │ <span style=\"color: #008080; text-decoration-color: #008080\">        0</span> │ <span style=\"color: #008080; text-decoration-color: #008080\">                       1</span> │ <span style=\"color: #008080; text-decoration-color: #008080\">                500</span> │  │\n",
       "│ │ <span style=\"color: #af87ff; text-decoration-color: #af87ff\">edu                                </span> │ <span style=\"color: #008080; text-decoration-color: #008080\">      0</span> │ <span style=\"color: #008080; text-decoration-color: #008080\">        0</span> │ <span style=\"color: #008080; text-decoration-color: #008080\">                       1</span> │ <span style=\"color: #008080; text-decoration-color: #008080\">                500</span> │  │\n",
       "│ │ <span style=\"color: #af87ff; text-decoration-color: #af87ff\">politic_views                      </span> │ <span style=\"color: #008080; text-decoration-color: #008080\">      0</span> │ <span style=\"color: #008080; text-decoration-color: #008080\">        0</span> │ <span style=\"color: #008080; text-decoration-color: #008080\">                       1</span> │ <span style=\"color: #008080; text-decoration-color: #008080\">                500</span> │  │\n",
       "│ │ <span style=\"color: #af87ff; text-decoration-color: #af87ff\">aware_sm_res                       </span> │ <span style=\"color: #008080; text-decoration-color: #008080\">      0</span> │ <span style=\"color: #008080; text-decoration-color: #008080\">        0</span> │ <span style=\"color: #008080; text-decoration-color: #008080\">                       1</span> │ <span style=\"color: #008080; text-decoration-color: #008080\">                500</span> │  │\n",
       "│ │ <span style=\"color: #af87ff; text-decoration-color: #af87ff\">aware_sm_advan                     </span> │ <span style=\"color: #008080; text-decoration-color: #008080\">      0</span> │ <span style=\"color: #008080; text-decoration-color: #008080\">        0</span> │ <span style=\"color: #008080; text-decoration-color: #008080\">                       1</span> │ <span style=\"color: #008080; text-decoration-color: #008080\">                500</span> │  │\n",
       "│ │ <span style=\"color: #af87ff; text-decoration-color: #af87ff\">aware_sm_interact                  </span> │ <span style=\"color: #008080; text-decoration-color: #008080\">      0</span> │ <span style=\"color: #008080; text-decoration-color: #008080\">        0</span> │ <span style=\"color: #008080; text-decoration-color: #008080\">                       1</span> │ <span style=\"color: #008080; text-decoration-color: #008080\">                500</span> │  │\n",
       "│ │ <span style=\"color: #af87ff; text-decoration-color: #af87ff\">aware_sm_use                       </span> │ <span style=\"color: #008080; text-decoration-color: #008080\">      0</span> │ <span style=\"color: #008080; text-decoration-color: #008080\">        0</span> │ <span style=\"color: #008080; text-decoration-color: #008080\">                       1</span> │ <span style=\"color: #008080; text-decoration-color: #008080\">                500</span> │  │\n",
       "│ │ <span style=\"color: #af87ff; text-decoration-color: #af87ff\">ethic_appr                         </span> │ <span style=\"color: #008080; text-decoration-color: #008080\">      0</span> │ <span style=\"color: #008080; text-decoration-color: #008080\">        0</span> │ <span style=\"color: #008080; text-decoration-color: #008080\">                       1</span> │ <span style=\"color: #008080; text-decoration-color: #008080\">                500</span> │  │\n",
       "│ │ <span style=\"color: #af87ff; text-decoration-color: #af87ff\">study_1_ethic_acc                  </span> │ <span style=\"color: #008080; text-decoration-color: #008080\">      0</span> │ <span style=\"color: #008080; text-decoration-color: #008080\">        0</span> │ <span style=\"color: #008080; text-decoration-color: #008080\">                       1</span> │ <span style=\"color: #008080; text-decoration-color: #008080\">                500</span> │  │\n",
       "│ │ <span style=\"color: #af87ff; text-decoration-color: #af87ff\">study_1_conc                       </span> │ <span style=\"color: #008080; text-decoration-color: #008080\">    240</span> │ <span style=\"color: #008080; text-decoration-color: #008080\">       48</span> │ <span style=\"color: #008080; text-decoration-color: #008080\">                       1</span> │ <span style=\"color: #008080; text-decoration-color: #008080\">                500</span> │  │\n",
       "│ │ <span style=\"color: #af87ff; text-decoration-color: #af87ff\">study_1_add_info                   </span> │ <span style=\"color: #008080; text-decoration-color: #008080\">    410</span> │ <span style=\"color: #008080; text-decoration-color: #008080\">       82</span> │ <span style=\"color: #008080; text-decoration-color: #008080\">                       1</span> │ <span style=\"color: #008080; text-decoration-color: #008080\">                500</span> │  │\n",
       "│ │ <span style=\"color: #af87ff; text-decoration-color: #af87ff\">study_2_ethic_acc                  </span> │ <span style=\"color: #008080; text-decoration-color: #008080\">      0</span> │ <span style=\"color: #008080; text-decoration-color: #008080\">        0</span> │ <span style=\"color: #008080; text-decoration-color: #008080\">                       1</span> │ <span style=\"color: #008080; text-decoration-color: #008080\">                500</span> │  │\n",
       "│ │ <span style=\"color: #af87ff; text-decoration-color: #af87ff\">study_2_conc                       </span> │ <span style=\"color: #008080; text-decoration-color: #008080\">    220</span> │ <span style=\"color: #008080; text-decoration-color: #008080\">       45</span> │ <span style=\"color: #008080; text-decoration-color: #008080\">                       1</span> │ <span style=\"color: #008080; text-decoration-color: #008080\">                500</span> │  │\n",
       "│ │ <span style=\"color: #af87ff; text-decoration-color: #af87ff\">study_2_add_info                   </span> │ <span style=\"color: #008080; text-decoration-color: #008080\">    400</span> │ <span style=\"color: #008080; text-decoration-color: #008080\">       81</span> │ <span style=\"color: #008080; text-decoration-color: #008080\">                       1</span> │ <span style=\"color: #008080; text-decoration-color: #008080\">                500</span> │  │\n",
       "│ │ <span style=\"color: #af87ff; text-decoration-color: #af87ff\">study_3_ethic_acc                  </span> │ <span style=\"color: #008080; text-decoration-color: #008080\">      0</span> │ <span style=\"color: #008080; text-decoration-color: #008080\">        0</span> │ <span style=\"color: #008080; text-decoration-color: #008080\">                       1</span> │ <span style=\"color: #008080; text-decoration-color: #008080\">                500</span> │  │\n",
       "│ │ <span style=\"color: #af87ff; text-decoration-color: #af87ff\">study_3_conc                       </span> │ <span style=\"color: #008080; text-decoration-color: #008080\">    270</span> │ <span style=\"color: #008080; text-decoration-color: #008080\">       54</span> │ <span style=\"color: #008080; text-decoration-color: #008080\">                       1</span> │ <span style=\"color: #008080; text-decoration-color: #008080\">                500</span> │  │\n",
       "│ │ <span style=\"color: #af87ff; text-decoration-color: #af87ff\">study_3_add_info                   </span> │ <span style=\"color: #008080; text-decoration-color: #008080\">    420</span> │ <span style=\"color: #008080; text-decoration-color: #008080\">       85</span> │ <span style=\"color: #008080; text-decoration-color: #008080\">                       1</span> │ <span style=\"color: #008080; text-decoration-color: #008080\">                500</span> │  │\n",
       "│ │ <span style=\"color: #af87ff; text-decoration-color: #af87ff\">study_4_ethic_acc                  </span> │ <span style=\"color: #008080; text-decoration-color: #008080\">      0</span> │ <span style=\"color: #008080; text-decoration-color: #008080\">        0</span> │ <span style=\"color: #008080; text-decoration-color: #008080\">                       1</span> │ <span style=\"color: #008080; text-decoration-color: #008080\">                500</span> │  │\n",
       "│ │ <span style=\"color: #af87ff; text-decoration-color: #af87ff\">study_4_conc                       </span> │ <span style=\"color: #008080; text-decoration-color: #008080\">    250</span> │ <span style=\"color: #008080; text-decoration-color: #008080\">       49</span> │ <span style=\"color: #008080; text-decoration-color: #008080\">                       1</span> │ <span style=\"color: #008080; text-decoration-color: #008080\">                500</span> │  │\n",
       "│ │ <span style=\"color: #af87ff; text-decoration-color: #af87ff\">study_4_add_info                   </span> │ <span style=\"color: #008080; text-decoration-color: #008080\">    410</span> │ <span style=\"color: #008080; text-decoration-color: #008080\">       83</span> │ <span style=\"color: #008080; text-decoration-color: #008080\">                       1</span> │ <span style=\"color: #008080; text-decoration-color: #008080\">                500</span> │  │\n",
       "│ │ <span style=\"color: #af87ff; text-decoration-color: #af87ff\">design_cont                        </span> │ <span style=\"color: #008080; text-decoration-color: #008080\">      0</span> │ <span style=\"color: #008080; text-decoration-color: #008080\">        0</span> │ <span style=\"color: #008080; text-decoration-color: #008080\">                       1</span> │ <span style=\"color: #008080; text-decoration-color: #008080\">                500</span> │  │\n",
       "│ │ <span style=\"color: #af87ff; text-decoration-color: #af87ff\">design_num_users                   </span> │ <span style=\"color: #008080; text-decoration-color: #008080\">      0</span> │ <span style=\"color: #008080; text-decoration-color: #008080\">        0</span> │ <span style=\"color: #008080; text-decoration-color: #008080\">                       1</span> │ <span style=\"color: #008080; text-decoration-color: #008080\">                500</span> │  │\n",
       "│ │ <span style=\"color: #af87ff; text-decoration-color: #af87ff\">design_res_purp                    </span> │ <span style=\"color: #008080; text-decoration-color: #008080\">      0</span> │ <span style=\"color: #008080; text-decoration-color: #008080\">        0</span> │ <span style=\"color: #008080; text-decoration-color: #008080\">                       1</span> │ <span style=\"color: #008080; text-decoration-color: #008080\">                500</span> │  │\n",
       "│ │ <span style=\"color: #af87ff; text-decoration-color: #af87ff\">design_len_data                    </span> │ <span style=\"color: #008080; text-decoration-color: #008080\">      0</span> │ <span style=\"color: #008080; text-decoration-color: #008080\">        0</span> │ <span style=\"color: #008080; text-decoration-color: #008080\">                       1</span> │ <span style=\"color: #008080; text-decoration-color: #008080\">                500</span> │  │\n",
       "│ │ <span style=\"color: #af87ff; text-decoration-color: #af87ff\">design_admin_inter                 </span> │ <span style=\"color: #008080; text-decoration-color: #008080\">      0</span> │ <span style=\"color: #008080; text-decoration-color: #008080\">        0</span> │ <span style=\"color: #008080; text-decoration-color: #008080\">                       1</span> │ <span style=\"color: #008080; text-decoration-color: #008080\">                500</span> │  │\n",
       "│ │ <span style=\"color: #af87ff; text-decoration-color: #af87ff\">design_inter_type                  </span> │ <span style=\"color: #008080; text-decoration-color: #008080\">      0</span> │ <span style=\"color: #008080; text-decoration-color: #008080\">        0</span> │ <span style=\"color: #008080; text-decoration-color: #008080\">                       1</span> │ <span style=\"color: #008080; text-decoration-color: #008080\">                500</span> │  │\n",
       "│ │ <span style=\"color: #af87ff; text-decoration-color: #af87ff\">design_partic_aware                </span> │ <span style=\"color: #008080; text-decoration-color: #008080\">      0</span> │ <span style=\"color: #008080; text-decoration-color: #008080\">        0</span> │ <span style=\"color: #008080; text-decoration-color: #008080\">                       1</span> │ <span style=\"color: #008080; text-decoration-color: #008080\">                500</span> │  │\n",
       "│ │ <span style=\"color: #af87ff; text-decoration-color: #af87ff\">design_inter_impact                </span> │ <span style=\"color: #008080; text-decoration-color: #008080\">      0</span> │ <span style=\"color: #008080; text-decoration-color: #008080\">        0</span> │ <span style=\"color: #008080; text-decoration-color: #008080\">                       1</span> │ <span style=\"color: #008080; text-decoration-color: #008080\">                500</span> │  │\n",
       "│ │ <span style=\"color: #af87ff; text-decoration-color: #af87ff\">design_type_data                   </span> │ <span style=\"color: #008080; text-decoration-color: #008080\">      0</span> │ <span style=\"color: #008080; text-decoration-color: #008080\">        0</span> │ <span style=\"color: #008080; text-decoration-color: #008080\">                       1</span> │ <span style=\"color: #008080; text-decoration-color: #008080\">                500</span> │  │\n",
       "│ │ <span style=\"color: #af87ff; text-decoration-color: #af87ff\">design_add_fac                     </span> │ <span style=\"color: #008080; text-decoration-color: #008080\">    300</span> │ <span style=\"color: #008080; text-decoration-color: #008080\">       60</span> │ <span style=\"color: #008080; text-decoration-color: #008080\">                       1</span> │ <span style=\"color: #008080; text-decoration-color: #008080\">                500</span> │  │\n",
       "│ │ <span style=\"color: #af87ff; text-decoration-color: #af87ff\">rank_add_fac_1                     </span> │ <span style=\"color: #008080; text-decoration-color: #008080\">    420</span> │ <span style=\"color: #008080; text-decoration-color: #008080\">       84</span> │ <span style=\"color: #008080; text-decoration-color: #008080\">                       1</span> │ <span style=\"color: #008080; text-decoration-color: #008080\">                500</span> │  │\n",
       "│ │ <span style=\"color: #af87ff; text-decoration-color: #af87ff\">rank_add_fac_2                     </span> │ <span style=\"color: #008080; text-decoration-color: #008080\">    470</span> │ <span style=\"color: #008080; text-decoration-color: #008080\">       95</span> │ <span style=\"color: #008080; text-decoration-color: #008080\">                       1</span> │ <span style=\"color: #008080; text-decoration-color: #008080\">                500</span> │  │\n",
       "│ │ <span style=\"color: #af87ff; text-decoration-color: #af87ff\">rank_add_fac_3                     </span> │ <span style=\"color: #008080; text-decoration-color: #008080\">    480</span> │ <span style=\"color: #008080; text-decoration-color: #008080\">       96</span> │ <span style=\"color: #008080; text-decoration-color: #008080\">                       1</span> │ <span style=\"color: #008080; text-decoration-color: #008080\">                500</span> │  │\n",
       "│ └─────────────────────────────────────┴─────────┴───────────┴──────────────────────────┴─────────────────────┘  │\n",
       "│ <span style=\"font-style: italic\">                                                     bool                                                     </span>  │\n",
       "│ ┏━━━━━━━━━━━━━━━━━━━━━━━━━━━━━━━━━━━━┳━━━━━━━━━━━━━━━━━┳━━━━━━━━━━━━━━━━━━━━━━━━━━━━━━━┳━━━━━━━━━━━━━━━━━━━━━┓  │\n",
       "│ ┃<span style=\"font-weight: bold\"> column_name                        </span>┃<span style=\"font-weight: bold\"> true            </span>┃<span style=\"font-weight: bold\"> true rate                     </span>┃<span style=\"font-weight: bold\"> hist                </span>┃  │\n",
       "│ ┡━━━━━━━━━━━━━━━━━━━━━━━━━━━━━━━━━━━━╇━━━━━━━━━━━━━━━━━╇━━━━━━━━━━━━━━━━━━━━━━━━━━━━━━━╇━━━━━━━━━━━━━━━━━━━━━┩  │\n",
       "│ │ <span style=\"color: #af87ff; text-decoration-color: #af87ff\">finished                          </span> │ <span style=\"color: #008080; text-decoration-color: #008080\">            500</span> │ <span style=\"color: #008080; text-decoration-color: #008080\">                            1</span> │ <span style=\"color: #008000; text-decoration-color: #008000\">          █        </span> │  │\n",
       "│ └────────────────────────────────────┴─────────────────┴───────────────────────────────┴─────────────────────┘  │\n",
       "╰────────────────────────────────────────────────────── End ──────────────────────────────────────────────────────╯\n",
       "</pre>\n"
      ],
      "text/plain": [
       "╭──────────────────────────────────────────────── skimpy summary ─────────────────────────────────────────────────╮\n",
       "│ \u001b[3m         Data Summary         \u001b[0m \u001b[3m      Data Types       \u001b[0m                                                          │\n",
       "│ ┏━━━━━━━━━━━━━━━━━━━┳━━━━━━━━┓ ┏━━━━━━━━━━━━━┳━━━━━━━┓                                                          │\n",
       "│ ┃\u001b[1;36m \u001b[0m\u001b[1;36mdataframe        \u001b[0m\u001b[1;36m \u001b[0m┃\u001b[1;36m \u001b[0m\u001b[1;36mValues\u001b[0m\u001b[1;36m \u001b[0m┃ ┃\u001b[1;36m \u001b[0m\u001b[1;36mColumn Type\u001b[0m\u001b[1;36m \u001b[0m┃\u001b[1;36m \u001b[0m\u001b[1;36mCount\u001b[0m\u001b[1;36m \u001b[0m┃                                                          │\n",
       "│ ┡━━━━━━━━━━━━━━━━━━━╇━━━━━━━━┩ ┡━━━━━━━━━━━━━╇━━━━━━━┩                                                          │\n",
       "│ │ Number of rows    │ 499    │ │ string      │ 35    │                                                          │\n",
       "│ │ Number of columns │ 51     │ │ float64     │ 12    │                                                          │\n",
       "│ └───────────────────┴────────┘ │ int64       │ 3     │                                                          │\n",
       "│                                │ bool        │ 1     │                                                          │\n",
       "│                                └─────────────┴───────┘                                                          │\n",
       "│ \u001b[3m                                                    number                                                    \u001b[0m  │\n",
       "│ ┏━━━━━━━━━━━━━━━━━━━━━━━━━━━━━━┳━━━━━━━┳━━━━━━━━┳━━━━━━━━┳━━━━━━━┳━━━━━━━┳━━━━━━━┳━━━━━━━━┳━━━━━━━━┳━━━━━━━━━┓  │\n",
       "│ ┃\u001b[1m \u001b[0m\u001b[1mcolumn_name                 \u001b[0m\u001b[1m \u001b[0m┃\u001b[1m \u001b[0m\u001b[1mNA   \u001b[0m\u001b[1m \u001b[0m┃\u001b[1m \u001b[0m\u001b[1mNA %  \u001b[0m\u001b[1m \u001b[0m┃\u001b[1m \u001b[0m\u001b[1mmean  \u001b[0m\u001b[1m \u001b[0m┃\u001b[1m \u001b[0m\u001b[1msd   \u001b[0m\u001b[1m \u001b[0m┃\u001b[1m \u001b[0m\u001b[1mp0   \u001b[0m\u001b[1m \u001b[0m┃\u001b[1m \u001b[0m\u001b[1mp25  \u001b[0m\u001b[1m \u001b[0m┃\u001b[1m \u001b[0m\u001b[1mp75   \u001b[0m\u001b[1m \u001b[0m┃\u001b[1m \u001b[0m\u001b[1mp100  \u001b[0m\u001b[1m \u001b[0m┃\u001b[1m \u001b[0m\u001b[1mhist   \u001b[0m\u001b[1m \u001b[0m┃  │\n",
       "│ ┡━━━━━━━━━━━━━━━━━━━━━━━━━━━━━━╇━━━━━━━╇━━━━━━━━╇━━━━━━━━╇━━━━━━━╇━━━━━━━╇━━━━━━━╇━━━━━━━━╇━━━━━━━━╇━━━━━━━━━┩  │\n",
       "│ │ \u001b[38;5;141mduration_sec                \u001b[0m │ \u001b[36m    0\u001b[0m │ \u001b[36m     0\u001b[0m │ \u001b[36m  1000\u001b[0m │ \u001b[36m  580\u001b[0m │ \u001b[36m  150\u001b[0m │ \u001b[36m  610\u001b[0m │ \u001b[36m  1200\u001b[0m │ \u001b[36m  5000\u001b[0m │ \u001b[32m  █▅▁  \u001b[0m │  │\n",
       "│ │ \u001b[38;5;141mage                         \u001b[0m │ \u001b[36m    0\u001b[0m │ \u001b[36m     0\u001b[0m │ \u001b[36m    42\u001b[0m │ \u001b[36m   14\u001b[0m │ \u001b[36m   18\u001b[0m │ \u001b[36m   31\u001b[0m │ \u001b[36m    52\u001b[0m │ \u001b[36m    78\u001b[0m │ \u001b[32m▄█▆▄▃▁ \u001b[0m │  │\n",
       "│ │ \u001b[38;5;141mrank_sci_repro              \u001b[0m │ \u001b[36m    0\u001b[0m │ \u001b[36m     0\u001b[0m │ \u001b[36m   5.5\u001b[0m │ \u001b[36m  1.7\u001b[0m │ \u001b[36m    1\u001b[0m │ \u001b[36m    5\u001b[0m │ \u001b[36m     7\u001b[0m │ \u001b[36m     7\u001b[0m │ \u001b[32m  ▁▁▂█ \u001b[0m │  │\n",
       "│ │ \u001b[38;5;141mrank_resp                   \u001b[0m │ \u001b[36m    0\u001b[0m │ \u001b[36m     0\u001b[0m │ \u001b[36m   3.5\u001b[0m │ \u001b[36m  2.1\u001b[0m │ \u001b[36m    1\u001b[0m │ \u001b[36m    2\u001b[0m │ \u001b[36m     5\u001b[0m │ \u001b[36m     7\u001b[0m │ \u001b[32m▇▆▅▅▃█ \u001b[0m │  │\n",
       "│ │ \u001b[38;5;141mrank_just                   \u001b[0m │ \u001b[36m    0\u001b[0m │ \u001b[36m     0\u001b[0m │ \u001b[36m   4.7\u001b[0m │ \u001b[36m  1.7\u001b[0m │ \u001b[36m    1\u001b[0m │ \u001b[36m    4\u001b[0m │ \u001b[36m     6\u001b[0m │ \u001b[36m     7\u001b[0m │ \u001b[32m▁▂▃▄▅█ \u001b[0m │  │\n",
       "│ │ \u001b[38;5;141mrank_anony                  \u001b[0m │ \u001b[36m    0\u001b[0m │ \u001b[36m     0\u001b[0m │ \u001b[36m   3.1\u001b[0m │ \u001b[36m  1.6\u001b[0m │ \u001b[36m    1\u001b[0m │ \u001b[36m    2\u001b[0m │ \u001b[36m     4\u001b[0m │ \u001b[36m     7\u001b[0m │ \u001b[32m▅█▆▄▃▃ \u001b[0m │  │\n",
       "│ │ \u001b[38;5;141mrank_harms                  \u001b[0m │ \u001b[36m    0\u001b[0m │ \u001b[36m     0\u001b[0m │ \u001b[36m   2.7\u001b[0m │ \u001b[36m  1.8\u001b[0m │ \u001b[36m    1\u001b[0m │ \u001b[36m    1\u001b[0m │ \u001b[36m     4\u001b[0m │ \u001b[36m     7\u001b[0m │ \u001b[32m█▄▃▂▂▂ \u001b[0m │  │\n",
       "│ │ \u001b[38;5;141mrank_balance                \u001b[0m │ \u001b[36m    0\u001b[0m │ \u001b[36m     0\u001b[0m │ \u001b[36m     5\u001b[0m │ \u001b[36m  1.6\u001b[0m │ \u001b[36m    1\u001b[0m │ \u001b[36m    4\u001b[0m │ \u001b[36m     6\u001b[0m │ \u001b[36m     7\u001b[0m │ \u001b[32m▁▁▂▂▄█ \u001b[0m │  │\n",
       "│ │ \u001b[38;5;141mrank_pub_interst            \u001b[0m │ \u001b[36m    0\u001b[0m │ \u001b[36m     0\u001b[0m │ \u001b[36m   3.6\u001b[0m │ \u001b[36m  1.8\u001b[0m │ \u001b[36m    1\u001b[0m │ \u001b[36m    2\u001b[0m │ \u001b[36m     5\u001b[0m │ \u001b[36m     7\u001b[0m │ \u001b[32m▅██▇▅▇ \u001b[0m │  │\n",
       "│ │ \u001b[38;5;141mrank_add_fac_1_pos          \u001b[0m │ \u001b[36m  350\u001b[0m │ \u001b[36m    70\u001b[0m │ \u001b[36m   4.4\u001b[0m │ \u001b[36m  3.3\u001b[0m │ \u001b[36m    0\u001b[0m │ \u001b[36m    1\u001b[0m │ \u001b[36m     8\u001b[0m │ \u001b[36m    10\u001b[0m │ \u001b[32m█▂▁▂▇▁ \u001b[0m │  │\n",
       "│ │ \u001b[38;5;141mrank_add_fac_2_pos          \u001b[0m │ \u001b[36m  410\u001b[0m │ \u001b[36m    83\u001b[0m │ \u001b[36m   5.2\u001b[0m │ \u001b[36m  3.8\u001b[0m │ \u001b[36m    0\u001b[0m │ \u001b[36m    2\u001b[0m │ \u001b[36m     9\u001b[0m │ \u001b[36m    10\u001b[0m │ \u001b[32m▄▅ ▁▁█ \u001b[0m │  │\n",
       "│ │ \u001b[38;5;141mrank_add_fac_3_pos          \u001b[0m │ \u001b[36m  420\u001b[0m │ \u001b[36m    84\u001b[0m │ \u001b[36m   5.8\u001b[0m │ \u001b[36m  4.1\u001b[0m │ \u001b[36m    0\u001b[0m │ \u001b[36m    2\u001b[0m │ \u001b[36m    10\u001b[0m │ \u001b[36m    10\u001b[0m │ \u001b[32m▄▄  ▁█ \u001b[0m │  │\n",
       "│ │ \u001b[38;5;141maware_sm_advan_score        \u001b[0m │ \u001b[36m    0\u001b[0m │ \u001b[36m     0\u001b[0m │ \u001b[36m   1.9\u001b[0m │ \u001b[36m  1.2\u001b[0m │ \u001b[36m   -3\u001b[0m │ \u001b[36m    1\u001b[0m │ \u001b[36m     3\u001b[0m │ \u001b[36m     4\u001b[0m │ \u001b[32m ▁▂▅▆█ \u001b[0m │  │\n",
       "│ │ \u001b[38;5;141maware_sm_interact_sc        \u001b[0m │ \u001b[36m    0\u001b[0m │ \u001b[36m     0\u001b[0m │ \u001b[36m   1.3\u001b[0m │ \u001b[36m    1\u001b[0m │ \u001b[36m   -1\u001b[0m │ \u001b[36m    0\u001b[0m │ \u001b[36m     2\u001b[0m │ \u001b[36m     3\u001b[0m │ \u001b[32m▁▆ █▇▃ \u001b[0m │  │\n",
       "│ │ \u001b[38;5;141maware_sm_use_score          \u001b[0m │ \u001b[36m    0\u001b[0m │ \u001b[36m     0\u001b[0m │ \u001b[36m   6.6\u001b[0m │ \u001b[36m  2.4\u001b[0m │ \u001b[36m    0\u001b[0m │ \u001b[36m    5\u001b[0m │ \u001b[36m     9\u001b[0m │ \u001b[36m     9\u001b[0m │ \u001b[32m▁ ▃▂▄█ \u001b[0m │  │\n",
       "│ └──────────────────────────────┴───────┴────────┴────────┴───────┴───────┴───────┴────────┴────────┴─────────┘  │\n",
       "│ \u001b[3m                                                    string                                                    \u001b[0m  │\n",
       "│ ┏━━━━━━━━━━━━━━━━━━━━━━━━━━━━━━━━━━━━━┳━━━━━━━━━┳━━━━━━━━━━━┳━━━━━━━━━━━━━━━━━━━━━━━━━━┳━━━━━━━━━━━━━━━━━━━━━┓  │\n",
       "│ ┃\u001b[1m \u001b[0m\u001b[1mcolumn_name                        \u001b[0m\u001b[1m \u001b[0m┃\u001b[1m \u001b[0m\u001b[1mNA     \u001b[0m\u001b[1m \u001b[0m┃\u001b[1m \u001b[0m\u001b[1mNA %     \u001b[0m\u001b[1m \u001b[0m┃\u001b[1m \u001b[0m\u001b[1mwords per row           \u001b[0m\u001b[1m \u001b[0m┃\u001b[1m \u001b[0m\u001b[1mtotal words        \u001b[0m\u001b[1m \u001b[0m┃  │\n",
       "│ ┡━━━━━━━━━━━━━━━━━━━━━━━━━━━━━━━━━━━━━╇━━━━━━━━━╇━━━━━━━━━━━╇━━━━━━━━━━━━━━━━━━━━━━━━━━╇━━━━━━━━━━━━━━━━━━━━━┩  │\n",
       "│ │ \u001b[38;5;141msm_use                             \u001b[0m │ \u001b[36m      0\u001b[0m │ \u001b[36m        0\u001b[0m │ \u001b[36m                       1\u001b[0m │ \u001b[36m                500\u001b[0m │  │\n",
       "│ │ \u001b[38;5;141mgender_id                          \u001b[0m │ \u001b[36m      0\u001b[0m │ \u001b[36m        0\u001b[0m │ \u001b[36m                       1\u001b[0m │ \u001b[36m                500\u001b[0m │  │\n",
       "│ │ \u001b[38;5;141methnic_id                          \u001b[0m │ \u001b[36m      0\u001b[0m │ \u001b[36m        0\u001b[0m │ \u001b[36m                       1\u001b[0m │ \u001b[36m                500\u001b[0m │  │\n",
       "│ │ \u001b[38;5;141medu                                \u001b[0m │ \u001b[36m      0\u001b[0m │ \u001b[36m        0\u001b[0m │ \u001b[36m                       1\u001b[0m │ \u001b[36m                500\u001b[0m │  │\n",
       "│ │ \u001b[38;5;141mpolitic_views                      \u001b[0m │ \u001b[36m      0\u001b[0m │ \u001b[36m        0\u001b[0m │ \u001b[36m                       1\u001b[0m │ \u001b[36m                500\u001b[0m │  │\n",
       "│ │ \u001b[38;5;141maware_sm_res                       \u001b[0m │ \u001b[36m      0\u001b[0m │ \u001b[36m        0\u001b[0m │ \u001b[36m                       1\u001b[0m │ \u001b[36m                500\u001b[0m │  │\n",
       "│ │ \u001b[38;5;141maware_sm_advan                     \u001b[0m │ \u001b[36m      0\u001b[0m │ \u001b[36m        0\u001b[0m │ \u001b[36m                       1\u001b[0m │ \u001b[36m                500\u001b[0m │  │\n",
       "│ │ \u001b[38;5;141maware_sm_interact                  \u001b[0m │ \u001b[36m      0\u001b[0m │ \u001b[36m        0\u001b[0m │ \u001b[36m                       1\u001b[0m │ \u001b[36m                500\u001b[0m │  │\n",
       "│ │ \u001b[38;5;141maware_sm_use                       \u001b[0m │ \u001b[36m      0\u001b[0m │ \u001b[36m        0\u001b[0m │ \u001b[36m                       1\u001b[0m │ \u001b[36m                500\u001b[0m │  │\n",
       "│ │ \u001b[38;5;141methic_appr                         \u001b[0m │ \u001b[36m      0\u001b[0m │ \u001b[36m        0\u001b[0m │ \u001b[36m                       1\u001b[0m │ \u001b[36m                500\u001b[0m │  │\n",
       "│ │ \u001b[38;5;141mstudy_1_ethic_acc                  \u001b[0m │ \u001b[36m      0\u001b[0m │ \u001b[36m        0\u001b[0m │ \u001b[36m                       1\u001b[0m │ \u001b[36m                500\u001b[0m │  │\n",
       "│ │ \u001b[38;5;141mstudy_1_conc                       \u001b[0m │ \u001b[36m    240\u001b[0m │ \u001b[36m       48\u001b[0m │ \u001b[36m                       1\u001b[0m │ \u001b[36m                500\u001b[0m │  │\n",
       "│ │ \u001b[38;5;141mstudy_1_add_info                   \u001b[0m │ \u001b[36m    410\u001b[0m │ \u001b[36m       82\u001b[0m │ \u001b[36m                       1\u001b[0m │ \u001b[36m                500\u001b[0m │  │\n",
       "│ │ \u001b[38;5;141mstudy_2_ethic_acc                  \u001b[0m │ \u001b[36m      0\u001b[0m │ \u001b[36m        0\u001b[0m │ \u001b[36m                       1\u001b[0m │ \u001b[36m                500\u001b[0m │  │\n",
       "│ │ \u001b[38;5;141mstudy_2_conc                       \u001b[0m │ \u001b[36m    220\u001b[0m │ \u001b[36m       45\u001b[0m │ \u001b[36m                       1\u001b[0m │ \u001b[36m                500\u001b[0m │  │\n",
       "│ │ \u001b[38;5;141mstudy_2_add_info                   \u001b[0m │ \u001b[36m    400\u001b[0m │ \u001b[36m       81\u001b[0m │ \u001b[36m                       1\u001b[0m │ \u001b[36m                500\u001b[0m │  │\n",
       "│ │ \u001b[38;5;141mstudy_3_ethic_acc                  \u001b[0m │ \u001b[36m      0\u001b[0m │ \u001b[36m        0\u001b[0m │ \u001b[36m                       1\u001b[0m │ \u001b[36m                500\u001b[0m │  │\n",
       "│ │ \u001b[38;5;141mstudy_3_conc                       \u001b[0m │ \u001b[36m    270\u001b[0m │ \u001b[36m       54\u001b[0m │ \u001b[36m                       1\u001b[0m │ \u001b[36m                500\u001b[0m │  │\n",
       "│ │ \u001b[38;5;141mstudy_3_add_info                   \u001b[0m │ \u001b[36m    420\u001b[0m │ \u001b[36m       85\u001b[0m │ \u001b[36m                       1\u001b[0m │ \u001b[36m                500\u001b[0m │  │\n",
       "│ │ \u001b[38;5;141mstudy_4_ethic_acc                  \u001b[0m │ \u001b[36m      0\u001b[0m │ \u001b[36m        0\u001b[0m │ \u001b[36m                       1\u001b[0m │ \u001b[36m                500\u001b[0m │  │\n",
       "│ │ \u001b[38;5;141mstudy_4_conc                       \u001b[0m │ \u001b[36m    250\u001b[0m │ \u001b[36m       49\u001b[0m │ \u001b[36m                       1\u001b[0m │ \u001b[36m                500\u001b[0m │  │\n",
       "│ │ \u001b[38;5;141mstudy_4_add_info                   \u001b[0m │ \u001b[36m    410\u001b[0m │ \u001b[36m       83\u001b[0m │ \u001b[36m                       1\u001b[0m │ \u001b[36m                500\u001b[0m │  │\n",
       "│ │ \u001b[38;5;141mdesign_cont                        \u001b[0m │ \u001b[36m      0\u001b[0m │ \u001b[36m        0\u001b[0m │ \u001b[36m                       1\u001b[0m │ \u001b[36m                500\u001b[0m │  │\n",
       "│ │ \u001b[38;5;141mdesign_num_users                   \u001b[0m │ \u001b[36m      0\u001b[0m │ \u001b[36m        0\u001b[0m │ \u001b[36m                       1\u001b[0m │ \u001b[36m                500\u001b[0m │  │\n",
       "│ │ \u001b[38;5;141mdesign_res_purp                    \u001b[0m │ \u001b[36m      0\u001b[0m │ \u001b[36m        0\u001b[0m │ \u001b[36m                       1\u001b[0m │ \u001b[36m                500\u001b[0m │  │\n",
       "│ │ \u001b[38;5;141mdesign_len_data                    \u001b[0m │ \u001b[36m      0\u001b[0m │ \u001b[36m        0\u001b[0m │ \u001b[36m                       1\u001b[0m │ \u001b[36m                500\u001b[0m │  │\n",
       "│ │ \u001b[38;5;141mdesign_admin_inter                 \u001b[0m │ \u001b[36m      0\u001b[0m │ \u001b[36m        0\u001b[0m │ \u001b[36m                       1\u001b[0m │ \u001b[36m                500\u001b[0m │  │\n",
       "│ │ \u001b[38;5;141mdesign_inter_type                  \u001b[0m │ \u001b[36m      0\u001b[0m │ \u001b[36m        0\u001b[0m │ \u001b[36m                       1\u001b[0m │ \u001b[36m                500\u001b[0m │  │\n",
       "│ │ \u001b[38;5;141mdesign_partic_aware                \u001b[0m │ \u001b[36m      0\u001b[0m │ \u001b[36m        0\u001b[0m │ \u001b[36m                       1\u001b[0m │ \u001b[36m                500\u001b[0m │  │\n",
       "│ │ \u001b[38;5;141mdesign_inter_impact                \u001b[0m │ \u001b[36m      0\u001b[0m │ \u001b[36m        0\u001b[0m │ \u001b[36m                       1\u001b[0m │ \u001b[36m                500\u001b[0m │  │\n",
       "│ │ \u001b[38;5;141mdesign_type_data                   \u001b[0m │ \u001b[36m      0\u001b[0m │ \u001b[36m        0\u001b[0m │ \u001b[36m                       1\u001b[0m │ \u001b[36m                500\u001b[0m │  │\n",
       "│ │ \u001b[38;5;141mdesign_add_fac                     \u001b[0m │ \u001b[36m    300\u001b[0m │ \u001b[36m       60\u001b[0m │ \u001b[36m                       1\u001b[0m │ \u001b[36m                500\u001b[0m │  │\n",
       "│ │ \u001b[38;5;141mrank_add_fac_1                     \u001b[0m │ \u001b[36m    420\u001b[0m │ \u001b[36m       84\u001b[0m │ \u001b[36m                       1\u001b[0m │ \u001b[36m                500\u001b[0m │  │\n",
       "│ │ \u001b[38;5;141mrank_add_fac_2                     \u001b[0m │ \u001b[36m    470\u001b[0m │ \u001b[36m       95\u001b[0m │ \u001b[36m                       1\u001b[0m │ \u001b[36m                500\u001b[0m │  │\n",
       "│ │ \u001b[38;5;141mrank_add_fac_3                     \u001b[0m │ \u001b[36m    480\u001b[0m │ \u001b[36m       96\u001b[0m │ \u001b[36m                       1\u001b[0m │ \u001b[36m                500\u001b[0m │  │\n",
       "│ └─────────────────────────────────────┴─────────┴───────────┴──────────────────────────┴─────────────────────┘  │\n",
       "│ \u001b[3m                                                     bool                                                     \u001b[0m  │\n",
       "│ ┏━━━━━━━━━━━━━━━━━━━━━━━━━━━━━━━━━━━━┳━━━━━━━━━━━━━━━━━┳━━━━━━━━━━━━━━━━━━━━━━━━━━━━━━━┳━━━━━━━━━━━━━━━━━━━━━┓  │\n",
       "│ ┃\u001b[1m \u001b[0m\u001b[1mcolumn_name                       \u001b[0m\u001b[1m \u001b[0m┃\u001b[1m \u001b[0m\u001b[1mtrue           \u001b[0m\u001b[1m \u001b[0m┃\u001b[1m \u001b[0m\u001b[1mtrue rate                    \u001b[0m\u001b[1m \u001b[0m┃\u001b[1m \u001b[0m\u001b[1mhist               \u001b[0m\u001b[1m \u001b[0m┃  │\n",
       "│ ┡━━━━━━━━━━━━━━━━━━━━━━━━━━━━━━━━━━━━╇━━━━━━━━━━━━━━━━━╇━━━━━━━━━━━━━━━━━━━━━━━━━━━━━━━╇━━━━━━━━━━━━━━━━━━━━━┩  │\n",
       "│ │ \u001b[38;5;141mfinished                          \u001b[0m │ \u001b[36m            500\u001b[0m │ \u001b[36m                            1\u001b[0m │ \u001b[32m          █        \u001b[0m │  │\n",
       "│ └────────────────────────────────────┴─────────────────┴───────────────────────────────┴─────────────────────┘  │\n",
       "╰────────────────────────────────────────────────────── End ──────────────────────────────────────────────────────╯\n"
      ]
     },
     "metadata": {},
     "output_type": "display_data"
    }
   ],
   "source": [
    "skim(digex_df)"
   ]
  },
  {
   "cell_type": "markdown",
   "id": "2a76b07e-537b-4fde-b110-664ee1f4c6a6",
   "metadata": {},
   "source": [
    "### Survey experience "
   ]
  },
  {
   "cell_type": "markdown",
   "id": "cabd3b94-dff3-4475-ad6c-86dbc7b6902a",
   "metadata": {},
   "source": [
    "#### Number of complete survey participants"
   ]
  },
  {
   "cell_type": "code",
   "execution_count": 10,
   "id": "c6244f4a-948e-497c-b313-0d54c2f0e4a8",
   "metadata": {},
   "outputs": [
    {
     "name": "stdout",
     "output_type": "stream",
     "text": [
      "499\n"
     ]
    }
   ],
   "source": [
    "completed_p = completed_participants(digex_df)\n",
    "print(completed_p)"
   ]
  },
  {
   "cell_type": "markdown",
   "id": "0fd05de9-4ed9-4d56-be5f-89c203ace259",
   "metadata": {},
   "source": [
    "#### Response rate"
   ]
  },
  {
   "cell_type": "code",
   "execution_count": 11,
   "id": "4377075c-3db9-4937-9bd5-a5a2b89f77fd",
   "metadata": {},
   "outputs": [
    {
     "name": "stdout",
     "output_type": "stream",
     "text": [
      "499 per 500\n"
     ]
    }
   ],
   "source": [
    "response_r = response_rate(digex_df, as_percentage=False)\n",
    "print(response_r)"
   ]
  },
  {
   "cell_type": "code",
   "execution_count": 12,
   "id": "ca70ba58-eae6-4ce9-8d94-f35107c9af21",
   "metadata": {},
   "outputs": [
    {
     "name": "stdout",
     "output_type": "stream",
     "text": [
      "99.8 %\n"
     ]
    }
   ],
   "source": [
    "response_perc = response_rate(digex_df, as_percentage=True)\n",
    "print(response_perc,'%')"
   ]
  },
  {
   "cell_type": "markdown",
   "id": "15d3c401-7d6b-49a9-ac5b-791a40390994",
   "metadata": {},
   "source": [
    "#### Number of screened out participants"
   ]
  },
  {
   "cell_type": "code",
   "execution_count": 13,
   "id": "435bae73-f7c4-410f-a354-2fb0eb9b4c60",
   "metadata": {},
   "outputs": [
    {
     "name": "stdout",
     "output_type": "stream",
     "text": [
      "1\n"
     ]
    }
   ],
   "source": [
    "print(PARTICIPANT_COUNT - completed_p)"
   ]
  },
  {
   "cell_type": "markdown",
   "id": "7b2a9627-efea-47c3-a5ac-66581914ac4b",
   "metadata": {},
   "source": [
    "#### Completion time"
   ]
  },
  {
   "cell_type": "code",
   "execution_count": 20,
   "id": "e260bbf3-63f3-41ac-b3a8-58cd6df6e9c8",
   "metadata": {},
   "outputs": [
    {
     "name": "stdout",
     "output_type": "stream",
     "text": [
      "count                          499\n",
      "mean     0 days 00:16:50.851703406\n",
      "std      0 days 00:09:43.182528457\n",
      "min                0 days 00:02:30\n",
      "25%                0 days 00:10:08\n",
      "50%                0 days 00:14:48\n",
      "75%                0 days 00:20:39\n",
      "max                0 days 01:23:47\n",
      "Name: duration_sec, dtype: object\n"
     ]
    }
   ],
   "source": [
    "times_min = completion_time(digex_df, time_unit='min')\n",
    "print(times_min)"
   ]
  },
  {
   "cell_type": "code",
   "execution_count": 66,
   "id": "b578f312-8894-48dc-b6f8-076bf1fe5a97",
   "metadata": {},
   "outputs": [
    {
     "data": {
      "text/plain": [
       "<AxesSubplot:ylabel='Frequency'>"
      ]
     },
     "execution_count": 66,
     "metadata": {},
     "output_type": "execute_result"
    },
    {
     "data": {
      "image/png": "[encoded data removed]",
      "text/plain": [
       "<Figure size 432x288 with 1 Axes>"
      ]
     },
     "metadata": {
      "needs_background": "light"
     },
     "output_type": "display_data"
    }
   ],
   "source": [
    "digex_df['duration_min'] = pd.to_timedelta(\n",
    "    digex_df['duration_sec'], 's').round('T')\n",
    "\n",
    "digex_df['duration_min'].astype('timedelta64[m]').plot.hist()"
   ]
  },
  {
   "cell_type": "markdown",
   "id": "dee96b99-2877-4232-b440-d2c491b77dd5",
   "metadata": {},
   "source": [
    "### Demographics"
   ]
  },
  {
   "cell_type": "markdown",
   "id": "7b7b212f-1b85-46fb-a5cf-c66a087f5a09",
   "metadata": {},
   "source": [
    "Copy table but make pretty in: https://journals.sagepub.com/doi/pdf/10.1177/20563051211033824"
   ]
  },
  {
   "cell_type": "code",
   "execution_count": null,
   "id": "4075ec33-5275-49e2-8a2b-4203fbc18aa8",
   "metadata": {},
   "outputs": [],
   "source": []
  },
  {
   "cell_type": "code",
   "execution_count": null,
   "id": "095bab77-5c2f-495b-ba1f-3f6a9dd2ba0c",
   "metadata": {},
   "outputs": [],
   "source": []
  },
  {
   "cell_type": "markdown",
   "id": "109da723-8f69-4f60-b1df-4253a9d1539b",
   "metadata": {
    "tags": []
   },
   "source": [
    "## Create script"
   ]
  },
  {
   "cell_type": "code",
   "execution_count": 16,
   "id": "17932126-a637-41a5-b958-1a246b888263",
   "metadata": {},
   "outputs": [],
   "source": [
    "# %%writefile digex_src/get_summary_statistics.py\n",
    "\n",
    "import datetime\n",
    "\n",
    "\n",
    "PARTICIPANT_COUNT = config.PARTICIPANT_COUNT\n",
    "DECIMAL_PLACES = config.DECIMAL_PLACES\n",
    "\n",
    "\n",
    "def completed_participants(df, col='finished'):\n",
    "    return df.loc[df[col] == True][col].sum()\n",
    "\n",
    "\n",
    "def response_rate(df, \n",
    "                  col='finished', \n",
    "                  as_percentage=True, \n",
    "                  total=config.PARTICIPANT_COUNT,\n",
    "):\n",
    "    if as_percentage:\n",
    "        i = (df.loc[df[col] == True][col].sum() / total) * 100\n",
    "        return i\n",
    "    else:\n",
    "        r = df.loc[df[col] == True][col].sum()\n",
    "        return f'{r} per {total}'\n",
    "    \n",
    "    \n",
    "def completion_time(df, col='duration_sec', time_unit='sec'):\n",
    "    if time_unit == 'sec':\n",
    "        return df[col].describe()\n",
    "    elif time_unit == 'min':\n",
    "        return pd.to_timedelta(df[col], 's').describe()"
   ]
  }
 ],
 "metadata": {
  "kernelspec": {
   "display_name": "Python 3 (ipykernel)",
   "language": "python",
   "name": "python3"
  },
  "language_info": {
   "codemirror_mode": {
    "name": "ipython",
    "version": 3
   },
   "file_extension": ".py",
   "mimetype": "text/x-python",
   "name": "python",
   "nbconvert_exporter": "python",
   "pygments_lexer": "ipython3",
   "version": "3.9.12"
  }
 },
 "nbformat": 4,
 "nbformat_minor": 5
}
