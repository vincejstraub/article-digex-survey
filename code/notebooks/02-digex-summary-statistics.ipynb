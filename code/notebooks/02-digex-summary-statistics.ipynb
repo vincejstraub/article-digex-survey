{
 "cells": [
  {
   "cell_type": "markdown",
   "id": "20d1b0e3-e966-4f91-88e5-0f26ed5554f8",
   "metadata": {},
   "source": [
    "# Summary statistics "
   ]
  },
  {
   "cell_type": "markdown",
   "id": "6cbd674e-5ab7-4abd-b5f9-c6b41e69aafa",
   "metadata": {},
   "source": [
    "This notebook contains code for the analysis of summary statistics for data used in the project: Public attitudes and ethical guidelines in digital field experiments (digex)."
   ]
  },
  {
   "cell_type": "markdown",
   "id": "0e734fff-a286-48e5-a5ac-a51eeceb6871",
   "metadata": {},
   "source": [
    "## Set working directory"
   ]
  },
  {
   "cell_type": "code",
   "execution_count": 1,
   "id": "58aad47d-1892-4c10-81bb-dc47ae4f4d08",
   "metadata": {},
   "outputs": [],
   "source": [
    "import pathlib   # Change cwd\n",
    "import os \n",
    "\n",
    "path = pathlib.Path.cwd().parent\n",
    "os.chdir(path)"
   ]
  },
  {
   "cell_type": "markdown",
   "id": "efa27ad6-b68d-4b46-a252-2591ff578ba2",
   "metadata": {
    "tags": []
   },
   "source": [
    "## Imports"
   ]
  },
  {
   "cell_type": "code",
   "execution_count": 2,
   "id": "b3efc572-dded-4634-ba37-b8ef7ac696a2",
   "metadata": {},
   "outputs": [],
   "source": [
    "import pathlib   # Standard library\n",
    "\n",
    "import yaml   # 3rd party packages\n",
    "import joypy\n",
    "import statistics\n",
    "import pandas as pd\n",
    "import numpy as np\n",
    "from skimpy import skim\n",
    "from matplotlib import pyplot as plt\n",
    "\n",
    "from digex_src import config    # Local imports\n",
    "from digex_src import preprocess\n",
    "from digex_src import get_summary_statistics\n",
    "from digex_src.load_data import get_data_filepath"
   ]
  },
  {
   "cell_type": "markdown",
   "id": "82c310f5-9a30-4016-95be-74971cc942a6",
   "metadata": {
    "tags": []
   },
   "source": [
    "## load processed data"
   ]
  },
  {
   "cell_type": "code",
   "execution_count": 3,
   "id": "9e7fbd20-87ed-481a-9911-d755c1fac590",
   "metadata": {},
   "outputs": [
    {
     "data": {
      "text/html": [
       "<div>\n",
       "<style scoped>\n",
       "    .dataframe tbody tr th:only-of-type {\n",
       "        vertical-align: middle;\n",
       "    }\n",
       "\n",
       "    .dataframe tbody tr th {\n",
       "        vertical-align: top;\n",
       "    }\n",
       "\n",
       "    .dataframe thead th {\n",
       "        text-align: right;\n",
       "    }\n",
       "</style>\n",
       "<table border=\"1\" class=\"dataframe\">\n",
       "  <thead>\n",
       "    <tr style=\"text-align: right;\">\n",
       "      <th></th>\n",
       "      <th>finished</th>\n",
       "      <th>duration_sec</th>\n",
       "      <th>sm_use</th>\n",
       "      <th>age</th>\n",
       "      <th>gender_id</th>\n",
       "      <th>ethnic_id</th>\n",
       "      <th>edu</th>\n",
       "      <th>politic_views</th>\n",
       "      <th>aware_sm_res</th>\n",
       "      <th>aware_sm_advan</th>\n",
       "      <th>...</th>\n",
       "      <th>rank_anony</th>\n",
       "      <th>rank_harms</th>\n",
       "      <th>rank_balance</th>\n",
       "      <th>rank_pub_interst</th>\n",
       "      <th>rank_add_fac_1</th>\n",
       "      <th>rank_add_fac_1_pos</th>\n",
       "      <th>rank_add_fac_2</th>\n",
       "      <th>rank_add_fac_2_pos</th>\n",
       "      <th>rank_add_fac_3</th>\n",
       "      <th>rank_add_fac_3_pos</th>\n",
       "    </tr>\n",
       "  </thead>\n",
       "  <tbody>\n",
       "    <tr>\n",
       "      <th>1</th>\n",
       "      <td>True</td>\n",
       "      <td>912.0</td>\n",
       "      <td>Facebook</td>\n",
       "      <td>29.0</td>\n",
       "      <td>Male</td>\n",
       "      <td>Asian - Eastern</td>\n",
       "      <td>Highschool</td>\n",
       "      <td>Slightly liberal</td>\n",
       "      <td>Extremely aware</td>\n",
       "      <td>['… are large and can contain millions of data...</td>\n",
       "      <td>...</td>\n",
       "      <td>6.0</td>\n",
       "      <td>4.0</td>\n",
       "      <td>3.0</td>\n",
       "      <td>1.0</td>\n",
       "      <td>NaN</td>\n",
       "      <td>NaN</td>\n",
       "      <td>NaN</td>\n",
       "      <td>NaN</td>\n",
       "      <td>NaN</td>\n",
       "      <td>NaN</td>\n",
       "    </tr>\n",
       "    <tr>\n",
       "      <th>2</th>\n",
       "      <td>True</td>\n",
       "      <td>720.0</td>\n",
       "      <td>Twitter</td>\n",
       "      <td>33.0</td>\n",
       "      <td>Male</td>\n",
       "      <td>Mixed race</td>\n",
       "      <td>Highschool</td>\n",
       "      <td>Neutral/ Neither conservative or liberal</td>\n",
       "      <td>Moderately aware</td>\n",
       "      <td>['… are large and can contain millions of data...</td>\n",
       "      <td>...</td>\n",
       "      <td>6.0</td>\n",
       "      <td>1.0</td>\n",
       "      <td>7.0</td>\n",
       "      <td>4.0</td>\n",
       "      <td>NaN</td>\n",
       "      <td>NaN</td>\n",
       "      <td>NaN</td>\n",
       "      <td>NaN</td>\n",
       "      <td>NaN</td>\n",
       "      <td>NaN</td>\n",
       "    </tr>\n",
       "    <tr>\n",
       "      <th>3</th>\n",
       "      <td>True</td>\n",
       "      <td>1874.0</td>\n",
       "      <td>Facebook</td>\n",
       "      <td>33.0</td>\n",
       "      <td>Female</td>\n",
       "      <td>Pacific Islander</td>\n",
       "      <td>Bachelor's degree</td>\n",
       "      <td>Very liberal</td>\n",
       "      <td>Extremely aware</td>\n",
       "      <td>['… are large and can contain millions of data...</td>\n",
       "      <td>...</td>\n",
       "      <td>3.0</td>\n",
       "      <td>2.0</td>\n",
       "      <td>4.0</td>\n",
       "      <td>1.0</td>\n",
       "      <td>NaN</td>\n",
       "      <td>NaN</td>\n",
       "      <td>NaN</td>\n",
       "      <td>NaN</td>\n",
       "      <td>NaN</td>\n",
       "      <td>NaN</td>\n",
       "    </tr>\n",
       "    <tr>\n",
       "      <th>4</th>\n",
       "      <td>True</td>\n",
       "      <td>1264.0</td>\n",
       "      <td>Facebook</td>\n",
       "      <td>73.0</td>\n",
       "      <td>Female</td>\n",
       "      <td>White / Caucasian</td>\n",
       "      <td>Highschool</td>\n",
       "      <td>Slightly conservative</td>\n",
       "      <td>Moderately aware</td>\n",
       "      <td>['… are large and can contain millions of data...</td>\n",
       "      <td>...</td>\n",
       "      <td>3.0</td>\n",
       "      <td>4.0</td>\n",
       "      <td>5.0</td>\n",
       "      <td>1.0</td>\n",
       "      <td>NaN</td>\n",
       "      <td>8.0</td>\n",
       "      <td>NaN</td>\n",
       "      <td>NaN</td>\n",
       "      <td>NaN</td>\n",
       "      <td>NaN</td>\n",
       "    </tr>\n",
       "    <tr>\n",
       "      <th>5</th>\n",
       "      <td>True</td>\n",
       "      <td>556.0</td>\n",
       "      <td>Twitter</td>\n",
       "      <td>27.0</td>\n",
       "      <td>Female</td>\n",
       "      <td>Native-American</td>\n",
       "      <td>Highschool</td>\n",
       "      <td>Very liberal</td>\n",
       "      <td>Extremely aware</td>\n",
       "      <td>['… often capture social relationships not fou...</td>\n",
       "      <td>...</td>\n",
       "      <td>2.0</td>\n",
       "      <td>4.0</td>\n",
       "      <td>6.0</td>\n",
       "      <td>7.0</td>\n",
       "      <td>NaN</td>\n",
       "      <td>NaN</td>\n",
       "      <td>NaN</td>\n",
       "      <td>NaN</td>\n",
       "      <td>NaN</td>\n",
       "      <td>NaN</td>\n",
       "    </tr>\n",
       "  </tbody>\n",
       "</table>\n",
       "<p>5 rows × 51 columns</p>\n",
       "</div>"
      ],
      "text/plain": [
       "   finished  duration_sec    sm_use   age gender_id          ethnic_id  \\\n",
       "1      True         912.0  Facebook  29.0      Male    Asian - Eastern   \n",
       "2      True         720.0   Twitter  33.0      Male         Mixed race   \n",
       "3      True        1874.0  Facebook  33.0    Female   Pacific Islander   \n",
       "4      True        1264.0  Facebook  73.0    Female  White / Caucasian   \n",
       "5      True         556.0   Twitter  27.0    Female    Native-American   \n",
       "\n",
       "                 edu                             politic_views  \\\n",
       "1         Highschool                          Slightly liberal   \n",
       "2         Highschool  Neutral/ Neither conservative or liberal   \n",
       "3  Bachelor's degree                              Very liberal   \n",
       "4         Highschool                     Slightly conservative   \n",
       "5         Highschool                              Very liberal   \n",
       "\n",
       "       aware_sm_res                                     aware_sm_advan  ...  \\\n",
       "1   Extremely aware  ['… are large and can contain millions of data...  ...   \n",
       "2  Moderately aware  ['… are large and can contain millions of data...  ...   \n",
       "3   Extremely aware  ['… are large and can contain millions of data...  ...   \n",
       "4  Moderately aware  ['… are large and can contain millions of data...  ...   \n",
       "5   Extremely aware  ['… often capture social relationships not fou...  ...   \n",
       "\n",
       "  rank_anony rank_harms  rank_balance  rank_pub_interst  rank_add_fac_1  \\\n",
       "1        6.0        4.0           3.0               1.0             NaN   \n",
       "2        6.0        1.0           7.0               4.0             NaN   \n",
       "3        3.0        2.0           4.0               1.0             NaN   \n",
       "4        3.0        4.0           5.0               1.0             NaN   \n",
       "5        2.0        4.0           6.0               7.0             NaN   \n",
       "\n",
       "  rank_add_fac_1_pos rank_add_fac_2 rank_add_fac_2_pos rank_add_fac_3  \\\n",
       "1                NaN            NaN                NaN            NaN   \n",
       "2                NaN            NaN                NaN            NaN   \n",
       "3                NaN            NaN                NaN            NaN   \n",
       "4                8.0            NaN                NaN            NaN   \n",
       "5                NaN            NaN                NaN            NaN   \n",
       "\n",
       "  rank_add_fac_3_pos  \n",
       "1                NaN  \n",
       "2                NaN  \n",
       "3                NaN  \n",
       "4                NaN  \n",
       "5                NaN  \n",
       "\n",
       "[5 rows x 51 columns]"
      ]
     },
     "execution_count": 3,
     "metadata": {},
     "output_type": "execute_result"
    }
   ],
   "source": [
    "processed_data_path = get_data_filepath(\n",
    "    file=config.PROCESSED_DATA_FILEPATH, \n",
    "    data_path=config.PROCESSED_DATA_DIR,\n",
    "    main=False\n",
    ") \n",
    "\n",
    "digex_df = pd.read_csv(processed_data_path, index_col=0)\n",
    "\n",
    "digex_df.head()"
   ]
  },
  {
   "cell_type": "markdown",
   "id": "3adbd602-44b3-4071-a5c7-57ffa16625c7",
   "metadata": {},
   "source": [
    "## Summary statistics"
   ]
  },
  {
   "cell_type": "markdown",
   "id": "efde1569-fe13-47ad-b401-15cac7be037d",
   "metadata": {},
   "source": [
    "Variables examined: 0-14 (see variable-table.html)"
   ]
  },
  {
   "cell_type": "markdown",
   "id": "114c4da2-2e22-44e9-a172-b7bf19dd43f5",
   "metadata": {},
   "source": [
    "### Overview"
   ]
  },
  {
   "cell_type": "code",
   "execution_count": 4,
   "id": "eccf6ce8-0be9-41e0-b35f-254cea3643c7",
   "metadata": {},
   "outputs": [
    {
     "data": {
      "text/html": [
       "<pre style=\"white-space:pre;overflow-x:auto;line-height:normal;font-family:Menlo,'DejaVu Sans Mono',consolas,'Courier New',monospace\">╭──────────────────────────────────────────────── skimpy summary ─────────────────────────────────────────────────╮\n",
       "│ <span style=\"font-style: italic\">         Data Summary         </span> <span style=\"font-style: italic\">      Data Types       </span>                                                          │\n",
       "│ ┏━━━━━━━━━━━━━━━━━━━┳━━━━━━━━┓ ┏━━━━━━━━━━━━━┳━━━━━━━┓                                                          │\n",
       "│ ┃<span style=\"color: #008080; text-decoration-color: #008080; font-weight: bold\"> dataframe         </span>┃<span style=\"color: #008080; text-decoration-color: #008080; font-weight: bold\"> Values </span>┃ ┃<span style=\"color: #008080; text-decoration-color: #008080; font-weight: bold\"> Column Type </span>┃<span style=\"color: #008080; text-decoration-color: #008080; font-weight: bold\"> Count </span>┃                                                          │\n",
       "│ ┡━━━━━━━━━━━━━━━━━━━╇━━━━━━━━┩ ┡━━━━━━━━━━━━━╇━━━━━━━┩                                                          │\n",
       "│ │ Number of rows    │ 499    │ │ string      │ 35    │                                                          │\n",
       "│ │ Number of columns │ 51     │ │ float64     │ 12    │                                                          │\n",
       "│ └───────────────────┴────────┘ │ int64       │ 3     │                                                          │\n",
       "│                                │ bool        │ 1     │                                                          │\n",
       "│                                └─────────────┴───────┘                                                          │\n",
       "│ <span style=\"font-style: italic\">                                                    number                                                    </span>  │\n",
       "│ ┏━━━━━━━━━━━━━━━━━━━━━━━━━━━━━━┳━━━━━━━┳━━━━━━━━┳━━━━━━━━┳━━━━━━━┳━━━━━━━┳━━━━━━━┳━━━━━━━━┳━━━━━━━━┳━━━━━━━━━┓  │\n",
       "│ ┃<span style=\"font-weight: bold\"> column_name                  </span>┃<span style=\"font-weight: bold\"> NA    </span>┃<span style=\"font-weight: bold\"> NA %   </span>┃<span style=\"font-weight: bold\"> mean   </span>┃<span style=\"font-weight: bold\"> sd    </span>┃<span style=\"font-weight: bold\"> p0    </span>┃<span style=\"font-weight: bold\"> p25   </span>┃<span style=\"font-weight: bold\"> p75    </span>┃<span style=\"font-weight: bold\"> p100   </span>┃<span style=\"font-weight: bold\"> hist    </span>┃  │\n",
       "│ ┡━━━━━━━━━━━━━━━━━━━━━━━━━━━━━━╇━━━━━━━╇━━━━━━━━╇━━━━━━━━╇━━━━━━━╇━━━━━━━╇━━━━━━━╇━━━━━━━━╇━━━━━━━━╇━━━━━━━━━┩  │\n",
       "│ │ <span style=\"color: #af87ff; text-decoration-color: #af87ff\">duration_sec                </span> │ <span style=\"color: #008080; text-decoration-color: #008080\">    0</span> │ <span style=\"color: #008080; text-decoration-color: #008080\">     0</span> │ <span style=\"color: #008080; text-decoration-color: #008080\">  1000</span> │ <span style=\"color: #008080; text-decoration-color: #008080\">  580</span> │ <span style=\"color: #008080; text-decoration-color: #008080\">  150</span> │ <span style=\"color: #008080; text-decoration-color: #008080\">  610</span> │ <span style=\"color: #008080; text-decoration-color: #008080\">  1200</span> │ <span style=\"color: #008080; text-decoration-color: #008080\">  5000</span> │ <span style=\"color: #008000; text-decoration-color: #008000\">  █▅▁  </span> │  │\n",
       "│ │ <span style=\"color: #af87ff; text-decoration-color: #af87ff\">age                         </span> │ <span style=\"color: #008080; text-decoration-color: #008080\">    0</span> │ <span style=\"color: #008080; text-decoration-color: #008080\">     0</span> │ <span style=\"color: #008080; text-decoration-color: #008080\">    42</span> │ <span style=\"color: #008080; text-decoration-color: #008080\">   14</span> │ <span style=\"color: #008080; text-decoration-color: #008080\">   18</span> │ <span style=\"color: #008080; text-decoration-color: #008080\">   31</span> │ <span style=\"color: #008080; text-decoration-color: #008080\">    52</span> │ <span style=\"color: #008080; text-decoration-color: #008080\">    78</span> │ <span style=\"color: #008000; text-decoration-color: #008000\">▄█▆▄▃▁ </span> │  │\n",
       "│ │ <span style=\"color: #af87ff; text-decoration-color: #af87ff\">aware_sm_advan_score        </span> │ <span style=\"color: #008080; text-decoration-color: #008080\">    0</span> │ <span style=\"color: #008080; text-decoration-color: #008080\">     0</span> │ <span style=\"color: #008080; text-decoration-color: #008080\">   1.9</span> │ <span style=\"color: #008080; text-decoration-color: #008080\">  1.2</span> │ <span style=\"color: #008080; text-decoration-color: #008080\">   -3</span> │ <span style=\"color: #008080; text-decoration-color: #008080\">    1</span> │ <span style=\"color: #008080; text-decoration-color: #008080\">     3</span> │ <span style=\"color: #008080; text-decoration-color: #008080\">     4</span> │ <span style=\"color: #008000; text-decoration-color: #008000\"> ▁▂▅▆█ </span> │  │\n",
       "│ │ <span style=\"color: #af87ff; text-decoration-color: #af87ff\">aware_sm_interact_sc        </span> │ <span style=\"color: #008080; text-decoration-color: #008080\">    0</span> │ <span style=\"color: #008080; text-decoration-color: #008080\">     0</span> │ <span style=\"color: #008080; text-decoration-color: #008080\">   1.3</span> │ <span style=\"color: #008080; text-decoration-color: #008080\">    1</span> │ <span style=\"color: #008080; text-decoration-color: #008080\">   -1</span> │ <span style=\"color: #008080; text-decoration-color: #008080\">    0</span> │ <span style=\"color: #008080; text-decoration-color: #008080\">     2</span> │ <span style=\"color: #008080; text-decoration-color: #008080\">     3</span> │ <span style=\"color: #008000; text-decoration-color: #008000\">▁▆ █▇▃ </span> │  │\n",
       "│ │ <span style=\"color: #af87ff; text-decoration-color: #af87ff\">aware_sm_use_score          </span> │ <span style=\"color: #008080; text-decoration-color: #008080\">    0</span> │ <span style=\"color: #008080; text-decoration-color: #008080\">     0</span> │ <span style=\"color: #008080; text-decoration-color: #008080\">   6.6</span> │ <span style=\"color: #008080; text-decoration-color: #008080\">  2.4</span> │ <span style=\"color: #008080; text-decoration-color: #008080\">    0</span> │ <span style=\"color: #008080; text-decoration-color: #008080\">    5</span> │ <span style=\"color: #008080; text-decoration-color: #008080\">     9</span> │ <span style=\"color: #008080; text-decoration-color: #008080\">     9</span> │ <span style=\"color: #008000; text-decoration-color: #008000\">▁ ▃▂▄█ </span> │  │\n",
       "│ │ <span style=\"color: #af87ff; text-decoration-color: #af87ff\">rank_sci_repro              </span> │ <span style=\"color: #008080; text-decoration-color: #008080\">    0</span> │ <span style=\"color: #008080; text-decoration-color: #008080\">     0</span> │ <span style=\"color: #008080; text-decoration-color: #008080\">   5.5</span> │ <span style=\"color: #008080; text-decoration-color: #008080\">  1.7</span> │ <span style=\"color: #008080; text-decoration-color: #008080\">    1</span> │ <span style=\"color: #008080; text-decoration-color: #008080\">    5</span> │ <span style=\"color: #008080; text-decoration-color: #008080\">     7</span> │ <span style=\"color: #008080; text-decoration-color: #008080\">     7</span> │ <span style=\"color: #008000; text-decoration-color: #008000\">  ▁▁▂█ </span> │  │\n",
       "│ │ <span style=\"color: #af87ff; text-decoration-color: #af87ff\">rank_resp                   </span> │ <span style=\"color: #008080; text-decoration-color: #008080\">    0</span> │ <span style=\"color: #008080; text-decoration-color: #008080\">     0</span> │ <span style=\"color: #008080; text-decoration-color: #008080\">   3.5</span> │ <span style=\"color: #008080; text-decoration-color: #008080\">  2.1</span> │ <span style=\"color: #008080; text-decoration-color: #008080\">    1</span> │ <span style=\"color: #008080; text-decoration-color: #008080\">    2</span> │ <span style=\"color: #008080; text-decoration-color: #008080\">     5</span> │ <span style=\"color: #008080; text-decoration-color: #008080\">     7</span> │ <span style=\"color: #008000; text-decoration-color: #008000\">▇▆▅▅▃█ </span> │  │\n",
       "│ │ <span style=\"color: #af87ff; text-decoration-color: #af87ff\">rank_just                   </span> │ <span style=\"color: #008080; text-decoration-color: #008080\">    0</span> │ <span style=\"color: #008080; text-decoration-color: #008080\">     0</span> │ <span style=\"color: #008080; text-decoration-color: #008080\">   4.7</span> │ <span style=\"color: #008080; text-decoration-color: #008080\">  1.7</span> │ <span style=\"color: #008080; text-decoration-color: #008080\">    1</span> │ <span style=\"color: #008080; text-decoration-color: #008080\">    4</span> │ <span style=\"color: #008080; text-decoration-color: #008080\">     6</span> │ <span style=\"color: #008080; text-decoration-color: #008080\">     7</span> │ <span style=\"color: #008000; text-decoration-color: #008000\">▁▂▃▄▅█ </span> │  │\n",
       "│ │ <span style=\"color: #af87ff; text-decoration-color: #af87ff\">rank_anony                  </span> │ <span style=\"color: #008080; text-decoration-color: #008080\">    0</span> │ <span style=\"color: #008080; text-decoration-color: #008080\">     0</span> │ <span style=\"color: #008080; text-decoration-color: #008080\">   3.1</span> │ <span style=\"color: #008080; text-decoration-color: #008080\">  1.6</span> │ <span style=\"color: #008080; text-decoration-color: #008080\">    1</span> │ <span style=\"color: #008080; text-decoration-color: #008080\">    2</span> │ <span style=\"color: #008080; text-decoration-color: #008080\">     4</span> │ <span style=\"color: #008080; text-decoration-color: #008080\">     7</span> │ <span style=\"color: #008000; text-decoration-color: #008000\">▅█▆▄▃▃ </span> │  │\n",
       "│ │ <span style=\"color: #af87ff; text-decoration-color: #af87ff\">rank_harms                  </span> │ <span style=\"color: #008080; text-decoration-color: #008080\">    0</span> │ <span style=\"color: #008080; text-decoration-color: #008080\">     0</span> │ <span style=\"color: #008080; text-decoration-color: #008080\">   2.7</span> │ <span style=\"color: #008080; text-decoration-color: #008080\">  1.8</span> │ <span style=\"color: #008080; text-decoration-color: #008080\">    1</span> │ <span style=\"color: #008080; text-decoration-color: #008080\">    1</span> │ <span style=\"color: #008080; text-decoration-color: #008080\">     4</span> │ <span style=\"color: #008080; text-decoration-color: #008080\">     7</span> │ <span style=\"color: #008000; text-decoration-color: #008000\">█▄▃▂▂▂ </span> │  │\n",
       "│ │ <span style=\"color: #af87ff; text-decoration-color: #af87ff\">rank_balance                </span> │ <span style=\"color: #008080; text-decoration-color: #008080\">    0</span> │ <span style=\"color: #008080; text-decoration-color: #008080\">     0</span> │ <span style=\"color: #008080; text-decoration-color: #008080\">     5</span> │ <span style=\"color: #008080; text-decoration-color: #008080\">  1.6</span> │ <span style=\"color: #008080; text-decoration-color: #008080\">    1</span> │ <span style=\"color: #008080; text-decoration-color: #008080\">    4</span> │ <span style=\"color: #008080; text-decoration-color: #008080\">     6</span> │ <span style=\"color: #008080; text-decoration-color: #008080\">     7</span> │ <span style=\"color: #008000; text-decoration-color: #008000\">▁▁▂▂▄█ </span> │  │\n",
       "│ │ <span style=\"color: #af87ff; text-decoration-color: #af87ff\">rank_pub_interst            </span> │ <span style=\"color: #008080; text-decoration-color: #008080\">    0</span> │ <span style=\"color: #008080; text-decoration-color: #008080\">     0</span> │ <span style=\"color: #008080; text-decoration-color: #008080\">   3.6</span> │ <span style=\"color: #008080; text-decoration-color: #008080\">  1.8</span> │ <span style=\"color: #008080; text-decoration-color: #008080\">    1</span> │ <span style=\"color: #008080; text-decoration-color: #008080\">    2</span> │ <span style=\"color: #008080; text-decoration-color: #008080\">     5</span> │ <span style=\"color: #008080; text-decoration-color: #008080\">     7</span> │ <span style=\"color: #008000; text-decoration-color: #008000\">▅██▇▅▇ </span> │  │\n",
       "│ │ <span style=\"color: #af87ff; text-decoration-color: #af87ff\">rank_add_fac_1_pos          </span> │ <span style=\"color: #008080; text-decoration-color: #008080\">  350</span> │ <span style=\"color: #008080; text-decoration-color: #008080\">    70</span> │ <span style=\"color: #008080; text-decoration-color: #008080\">   4.4</span> │ <span style=\"color: #008080; text-decoration-color: #008080\">  3.3</span> │ <span style=\"color: #008080; text-decoration-color: #008080\">    0</span> │ <span style=\"color: #008080; text-decoration-color: #008080\">    1</span> │ <span style=\"color: #008080; text-decoration-color: #008080\">     8</span> │ <span style=\"color: #008080; text-decoration-color: #008080\">    10</span> │ <span style=\"color: #008000; text-decoration-color: #008000\">█▂▁▂▇▁ </span> │  │\n",
       "│ │ <span style=\"color: #af87ff; text-decoration-color: #af87ff\">rank_add_fac_2_pos          </span> │ <span style=\"color: #008080; text-decoration-color: #008080\">  410</span> │ <span style=\"color: #008080; text-decoration-color: #008080\">    83</span> │ <span style=\"color: #008080; text-decoration-color: #008080\">   5.2</span> │ <span style=\"color: #008080; text-decoration-color: #008080\">  3.8</span> │ <span style=\"color: #008080; text-decoration-color: #008080\">    0</span> │ <span style=\"color: #008080; text-decoration-color: #008080\">    2</span> │ <span style=\"color: #008080; text-decoration-color: #008080\">     9</span> │ <span style=\"color: #008080; text-decoration-color: #008080\">    10</span> │ <span style=\"color: #008000; text-decoration-color: #008000\">▄▅ ▁▁█ </span> │  │\n",
       "│ │ <span style=\"color: #af87ff; text-decoration-color: #af87ff\">rank_add_fac_3_pos          </span> │ <span style=\"color: #008080; text-decoration-color: #008080\">  420</span> │ <span style=\"color: #008080; text-decoration-color: #008080\">    84</span> │ <span style=\"color: #008080; text-decoration-color: #008080\">   5.8</span> │ <span style=\"color: #008080; text-decoration-color: #008080\">  4.1</span> │ <span style=\"color: #008080; text-decoration-color: #008080\">    0</span> │ <span style=\"color: #008080; text-decoration-color: #008080\">    2</span> │ <span style=\"color: #008080; text-decoration-color: #008080\">    10</span> │ <span style=\"color: #008080; text-decoration-color: #008080\">    10</span> │ <span style=\"color: #008000; text-decoration-color: #008000\">▄▄  ▁█ </span> │  │\n",
       "│ └──────────────────────────────┴───────┴────────┴────────┴───────┴───────┴───────┴────────┴────────┴─────────┘  │\n",
       "│ <span style=\"font-style: italic\">                                                    string                                                    </span>  │\n",
       "│ ┏━━━━━━━━━━━━━━━━━━━━━━━━━━━━━━━━━━━━━┳━━━━━━━━━┳━━━━━━━━━━━┳━━━━━━━━━━━━━━━━━━━━━━━━━━┳━━━━━━━━━━━━━━━━━━━━━┓  │\n",
       "│ ┃<span style=\"font-weight: bold\"> column_name                         </span>┃<span style=\"font-weight: bold\"> NA      </span>┃<span style=\"font-weight: bold\"> NA %      </span>┃<span style=\"font-weight: bold\"> words per row            </span>┃<span style=\"font-weight: bold\"> total words         </span>┃  │\n",
       "│ ┡━━━━━━━━━━━━━━━━━━━━━━━━━━━━━━━━━━━━━╇━━━━━━━━━╇━━━━━━━━━━━╇━━━━━━━━━━━━━━━━━━━━━━━━━━╇━━━━━━━━━━━━━━━━━━━━━┩  │\n",
       "│ │ <span style=\"color: #af87ff; text-decoration-color: #af87ff\">sm_use                             </span> │ <span style=\"color: #008080; text-decoration-color: #008080\">      0</span> │ <span style=\"color: #008080; text-decoration-color: #008080\">        0</span> │ <span style=\"color: #008080; text-decoration-color: #008080\">                       1</span> │ <span style=\"color: #008080; text-decoration-color: #008080\">                500</span> │  │\n",
       "│ │ <span style=\"color: #af87ff; text-decoration-color: #af87ff\">gender_id                          </span> │ <span style=\"color: #008080; text-decoration-color: #008080\">      0</span> │ <span style=\"color: #008080; text-decoration-color: #008080\">        0</span> │ <span style=\"color: #008080; text-decoration-color: #008080\">                       1</span> │ <span style=\"color: #008080; text-decoration-color: #008080\">                500</span> │  │\n",
       "│ │ <span style=\"color: #af87ff; text-decoration-color: #af87ff\">ethnic_id                          </span> │ <span style=\"color: #008080; text-decoration-color: #008080\">      0</span> │ <span style=\"color: #008080; text-decoration-color: #008080\">        0</span> │ <span style=\"color: #008080; text-decoration-color: #008080\">                       1</span> │ <span style=\"color: #008080; text-decoration-color: #008080\">                500</span> │  │\n",
       "│ │ <span style=\"color: #af87ff; text-decoration-color: #af87ff\">edu                                </span> │ <span style=\"color: #008080; text-decoration-color: #008080\">      0</span> │ <span style=\"color: #008080; text-decoration-color: #008080\">        0</span> │ <span style=\"color: #008080; text-decoration-color: #008080\">                       1</span> │ <span style=\"color: #008080; text-decoration-color: #008080\">                500</span> │  │\n",
       "│ │ <span style=\"color: #af87ff; text-decoration-color: #af87ff\">politic_views                      </span> │ <span style=\"color: #008080; text-decoration-color: #008080\">      0</span> │ <span style=\"color: #008080; text-decoration-color: #008080\">        0</span> │ <span style=\"color: #008080; text-decoration-color: #008080\">                       1</span> │ <span style=\"color: #008080; text-decoration-color: #008080\">                500</span> │  │\n",
       "│ │ <span style=\"color: #af87ff; text-decoration-color: #af87ff\">aware_sm_res                       </span> │ <span style=\"color: #008080; text-decoration-color: #008080\">      0</span> │ <span style=\"color: #008080; text-decoration-color: #008080\">        0</span> │ <span style=\"color: #008080; text-decoration-color: #008080\">                       1</span> │ <span style=\"color: #008080; text-decoration-color: #008080\">                500</span> │  │\n",
       "│ │ <span style=\"color: #af87ff; text-decoration-color: #af87ff\">aware_sm_advan                     </span> │ <span style=\"color: #008080; text-decoration-color: #008080\">      0</span> │ <span style=\"color: #008080; text-decoration-color: #008080\">        0</span> │ <span style=\"color: #008080; text-decoration-color: #008080\">                       1</span> │ <span style=\"color: #008080; text-decoration-color: #008080\">                500</span> │  │\n",
       "│ │ <span style=\"color: #af87ff; text-decoration-color: #af87ff\">aware_sm_interact                  </span> │ <span style=\"color: #008080; text-decoration-color: #008080\">      0</span> │ <span style=\"color: #008080; text-decoration-color: #008080\">        0</span> │ <span style=\"color: #008080; text-decoration-color: #008080\">                       1</span> │ <span style=\"color: #008080; text-decoration-color: #008080\">                500</span> │  │\n",
       "│ │ <span style=\"color: #af87ff; text-decoration-color: #af87ff\">aware_sm_use                       </span> │ <span style=\"color: #008080; text-decoration-color: #008080\">      0</span> │ <span style=\"color: #008080; text-decoration-color: #008080\">        0</span> │ <span style=\"color: #008080; text-decoration-color: #008080\">                       1</span> │ <span style=\"color: #008080; text-decoration-color: #008080\">                500</span> │  │\n",
       "│ │ <span style=\"color: #af87ff; text-decoration-color: #af87ff\">ethic_appr                         </span> │ <span style=\"color: #008080; text-decoration-color: #008080\">      0</span> │ <span style=\"color: #008080; text-decoration-color: #008080\">        0</span> │ <span style=\"color: #008080; text-decoration-color: #008080\">                       1</span> │ <span style=\"color: #008080; text-decoration-color: #008080\">                500</span> │  │\n",
       "│ │ <span style=\"color: #af87ff; text-decoration-color: #af87ff\">study_1_ethic_acc                  </span> │ <span style=\"color: #008080; text-decoration-color: #008080\">      0</span> │ <span style=\"color: #008080; text-decoration-color: #008080\">        0</span> │ <span style=\"color: #008080; text-decoration-color: #008080\">                       1</span> │ <span style=\"color: #008080; text-decoration-color: #008080\">                500</span> │  │\n",
       "│ │ <span style=\"color: #af87ff; text-decoration-color: #af87ff\">study_1_conc                       </span> │ <span style=\"color: #008080; text-decoration-color: #008080\">    240</span> │ <span style=\"color: #008080; text-decoration-color: #008080\">       48</span> │ <span style=\"color: #008080; text-decoration-color: #008080\">                       1</span> │ <span style=\"color: #008080; text-decoration-color: #008080\">                500</span> │  │\n",
       "│ │ <span style=\"color: #af87ff; text-decoration-color: #af87ff\">study_1_add_info                   </span> │ <span style=\"color: #008080; text-decoration-color: #008080\">    410</span> │ <span style=\"color: #008080; text-decoration-color: #008080\">       82</span> │ <span style=\"color: #008080; text-decoration-color: #008080\">                       1</span> │ <span style=\"color: #008080; text-decoration-color: #008080\">                500</span> │  │\n",
       "│ │ <span style=\"color: #af87ff; text-decoration-color: #af87ff\">study_2_ethic_acc                  </span> │ <span style=\"color: #008080; text-decoration-color: #008080\">      0</span> │ <span style=\"color: #008080; text-decoration-color: #008080\">        0</span> │ <span style=\"color: #008080; text-decoration-color: #008080\">                       1</span> │ <span style=\"color: #008080; text-decoration-color: #008080\">                500</span> │  │\n",
       "│ │ <span style=\"color: #af87ff; text-decoration-color: #af87ff\">study_2_conc                       </span> │ <span style=\"color: #008080; text-decoration-color: #008080\">    220</span> │ <span style=\"color: #008080; text-decoration-color: #008080\">       45</span> │ <span style=\"color: #008080; text-decoration-color: #008080\">                       1</span> │ <span style=\"color: #008080; text-decoration-color: #008080\">                500</span> │  │\n",
       "│ │ <span style=\"color: #af87ff; text-decoration-color: #af87ff\">study_2_add_info                   </span> │ <span style=\"color: #008080; text-decoration-color: #008080\">    400</span> │ <span style=\"color: #008080; text-decoration-color: #008080\">       81</span> │ <span style=\"color: #008080; text-decoration-color: #008080\">                       1</span> │ <span style=\"color: #008080; text-decoration-color: #008080\">                500</span> │  │\n",
       "│ │ <span style=\"color: #af87ff; text-decoration-color: #af87ff\">study_3_ethic_acc                  </span> │ <span style=\"color: #008080; text-decoration-color: #008080\">      0</span> │ <span style=\"color: #008080; text-decoration-color: #008080\">        0</span> │ <span style=\"color: #008080; text-decoration-color: #008080\">                       1</span> │ <span style=\"color: #008080; text-decoration-color: #008080\">                500</span> │  │\n",
       "│ │ <span style=\"color: #af87ff; text-decoration-color: #af87ff\">study_3_conc                       </span> │ <span style=\"color: #008080; text-decoration-color: #008080\">    270</span> │ <span style=\"color: #008080; text-decoration-color: #008080\">       54</span> │ <span style=\"color: #008080; text-decoration-color: #008080\">                       1</span> │ <span style=\"color: #008080; text-decoration-color: #008080\">                500</span> │  │\n",
       "│ │ <span style=\"color: #af87ff; text-decoration-color: #af87ff\">study_3_add_info                   </span> │ <span style=\"color: #008080; text-decoration-color: #008080\">    420</span> │ <span style=\"color: #008080; text-decoration-color: #008080\">       85</span> │ <span style=\"color: #008080; text-decoration-color: #008080\">                       1</span> │ <span style=\"color: #008080; text-decoration-color: #008080\">                500</span> │  │\n",
       "│ │ <span style=\"color: #af87ff; text-decoration-color: #af87ff\">study_4_ethic_acc                  </span> │ <span style=\"color: #008080; text-decoration-color: #008080\">      0</span> │ <span style=\"color: #008080; text-decoration-color: #008080\">        0</span> │ <span style=\"color: #008080; text-decoration-color: #008080\">                       1</span> │ <span style=\"color: #008080; text-decoration-color: #008080\">                500</span> │  │\n",
       "│ │ <span style=\"color: #af87ff; text-decoration-color: #af87ff\">study_4_conc                       </span> │ <span style=\"color: #008080; text-decoration-color: #008080\">    250</span> │ <span style=\"color: #008080; text-decoration-color: #008080\">       49</span> │ <span style=\"color: #008080; text-decoration-color: #008080\">                       1</span> │ <span style=\"color: #008080; text-decoration-color: #008080\">                500</span> │  │\n",
       "│ │ <span style=\"color: #af87ff; text-decoration-color: #af87ff\">study_4_add_info                   </span> │ <span style=\"color: #008080; text-decoration-color: #008080\">    410</span> │ <span style=\"color: #008080; text-decoration-color: #008080\">       83</span> │ <span style=\"color: #008080; text-decoration-color: #008080\">                       1</span> │ <span style=\"color: #008080; text-decoration-color: #008080\">                500</span> │  │\n",
       "│ │ <span style=\"color: #af87ff; text-decoration-color: #af87ff\">design_cont                        </span> │ <span style=\"color: #008080; text-decoration-color: #008080\">      0</span> │ <span style=\"color: #008080; text-decoration-color: #008080\">        0</span> │ <span style=\"color: #008080; text-decoration-color: #008080\">                       1</span> │ <span style=\"color: #008080; text-decoration-color: #008080\">                500</span> │  │\n",
       "│ │ <span style=\"color: #af87ff; text-decoration-color: #af87ff\">design_num_users                   </span> │ <span style=\"color: #008080; text-decoration-color: #008080\">      0</span> │ <span style=\"color: #008080; text-decoration-color: #008080\">        0</span> │ <span style=\"color: #008080; text-decoration-color: #008080\">                       1</span> │ <span style=\"color: #008080; text-decoration-color: #008080\">                500</span> │  │\n",
       "│ │ <span style=\"color: #af87ff; text-decoration-color: #af87ff\">design_res_purp                    </span> │ <span style=\"color: #008080; text-decoration-color: #008080\">      0</span> │ <span style=\"color: #008080; text-decoration-color: #008080\">        0</span> │ <span style=\"color: #008080; text-decoration-color: #008080\">                       1</span> │ <span style=\"color: #008080; text-decoration-color: #008080\">                500</span> │  │\n",
       "│ │ <span style=\"color: #af87ff; text-decoration-color: #af87ff\">design_len_data                    </span> │ <span style=\"color: #008080; text-decoration-color: #008080\">      0</span> │ <span style=\"color: #008080; text-decoration-color: #008080\">        0</span> │ <span style=\"color: #008080; text-decoration-color: #008080\">                       1</span> │ <span style=\"color: #008080; text-decoration-color: #008080\">                500</span> │  │\n",
       "│ │ <span style=\"color: #af87ff; text-decoration-color: #af87ff\">design_admin_inter                 </span> │ <span style=\"color: #008080; text-decoration-color: #008080\">      0</span> │ <span style=\"color: #008080; text-decoration-color: #008080\">        0</span> │ <span style=\"color: #008080; text-decoration-color: #008080\">                       1</span> │ <span style=\"color: #008080; text-decoration-color: #008080\">                500</span> │  │\n",
       "│ │ <span style=\"color: #af87ff; text-decoration-color: #af87ff\">design_inter_type                  </span> │ <span style=\"color: #008080; text-decoration-color: #008080\">      0</span> │ <span style=\"color: #008080; text-decoration-color: #008080\">        0</span> │ <span style=\"color: #008080; text-decoration-color: #008080\">                       1</span> │ <span style=\"color: #008080; text-decoration-color: #008080\">                500</span> │  │\n",
       "│ │ <span style=\"color: #af87ff; text-decoration-color: #af87ff\">design_partic_aware                </span> │ <span style=\"color: #008080; text-decoration-color: #008080\">      0</span> │ <span style=\"color: #008080; text-decoration-color: #008080\">        0</span> │ <span style=\"color: #008080; text-decoration-color: #008080\">                       1</span> │ <span style=\"color: #008080; text-decoration-color: #008080\">                500</span> │  │\n",
       "│ │ <span style=\"color: #af87ff; text-decoration-color: #af87ff\">design_inter_impact                </span> │ <span style=\"color: #008080; text-decoration-color: #008080\">      0</span> │ <span style=\"color: #008080; text-decoration-color: #008080\">        0</span> │ <span style=\"color: #008080; text-decoration-color: #008080\">                       1</span> │ <span style=\"color: #008080; text-decoration-color: #008080\">                500</span> │  │\n",
       "│ │ <span style=\"color: #af87ff; text-decoration-color: #af87ff\">design_type_data                   </span> │ <span style=\"color: #008080; text-decoration-color: #008080\">      0</span> │ <span style=\"color: #008080; text-decoration-color: #008080\">        0</span> │ <span style=\"color: #008080; text-decoration-color: #008080\">                       1</span> │ <span style=\"color: #008080; text-decoration-color: #008080\">                500</span> │  │\n",
       "│ │ <span style=\"color: #af87ff; text-decoration-color: #af87ff\">design_add_fac                     </span> │ <span style=\"color: #008080; text-decoration-color: #008080\">    300</span> │ <span style=\"color: #008080; text-decoration-color: #008080\">       60</span> │ <span style=\"color: #008080; text-decoration-color: #008080\">                       1</span> │ <span style=\"color: #008080; text-decoration-color: #008080\">                500</span> │  │\n",
       "│ │ <span style=\"color: #af87ff; text-decoration-color: #af87ff\">rank_add_fac_1                     </span> │ <span style=\"color: #008080; text-decoration-color: #008080\">    420</span> │ <span style=\"color: #008080; text-decoration-color: #008080\">       84</span> │ <span style=\"color: #008080; text-decoration-color: #008080\">                       1</span> │ <span style=\"color: #008080; text-decoration-color: #008080\">                500</span> │  │\n",
       "│ │ <span style=\"color: #af87ff; text-decoration-color: #af87ff\">rank_add_fac_2                     </span> │ <span style=\"color: #008080; text-decoration-color: #008080\">    470</span> │ <span style=\"color: #008080; text-decoration-color: #008080\">       95</span> │ <span style=\"color: #008080; text-decoration-color: #008080\">                       1</span> │ <span style=\"color: #008080; text-decoration-color: #008080\">                500</span> │  │\n",
       "│ │ <span style=\"color: #af87ff; text-decoration-color: #af87ff\">rank_add_fac_3                     </span> │ <span style=\"color: #008080; text-decoration-color: #008080\">    480</span> │ <span style=\"color: #008080; text-decoration-color: #008080\">       96</span> │ <span style=\"color: #008080; text-decoration-color: #008080\">                       1</span> │ <span style=\"color: #008080; text-decoration-color: #008080\">                500</span> │  │\n",
       "│ └─────────────────────────────────────┴─────────┴───────────┴──────────────────────────┴─────────────────────┘  │\n",
       "│ <span style=\"font-style: italic\">                                                     bool                                                     </span>  │\n",
       "│ ┏━━━━━━━━━━━━━━━━━━━━━━━━━━━━━━━━━━━━┳━━━━━━━━━━━━━━━━━┳━━━━━━━━━━━━━━━━━━━━━━━━━━━━━━━┳━━━━━━━━━━━━━━━━━━━━━┓  │\n",
       "│ ┃<span style=\"font-weight: bold\"> column_name                        </span>┃<span style=\"font-weight: bold\"> true            </span>┃<span style=\"font-weight: bold\"> true rate                     </span>┃<span style=\"font-weight: bold\"> hist                </span>┃  │\n",
       "│ ┡━━━━━━━━━━━━━━━━━━━━━━━━━━━━━━━━━━━━╇━━━━━━━━━━━━━━━━━╇━━━━━━━━━━━━━━━━━━━━━━━━━━━━━━━╇━━━━━━━━━━━━━━━━━━━━━┩  │\n",
       "│ │ <span style=\"color: #af87ff; text-decoration-color: #af87ff\">finished                          </span> │ <span style=\"color: #008080; text-decoration-color: #008080\">            500</span> │ <span style=\"color: #008080; text-decoration-color: #008080\">                            1</span> │ <span style=\"color: #008000; text-decoration-color: #008000\">          █        </span> │  │\n",
       "│ └────────────────────────────────────┴─────────────────┴───────────────────────────────┴─────────────────────┘  │\n",
       "╰────────────────────────────────────────────────────── End ──────────────────────────────────────────────────────╯\n",
       "</pre>\n"
      ],
      "text/plain": [
       "╭──────────────────────────────────────────────── skimpy summary ─────────────────────────────────────────────────╮\n",
       "│ \u001b[3m         Data Summary         \u001b[0m \u001b[3m      Data Types       \u001b[0m                                                          │\n",
       "│ ┏━━━━━━━━━━━━━━━━━━━┳━━━━━━━━┓ ┏━━━━━━━━━━━━━┳━━━━━━━┓                                                          │\n",
       "│ ┃\u001b[1;36m \u001b[0m\u001b[1;36mdataframe        \u001b[0m\u001b[1;36m \u001b[0m┃\u001b[1;36m \u001b[0m\u001b[1;36mValues\u001b[0m\u001b[1;36m \u001b[0m┃ ┃\u001b[1;36m \u001b[0m\u001b[1;36mColumn Type\u001b[0m\u001b[1;36m \u001b[0m┃\u001b[1;36m \u001b[0m\u001b[1;36mCount\u001b[0m\u001b[1;36m \u001b[0m┃                                                          │\n",
       "│ ┡━━━━━━━━━━━━━━━━━━━╇━━━━━━━━┩ ┡━━━━━━━━━━━━━╇━━━━━━━┩                                                          │\n",
       "│ │ Number of rows    │ 499    │ │ string      │ 35    │                                                          │\n",
       "│ │ Number of columns │ 51     │ │ float64     │ 12    │                                                          │\n",
       "│ └───────────────────┴────────┘ │ int64       │ 3     │                                                          │\n",
       "│                                │ bool        │ 1     │                                                          │\n",
       "│                                └─────────────┴───────┘                                                          │\n",
       "│ \u001b[3m                                                    number                                                    \u001b[0m  │\n",
       "│ ┏━━━━━━━━━━━━━━━━━━━━━━━━━━━━━━┳━━━━━━━┳━━━━━━━━┳━━━━━━━━┳━━━━━━━┳━━━━━━━┳━━━━━━━┳━━━━━━━━┳━━━━━━━━┳━━━━━━━━━┓  │\n",
       "│ ┃\u001b[1m \u001b[0m\u001b[1mcolumn_name                 \u001b[0m\u001b[1m \u001b[0m┃\u001b[1m \u001b[0m\u001b[1mNA   \u001b[0m\u001b[1m \u001b[0m┃\u001b[1m \u001b[0m\u001b[1mNA %  \u001b[0m\u001b[1m \u001b[0m┃\u001b[1m \u001b[0m\u001b[1mmean  \u001b[0m\u001b[1m \u001b[0m┃\u001b[1m \u001b[0m\u001b[1msd   \u001b[0m\u001b[1m \u001b[0m┃\u001b[1m \u001b[0m\u001b[1mp0   \u001b[0m\u001b[1m \u001b[0m┃\u001b[1m \u001b[0m\u001b[1mp25  \u001b[0m\u001b[1m \u001b[0m┃\u001b[1m \u001b[0m\u001b[1mp75   \u001b[0m\u001b[1m \u001b[0m┃\u001b[1m \u001b[0m\u001b[1mp100  \u001b[0m\u001b[1m \u001b[0m┃\u001b[1m \u001b[0m\u001b[1mhist   \u001b[0m\u001b[1m \u001b[0m┃  │\n",
       "│ ┡━━━━━━━━━━━━━━━━━━━━━━━━━━━━━━╇━━━━━━━╇━━━━━━━━╇━━━━━━━━╇━━━━━━━╇━━━━━━━╇━━━━━━━╇━━━━━━━━╇━━━━━━━━╇━━━━━━━━━┩  │\n",
       "│ │ \u001b[38;5;141mduration_sec                \u001b[0m │ \u001b[36m    0\u001b[0m │ \u001b[36m     0\u001b[0m │ \u001b[36m  1000\u001b[0m │ \u001b[36m  580\u001b[0m │ \u001b[36m  150\u001b[0m │ \u001b[36m  610\u001b[0m │ \u001b[36m  1200\u001b[0m │ \u001b[36m  5000\u001b[0m │ \u001b[32m  █▅▁  \u001b[0m │  │\n",
       "│ │ \u001b[38;5;141mage                         \u001b[0m │ \u001b[36m    0\u001b[0m │ \u001b[36m     0\u001b[0m │ \u001b[36m    42\u001b[0m │ \u001b[36m   14\u001b[0m │ \u001b[36m   18\u001b[0m │ \u001b[36m   31\u001b[0m │ \u001b[36m    52\u001b[0m │ \u001b[36m    78\u001b[0m │ \u001b[32m▄█▆▄▃▁ \u001b[0m │  │\n",
       "│ │ \u001b[38;5;141maware_sm_advan_score        \u001b[0m │ \u001b[36m    0\u001b[0m │ \u001b[36m     0\u001b[0m │ \u001b[36m   1.9\u001b[0m │ \u001b[36m  1.2\u001b[0m │ \u001b[36m   -3\u001b[0m │ \u001b[36m    1\u001b[0m │ \u001b[36m     3\u001b[0m │ \u001b[36m     4\u001b[0m │ \u001b[32m ▁▂▅▆█ \u001b[0m │  │\n",
       "│ │ \u001b[38;5;141maware_sm_interact_sc        \u001b[0m │ \u001b[36m    0\u001b[0m │ \u001b[36m     0\u001b[0m │ \u001b[36m   1.3\u001b[0m │ \u001b[36m    1\u001b[0m │ \u001b[36m   -1\u001b[0m │ \u001b[36m    0\u001b[0m │ \u001b[36m     2\u001b[0m │ \u001b[36m     3\u001b[0m │ \u001b[32m▁▆ █▇▃ \u001b[0m │  │\n",
       "│ │ \u001b[38;5;141maware_sm_use_score          \u001b[0m │ \u001b[36m    0\u001b[0m │ \u001b[36m     0\u001b[0m │ \u001b[36m   6.6\u001b[0m │ \u001b[36m  2.4\u001b[0m │ \u001b[36m    0\u001b[0m │ \u001b[36m    5\u001b[0m │ \u001b[36m     9\u001b[0m │ \u001b[36m     9\u001b[0m │ \u001b[32m▁ ▃▂▄█ \u001b[0m │  │\n",
       "│ │ \u001b[38;5;141mrank_sci_repro              \u001b[0m │ \u001b[36m    0\u001b[0m │ \u001b[36m     0\u001b[0m │ \u001b[36m   5.5\u001b[0m │ \u001b[36m  1.7\u001b[0m │ \u001b[36m    1\u001b[0m │ \u001b[36m    5\u001b[0m │ \u001b[36m     7\u001b[0m │ \u001b[36m     7\u001b[0m │ \u001b[32m  ▁▁▂█ \u001b[0m │  │\n",
       "│ │ \u001b[38;5;141mrank_resp                   \u001b[0m │ \u001b[36m    0\u001b[0m │ \u001b[36m     0\u001b[0m │ \u001b[36m   3.5\u001b[0m │ \u001b[36m  2.1\u001b[0m │ \u001b[36m    1\u001b[0m │ \u001b[36m    2\u001b[0m │ \u001b[36m     5\u001b[0m │ \u001b[36m     7\u001b[0m │ \u001b[32m▇▆▅▅▃█ \u001b[0m │  │\n",
       "│ │ \u001b[38;5;141mrank_just                   \u001b[0m │ \u001b[36m    0\u001b[0m │ \u001b[36m     0\u001b[0m │ \u001b[36m   4.7\u001b[0m │ \u001b[36m  1.7\u001b[0m │ \u001b[36m    1\u001b[0m │ \u001b[36m    4\u001b[0m │ \u001b[36m     6\u001b[0m │ \u001b[36m     7\u001b[0m │ \u001b[32m▁▂▃▄▅█ \u001b[0m │  │\n",
       "│ │ \u001b[38;5;141mrank_anony                  \u001b[0m │ \u001b[36m    0\u001b[0m │ \u001b[36m     0\u001b[0m │ \u001b[36m   3.1\u001b[0m │ \u001b[36m  1.6\u001b[0m │ \u001b[36m    1\u001b[0m │ \u001b[36m    2\u001b[0m │ \u001b[36m     4\u001b[0m │ \u001b[36m     7\u001b[0m │ \u001b[32m▅█▆▄▃▃ \u001b[0m │  │\n",
       "│ │ \u001b[38;5;141mrank_harms                  \u001b[0m │ \u001b[36m    0\u001b[0m │ \u001b[36m     0\u001b[0m │ \u001b[36m   2.7\u001b[0m │ \u001b[36m  1.8\u001b[0m │ \u001b[36m    1\u001b[0m │ \u001b[36m    1\u001b[0m │ \u001b[36m     4\u001b[0m │ \u001b[36m     7\u001b[0m │ \u001b[32m█▄▃▂▂▂ \u001b[0m │  │\n",
       "│ │ \u001b[38;5;141mrank_balance                \u001b[0m │ \u001b[36m    0\u001b[0m │ \u001b[36m     0\u001b[0m │ \u001b[36m     5\u001b[0m │ \u001b[36m  1.6\u001b[0m │ \u001b[36m    1\u001b[0m │ \u001b[36m    4\u001b[0m │ \u001b[36m     6\u001b[0m │ \u001b[36m     7\u001b[0m │ \u001b[32m▁▁▂▂▄█ \u001b[0m │  │\n",
       "│ │ \u001b[38;5;141mrank_pub_interst            \u001b[0m │ \u001b[36m    0\u001b[0m │ \u001b[36m     0\u001b[0m │ \u001b[36m   3.6\u001b[0m │ \u001b[36m  1.8\u001b[0m │ \u001b[36m    1\u001b[0m │ \u001b[36m    2\u001b[0m │ \u001b[36m     5\u001b[0m │ \u001b[36m     7\u001b[0m │ \u001b[32m▅██▇▅▇ \u001b[0m │  │\n",
       "│ │ \u001b[38;5;141mrank_add_fac_1_pos          \u001b[0m │ \u001b[36m  350\u001b[0m │ \u001b[36m    70\u001b[0m │ \u001b[36m   4.4\u001b[0m │ \u001b[36m  3.3\u001b[0m │ \u001b[36m    0\u001b[0m │ \u001b[36m    1\u001b[0m │ \u001b[36m     8\u001b[0m │ \u001b[36m    10\u001b[0m │ \u001b[32m█▂▁▂▇▁ \u001b[0m │  │\n",
       "│ │ \u001b[38;5;141mrank_add_fac_2_pos          \u001b[0m │ \u001b[36m  410\u001b[0m │ \u001b[36m    83\u001b[0m │ \u001b[36m   5.2\u001b[0m │ \u001b[36m  3.8\u001b[0m │ \u001b[36m    0\u001b[0m │ \u001b[36m    2\u001b[0m │ \u001b[36m     9\u001b[0m │ \u001b[36m    10\u001b[0m │ \u001b[32m▄▅ ▁▁█ \u001b[0m │  │\n",
       "│ │ \u001b[38;5;141mrank_add_fac_3_pos          \u001b[0m │ \u001b[36m  420\u001b[0m │ \u001b[36m    84\u001b[0m │ \u001b[36m   5.8\u001b[0m │ \u001b[36m  4.1\u001b[0m │ \u001b[36m    0\u001b[0m │ \u001b[36m    2\u001b[0m │ \u001b[36m    10\u001b[0m │ \u001b[36m    10\u001b[0m │ \u001b[32m▄▄  ▁█ \u001b[0m │  │\n",
       "│ └──────────────────────────────┴───────┴────────┴────────┴───────┴───────┴───────┴────────┴────────┴─────────┘  │\n",
       "│ \u001b[3m                                                    string                                                    \u001b[0m  │\n",
       "│ ┏━━━━━━━━━━━━━━━━━━━━━━━━━━━━━━━━━━━━━┳━━━━━━━━━┳━━━━━━━━━━━┳━━━━━━━━━━━━━━━━━━━━━━━━━━┳━━━━━━━━━━━━━━━━━━━━━┓  │\n",
       "│ ┃\u001b[1m \u001b[0m\u001b[1mcolumn_name                        \u001b[0m\u001b[1m \u001b[0m┃\u001b[1m \u001b[0m\u001b[1mNA     \u001b[0m\u001b[1m \u001b[0m┃\u001b[1m \u001b[0m\u001b[1mNA %     \u001b[0m\u001b[1m \u001b[0m┃\u001b[1m \u001b[0m\u001b[1mwords per row           \u001b[0m\u001b[1m \u001b[0m┃\u001b[1m \u001b[0m\u001b[1mtotal words        \u001b[0m\u001b[1m \u001b[0m┃  │\n",
       "│ ┡━━━━━━━━━━━━━━━━━━━━━━━━━━━━━━━━━━━━━╇━━━━━━━━━╇━━━━━━━━━━━╇━━━━━━━━━━━━━━━━━━━━━━━━━━╇━━━━━━━━━━━━━━━━━━━━━┩  │\n",
       "│ │ \u001b[38;5;141msm_use                             \u001b[0m │ \u001b[36m      0\u001b[0m │ \u001b[36m        0\u001b[0m │ \u001b[36m                       1\u001b[0m │ \u001b[36m                500\u001b[0m │  │\n",
       "│ │ \u001b[38;5;141mgender_id                          \u001b[0m │ \u001b[36m      0\u001b[0m │ \u001b[36m        0\u001b[0m │ \u001b[36m                       1\u001b[0m │ \u001b[36m                500\u001b[0m │  │\n",
       "│ │ \u001b[38;5;141methnic_id                          \u001b[0m │ \u001b[36m      0\u001b[0m │ \u001b[36m        0\u001b[0m │ \u001b[36m                       1\u001b[0m │ \u001b[36m                500\u001b[0m │  │\n",
       "│ │ \u001b[38;5;141medu                                \u001b[0m │ \u001b[36m      0\u001b[0m │ \u001b[36m        0\u001b[0m │ \u001b[36m                       1\u001b[0m │ \u001b[36m                500\u001b[0m │  │\n",
       "│ │ \u001b[38;5;141mpolitic_views                      \u001b[0m │ \u001b[36m      0\u001b[0m │ \u001b[36m        0\u001b[0m │ \u001b[36m                       1\u001b[0m │ \u001b[36m                500\u001b[0m │  │\n",
       "│ │ \u001b[38;5;141maware_sm_res                       \u001b[0m │ \u001b[36m      0\u001b[0m │ \u001b[36m        0\u001b[0m │ \u001b[36m                       1\u001b[0m │ \u001b[36m                500\u001b[0m │  │\n",
       "│ │ \u001b[38;5;141maware_sm_advan                     \u001b[0m │ \u001b[36m      0\u001b[0m │ \u001b[36m        0\u001b[0m │ \u001b[36m                       1\u001b[0m │ \u001b[36m                500\u001b[0m │  │\n",
       "│ │ \u001b[38;5;141maware_sm_interact                  \u001b[0m │ \u001b[36m      0\u001b[0m │ \u001b[36m        0\u001b[0m │ \u001b[36m                       1\u001b[0m │ \u001b[36m                500\u001b[0m │  │\n",
       "│ │ \u001b[38;5;141maware_sm_use                       \u001b[0m │ \u001b[36m      0\u001b[0m │ \u001b[36m        0\u001b[0m │ \u001b[36m                       1\u001b[0m │ \u001b[36m                500\u001b[0m │  │\n",
       "│ │ \u001b[38;5;141methic_appr                         \u001b[0m │ \u001b[36m      0\u001b[0m │ \u001b[36m        0\u001b[0m │ \u001b[36m                       1\u001b[0m │ \u001b[36m                500\u001b[0m │  │\n",
       "│ │ \u001b[38;5;141mstudy_1_ethic_acc                  \u001b[0m │ \u001b[36m      0\u001b[0m │ \u001b[36m        0\u001b[0m │ \u001b[36m                       1\u001b[0m │ \u001b[36m                500\u001b[0m │  │\n",
       "│ │ \u001b[38;5;141mstudy_1_conc                       \u001b[0m │ \u001b[36m    240\u001b[0m │ \u001b[36m       48\u001b[0m │ \u001b[36m                       1\u001b[0m │ \u001b[36m                500\u001b[0m │  │\n",
       "│ │ \u001b[38;5;141mstudy_1_add_info                   \u001b[0m │ \u001b[36m    410\u001b[0m │ \u001b[36m       82\u001b[0m │ \u001b[36m                       1\u001b[0m │ \u001b[36m                500\u001b[0m │  │\n",
       "│ │ \u001b[38;5;141mstudy_2_ethic_acc                  \u001b[0m │ \u001b[36m      0\u001b[0m │ \u001b[36m        0\u001b[0m │ \u001b[36m                       1\u001b[0m │ \u001b[36m                500\u001b[0m │  │\n",
       "│ │ \u001b[38;5;141mstudy_2_conc                       \u001b[0m │ \u001b[36m    220\u001b[0m │ \u001b[36m       45\u001b[0m │ \u001b[36m                       1\u001b[0m │ \u001b[36m                500\u001b[0m │  │\n",
       "│ │ \u001b[38;5;141mstudy_2_add_info                   \u001b[0m │ \u001b[36m    400\u001b[0m │ \u001b[36m       81\u001b[0m │ \u001b[36m                       1\u001b[0m │ \u001b[36m                500\u001b[0m │  │\n",
       "│ │ \u001b[38;5;141mstudy_3_ethic_acc                  \u001b[0m │ \u001b[36m      0\u001b[0m │ \u001b[36m        0\u001b[0m │ \u001b[36m                       1\u001b[0m │ \u001b[36m                500\u001b[0m │  │\n",
       "│ │ \u001b[38;5;141mstudy_3_conc                       \u001b[0m │ \u001b[36m    270\u001b[0m │ \u001b[36m       54\u001b[0m │ \u001b[36m                       1\u001b[0m │ \u001b[36m                500\u001b[0m │  │\n",
       "│ │ \u001b[38;5;141mstudy_3_add_info                   \u001b[0m │ \u001b[36m    420\u001b[0m │ \u001b[36m       85\u001b[0m │ \u001b[36m                       1\u001b[0m │ \u001b[36m                500\u001b[0m │  │\n",
       "│ │ \u001b[38;5;141mstudy_4_ethic_acc                  \u001b[0m │ \u001b[36m      0\u001b[0m │ \u001b[36m        0\u001b[0m │ \u001b[36m                       1\u001b[0m │ \u001b[36m                500\u001b[0m │  │\n",
       "│ │ \u001b[38;5;141mstudy_4_conc                       \u001b[0m │ \u001b[36m    250\u001b[0m │ \u001b[36m       49\u001b[0m │ \u001b[36m                       1\u001b[0m │ \u001b[36m                500\u001b[0m │  │\n",
       "│ │ \u001b[38;5;141mstudy_4_add_info                   \u001b[0m │ \u001b[36m    410\u001b[0m │ \u001b[36m       83\u001b[0m │ \u001b[36m                       1\u001b[0m │ \u001b[36m                500\u001b[0m │  │\n",
       "│ │ \u001b[38;5;141mdesign_cont                        \u001b[0m │ \u001b[36m      0\u001b[0m │ \u001b[36m        0\u001b[0m │ \u001b[36m                       1\u001b[0m │ \u001b[36m                500\u001b[0m │  │\n",
       "│ │ \u001b[38;5;141mdesign_num_users                   \u001b[0m │ \u001b[36m      0\u001b[0m │ \u001b[36m        0\u001b[0m │ \u001b[36m                       1\u001b[0m │ \u001b[36m                500\u001b[0m │  │\n",
       "│ │ \u001b[38;5;141mdesign_res_purp                    \u001b[0m │ \u001b[36m      0\u001b[0m │ \u001b[36m        0\u001b[0m │ \u001b[36m                       1\u001b[0m │ \u001b[36m                500\u001b[0m │  │\n",
       "│ │ \u001b[38;5;141mdesign_len_data                    \u001b[0m │ \u001b[36m      0\u001b[0m │ \u001b[36m        0\u001b[0m │ \u001b[36m                       1\u001b[0m │ \u001b[36m                500\u001b[0m │  │\n",
       "│ │ \u001b[38;5;141mdesign_admin_inter                 \u001b[0m │ \u001b[36m      0\u001b[0m │ \u001b[36m        0\u001b[0m │ \u001b[36m                       1\u001b[0m │ \u001b[36m                500\u001b[0m │  │\n",
       "│ │ \u001b[38;5;141mdesign_inter_type                  \u001b[0m │ \u001b[36m      0\u001b[0m │ \u001b[36m        0\u001b[0m │ \u001b[36m                       1\u001b[0m │ \u001b[36m                500\u001b[0m │  │\n",
       "│ │ \u001b[38;5;141mdesign_partic_aware                \u001b[0m │ \u001b[36m      0\u001b[0m │ \u001b[36m        0\u001b[0m │ \u001b[36m                       1\u001b[0m │ \u001b[36m                500\u001b[0m │  │\n",
       "│ │ \u001b[38;5;141mdesign_inter_impact                \u001b[0m │ \u001b[36m      0\u001b[0m │ \u001b[36m        0\u001b[0m │ \u001b[36m                       1\u001b[0m │ \u001b[36m                500\u001b[0m │  │\n",
       "│ │ \u001b[38;5;141mdesign_type_data                   \u001b[0m │ \u001b[36m      0\u001b[0m │ \u001b[36m        0\u001b[0m │ \u001b[36m                       1\u001b[0m │ \u001b[36m                500\u001b[0m │  │\n",
       "│ │ \u001b[38;5;141mdesign_add_fac                     \u001b[0m │ \u001b[36m    300\u001b[0m │ \u001b[36m       60\u001b[0m │ \u001b[36m                       1\u001b[0m │ \u001b[36m                500\u001b[0m │  │\n",
       "│ │ \u001b[38;5;141mrank_add_fac_1                     \u001b[0m │ \u001b[36m    420\u001b[0m │ \u001b[36m       84\u001b[0m │ \u001b[36m                       1\u001b[0m │ \u001b[36m                500\u001b[0m │  │\n",
       "│ │ \u001b[38;5;141mrank_add_fac_2                     \u001b[0m │ \u001b[36m    470\u001b[0m │ \u001b[36m       95\u001b[0m │ \u001b[36m                       1\u001b[0m │ \u001b[36m                500\u001b[0m │  │\n",
       "│ │ \u001b[38;5;141mrank_add_fac_3                     \u001b[0m │ \u001b[36m    480\u001b[0m │ \u001b[36m       96\u001b[0m │ \u001b[36m                       1\u001b[0m │ \u001b[36m                500\u001b[0m │  │\n",
       "│ └─────────────────────────────────────┴─────────┴───────────┴──────────────────────────┴─────────────────────┘  │\n",
       "│ \u001b[3m                                                     bool                                                     \u001b[0m  │\n",
       "│ ┏━━━━━━━━━━━━━━━━━━━━━━━━━━━━━━━━━━━━┳━━━━━━━━━━━━━━━━━┳━━━━━━━━━━━━━━━━━━━━━━━━━━━━━━━┳━━━━━━━━━━━━━━━━━━━━━┓  │\n",
       "│ ┃\u001b[1m \u001b[0m\u001b[1mcolumn_name                       \u001b[0m\u001b[1m \u001b[0m┃\u001b[1m \u001b[0m\u001b[1mtrue           \u001b[0m\u001b[1m \u001b[0m┃\u001b[1m \u001b[0m\u001b[1mtrue rate                    \u001b[0m\u001b[1m \u001b[0m┃\u001b[1m \u001b[0m\u001b[1mhist               \u001b[0m\u001b[1m \u001b[0m┃  │\n",
       "│ ┡━━━━━━━━━━━━━━━━━━━━━━━━━━━━━━━━━━━━╇━━━━━━━━━━━━━━━━━╇━━━━━━━━━━━━━━━━━━━━━━━━━━━━━━━╇━━━━━━━━━━━━━━━━━━━━━┩  │\n",
       "│ │ \u001b[38;5;141mfinished                          \u001b[0m │ \u001b[36m            500\u001b[0m │ \u001b[36m                            1\u001b[0m │ \u001b[32m          █        \u001b[0m │  │\n",
       "│ └────────────────────────────────────┴─────────────────┴───────────────────────────────┴─────────────────────┘  │\n",
       "╰────────────────────────────────────────────────────── End ──────────────────────────────────────────────────────╯\n"
      ]
     },
     "metadata": {},
     "output_type": "display_data"
    }
   ],
   "source": [
    "skim(digex_df)"
   ]
  },
  {
   "cell_type": "markdown",
   "id": "2a76b07e-537b-4fde-b110-664ee1f4c6a6",
   "metadata": {},
   "source": [
    "### Survey experience "
   ]
  },
  {
   "cell_type": "markdown",
   "id": "cabd3b94-dff3-4475-ad6c-86dbc7b6902a",
   "metadata": {},
   "source": [
    "#### Number of complete survey participants"
   ]
  },
  {
   "cell_type": "code",
   "execution_count": 5,
   "id": "c6244f4a-948e-497c-b313-0d54c2f0e4a8",
   "metadata": {},
   "outputs": [
    {
     "name": "stdout",
     "output_type": "stream",
     "text": [
      "499\n"
     ]
    }
   ],
   "source": [
    "completed_p = get_summary_statistics.completed_participants(digex_df)\n",
    "print(completed_p)"
   ]
  },
  {
   "cell_type": "markdown",
   "id": "0fd05de9-4ed9-4d56-be5f-89c203ace259",
   "metadata": {},
   "source": [
    "#### Response rate"
   ]
  },
  {
   "cell_type": "code",
   "execution_count": 6,
   "id": "4377075c-3db9-4937-9bd5-a5a2b89f77fd",
   "metadata": {},
   "outputs": [
    {
     "name": "stdout",
     "output_type": "stream",
     "text": [
      "499 per 500\n"
     ]
    }
   ],
   "source": [
    "response_r = get_summary_statistics.response_rate(digex_df, as_percentage=False)\n",
    "print(response_r)"
   ]
  },
  {
   "cell_type": "code",
   "execution_count": 7,
   "id": "ca70ba58-eae6-4ce9-8d94-f35107c9af21",
   "metadata": {},
   "outputs": [
    {
     "name": "stdout",
     "output_type": "stream",
     "text": [
      "99.8 %\n"
     ]
    }
   ],
   "source": [
    "response_perc = get_summary_statistics.response_rate(digex_df, as_percentage=True)\n",
    "print(response_perc,'%')"
   ]
  },
  {
   "cell_type": "markdown",
   "id": "15d3c401-7d6b-49a9-ac5b-791a40390994",
   "metadata": {},
   "source": [
    "#### Number of screened out participants"
   ]
  },
  {
   "cell_type": "code",
   "execution_count": 8,
   "id": "435bae73-f7c4-410f-a354-2fb0eb9b4c60",
   "metadata": {},
   "outputs": [
    {
     "name": "stdout",
     "output_type": "stream",
     "text": [
      "1\n"
     ]
    }
   ],
   "source": [
    "print(config.PARTICIPANT_COUNT - completed_p)"
   ]
  },
  {
   "cell_type": "markdown",
   "id": "7b2a9627-efea-47c3-a5ac-66581914ac4b",
   "metadata": {},
   "source": [
    "#### Completion time"
   ]
  },
  {
   "cell_type": "code",
   "execution_count": 9,
   "id": "e260bbf3-63f3-41ac-b3a8-58cd6df6e9c8",
   "metadata": {},
   "outputs": [
    {
     "name": "stdout",
     "output_type": "stream",
     "text": [
      "count                          499\n",
      "mean     0 days 00:16:50.851703406\n",
      "std      0 days 00:09:43.182528457\n",
      "min                0 days 00:02:30\n",
      "25%                0 days 00:10:08\n",
      "50%                0 days 00:14:48\n",
      "75%                0 days 00:20:39\n",
      "max                0 days 01:23:47\n",
      "Name: duration_sec, dtype: object\n"
     ]
    }
   ],
   "source": [
    "times_min = get_summary_statistics.completion_time(digex_df, time_unit='min')\n",
    "print(times_min)"
   ]
  },
  {
   "cell_type": "markdown",
   "id": "dee96b99-2877-4232-b440-d2c491b77dd5",
   "metadata": {
    "tags": []
   },
   "source": [
    "### Demographic information"
   ]
  },
  {
   "cell_type": "markdown",
   "id": "55d96255-5e37-4218-b2fa-6eeacd17662c",
   "metadata": {},
   "source": [
    "Something like this (in a tidy format) will presumably be Table 1 in the paper:"
   ]
  },
  {
   "cell_type": "code",
   "execution_count": 10,
   "id": "13cf53cc-665d-4c55-9b92-01f87691db2a",
   "metadata": {},
   "outputs": [
    {
     "data": {
      "text/html": [
       "<div>\n",
       "<style scoped>\n",
       "    .dataframe tbody tr th:only-of-type {\n",
       "        vertical-align: middle;\n",
       "    }\n",
       "\n",
       "    .dataframe tbody tr th {\n",
       "        vertical-align: top;\n",
       "    }\n",
       "\n",
       "    .dataframe thead th {\n",
       "        text-align: right;\n",
       "    }\n",
       "</style>\n",
       "<table border=\"1\" class=\"dataframe\">\n",
       "  <thead>\n",
       "    <tr style=\"text-align: right;\">\n",
       "      <th></th>\n",
       "      <th>age</th>\n",
       "      <th>age_vals</th>\n",
       "      <th>gender_id</th>\n",
       "      <th>gender_id_vals</th>\n",
       "      <th>gender_id_perc</th>\n",
       "      <th>ethnic_id</th>\n",
       "      <th>ethnic_id_vals</th>\n",
       "      <th>ethnic_id_perc</th>\n",
       "      <th>edu</th>\n",
       "      <th>edu_vals</th>\n",
       "      <th>edu_perc</th>\n",
       "      <th>politic_views</th>\n",
       "      <th>politic_views_vals</th>\n",
       "      <th>politic_views_perc</th>\n",
       "    </tr>\n",
       "  </thead>\n",
       "  <tbody>\n",
       "    <tr>\n",
       "      <th>0</th>\n",
       "      <td>Average</td>\n",
       "      <td>41.663327</td>\n",
       "      <td>Male</td>\n",
       "      <td>282.0</td>\n",
       "      <td>56.513</td>\n",
       "      <td>White / Caucasian</td>\n",
       "      <td>397</td>\n",
       "      <td>79.559</td>\n",
       "      <td>Bachelor's degree</td>\n",
       "      <td>222.0</td>\n",
       "      <td>44.489</td>\n",
       "      <td>Very liberal</td>\n",
       "      <td>150.0</td>\n",
       "      <td>30.06</td>\n",
       "    </tr>\n",
       "    <tr>\n",
       "      <th>1</th>\n",
       "      <td>Standard deviation</td>\n",
       "      <td>13.635932</td>\n",
       "      <td>Female</td>\n",
       "      <td>207.0</td>\n",
       "      <td>41.483</td>\n",
       "      <td>African-American</td>\n",
       "      <td>32</td>\n",
       "      <td>6.413</td>\n",
       "      <td>Highschool</td>\n",
       "      <td>153.0</td>\n",
       "      <td>30.661</td>\n",
       "      <td>Slightly liberal</td>\n",
       "      <td>126.0</td>\n",
       "      <td>25.251</td>\n",
       "    </tr>\n",
       "    <tr>\n",
       "      <th>2</th>\n",
       "      <td>Min</td>\n",
       "      <td>18.0</td>\n",
       "      <td>Non-binary / third gender</td>\n",
       "      <td>8.0</td>\n",
       "      <td>1.603</td>\n",
       "      <td>Mixed race</td>\n",
       "      <td>20</td>\n",
       "      <td>4.008</td>\n",
       "      <td>Master's degree or above</td>\n",
       "      <td>87.0</td>\n",
       "      <td>17.435</td>\n",
       "      <td>Slightly conservative</td>\n",
       "      <td>96.0</td>\n",
       "      <td>19.238</td>\n",
       "    </tr>\n",
       "    <tr>\n",
       "      <th>3</th>\n",
       "      <td>Max</td>\n",
       "      <td>78.0</td>\n",
       "      <td>Prefer not to say</td>\n",
       "      <td>2.0</td>\n",
       "      <td>0.401</td>\n",
       "      <td>Hispanic</td>\n",
       "      <td>19</td>\n",
       "      <td>3.808</td>\n",
       "      <td>Associate's degree</td>\n",
       "      <td>22.0</td>\n",
       "      <td>4.409</td>\n",
       "      <td>Neutral/ Neither conservative or liberal</td>\n",
       "      <td>89.0</td>\n",
       "      <td>17.836</td>\n",
       "    </tr>\n",
       "    <tr>\n",
       "      <th>4</th>\n",
       "      <td></td>\n",
       "      <td></td>\n",
       "      <td></td>\n",
       "      <td></td>\n",
       "      <td></td>\n",
       "      <td>Asian - Eastern</td>\n",
       "      <td>16</td>\n",
       "      <td>3.206</td>\n",
       "      <td>Some college</td>\n",
       "      <td>7.0</td>\n",
       "      <td>1.403</td>\n",
       "      <td>Very conservative</td>\n",
       "      <td>35.0</td>\n",
       "      <td>7.014</td>\n",
       "    </tr>\n",
       "    <tr>\n",
       "      <th>5</th>\n",
       "      <td></td>\n",
       "      <td></td>\n",
       "      <td></td>\n",
       "      <td></td>\n",
       "      <td></td>\n",
       "      <td>Asian - Indian</td>\n",
       "      <td>7</td>\n",
       "      <td>1.403</td>\n",
       "      <td>Prefer not to say</td>\n",
       "      <td>4.0</td>\n",
       "      <td>0.802</td>\n",
       "      <td>Prefer not to say</td>\n",
       "      <td>3.0</td>\n",
       "      <td>0.601</td>\n",
       "    </tr>\n",
       "    <tr>\n",
       "      <th>6</th>\n",
       "      <td></td>\n",
       "      <td></td>\n",
       "      <td></td>\n",
       "      <td></td>\n",
       "      <td></td>\n",
       "      <td>Native-American</td>\n",
       "      <td>3</td>\n",
       "      <td>0.601</td>\n",
       "      <td>Vocational training</td>\n",
       "      <td>4.0</td>\n",
       "      <td>0.802</td>\n",
       "      <td></td>\n",
       "      <td></td>\n",
       "      <td></td>\n",
       "    </tr>\n",
       "    <tr>\n",
       "      <th>7</th>\n",
       "      <td></td>\n",
       "      <td></td>\n",
       "      <td></td>\n",
       "      <td></td>\n",
       "      <td></td>\n",
       "      <td>Pacific Islander</td>\n",
       "      <td>1</td>\n",
       "      <td>0.200</td>\n",
       "      <td></td>\n",
       "      <td></td>\n",
       "      <td></td>\n",
       "      <td></td>\n",
       "      <td></td>\n",
       "      <td></td>\n",
       "    </tr>\n",
       "    <tr>\n",
       "      <th>8</th>\n",
       "      <td></td>\n",
       "      <td></td>\n",
       "      <td></td>\n",
       "      <td></td>\n",
       "      <td></td>\n",
       "      <td>Prefer not to say</td>\n",
       "      <td>1</td>\n",
       "      <td>0.200</td>\n",
       "      <td></td>\n",
       "      <td></td>\n",
       "      <td></td>\n",
       "      <td></td>\n",
       "      <td></td>\n",
       "      <td></td>\n",
       "    </tr>\n",
       "    <tr>\n",
       "      <th>9</th>\n",
       "      <td></td>\n",
       "      <td></td>\n",
       "      <td></td>\n",
       "      <td></td>\n",
       "      <td></td>\n",
       "      <td>Asian - Southeast</td>\n",
       "      <td>1</td>\n",
       "      <td>0.200</td>\n",
       "      <td></td>\n",
       "      <td></td>\n",
       "      <td></td>\n",
       "      <td></td>\n",
       "      <td></td>\n",
       "      <td></td>\n",
       "    </tr>\n",
       "    <tr>\n",
       "      <th>10</th>\n",
       "      <td></td>\n",
       "      <td></td>\n",
       "      <td></td>\n",
       "      <td></td>\n",
       "      <td></td>\n",
       "      <td>Carribean</td>\n",
       "      <td>1</td>\n",
       "      <td>0.200</td>\n",
       "      <td></td>\n",
       "      <td></td>\n",
       "      <td></td>\n",
       "      <td></td>\n",
       "      <td></td>\n",
       "      <td></td>\n",
       "    </tr>\n",
       "    <tr>\n",
       "      <th>11</th>\n",
       "      <td></td>\n",
       "      <td></td>\n",
       "      <td></td>\n",
       "      <td></td>\n",
       "      <td></td>\n",
       "      <td>Other</td>\n",
       "      <td>1</td>\n",
       "      <td>0.200</td>\n",
       "      <td></td>\n",
       "      <td></td>\n",
       "      <td></td>\n",
       "      <td></td>\n",
       "      <td></td>\n",
       "      <td></td>\n",
       "    </tr>\n",
       "  </tbody>\n",
       "</table>\n",
       "</div>"
      ],
      "text/plain": [
       "                   age   age_vals                  gender_id gender_id_vals  \\\n",
       "0              Average  41.663327                       Male          282.0   \n",
       "1   Standard deviation  13.635932                     Female          207.0   \n",
       "2                  Min       18.0  Non-binary / third gender            8.0   \n",
       "3                  Max       78.0          Prefer not to say            2.0   \n",
       "4                                                                             \n",
       "5                                                                             \n",
       "6                                                                             \n",
       "7                                                                             \n",
       "8                                                                             \n",
       "9                                                                             \n",
       "10                                                                            \n",
       "11                                                                            \n",
       "\n",
       "   gender_id_perc          ethnic_id  ethnic_id_vals  ethnic_id_perc  \\\n",
       "0          56.513  White / Caucasian             397          79.559   \n",
       "1          41.483   African-American              32           6.413   \n",
       "2           1.603         Mixed race              20           4.008   \n",
       "3           0.401           Hispanic              19           3.808   \n",
       "4                    Asian - Eastern              16           3.206   \n",
       "5                     Asian - Indian               7           1.403   \n",
       "6                    Native-American               3           0.601   \n",
       "7                   Pacific Islander               1           0.200   \n",
       "8                  Prefer not to say               1           0.200   \n",
       "9                  Asian - Southeast               1           0.200   \n",
       "10                         Carribean               1           0.200   \n",
       "11                             Other               1           0.200   \n",
       "\n",
       "                         edu edu_vals edu_perc  \\\n",
       "0          Bachelor's degree    222.0   44.489   \n",
       "1                 Highschool    153.0   30.661   \n",
       "2   Master's degree or above     87.0   17.435   \n",
       "3         Associate's degree     22.0    4.409   \n",
       "4               Some college      7.0    1.403   \n",
       "5          Prefer not to say      4.0    0.802   \n",
       "6        Vocational training      4.0    0.802   \n",
       "7                                                \n",
       "8                                                \n",
       "9                                                \n",
       "10                                               \n",
       "11                                               \n",
       "\n",
       "                               politic_views politic_views_vals  \\\n",
       "0                               Very liberal              150.0   \n",
       "1                           Slightly liberal              126.0   \n",
       "2                      Slightly conservative               96.0   \n",
       "3   Neutral/ Neither conservative or liberal               89.0   \n",
       "4                          Very conservative               35.0   \n",
       "5                          Prefer not to say                3.0   \n",
       "6                                                                 \n",
       "7                                                                 \n",
       "8                                                                 \n",
       "9                                                                 \n",
       "10                                                                \n",
       "11                                                                \n",
       "\n",
       "   politic_views_perc  \n",
       "0               30.06  \n",
       "1              25.251  \n",
       "2              19.238  \n",
       "3              17.836  \n",
       "4               7.014  \n",
       "5               0.601  \n",
       "6                      \n",
       "7                      \n",
       "8                      \n",
       "9                      \n",
       "10                     \n",
       "11                     "
      ]
     },
     "metadata": {},
     "output_type": "display_data"
    }
   ],
   "source": [
    "demographic_df = get_summary_statistics.demographic_information(\n",
    "    digex_df[['age', 'gender_id', 'ethnic_id', 'edu','politic_views']])\n",
    "display(demographic_df)"
   ]
  },
  {
   "cell_type": "markdown",
   "id": "ef80d9ec-47a1-46a7-a83b-54570be33346",
   "metadata": {
    "tags": []
   },
   "source": [
    "#### Age"
   ]
  },
  {
   "cell_type": "code",
   "execution_count": 11,
   "id": "49a19600-cefd-42a3-a409-91fb7aa49ee2",
   "metadata": {},
   "outputs": [
    {
     "name": "stdout",
     "output_type": "stream",
     "text": [
      "Mean age: 41.66332665330661\n",
      "SD age: 13.63593166177689\n",
      "Minimum age: 18.0\n",
      "Maximum age: 78.0\n"
     ]
    }
   ],
   "source": [
    "print(\"Mean age:\", digex_df['age'].mean())\n",
    "print(\"SD age:\", digex_df['age'].std())\n",
    "print(\"Minimum age:\", digex_df['age'].min())\n",
    "print(\"Maximum age:\", digex_df['age'].max())"
   ]
  },
  {
   "cell_type": "markdown",
   "id": "d94ffa67-dd26-47d0-af5d-486cbff8d7b2",
   "metadata": {},
   "source": [
    "#### Gender"
   ]
  },
  {
   "cell_type": "code",
   "execution_count": 18,
   "id": "a2daa37d",
   "metadata": {},
   "outputs": [
    {
     "data": {
      "text/plain": [
       "Male                         56.513026\n",
       "Female                       41.482966\n",
       "Non-binary / third gender     1.603206\n",
       "Prefer not to say             0.400802\n",
       "Name: gender_id, dtype: Float64"
      ]
     },
     "execution_count": 18,
     "metadata": {},
     "output_type": "execute_result"
    }
   ],
   "source": [
    "digex_df['gender_id'].value_counts(normalize=True, dropna=False) * 100"
   ]
  },
  {
   "cell_type": "markdown",
   "id": "a666f1cf-275f-41ce-93ad-0856a9599376",
   "metadata": {},
   "source": [
    "#### Ethnicity"
   ]
  },
  {
   "cell_type": "code",
   "execution_count": 22,
   "id": "7c8c9d9c",
   "metadata": {},
   "outputs": [
    {
     "data": {
      "text/plain": [
       "White / Caucasian    79.559118\n",
       "African-American      6.412826\n",
       "Mixed race            4.008016\n",
       "Hispanic              3.807615\n",
       "Asian - Eastern       3.206413\n",
       "Asian - Indian        1.402806\n",
       "Native-American       0.601202\n",
       "Pacific Islander      0.200401\n",
       "Prefer not to say     0.200401\n",
       "Asian - Southeast     0.200401\n",
       "Carribean             0.200401\n",
       "Other                 0.200401\n",
       "Name: ethnic_id, dtype: Float64"
      ]
     },
     "execution_count": 22,
     "metadata": {},
     "output_type": "execute_result"
    }
   ],
   "source": [
    "digex_df['ethnic_id'].value_counts(normalize=True, dropna=False) * 100"
   ]
  },
  {
   "cell_type": "markdown",
   "id": "2cd534ae-c9c2-4520-b4d9-7a6dd251a1d5",
   "metadata": {},
   "source": [
    "#### Social media use\n",
    "\n",
    "*Note: there's an error on Qualtrics such that participants could only pick one option, instead of multiple. Since this is just a screener, we can simply note that all participants reported being a regular user of at least one of Facebook, Twitter, and/or Reddit*"
   ]
  },
  {
   "cell_type": "code",
   "execution_count": 14,
   "id": "55befe12",
   "metadata": {},
   "outputs": [
    {
     "data": {
      "text/plain": [
       "Facebook    258\n",
       "Reddit      133\n",
       "Twitter     108\n",
       "Name: sm_use, dtype: Int64"
      ]
     },
     "execution_count": 14,
     "metadata": {},
     "output_type": "execute_result"
    }
   ],
   "source": [
    "digex_df['sm_use'].value_counts(dropna=False)"
   ]
  },
  {
   "cell_type": "markdown",
   "id": "8285e99f-49f0-48e3-a3d9-0ab3999cee7b",
   "metadata": {},
   "source": [
    "#### Political views"
   ]
  },
  {
   "cell_type": "code",
   "execution_count": 15,
   "id": "fba57260",
   "metadata": {},
   "outputs": [
    {
     "data": {
      "text/plain": [
       "Very liberal                                150\n",
       "Slightly liberal                            126\n",
       "Slightly conservative                        96\n",
       "Neutral/ Neither conservative or liberal     89\n",
       "Very conservative                            35\n",
       "Prefer not to say                             3\n",
       "Name: politic_views, dtype: Int64"
      ]
     },
     "execution_count": 15,
     "metadata": {},
     "output_type": "execute_result"
    }
   ],
   "source": [
    "digex_df['politic_views'].value_counts(dropna=False)"
   ]
  },
  {
   "cell_type": "code",
   "execution_count": 16,
   "id": "7f51306f",
   "metadata": {},
   "outputs": [
    {
     "data": {
      "text/plain": [
       "0.5531062124248497"
      ]
     },
     "execution_count": 16,
     "metadata": {},
     "output_type": "execute_result"
    }
   ],
   "source": [
    "# proportion liberal\n",
    "( (digex_df['politic_views'].value_counts()['Very liberal']) + \n",
    "(digex_df['politic_views'].value_counts()['Slightly liberal']) )/len(digex_df)"
   ]
  },
  {
   "cell_type": "code",
   "execution_count": 17,
   "id": "b96f2f3e",
   "metadata": {},
   "outputs": [
    {
     "data": {
      "text/plain": [
       "0.2625250501002004"
      ]
     },
     "execution_count": 17,
     "metadata": {},
     "output_type": "execute_result"
    }
   ],
   "source": [
    "# proportion conservative\n",
    "( (digex_df['politic_views'].value_counts()['Very conservative']) + \n",
    "(digex_df['politic_views'].value_counts()['Slightly conservative']) )/len(digex_df)"
   ]
  }
 ],
 "metadata": {
  "kernelspec": {
   "display_name": "Python 3 (ipykernel)",
   "language": "python",
   "name": "python3"
  },
  "language_info": {
   "codemirror_mode": {
    "name": "ipython",
    "version": 3
   },
   "file_extension": ".py",
   "mimetype": "text/x-python",
   "name": "python",
   "nbconvert_exporter": "python",
   "pygments_lexer": "ipython3",
   "version": "3.9.12"
  }
 },
 "nbformat": 4,
 "nbformat_minor": 5
}
