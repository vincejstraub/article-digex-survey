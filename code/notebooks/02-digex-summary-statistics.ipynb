{
 "cells": [
  {
   "cell_type": "markdown",
   "id": "20d1b0e3-e966-4f91-88e5-0f26ed5554f8",
   "metadata": {},
   "source": [
    "# Summary statistics "
   ]
  },
  {
   "cell_type": "markdown",
   "id": "6cbd674e-5ab7-4abd-b5f9-c6b41e69aafa",
   "metadata": {},
   "source": [
    "This notebook contains code for the analysis of summary statistics for data used in the project: Public attitudes and ethical guidelines in digital field experiments (digex)."
   ]
  },
  {
   "cell_type": "markdown",
   "id": "01f74970-8444-4a21-b6c0-32f85e42606a",
   "metadata": {},
   "source": [
    "# TO DO\n",
    "\n",
    "Taken from [2022-digex-study-design](https://docs.google.com/document/d/1nsaXEn04s9LTsjqrpbUpZlyQ3CAcuqkOwy1ZM0d-kKY/edit#):\n",
    "\n",
    "- To describe the general behavior of participants when filling out the survey, we will calculate the means, standard deviations, and ranges  (M, SD, range) for the response rate, the number of screened out participants, the number of complete and incomplete survey participations, and the completion time. \n",
    "\n",
    "- We will further describe the composition of the obtained sample by providing frequency tables or plots and descriptive statistics (M, SD, range) for the demographic variables of gender, age, ethnic background, education level, and political viewpoint. \n"
   ]
  },
  {
   "cell_type": "markdown",
   "id": "0e734fff-a286-48e5-a5ac-a51eeceb6871",
   "metadata": {},
   "source": [
    "## Set working directory"
   ]
  },
  {
   "cell_type": "code",
   "execution_count": 1,
   "id": "58aad47d-1892-4c10-81bb-dc47ae4f4d08",
   "metadata": {},
   "outputs": [],
   "source": [
    "import pathlib   # Change cwd\n",
    "import os \n",
    "\n",
    "path = pathlib.Path.cwd().parent\n",
    "os.chdir(path)"
   ]
  },
  {
   "cell_type": "markdown",
   "id": "efa27ad6-b68d-4b46-a252-2591ff578ba2",
   "metadata": {
    "tags": []
   },
   "source": [
    "## Imports"
   ]
  },
  {
   "cell_type": "code",
   "execution_count": 2,
   "id": "b3efc572-dded-4634-ba37-b8ef7ac696a2",
   "metadata": {},
   "outputs": [],
   "source": [
    "import pathlib   # Standard library\n",
    "\n",
    "import yaml   # 3rd party packages\n",
    "import joypy\n",
    "import pandas as pd\n",
    "import numpy as np\n",
    "from matplotlib import pyplot as plt\n",
    "\n",
    "from digex_src import config    # Local imports\n",
    "from digex_src import preprocess\n",
    "from digex_src import get_summary_statistics\n",
    "from digex_src.load_data import get_data_filepath"
   ]
  },
  {
   "cell_type": "markdown",
   "id": "82c310f5-9a30-4016-95be-74971cc942a6",
   "metadata": {
    "tags": []
   },
   "source": [
    "## load processed data"
   ]
  },
  {
   "cell_type": "code",
   "execution_count": 8,
   "id": "9e7fbd20-87ed-481a-9911-d755c1fac590",
   "metadata": {},
   "outputs": [
    {
     "data": {
      "text/html": [
       "<div>\n",
       "<style scoped>\n",
       "    .dataframe tbody tr th:only-of-type {\n",
       "        vertical-align: middle;\n",
       "    }\n",
       "\n",
       "    .dataframe tbody tr th {\n",
       "        vertical-align: top;\n",
       "    }\n",
       "\n",
       "    .dataframe thead th {\n",
       "        text-align: right;\n",
       "    }\n",
       "</style>\n",
       "<table border=\"1\" class=\"dataframe\">\n",
       "  <thead>\n",
       "    <tr style=\"text-align: right;\">\n",
       "      <th></th>\n",
       "      <th>duration_sec</th>\n",
       "      <th>finished</th>\n",
       "      <th>sm_use</th>\n",
       "      <th>age</th>\n",
       "      <th>gender_id</th>\n",
       "      <th>ethnic_id</th>\n",
       "      <th>edu</th>\n",
       "      <th>politic_views</th>\n",
       "      <th>aware_sm_res</th>\n",
       "      <th>aware_sm_advan</th>\n",
       "      <th>...</th>\n",
       "      <th>rank_pub_interst</th>\n",
       "      <th>rank_add_fac_1</th>\n",
       "      <th>rank_add_fac_1_pos</th>\n",
       "      <th>rank_add_fac_2</th>\n",
       "      <th>rank_add_fac_2_pos</th>\n",
       "      <th>rank_add_fac_3</th>\n",
       "      <th>rank_add_fac_3_pos</th>\n",
       "      <th>aware_sm_advan_score</th>\n",
       "      <th>aware_sm_interact_score</th>\n",
       "      <th>aware_sm_use_score</th>\n",
       "    </tr>\n",
       "  </thead>\n",
       "  <tbody>\n",
       "    <tr>\n",
       "      <th>1</th>\n",
       "      <td>912.0</td>\n",
       "      <td>True</td>\n",
       "      <td>Facebook</td>\n",
       "      <td>29.0</td>\n",
       "      <td>Male</td>\n",
       "      <td>Asian - Eastern</td>\n",
       "      <td>Highschool</td>\n",
       "      <td>Slightly liberal</td>\n",
       "      <td>Extremely aware</td>\n",
       "      <td>['… are large and can contain millions of data...</td>\n",
       "      <td>...</td>\n",
       "      <td>1.0</td>\n",
       "      <td>NaN</td>\n",
       "      <td>NaN</td>\n",
       "      <td>NaN</td>\n",
       "      <td>NaN</td>\n",
       "      <td>NaN</td>\n",
       "      <td>NaN</td>\n",
       "      <td>4</td>\n",
       "      <td>0</td>\n",
       "      <td>9</td>\n",
       "    </tr>\n",
       "    <tr>\n",
       "      <th>2</th>\n",
       "      <td>720.0</td>\n",
       "      <td>True</td>\n",
       "      <td>Twitter</td>\n",
       "      <td>33.0</td>\n",
       "      <td>Male</td>\n",
       "      <td>Mixed race</td>\n",
       "      <td>Highschool</td>\n",
       "      <td>Neutral/ Neither conservative or liberal</td>\n",
       "      <td>Moderately aware</td>\n",
       "      <td>['… are large and can contain millions of data...</td>\n",
       "      <td>...</td>\n",
       "      <td>4.0</td>\n",
       "      <td>NaN</td>\n",
       "      <td>NaN</td>\n",
       "      <td>NaN</td>\n",
       "      <td>NaN</td>\n",
       "      <td>NaN</td>\n",
       "      <td>NaN</td>\n",
       "      <td>1</td>\n",
       "      <td>1</td>\n",
       "      <td>9</td>\n",
       "    </tr>\n",
       "    <tr>\n",
       "      <th>3</th>\n",
       "      <td>1874.0</td>\n",
       "      <td>True</td>\n",
       "      <td>Facebook</td>\n",
       "      <td>33.0</td>\n",
       "      <td>Female</td>\n",
       "      <td>Pacific Islander</td>\n",
       "      <td>Bachelor's degree</td>\n",
       "      <td>Very liberal</td>\n",
       "      <td>Extremely aware</td>\n",
       "      <td>['… are large and can contain millions of data...</td>\n",
       "      <td>...</td>\n",
       "      <td>1.0</td>\n",
       "      <td>NaN</td>\n",
       "      <td>NaN</td>\n",
       "      <td>NaN</td>\n",
       "      <td>NaN</td>\n",
       "      <td>NaN</td>\n",
       "      <td>NaN</td>\n",
       "      <td>2</td>\n",
       "      <td>2</td>\n",
       "      <td>5</td>\n",
       "    </tr>\n",
       "    <tr>\n",
       "      <th>4</th>\n",
       "      <td>1264.0</td>\n",
       "      <td>True</td>\n",
       "      <td>Facebook</td>\n",
       "      <td>73.0</td>\n",
       "      <td>Female</td>\n",
       "      <td>White / Caucasian</td>\n",
       "      <td>Highschool</td>\n",
       "      <td>Slightly conservative</td>\n",
       "      <td>Moderately aware</td>\n",
       "      <td>['… are large and can contain millions of data...</td>\n",
       "      <td>...</td>\n",
       "      <td>1.0</td>\n",
       "      <td>NaN</td>\n",
       "      <td>8.0</td>\n",
       "      <td>NaN</td>\n",
       "      <td>NaN</td>\n",
       "      <td>NaN</td>\n",
       "      <td>NaN</td>\n",
       "      <td>1</td>\n",
       "      <td>1</td>\n",
       "      <td>6</td>\n",
       "    </tr>\n",
       "    <tr>\n",
       "      <th>5</th>\n",
       "      <td>556.0</td>\n",
       "      <td>True</td>\n",
       "      <td>Twitter</td>\n",
       "      <td>27.0</td>\n",
       "      <td>Female</td>\n",
       "      <td>Native-American</td>\n",
       "      <td>Highschool</td>\n",
       "      <td>Very liberal</td>\n",
       "      <td>Extremely aware</td>\n",
       "      <td>['… often capture social relationships not fou...</td>\n",
       "      <td>...</td>\n",
       "      <td>7.0</td>\n",
       "      <td>NaN</td>\n",
       "      <td>NaN</td>\n",
       "      <td>NaN</td>\n",
       "      <td>NaN</td>\n",
       "      <td>NaN</td>\n",
       "      <td>NaN</td>\n",
       "      <td>0</td>\n",
       "      <td>3</td>\n",
       "      <td>9</td>\n",
       "    </tr>\n",
       "  </tbody>\n",
       "</table>\n",
       "<p>5 rows × 51 columns</p>\n",
       "</div>"
      ],
      "text/plain": [
       "   duration_sec  finished    sm_use   age gender_id          ethnic_id  \\\n",
       "1         912.0      True  Facebook  29.0      Male    Asian - Eastern   \n",
       "2         720.0      True   Twitter  33.0      Male         Mixed race   \n",
       "3        1874.0      True  Facebook  33.0    Female   Pacific Islander   \n",
       "4        1264.0      True  Facebook  73.0    Female  White / Caucasian   \n",
       "5         556.0      True   Twitter  27.0    Female    Native-American   \n",
       "\n",
       "                 edu                             politic_views  \\\n",
       "1         Highschool                          Slightly liberal   \n",
       "2         Highschool  Neutral/ Neither conservative or liberal   \n",
       "3  Bachelor's degree                              Very liberal   \n",
       "4         Highschool                     Slightly conservative   \n",
       "5         Highschool                              Very liberal   \n",
       "\n",
       "       aware_sm_res                                     aware_sm_advan  ...  \\\n",
       "1   Extremely aware  ['… are large and can contain millions of data...  ...   \n",
       "2  Moderately aware  ['… are large and can contain millions of data...  ...   \n",
       "3   Extremely aware  ['… are large and can contain millions of data...  ...   \n",
       "4  Moderately aware  ['… are large and can contain millions of data...  ...   \n",
       "5   Extremely aware  ['… often capture social relationships not fou...  ...   \n",
       "\n",
       "  rank_pub_interst rank_add_fac_1 rank_add_fac_1_pos rank_add_fac_2  \\\n",
       "1              1.0            NaN                NaN            NaN   \n",
       "2              4.0            NaN                NaN            NaN   \n",
       "3              1.0            NaN                NaN            NaN   \n",
       "4              1.0            NaN                8.0            NaN   \n",
       "5              7.0            NaN                NaN            NaN   \n",
       "\n",
       "  rank_add_fac_2_pos rank_add_fac_3 rank_add_fac_3_pos aware_sm_advan_score  \\\n",
       "1                NaN            NaN                NaN                    4   \n",
       "2                NaN            NaN                NaN                    1   \n",
       "3                NaN            NaN                NaN                    2   \n",
       "4                NaN            NaN                NaN                    1   \n",
       "5                NaN            NaN                NaN                    0   \n",
       "\n",
       "  aware_sm_interact_score aware_sm_use_score  \n",
       "1                       0                  9  \n",
       "2                       1                  9  \n",
       "3                       2                  5  \n",
       "4                       1                  6  \n",
       "5                       3                  9  \n",
       "\n",
       "[5 rows x 51 columns]"
      ]
     },
     "execution_count": 8,
     "metadata": {},
     "output_type": "execute_result"
    }
   ],
   "source": [
    "processed_data_path = get_data_filepath(\n",
    "    file=config.PROCESSED_DATA_FILEPATH, \n",
    "    data_path=config.PROCESSED_DATA_DIR,\n",
    "    main=False\n",
    ") \n",
    "\n",
    "digex_df = pd.read_csv(processed_data_path, index_col=0)\n",
    "\n",
    "digex_df.head()"
   ]
  },
  {
   "cell_type": "code",
   "execution_count": 9,
   "id": "8b8e06ae-cb1f-47b4-a481-d80640d3879f",
   "metadata": {
    "tags": []
   },
   "outputs": [
    {
     "data": {
      "text/html": [
       "<div>\n",
       "<style scoped>\n",
       "    .dataframe tbody tr th:only-of-type {\n",
       "        vertical-align: middle;\n",
       "    }\n",
       "\n",
       "    .dataframe tbody tr th {\n",
       "        vertical-align: top;\n",
       "    }\n",
       "\n",
       "    .dataframe thead th {\n",
       "        text-align: right;\n",
       "    }\n",
       "</style>\n",
       "<table border=\"1\" class=\"dataframe\">\n",
       "  <thead>\n",
       "    <tr style=\"text-align: right;\">\n",
       "      <th></th>\n",
       "      <th>start_date</th>\n",
       "      <th>end_date</th>\n",
       "      <th>status</th>\n",
       "      <th>progress</th>\n",
       "      <th>duration_sec</th>\n",
       "      <th>finished</th>\n",
       "      <th>date</th>\n",
       "      <th>q_recaptcha_scor</th>\n",
       "      <th>consent</th>\n",
       "      <th>sm_use</th>\n",
       "      <th>...</th>\n",
       "      <th>rank_anony</th>\n",
       "      <th>rank_harms</th>\n",
       "      <th>rank_balance</th>\n",
       "      <th>rank_pub_interst</th>\n",
       "      <th>rank_add_fac_1</th>\n",
       "      <th>rank_add_fac_1_pos</th>\n",
       "      <th>rank_add_fac_2</th>\n",
       "      <th>rank_add_fac_2_pos</th>\n",
       "      <th>rank_add_fac_3</th>\n",
       "      <th>rank_add_fac_3_pos</th>\n",
       "    </tr>\n",
       "  </thead>\n",
       "  <tbody>\n",
       "    <tr>\n",
       "      <th>0</th>\n",
       "      <td>Start Date</td>\n",
       "      <td>End Date</td>\n",
       "      <td>Response Type</td>\n",
       "      <td>Progress</td>\n",
       "      <td>Duration (in seconds)</td>\n",
       "      <td>Finished</td>\n",
       "      <td>Recorded Date</td>\n",
       "      <td>Q_RecaptchaScore</td>\n",
       "      <td>Welcome to our survey! \\n\\nStudy Information a...</td>\n",
       "      <td>Which of the following social media sites do y...</td>\n",
       "      <td>...</td>\n",
       "      <td>To run experiments like the ones described in ...</td>\n",
       "      <td>To run experiments like the ones described in ...</td>\n",
       "      <td>To run experiments like the ones described in ...</td>\n",
       "      <td>To run experiments like the ones described in ...</td>\n",
       "      <td>Are there any additional factors that you thin...</td>\n",
       "      <td>Are there any additional factors that you thin...</td>\n",
       "      <td>Are there any additional factors that you thin...</td>\n",
       "      <td>Are there any additional factors that you thin...</td>\n",
       "      <td>Are there any additional factors that you thin...</td>\n",
       "      <td>Are there any additional factors that you thin...</td>\n",
       "    </tr>\n",
       "    <tr>\n",
       "      <th>1</th>\n",
       "      <td>2022-09-09 04:23:23</td>\n",
       "      <td>2022-09-09 04:38:35</td>\n",
       "      <td>IP Address</td>\n",
       "      <td>100</td>\n",
       "      <td>912</td>\n",
       "      <td>True</td>\n",
       "      <td>2022-09-09 04:38:37.488000</td>\n",
       "      <td>0.9</td>\n",
       "      <td>I consent</td>\n",
       "      <td>Facebook</td>\n",
       "      <td>...</td>\n",
       "      <td>6</td>\n",
       "      <td>4</td>\n",
       "      <td>3</td>\n",
       "      <td>1</td>\n",
       "      <td>NaN</td>\n",
       "      <td>NaN</td>\n",
       "      <td>NaN</td>\n",
       "      <td>NaN</td>\n",
       "      <td>NaN</td>\n",
       "      <td>NaN</td>\n",
       "    </tr>\n",
       "    <tr>\n",
       "      <th>2</th>\n",
       "      <td>2022-09-09 04:34:03</td>\n",
       "      <td>2022-09-09 04:46:03</td>\n",
       "      <td>IP Address</td>\n",
       "      <td>100</td>\n",
       "      <td>720</td>\n",
       "      <td>True</td>\n",
       "      <td>2022-09-09 04:46:04.146000</td>\n",
       "      <td>0.8</td>\n",
       "      <td>I consent</td>\n",
       "      <td>Twitter</td>\n",
       "      <td>...</td>\n",
       "      <td>6</td>\n",
       "      <td>1</td>\n",
       "      <td>7</td>\n",
       "      <td>4</td>\n",
       "      <td>NaN</td>\n",
       "      <td>NaN</td>\n",
       "      <td>NaN</td>\n",
       "      <td>NaN</td>\n",
       "      <td>NaN</td>\n",
       "      <td>NaN</td>\n",
       "    </tr>\n",
       "    <tr>\n",
       "      <th>3</th>\n",
       "      <td>2022-09-09 04:34:26</td>\n",
       "      <td>2022-09-09 05:05:41</td>\n",
       "      <td>IP Address</td>\n",
       "      <td>100</td>\n",
       "      <td>1874</td>\n",
       "      <td>True</td>\n",
       "      <td>2022-09-09 05:05:43.065000</td>\n",
       "      <td>0.9</td>\n",
       "      <td>I consent</td>\n",
       "      <td>Facebook</td>\n",
       "      <td>...</td>\n",
       "      <td>3</td>\n",
       "      <td>2</td>\n",
       "      <td>4</td>\n",
       "      <td>1</td>\n",
       "      <td>Na</td>\n",
       "      <td>NaN</td>\n",
       "      <td>Na</td>\n",
       "      <td>NaN</td>\n",
       "      <td>Na</td>\n",
       "      <td>NaN</td>\n",
       "    </tr>\n",
       "    <tr>\n",
       "      <th>4</th>\n",
       "      <td>2022-09-09 04:51:43</td>\n",
       "      <td>2022-09-09 05:12:47</td>\n",
       "      <td>IP Address</td>\n",
       "      <td>100</td>\n",
       "      <td>1264</td>\n",
       "      <td>True</td>\n",
       "      <td>2022-09-09 05:12:47.820000</td>\n",
       "      <td>0.9</td>\n",
       "      <td>I consent</td>\n",
       "      <td>Facebook</td>\n",
       "      <td>...</td>\n",
       "      <td>3</td>\n",
       "      <td>4</td>\n",
       "      <td>5</td>\n",
       "      <td>1</td>\n",
       "      <td>Offer results to participants</td>\n",
       "      <td>8</td>\n",
       "      <td>NaN</td>\n",
       "      <td>NaN</td>\n",
       "      <td>NaN</td>\n",
       "      <td>NaN</td>\n",
       "    </tr>\n",
       "  </tbody>\n",
       "</table>\n",
       "<p>5 rows × 55 columns</p>\n",
       "</div>"
      ],
      "text/plain": [
       "            start_date             end_date         status  progress  \\\n",
       "0           Start Date             End Date  Response Type  Progress   \n",
       "1  2022-09-09 04:23:23  2022-09-09 04:38:35     IP Address       100   \n",
       "2  2022-09-09 04:34:03  2022-09-09 04:46:03     IP Address       100   \n",
       "3  2022-09-09 04:34:26  2022-09-09 05:05:41     IP Address       100   \n",
       "4  2022-09-09 04:51:43  2022-09-09 05:12:47     IP Address       100   \n",
       "\n",
       "            duration_sec  finished                        date  \\\n",
       "0  Duration (in seconds)  Finished               Recorded Date   \n",
       "1                    912      True  2022-09-09 04:38:37.488000   \n",
       "2                    720      True  2022-09-09 04:46:04.146000   \n",
       "3                   1874      True  2022-09-09 05:05:43.065000   \n",
       "4                   1264      True  2022-09-09 05:12:47.820000   \n",
       "\n",
       "   q_recaptcha_scor                                            consent  \\\n",
       "0  Q_RecaptchaScore  Welcome to our survey! \\n\\nStudy Information a...   \n",
       "1               0.9                                          I consent   \n",
       "2               0.8                                          I consent   \n",
       "3               0.9                                          I consent   \n",
       "4               0.9                                          I consent   \n",
       "\n",
       "                                              sm_use  ...  \\\n",
       "0  Which of the following social media sites do y...  ...   \n",
       "1                                           Facebook  ...   \n",
       "2                                            Twitter  ...   \n",
       "3                                           Facebook  ...   \n",
       "4                                           Facebook  ...   \n",
       "\n",
       "                                          rank_anony  \\\n",
       "0  To run experiments like the ones described in ...   \n",
       "1                                                  6   \n",
       "2                                                  6   \n",
       "3                                                  3   \n",
       "4                                                  3   \n",
       "\n",
       "                                          rank_harms  \\\n",
       "0  To run experiments like the ones described in ...   \n",
       "1                                                  4   \n",
       "2                                                  1   \n",
       "3                                                  2   \n",
       "4                                                  4   \n",
       "\n",
       "                                        rank_balance  \\\n",
       "0  To run experiments like the ones described in ...   \n",
       "1                                                  3   \n",
       "2                                                  7   \n",
       "3                                                  4   \n",
       "4                                                  5   \n",
       "\n",
       "                                    rank_pub_interst  \\\n",
       "0  To run experiments like the ones described in ...   \n",
       "1                                                  1   \n",
       "2                                                  4   \n",
       "3                                                  1   \n",
       "4                                                  1   \n",
       "\n",
       "                                      rank_add_fac_1  \\\n",
       "0  Are there any additional factors that you thin...   \n",
       "1                                                NaN   \n",
       "2                                                NaN   \n",
       "3                                                 Na   \n",
       "4                      Offer results to participants   \n",
       "\n",
       "                                  rank_add_fac_1_pos  \\\n",
       "0  Are there any additional factors that you thin...   \n",
       "1                                                NaN   \n",
       "2                                                NaN   \n",
       "3                                                NaN   \n",
       "4                                                  8   \n",
       "\n",
       "                                      rank_add_fac_2  \\\n",
       "0  Are there any additional factors that you thin...   \n",
       "1                                                NaN   \n",
       "2                                                NaN   \n",
       "3                                                 Na   \n",
       "4                                                NaN   \n",
       "\n",
       "                                  rank_add_fac_2_pos  \\\n",
       "0  Are there any additional factors that you thin...   \n",
       "1                                                NaN   \n",
       "2                                                NaN   \n",
       "3                                                NaN   \n",
       "4                                                NaN   \n",
       "\n",
       "                                      rank_add_fac_3  \\\n",
       "0  Are there any additional factors that you thin...   \n",
       "1                                                NaN   \n",
       "2                                                NaN   \n",
       "3                                                 Na   \n",
       "4                                                NaN   \n",
       "\n",
       "                                  rank_add_fac_3_pos  \n",
       "0  Are there any additional factors that you thin...  \n",
       "1                                                NaN  \n",
       "2                                                NaN  \n",
       "3                                                NaN  \n",
       "4                                                NaN  \n",
       "\n",
       "[5 rows x 55 columns]"
      ]
     },
     "execution_count": 9,
     "metadata": {},
     "output_type": "execute_result"
    }
   ],
   "source": [
    "digex_raw_data_path = get_data_filepath(main=False) \n",
    "digex_raw_data_df = pd.read_excel(digex_raw_data_path)\n",
    "\n",
    "digex_raw_data_df.head()"
   ]
  },
  {
   "cell_type": "markdown",
   "id": "3adbd602-44b3-4071-a5c7-57ffa16625c7",
   "metadata": {},
   "source": [
    "## Summary statistics"
   ]
  },
  {
   "cell_type": "code",
   "execution_count": 10,
   "id": "03bd3c4f-ec91-49c7-9cea-d11c6de05da5",
   "metadata": {},
   "outputs": [],
   "source": [
    "df = digex_df.copy()"
   ]
  },
  {
   "cell_type": "markdown",
   "id": "c2e46fed-afea-4f7e-91d6-59fd0d165d3e",
   "metadata": {},
   "source": [
    "add - get_summary_statistics everywhere"
   ]
  },
  {
   "cell_type": "markdown",
   "id": "2a76b07e-537b-4fde-b110-664ee1f4c6a6",
   "metadata": {},
   "source": [
    "### Survey experience (metadata)"
   ]
  },
  {
   "cell_type": "markdown",
   "id": "cabd3b94-dff3-4475-ad6c-86dbc7b6902a",
   "metadata": {},
   "source": [
    "#### Number of complete survey participants"
   ]
  },
  {
   "cell_type": "code",
   "execution_count": 32,
   "id": "c6244f4a-948e-497c-b313-0d54c2f0e4a8",
   "metadata": {},
   "outputs": [
    {
     "name": "stdout",
     "output_type": "stream",
     "text": [
      "499\n"
     ]
    }
   ],
   "source": [
    "completed_p = completed_participants(digex_df)\n",
    "print(completed_p)"
   ]
  },
  {
   "cell_type": "markdown",
   "id": "0fd05de9-4ed9-4d56-be5f-89c203ace259",
   "metadata": {},
   "source": [
    "#### Response rate"
   ]
  },
  {
   "cell_type": "code",
   "execution_count": 33,
   "id": "4377075c-3db9-4937-9bd5-a5a2b89f77fd",
   "metadata": {},
   "outputs": [
    {
     "name": "stdout",
     "output_type": "stream",
     "text": [
      "499 per 500\n"
     ]
    }
   ],
   "source": [
    "response_r = response_rate(digex_df, as_percentage=False)\n",
    "print(response_r)"
   ]
  },
  {
   "cell_type": "code",
   "execution_count": 36,
   "id": "ca70ba58-eae6-4ce9-8d94-f35107c9af21",
   "metadata": {},
   "outputs": [
    {
     "name": "stdout",
     "output_type": "stream",
     "text": [
      "99.8 %\n"
     ]
    }
   ],
   "source": [
    "response_perc = response_rate(digex_df, as_percentage=True)\n",
    "print(response_perc,'%')"
   ]
  },
  {
   "cell_type": "markdown",
   "id": "15d3c401-7d6b-49a9-ac5b-791a40390994",
   "metadata": {},
   "source": [
    "#### Number of screened out participants"
   ]
  },
  {
   "cell_type": "code",
   "execution_count": 13,
   "id": "435bae73-f7c4-410f-a354-2fb0eb9b4c60",
   "metadata": {},
   "outputs": [
    {
     "name": "stdout",
     "output_type": "stream",
     "text": [
      "1\n"
     ]
    }
   ],
   "source": [
    "print(PARTICIPANT_COUNT - completed_p)"
   ]
  },
  {
   "cell_type": "markdown",
   "id": "19cb13f2-f3f7-441f-9986-49b41dfe469b",
   "metadata": {},
   "source": [
    "we will calculate the means, standard deviations, and ranges (M, SD, range) for the response rate, the number of screened out participants, the number of complete and incomplete survey participations, and the completion time"
   ]
  },
  {
   "cell_type": "markdown",
   "id": "7b2a9627-efea-47c3-a5ac-66581914ac4b",
   "metadata": {},
   "source": [
    "#### Completion time"
   ]
  },
  {
   "cell_type": "code",
   "execution_count": 60,
   "id": "e260bbf3-63f3-41ac-b3a8-58cd6df6e9c8",
   "metadata": {},
   "outputs": [
    {
     "name": "stdout",
     "output_type": "stream",
     "text": [
      "count                          499\n",
      "mean     0 days 00:16:50.851703406\n",
      "std      0 days 00:09:43.182528457\n",
      "min                0 days 00:02:30\n",
      "25%                0 days 00:10:08\n",
      "50%                0 days 00:14:48\n",
      "75%                0 days 00:20:39\n",
      "max                0 days 01:23:47\n",
      "Name: duration_sec, dtype: object\n"
     ]
    }
   ],
   "source": [
    "completion_time(digex_df, time_unit='min')"
   ]
  },
  {
   "cell_type": "markdown",
   "id": "dee96b99-2877-4232-b440-d2c491b77dd5",
   "metadata": {},
   "source": [
    "### Demographics"
   ]
  },
  {
   "cell_type": "markdown",
   "id": "7b7b212f-1b85-46fb-a5cf-c66a087f5a09",
   "metadata": {},
   "source": [
    "Copy table but make pretty in: https://journals.sagepub.com/doi/pdf/10.1177/20563051211033824"
   ]
  },
  {
   "cell_type": "code",
   "execution_count": null,
   "id": "d2ad0168-ac99-4908-89ab-730df1e8148d",
   "metadata": {},
   "outputs": [],
   "source": []
  },
  {
   "cell_type": "code",
   "execution_count": null,
   "id": "45f2a490-3efc-4496-963f-c6a61d87777d",
   "metadata": {},
   "outputs": [],
   "source": []
  },
  {
   "cell_type": "code",
   "execution_count": 3,
   "id": "0905c5e9-753c-46c9-9b72-afb0e3547da9",
   "metadata": {},
   "outputs": [],
   "source": [
    "# https://aeturrell.github.io/coding-for-economists/data-numbers.html#counts\n",
    "# count() and value_counts() and mode()"
   ]
  },
  {
   "cell_type": "code",
   "execution_count": null,
   "id": "b054aab7-1631-4b47-928f-0ce991817eea",
   "metadata": {},
   "outputs": [],
   "source": [
    "# Summarise numerical values with .describe()\n"
   ]
  },
  {
   "cell_type": "code",
   "execution_count": null,
   "id": "64e7a47c-27e5-437e-a1ec-d92af9b85c2e",
   "metadata": {},
   "outputs": [],
   "source": [
    "# table = df[[\"mass\", \"height\"]].agg([np.mean, np.std])\n",
    "# table"
   ]
  },
  {
   "cell_type": "code",
   "execution_count": null,
   "id": "9ca25bdf-7a6d-4bef-ad32-8eb2e17ce610",
   "metadata": {},
   "outputs": [],
   "source": [
    "# Aggregation: https://aeturrell.github.io/coding-for-economists/data-transformation.html#aggregation\n",
    "\n",
    "# Groupby and aggregate: https://aeturrell.github.io/coding-for-economists/data-transformation.html#groupby-and-then-aggregate-aka-split-apply-combine"
   ]
  },
  {
   "cell_type": "code",
   "execution_count": null,
   "id": "5f688af4-5fc5-454b-a2ae-e345ce27a160",
   "metadata": {},
   "outputs": [],
   "source": [
    "## Spread and Distribution: https://aeturrell.github.io/coding-for-economists/data-numbers.html#counts"
   ]
  },
  {
   "cell_type": "code",
   "execution_count": null,
   "id": "630b7dab-7772-4470-8e58-798f476dc3e8",
   "metadata": {},
   "outputs": [],
   "source": [
    "from skimpy import skim\n",
    "\n",
    "skim(df)"
   ]
  },
  {
   "cell_type": "code",
   "execution_count": null,
   "id": "b3a67b3b-ca3a-4e27-a657-aabc04a06e89",
   "metadata": {},
   "outputs": [],
   "source": [
    "# Make quick charts with .plot.*"
   ]
  },
  {
   "cell_type": "markdown",
   "id": "109da723-8f69-4f60-b1df-4253a9d1539b",
   "metadata": {
    "tags": []
   },
   "source": [
    "## Create script"
   ]
  },
  {
   "cell_type": "code",
   "execution_count": 59,
   "id": "17932126-a637-41a5-b958-1a246b888263",
   "metadata": {},
   "outputs": [],
   "source": [
    "# %%writefile digex_src/get_summary_statistics.py\n",
    "\n",
    "import datetime\n",
    "\n",
    "\n",
    "PARTICIPANT_COUNT = config.PARTICIPANT_COUNT\n",
    "DECIMAL_PLACES = config.DECIMAL_PLACES\n",
    "\n",
    "\n",
    "def completed_participants(df, col='finished'):\n",
    "    return df.loc[df[col] == True][col].sum()\n",
    "\n",
    "\n",
    "def response_rate(df, \n",
    "                  col='finished', \n",
    "                  as_percentage=True, \n",
    "                  total=config.PARTICIPANT_COUNT,\n",
    "):\n",
    "    if as_percentage:\n",
    "        i = (df.loc[df[col] == True][col].sum() / total) * 100\n",
    "        return i\n",
    "    else:\n",
    "        r = df.loc[df[col] == True][col].sum()\n",
    "        return f'{r} per {total}'\n",
    "    \n",
    "    \n",
    "def completion_time(df, col='duration_sec', time_unit='sec'):\n",
    "    if time_unit == 'sec':\n",
    "        print(df[col].describe())\n",
    "    elif time_unit == 'min':\n",
    "        print(pd.to_timedelta(df[col], 's').describe())"
   ]
  }
 ],
 "metadata": {
  "kernelspec": {
   "display_name": "Python 3 (ipykernel)",
   "language": "python",
   "name": "python3"
  },
  "language_info": {
   "codemirror_mode": {
    "name": "ipython",
    "version": 3
   },
   "file_extension": ".py",
   "mimetype": "text/x-python",
   "name": "python",
   "nbconvert_exporter": "python",
   "pygments_lexer": "ipython3",
   "version": "3.9.12"
  }
 },
 "nbformat": 4,
 "nbformat_minor": 5
}
