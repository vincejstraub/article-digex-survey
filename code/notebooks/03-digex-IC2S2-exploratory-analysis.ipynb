{
 "cells": [
  {
   "cell_type": "markdown",
   "id": "b5150774-edf4-4c82-9bd4-35b88db7778d",
   "metadata": {},
   "source": [
    "# Exploratory analysis "
   ]
  },
  {
   "cell_type": "markdown",
   "id": "6009978f-fa14-4786-84ec-6f1d2557b0e0",
   "metadata": {},
   "source": [
    "This notebook contains code for exploratory data analysis of data used in the project: Public attitudes and ethical guidelines in digital field experiments (digex)."
   ]
  },
  {
   "cell_type": "markdown",
   "id": "57018cd9-e9c5-4ac7-8a93-078196055526",
   "metadata": {
    "tags": []
   },
   "source": [
    "# TO DO"
   ]
  },
  {
   "cell_type": "markdown",
   "id": "ff116ac0-7017-4a63-a0a7-cdae8019b4ee",
   "metadata": {
    "jp-MarkdownHeadingCollapsed": true,
    "tags": []
   },
   "source": [
    "**We can roughly use the below bullet points taken from [2022-digex-study-design](https://docs.google.com/document/d/1nsaXEn04s9LTsjqrpbUpZlyQ3CAcuqkOwy1ZM0d-kKY/edit#) as section headings for this notebook to conduct the exploratory analysis**:\n",
    "\n",
    "- To address question 1, we will provide frequency tables or plots and descriptive statistics (M, SD, range) for the variables: awareness of the fact that academic researchers use social media data, awareness of the advantages of social media data that account for why academics collect them, awareness of social media data use, and awareness of social media interaction methods. \n",
    "\n",
    "- To address question 2, we will provide frequency tables or plots and descriptive statistics (M, SD, range) for each of the 4 vignette studies presented in section 2 of the survey for the variable: attitudes towards actual research studies. \n",
    "\n",
    "- To address question 3, we will provide frequency tables or plots for the variables attitudes towards study design factors and attitudes towards ethical principles. Moreover, we will also use a mixed-methods approach to analyze open-ended free-text responses (see below).\n",
    "\n",
    "- To further address questions 1-3, open-ended free-text inputs of both the open “other” options of selection items and the  open-ended free-text answers (i.e., what do you think it means for an academic study to receive \"ethical approval”, describe any concerns you might have, what additional information about the study or the researchers that would influence your level of concern, are there any other features of research that are important for determining your level of concern, are there any additional factors that you think should be libsidered) will be analyzed using a mixed-methods approach to detect common topics, sentiments, and themes. "
   ]
  },
  {
   "cell_type": "markdown",
   "id": "2bd3083f-ec31-4300-8e86-cd50fe0b5498",
   "metadata": {},
   "source": [
    "## Set working directory"
   ]
  },
  {
   "cell_type": "code",
   "execution_count": 1,
   "id": "e81b947d-7cc3-44ac-8f27-1743f89901a9",
   "metadata": {},
   "outputs": [],
   "source": [
    "import pathlib   # Change cwd\n",
    "import os \n",
    "\n",
    "path = pathlib.Path.cwd().parent\n",
    "os.chdir(path)"
   ]
  },
  {
   "cell_type": "markdown",
   "id": "81c8ead7-601f-4663-9449-4ed6294c2743",
   "metadata": {
    "tags": []
   },
   "source": [
    "## Imports"
   ]
  },
  {
   "cell_type": "code",
   "execution_count": 2,
   "id": "0124c32d-cd56-461d-897e-5d230daae8be",
   "metadata": {},
   "outputs": [],
   "source": [
    "import joypy    # 3rd party packages\n",
    "import numpy as np\n",
    "import pandas as pd\n",
    "import seaborn as sns\n",
    "import matplotlib as mpl\n",
    "from matplotlib import cm\n",
    "from IPython.display import HTML\n",
    "from matplotlib import pyplot as plt\n",
    "%matplotlib inline\n",
    "\n",
    "from digex_src import config    # Local imports\n",
    "from digex_src.load_data import get_data_filepath"
   ]
  },
  {
   "cell_type": "markdown",
   "id": "1c9d41a0-26dc-46bc-92ed-b2fbd3baa8e2",
   "metadata": {},
   "source": [
    "## Plotting presets"
   ]
  },
  {
   "cell_type": "code",
   "execution_count": 3,
   "id": "83301dd1-4b43-4c67-aa93-7ed73964c274",
   "metadata": {},
   "outputs": [
    {
     "data": {
      "text/html": [
       "<svg  width=\"660\" height=\"55\"><rect x=\"0\" y=\"0\" width=\"55\" height=\"55\" style=\"fill:#011959;stroke-width:2;stroke:rgb(255,255,255)\"/><rect x=\"55\" y=\"0\" width=\"55\" height=\"55\" style=\"fill:#0f395f;stroke-width:2;stroke:rgb(255,255,255)\"/><rect x=\"110\" y=\"0\" width=\"55\" height=\"55\" style=\"fill:#165062;stroke-width:2;stroke:rgb(255,255,255)\"/><rect x=\"165\" y=\"0\" width=\"55\" height=\"55\" style=\"fill:#27635f;stroke-width:2;stroke:rgb(255,255,255)\"/><rect x=\"220\" y=\"0\" width=\"55\" height=\"55\" style=\"fill:#48714f;stroke-width:2;stroke:rgb(255,255,255)\"/><rect x=\"275\" y=\"0\" width=\"55\" height=\"55\" style=\"fill:#6d7c3b;stroke-width:2;stroke:rgb(255,255,255)\"/><rect x=\"330\" y=\"0\" width=\"55\" height=\"55\" style=\"fill:#97882c;stroke-width:2;stroke:rgb(255,255,255)\"/><rect x=\"385\" y=\"0\" width=\"55\" height=\"55\" style=\"fill:#c49138;stroke-width:2;stroke:rgb(255,255,255)\"/><rect x=\"440\" y=\"0\" width=\"55\" height=\"55\" style=\"fill:#eb9a60;stroke-width:2;stroke:rgb(255,255,255)\"/><rect x=\"495\" y=\"0\" width=\"55\" height=\"55\" style=\"fill:#fca995;stroke-width:2;stroke:rgb(255,255,255)\"/><rect x=\"550\" y=\"0\" width=\"55\" height=\"55\" style=\"fill:#fdbac7;stroke-width:2;stroke:rgb(255,255,255)\"/><rect x=\"605\" y=\"0\" width=\"55\" height=\"55\" style=\"fill:#faccfa;stroke-width:2;stroke:rgb(255,255,255)\"/></svg>"
      ],
      "text/plain": [
       "[(0.00392156862745098, 0.09803921568627451, 0.34901960784313724),\n",
       " (0.058823529411764705, 0.2235294117647059, 0.37254901960784315),\n",
       " (0.08627450980392157, 0.3137254901960784, 0.3843137254901961),\n",
       " (0.15294117647058825, 0.38823529411764707, 0.37254901960784315),\n",
       " (0.2823529411764706, 0.44313725490196076, 0.30980392156862746),\n",
       " (0.42745098039215684, 0.48627450980392156, 0.23137254901960785),\n",
       " (0.592156862745098, 0.5333333333333333, 0.17254901960784313),\n",
       " (0.7686274509803922, 0.5686274509803921, 0.2196078431372549),\n",
       " (0.9215686274509803, 0.6039215686274509, 0.3764705882352941),\n",
       " (0.9882352941176471, 0.6627450980392157, 0.5843137254901961),\n",
       " (0.9921568627450981, 0.7294117647058823, 0.7803921568627451),\n",
       " (0.9803921568627451, 0.8, 0.9803921568627451)]"
      ]
     },
     "execution_count": 3,
     "metadata": {},
     "output_type": "execute_result"
    }
   ],
   "source": [
    "# set default style\n",
    "digex_style = config.MPL_STYLE_FILEPATH\n",
    "digex_palette = config.PALETTE\n",
    "\n",
    "# set size for inline polots\n",
    "mpl.rcParams['figure.dpi'] = 200\n",
    "\n",
    "plt.style.use(digex_style)\n",
    "sns.color_palette(digex_palette)"
   ]
  },
  {
   "cell_type": "markdown",
   "id": "9f58243d-2dca-430c-bb74-6a09064297ef",
   "metadata": {
    "tags": []
   },
   "source": [
    "## Load processed data"
   ]
  },
  {
   "cell_type": "markdown",
   "id": "62b03199-d2e5-4a4b-be95-ccbc051c5d28",
   "metadata": {},
   "source": [
    "### 1. With `load_data.py`"
   ]
  },
  {
   "cell_type": "code",
   "execution_count": 4,
   "id": "3473d16f-0d4a-48cf-9fa1-c02fa8acabf5",
   "metadata": {},
   "outputs": [
    {
     "data": {
      "text/html": [
       "<div>\n",
       "<style scoped>\n",
       "    .dataframe tbody tr th:only-of-type {\n",
       "        vertical-align: middle;\n",
       "    }\n",
       "\n",
       "    .dataframe tbody tr th {\n",
       "        vertical-align: top;\n",
       "    }\n",
       "\n",
       "    .dataframe thead th {\n",
       "        text-align: right;\n",
       "    }\n",
       "</style>\n",
       "<table border=\"1\" class=\"dataframe\">\n",
       "  <thead>\n",
       "    <tr style=\"text-align: right;\">\n",
       "      <th></th>\n",
       "      <th>finished</th>\n",
       "      <th>duration_sec</th>\n",
       "      <th>sm_use</th>\n",
       "      <th>age</th>\n",
       "      <th>gender_id</th>\n",
       "      <th>ethnic_id</th>\n",
       "      <th>edu</th>\n",
       "      <th>politic_views</th>\n",
       "      <th>aware_sm_res</th>\n",
       "      <th>aware_sm_advan</th>\n",
       "      <th>...</th>\n",
       "      <th>rank_anony</th>\n",
       "      <th>rank_harms</th>\n",
       "      <th>rank_balance</th>\n",
       "      <th>rank_pub_interst</th>\n",
       "      <th>rank_add_fac_1</th>\n",
       "      <th>rank_add_fac_1_pos</th>\n",
       "      <th>rank_add_fac_2</th>\n",
       "      <th>rank_add_fac_2_pos</th>\n",
       "      <th>rank_add_fac_3</th>\n",
       "      <th>rank_add_fac_3_pos</th>\n",
       "    </tr>\n",
       "  </thead>\n",
       "  <tbody>\n",
       "    <tr>\n",
       "      <th>1</th>\n",
       "      <td>True</td>\n",
       "      <td>912.0</td>\n",
       "      <td>Facebook</td>\n",
       "      <td>29.0</td>\n",
       "      <td>Male</td>\n",
       "      <td>Asian - Eastern</td>\n",
       "      <td>Highschool</td>\n",
       "      <td>Slightly liberal</td>\n",
       "      <td>Extremely aware</td>\n",
       "      <td>['… are large and can contain millions of data...</td>\n",
       "      <td>...</td>\n",
       "      <td>6.0</td>\n",
       "      <td>4.0</td>\n",
       "      <td>3.0</td>\n",
       "      <td>1.0</td>\n",
       "      <td>NaN</td>\n",
       "      <td>NaN</td>\n",
       "      <td>NaN</td>\n",
       "      <td>NaN</td>\n",
       "      <td>NaN</td>\n",
       "      <td>NaN</td>\n",
       "    </tr>\n",
       "    <tr>\n",
       "      <th>2</th>\n",
       "      <td>True</td>\n",
       "      <td>720.0</td>\n",
       "      <td>Twitter</td>\n",
       "      <td>33.0</td>\n",
       "      <td>Male</td>\n",
       "      <td>Mixed race</td>\n",
       "      <td>Highschool</td>\n",
       "      <td>Neutral/ Neither conservative or liberal</td>\n",
       "      <td>Moderately aware</td>\n",
       "      <td>['… are large and can contain millions of data...</td>\n",
       "      <td>...</td>\n",
       "      <td>6.0</td>\n",
       "      <td>1.0</td>\n",
       "      <td>7.0</td>\n",
       "      <td>4.0</td>\n",
       "      <td>NaN</td>\n",
       "      <td>NaN</td>\n",
       "      <td>NaN</td>\n",
       "      <td>NaN</td>\n",
       "      <td>NaN</td>\n",
       "      <td>NaN</td>\n",
       "    </tr>\n",
       "    <tr>\n",
       "      <th>3</th>\n",
       "      <td>True</td>\n",
       "      <td>1874.0</td>\n",
       "      <td>Facebook</td>\n",
       "      <td>33.0</td>\n",
       "      <td>Female</td>\n",
       "      <td>Pacific Islander</td>\n",
       "      <td>Bachelor's degree</td>\n",
       "      <td>Very liberal</td>\n",
       "      <td>Extremely aware</td>\n",
       "      <td>['… are large and can contain millions of data...</td>\n",
       "      <td>...</td>\n",
       "      <td>3.0</td>\n",
       "      <td>2.0</td>\n",
       "      <td>4.0</td>\n",
       "      <td>1.0</td>\n",
       "      <td>NaN</td>\n",
       "      <td>NaN</td>\n",
       "      <td>NaN</td>\n",
       "      <td>NaN</td>\n",
       "      <td>NaN</td>\n",
       "      <td>NaN</td>\n",
       "    </tr>\n",
       "    <tr>\n",
       "      <th>4</th>\n",
       "      <td>True</td>\n",
       "      <td>1264.0</td>\n",
       "      <td>Facebook</td>\n",
       "      <td>73.0</td>\n",
       "      <td>Female</td>\n",
       "      <td>White / Caucasian</td>\n",
       "      <td>Highschool</td>\n",
       "      <td>Slightly conservative</td>\n",
       "      <td>Moderately aware</td>\n",
       "      <td>['… are large and can contain millions of data...</td>\n",
       "      <td>...</td>\n",
       "      <td>3.0</td>\n",
       "      <td>4.0</td>\n",
       "      <td>5.0</td>\n",
       "      <td>1.0</td>\n",
       "      <td>NaN</td>\n",
       "      <td>8.0</td>\n",
       "      <td>NaN</td>\n",
       "      <td>NaN</td>\n",
       "      <td>NaN</td>\n",
       "      <td>NaN</td>\n",
       "    </tr>\n",
       "    <tr>\n",
       "      <th>5</th>\n",
       "      <td>True</td>\n",
       "      <td>556.0</td>\n",
       "      <td>Twitter</td>\n",
       "      <td>27.0</td>\n",
       "      <td>Female</td>\n",
       "      <td>Native-American</td>\n",
       "      <td>Highschool</td>\n",
       "      <td>Very liberal</td>\n",
       "      <td>Extremely aware</td>\n",
       "      <td>['… often capture social relationships not fou...</td>\n",
       "      <td>...</td>\n",
       "      <td>2.0</td>\n",
       "      <td>4.0</td>\n",
       "      <td>6.0</td>\n",
       "      <td>7.0</td>\n",
       "      <td>NaN</td>\n",
       "      <td>NaN</td>\n",
       "      <td>NaN</td>\n",
       "      <td>NaN</td>\n",
       "      <td>NaN</td>\n",
       "      <td>NaN</td>\n",
       "    </tr>\n",
       "  </tbody>\n",
       "</table>\n",
       "<p>5 rows × 51 columns</p>\n",
       "</div>"
      ],
      "text/plain": [
       "   finished  duration_sec    sm_use   age gender_id          ethnic_id  \\\n",
       "1      True         912.0  Facebook  29.0      Male    Asian - Eastern   \n",
       "2      True         720.0   Twitter  33.0      Male         Mixed race   \n",
       "3      True        1874.0  Facebook  33.0    Female   Pacific Islander   \n",
       "4      True        1264.0  Facebook  73.0    Female  White / Caucasian   \n",
       "5      True         556.0   Twitter  27.0    Female    Native-American   \n",
       "\n",
       "                 edu                             politic_views  \\\n",
       "1         Highschool                          Slightly liberal   \n",
       "2         Highschool  Neutral/ Neither conservative or liberal   \n",
       "3  Bachelor's degree                              Very liberal   \n",
       "4         Highschool                     Slightly conservative   \n",
       "5         Highschool                              Very liberal   \n",
       "\n",
       "       aware_sm_res                                     aware_sm_advan  ...  \\\n",
       "1   Extremely aware  ['… are large and can contain millions of data...  ...   \n",
       "2  Moderately aware  ['… are large and can contain millions of data...  ...   \n",
       "3   Extremely aware  ['… are large and can contain millions of data...  ...   \n",
       "4  Moderately aware  ['… are large and can contain millions of data...  ...   \n",
       "5   Extremely aware  ['… often capture social relationships not fou...  ...   \n",
       "\n",
       "  rank_anony rank_harms  rank_balance  rank_pub_interst  rank_add_fac_1  \\\n",
       "1        6.0        4.0           3.0               1.0             NaN   \n",
       "2        6.0        1.0           7.0               4.0             NaN   \n",
       "3        3.0        2.0           4.0               1.0             NaN   \n",
       "4        3.0        4.0           5.0               1.0             NaN   \n",
       "5        2.0        4.0           6.0               7.0             NaN   \n",
       "\n",
       "  rank_add_fac_1_pos rank_add_fac_2 rank_add_fac_2_pos rank_add_fac_3  \\\n",
       "1                NaN            NaN                NaN            NaN   \n",
       "2                NaN            NaN                NaN            NaN   \n",
       "3                NaN            NaN                NaN            NaN   \n",
       "4                8.0            NaN                NaN            NaN   \n",
       "5                NaN            NaN                NaN            NaN   \n",
       "\n",
       "  rank_add_fac_3_pos  \n",
       "1                NaN  \n",
       "2                NaN  \n",
       "3                NaN  \n",
       "4                NaN  \n",
       "5                NaN  \n",
       "\n",
       "[5 rows x 51 columns]"
      ]
     },
     "execution_count": 4,
     "metadata": {},
     "output_type": "execute_result"
    }
   ],
   "source": [
    "processed_data_path = get_data_filepath(\n",
    "    file=config.PROCESSED_DATA_FILEPATH, \n",
    "    data_path=config.PROCESSED_DATA_DIR,\n",
    "    main=False\n",
    ") \n",
    "\n",
    "digex_df = pd.read_csv(processed_data_path, index_col=0)\n",
    "\n",
    "digex_df.head()"
   ]
  },
  {
   "cell_type": "markdown",
   "id": "93b3fb8a-dad0-47b0-9221-1d4144cff83a",
   "metadata": {},
   "source": [
    "### 2. With filepath"
   ]
  },
  {
   "cell_type": "code",
   "execution_count": 33,
   "id": "fe135122-3d87-4f4b-872f-6915334e6caf",
   "metadata": {},
   "outputs": [
    {
     "data": {
      "text/html": [
       "<div>\n",
       "<style scoped>\n",
       "    .dataframe tbody tr th:only-of-type {\n",
       "        vertical-align: middle;\n",
       "    }\n",
       "\n",
       "    .dataframe tbody tr th {\n",
       "        vertical-align: top;\n",
       "    }\n",
       "\n",
       "    .dataframe thead th {\n",
       "        text-align: right;\n",
       "    }\n",
       "</style>\n",
       "<table border=\"1\" class=\"dataframe\">\n",
       "  <thead>\n",
       "    <tr style=\"text-align: right;\">\n",
       "      <th></th>\n",
       "      <th>finished</th>\n",
       "      <th>duration_sec</th>\n",
       "      <th>sm_use</th>\n",
       "      <th>age</th>\n",
       "      <th>gender_id</th>\n",
       "      <th>ethnic_id</th>\n",
       "      <th>edu</th>\n",
       "      <th>politic_views</th>\n",
       "      <th>aware_sm_res</th>\n",
       "      <th>aware_sm_advan</th>\n",
       "      <th>...</th>\n",
       "      <th>rank_anony</th>\n",
       "      <th>rank_harms</th>\n",
       "      <th>rank_balance</th>\n",
       "      <th>rank_pub_interst</th>\n",
       "      <th>rank_add_fac_1</th>\n",
       "      <th>rank_add_fac_1_pos</th>\n",
       "      <th>rank_add_fac_2</th>\n",
       "      <th>rank_add_fac_2_pos</th>\n",
       "      <th>rank_add_fac_3</th>\n",
       "      <th>rank_add_fac_3_pos</th>\n",
       "    </tr>\n",
       "  </thead>\n",
       "  <tbody>\n",
       "    <tr>\n",
       "      <th>1</th>\n",
       "      <td>True</td>\n",
       "      <td>912.0</td>\n",
       "      <td>Facebook</td>\n",
       "      <td>29.0</td>\n",
       "      <td>Male</td>\n",
       "      <td>Asian - Eastern</td>\n",
       "      <td>Highschool</td>\n",
       "      <td>Slightly liberal</td>\n",
       "      <td>Extremely aware</td>\n",
       "      <td>['… are large and can contain millions of data...</td>\n",
       "      <td>...</td>\n",
       "      <td>6.0</td>\n",
       "      <td>4.0</td>\n",
       "      <td>3.0</td>\n",
       "      <td>1.0</td>\n",
       "      <td>NaN</td>\n",
       "      <td>NaN</td>\n",
       "      <td>NaN</td>\n",
       "      <td>NaN</td>\n",
       "      <td>NaN</td>\n",
       "      <td>NaN</td>\n",
       "    </tr>\n",
       "    <tr>\n",
       "      <th>2</th>\n",
       "      <td>True</td>\n",
       "      <td>720.0</td>\n",
       "      <td>Twitter</td>\n",
       "      <td>33.0</td>\n",
       "      <td>Male</td>\n",
       "      <td>Mixed race</td>\n",
       "      <td>Highschool</td>\n",
       "      <td>Neutral/ Neither conservative or liberal</td>\n",
       "      <td>Moderately aware</td>\n",
       "      <td>['… are large and can contain millions of data...</td>\n",
       "      <td>...</td>\n",
       "      <td>6.0</td>\n",
       "      <td>1.0</td>\n",
       "      <td>7.0</td>\n",
       "      <td>4.0</td>\n",
       "      <td>NaN</td>\n",
       "      <td>NaN</td>\n",
       "      <td>NaN</td>\n",
       "      <td>NaN</td>\n",
       "      <td>NaN</td>\n",
       "      <td>NaN</td>\n",
       "    </tr>\n",
       "    <tr>\n",
       "      <th>3</th>\n",
       "      <td>True</td>\n",
       "      <td>1874.0</td>\n",
       "      <td>Facebook</td>\n",
       "      <td>33.0</td>\n",
       "      <td>Female</td>\n",
       "      <td>Pacific Islander</td>\n",
       "      <td>Bachelor's degree</td>\n",
       "      <td>Very liberal</td>\n",
       "      <td>Extremely aware</td>\n",
       "      <td>['… are large and can contain millions of data...</td>\n",
       "      <td>...</td>\n",
       "      <td>3.0</td>\n",
       "      <td>2.0</td>\n",
       "      <td>4.0</td>\n",
       "      <td>1.0</td>\n",
       "      <td>NaN</td>\n",
       "      <td>NaN</td>\n",
       "      <td>NaN</td>\n",
       "      <td>NaN</td>\n",
       "      <td>NaN</td>\n",
       "      <td>NaN</td>\n",
       "    </tr>\n",
       "    <tr>\n",
       "      <th>4</th>\n",
       "      <td>True</td>\n",
       "      <td>1264.0</td>\n",
       "      <td>Facebook</td>\n",
       "      <td>73.0</td>\n",
       "      <td>Female</td>\n",
       "      <td>White / Caucasian</td>\n",
       "      <td>Highschool</td>\n",
       "      <td>Slightly conservative</td>\n",
       "      <td>Moderately aware</td>\n",
       "      <td>['… are large and can contain millions of data...</td>\n",
       "      <td>...</td>\n",
       "      <td>3.0</td>\n",
       "      <td>4.0</td>\n",
       "      <td>5.0</td>\n",
       "      <td>1.0</td>\n",
       "      <td>NaN</td>\n",
       "      <td>8.0</td>\n",
       "      <td>NaN</td>\n",
       "      <td>NaN</td>\n",
       "      <td>NaN</td>\n",
       "      <td>NaN</td>\n",
       "    </tr>\n",
       "    <tr>\n",
       "      <th>5</th>\n",
       "      <td>True</td>\n",
       "      <td>556.0</td>\n",
       "      <td>Twitter</td>\n",
       "      <td>27.0</td>\n",
       "      <td>Female</td>\n",
       "      <td>Native-American</td>\n",
       "      <td>Highschool</td>\n",
       "      <td>Very liberal</td>\n",
       "      <td>Extremely aware</td>\n",
       "      <td>['… often capture social relationships not fou...</td>\n",
       "      <td>...</td>\n",
       "      <td>2.0</td>\n",
       "      <td>4.0</td>\n",
       "      <td>6.0</td>\n",
       "      <td>7.0</td>\n",
       "      <td>NaN</td>\n",
       "      <td>NaN</td>\n",
       "      <td>NaN</td>\n",
       "      <td>NaN</td>\n",
       "      <td>NaN</td>\n",
       "      <td>NaN</td>\n",
       "    </tr>\n",
       "  </tbody>\n",
       "</table>\n",
       "<p>5 rows × 51 columns</p>\n",
       "</div>"
      ],
      "text/plain": [
       "   finished  duration_sec    sm_use   age gender_id          ethnic_id  \\\n",
       "1      True         912.0  Facebook  29.0      Male    Asian - Eastern   \n",
       "2      True         720.0   Twitter  33.0      Male         Mixed race   \n",
       "3      True        1874.0  Facebook  33.0    Female   Pacific Islander   \n",
       "4      True        1264.0  Facebook  73.0    Female  White / Caucasian   \n",
       "5      True         556.0   Twitter  27.0    Female    Native-American   \n",
       "\n",
       "                 edu                             politic_views  \\\n",
       "1         Highschool                          Slightly liberal   \n",
       "2         Highschool  Neutral/ Neither conservative or liberal   \n",
       "3  Bachelor's degree                              Very liberal   \n",
       "4         Highschool                     Slightly conservative   \n",
       "5         Highschool                              Very liberal   \n",
       "\n",
       "       aware_sm_res                                     aware_sm_advan  ...  \\\n",
       "1   Extremely aware  ['… are large and can contain millions of data...  ...   \n",
       "2  Moderately aware  ['… are large and can contain millions of data...  ...   \n",
       "3   Extremely aware  ['… are large and can contain millions of data...  ...   \n",
       "4  Moderately aware  ['… are large and can contain millions of data...  ...   \n",
       "5   Extremely aware  ['… often capture social relationships not fou...  ...   \n",
       "\n",
       "  rank_anony rank_harms  rank_balance  rank_pub_interst  rank_add_fac_1  \\\n",
       "1        6.0        4.0           3.0               1.0             NaN   \n",
       "2        6.0        1.0           7.0               4.0             NaN   \n",
       "3        3.0        2.0           4.0               1.0             NaN   \n",
       "4        3.0        4.0           5.0               1.0             NaN   \n",
       "5        2.0        4.0           6.0               7.0             NaN   \n",
       "\n",
       "  rank_add_fac_1_pos rank_add_fac_2 rank_add_fac_2_pos rank_add_fac_3  \\\n",
       "1                NaN            NaN                NaN            NaN   \n",
       "2                NaN            NaN                NaN            NaN   \n",
       "3                NaN            NaN                NaN            NaN   \n",
       "4                8.0            NaN                NaN            NaN   \n",
       "5                NaN            NaN                NaN            NaN   \n",
       "\n",
       "  rank_add_fac_3_pos  \n",
       "1                NaN  \n",
       "2                NaN  \n",
       "3                NaN  \n",
       "4                NaN  \n",
       "5                NaN  \n",
       "\n",
       "[5 rows x 51 columns]"
      ]
     },
     "execution_count": 33,
     "metadata": {},
     "output_type": "execute_result"
    }
   ],
   "source": [
    "digex_df = pd.read_csv('/Users/jasonburton/Documents/GitHub/article-digex-survey/data/processed/digex-survey-responses-processed.csv', index_col=0)\n",
    "\n",
    "digex_df.head()"
   ]
  },
  {
   "cell_type": "markdown",
   "id": "7452d92e-a30d-4720-a355-31bdf5e6e28e",
   "metadata": {
    "tags": []
   },
   "source": [
    "## Exploratory data analysis"
   ]
  },
  {
   "cell_type": "markdown",
   "id": "7c2aaa26-6394-4c0f-92d5-2ba35eee4289",
   "metadata": {},
   "source": [
    "Resources:\n",
    "- https://aeturrell.github.io/coding-for-economists/data-exploratory-analysis.html#the-pandas-profiling-package\n",
    "- https://deepnote.com/@deepnote/Joyplot-Introduction-4666e1a3-3249-442e-9a94-2bbcc5cb1b1d"
   ]
  },
  {
   "cell_type": "markdown",
   "id": "924a0434-7e0e-4f2b-961f-ba5c3f14d81f",
   "metadata": {},
   "source": [
    "### Demographics"
   ]
  },
  {
   "cell_type": "markdown",
   "id": "611f4d7c-4bc8-4ba9-9b31-c9f81f4ffd02",
   "metadata": {},
   "source": [
    "- See `02-digex-summary-statistics.ipynb`\n"
   ]
  },
  {
   "cell_type": "markdown",
   "id": "b8b83b68-9a10-4dd8-ba06-267f793f2980",
   "metadata": {},
   "source": [
    "### Prior awareness"
   ]
  },
  {
   "cell_type": "markdown",
   "id": "6b05d969-36ab-495d-9f49-a5f94a8abe13",
   "metadata": {},
   "source": [
    "**Variables to examine: 8-15**"
   ]
  },
  {
   "cell_type": "code",
   "execution_count": 5,
   "id": "4c40c5b5-797e-48c1-a0e7-cd3edebd1c46",
   "metadata": {},
   "outputs": [
    {
     "data": {
      "text/plain": [
       "aware_sm_res    499\n",
       "dtype: int64"
      ]
     },
     "execution_count": 5,
     "metadata": {},
     "output_type": "execute_result"
    }
   ],
   "source": [
    "digex_df[['aware_sm_res']].count()"
   ]
  },
  {
   "cell_type": "code",
   "execution_count": 59,
   "id": "233b5f1d",
   "metadata": {},
   "outputs": [
    {
     "data": {
      "image/png": "[encoded data removed]",
      "text/plain": [
       "<Figure size 660x500 with 1 Axes>"
      ]
     },
     "metadata": {},
     "output_type": "display_data"
    }
   ],
   "source": [
    "# Count the occurrences of each value in the 'aware_sm_res' column\n",
    "value_counts = digex_df['aware_sm_res'].value_counts()\n",
    "\n",
    "# Define the desired order of the x-axis values\n",
    "desired_order = [\n",
    "    \"Not at all aware\",\n",
    "    \"Slightly aware\",\n",
    "    \"Moderately aware\",\n",
    "    \"Very aware\",\n",
    "    \"Extremely aware\"\n",
    "]\n",
    "\n",
    "# Reindex the value_counts series using the desired order\n",
    "sorted_values = value_counts.reindex(desired_order, fill_value=0)\n",
    "\n",
    "# Create the bar chart\n",
    "plt.bar(sorted_values.index, sorted_values.values)\n",
    "\n",
    "# Set the chart title and labels\n",
    "plt.ylabel('Frequency of response', fontsize=8, color='black', font='Helvetica')\n",
    "\n",
    "# Rotate x-axis labels if needed\n",
    "plt.xticks(rotation=45, ha='right', fontsize=7, fontname='Helvetica', color='#242423')\n",
    "\n",
    "# Remove tick labels\n",
    "plt.tick_params(axis='x', which='both', bottom=False, top=False)\n",
    "plt.tick_params(axis='y', which='both', right=False)\n",
    "\n",
    "\n",
    "# Display the chart\n",
    "plt.show()\n",
    "\n"
   ]
  },
  {
   "cell_type": "code",
   "execution_count": 6,
   "id": "0a12bede-1cb7-4027-a904-6420b51cabaf",
   "metadata": {},
   "outputs": [
    {
     "data": {
      "text/html": [
       "<div>\n",
       "<style scoped>\n",
       "    .dataframe tbody tr th:only-of-type {\n",
       "        vertical-align: middle;\n",
       "    }\n",
       "\n",
       "    .dataframe tbody tr th {\n",
       "        vertical-align: top;\n",
       "    }\n",
       "\n",
       "    .dataframe thead th {\n",
       "        text-align: right;\n",
       "    }\n",
       "</style>\n",
       "<table border=\"1\" class=\"dataframe\">\n",
       "  <thead>\n",
       "    <tr style=\"text-align: right;\">\n",
       "      <th></th>\n",
       "      <th>aware_sm_interact</th>\n",
       "    </tr>\n",
       "  </thead>\n",
       "  <tbody>\n",
       "    <tr>\n",
       "      <th>1</th>\n",
       "      <td>['Creating fake accounts (\"bots\")', 'Secretly ...</td>\n",
       "    </tr>\n",
       "    <tr>\n",
       "      <th>2</th>\n",
       "      <td>['Privately messaging users', \"Publicly postin...</td>\n",
       "    </tr>\n",
       "    <tr>\n",
       "      <th>3</th>\n",
       "      <td>['Privately messaging users', \"Publicly postin...</td>\n",
       "    </tr>\n",
       "    <tr>\n",
       "      <th>4</th>\n",
       "      <td>['Creating fake accounts (\"bots\")']</td>\n",
       "    </tr>\n",
       "    <tr>\n",
       "      <th>5</th>\n",
       "      <td>['Privately messaging users', \"Publicly postin...</td>\n",
       "    </tr>\n",
       "    <tr>\n",
       "      <th>...</th>\n",
       "      <td>...</td>\n",
       "    </tr>\n",
       "    <tr>\n",
       "      <th>495</th>\n",
       "      <td>['Creating fake accounts (\"bots\")', 'Secretly ...</td>\n",
       "    </tr>\n",
       "    <tr>\n",
       "      <th>496</th>\n",
       "      <td>[\"Publicly posting on users' profiles\"]</td>\n",
       "    </tr>\n",
       "    <tr>\n",
       "      <th>497</th>\n",
       "      <td>['Creating fake accounts (\"bots\")']</td>\n",
       "    </tr>\n",
       "    <tr>\n",
       "      <th>498</th>\n",
       "      <td>['Privately messaging users', \"Publicly postin...</td>\n",
       "    </tr>\n",
       "    <tr>\n",
       "      <th>499</th>\n",
       "      <td>['Privately messaging users', \"Publicly postin...</td>\n",
       "    </tr>\n",
       "  </tbody>\n",
       "</table>\n",
       "<p>499 rows × 1 columns</p>\n",
       "</div>"
      ],
      "text/plain": [
       "                                     aware_sm_interact\n",
       "1    ['Creating fake accounts (\"bots\")', 'Secretly ...\n",
       "2    ['Privately messaging users', \"Publicly postin...\n",
       "3    ['Privately messaging users', \"Publicly postin...\n",
       "4                  ['Creating fake accounts (\"bots\")']\n",
       "5    ['Privately messaging users', \"Publicly postin...\n",
       "..                                                 ...\n",
       "495  ['Creating fake accounts (\"bots\")', 'Secretly ...\n",
       "496            [\"Publicly posting on users' profiles\"]\n",
       "497                ['Creating fake accounts (\"bots\")']\n",
       "498  ['Privately messaging users', \"Publicly postin...\n",
       "499  ['Privately messaging users', \"Publicly postin...\n",
       "\n",
       "[499 rows x 1 columns]"
      ]
     },
     "execution_count": 6,
     "metadata": {},
     "output_type": "execute_result"
    }
   ],
   "source": [
    "digex_df[['aware_sm_interact']]"
   ]
  },
  {
   "cell_type": "markdown",
   "id": "4ae8c7ba",
   "metadata": {},
   "source": [
    "JB: struggling here... trying to parse the values to make dummy variables such that theres a separate column for `Secretly changing the content of what users see'`, `Hacking into users' accounts`, etc. with a 1 indicating that the participant checked the box and 0 indicating that they didn't"
   ]
  },
  {
   "cell_type": "code",
   "execution_count": 7,
   "id": "b296bfce-ae1a-4834-b423-ee2cc2cf5d28",
   "metadata": {},
   "outputs": [],
   "source": [
    "# remove brackets from the column values\n",
    "digex_df['aware_sm_interact'] = digex_df['aware_sm_interact'].replace('\\[', '', regex=True).replace('\\]', '', regex=True)\n",
    "\n",
    "# parse by comma separators\n",
    "digex_df['aware_sm_interact'] = digex_df['aware_sm_interact'].apply(lambda x: x.split(','))"
   ]
  },
  {
   "cell_type": "code",
   "execution_count": 8,
   "id": "dc31e405",
   "metadata": {},
   "outputs": [
    {
     "name": "stderr",
     "output_type": "stream",
     "text": [
      "/var/folders/hb/n58jwxy14vnc7667mqz9vyn40000gn/T/ipykernel_19608/1150893256.py:2: FutureWarning: Using the level keyword in DataFrame and Series aggregations is deprecated and will be removed in a future version. Use groupby instead. df.sum(level=1) should use df.groupby(level=1).sum().\n",
      "  dummy_df = pd.get_dummies(digex_df['aware_sm_interact'].apply(pd.Series).stack()).sum(level=0)\n"
     ]
    }
   ],
   "source": [
    "# get dummies\n",
    "dummy_df = pd.get_dummies(digex_df['aware_sm_interact'].apply(pd.Series).stack()).sum(level=0)"
   ]
  },
  {
   "cell_type": "code",
   "execution_count": 9,
   "id": "437d5cb2",
   "metadata": {},
   "outputs": [
    {
     "data": {
      "text/html": [
       "<div>\n",
       "<style scoped>\n",
       "    .dataframe tbody tr th:only-of-type {\n",
       "        vertical-align: middle;\n",
       "    }\n",
       "\n",
       "    .dataframe tbody tr th {\n",
       "        vertical-align: top;\n",
       "    }\n",
       "\n",
       "    .dataframe thead th {\n",
       "        text-align: right;\n",
       "    }\n",
       "</style>\n",
       "<table border=\"1\" class=\"dataframe\">\n",
       "  <thead>\n",
       "    <tr style=\"text-align: right;\">\n",
       "      <th></th>\n",
       "      <th>\"Hacking into users' accounts\"</th>\n",
       "      <th>\"Publicly posting on users' profiles\"</th>\n",
       "      <th>'Creating fake accounts (\"bots\")'</th>\n",
       "      <th>'Secretly changing the content of what users see'</th>\n",
       "      <th>\"Publicly posting on users' profiles\"</th>\n",
       "      <th>'Creating fake accounts (\"bots\")'</th>\n",
       "      <th>'None of the above'</th>\n",
       "      <th>'Privately messaging users'</th>\n",
       "      <th>'Secretly changing the content of what users see'</th>\n",
       "    </tr>\n",
       "  </thead>\n",
       "  <tbody>\n",
       "    <tr>\n",
       "      <th>1</th>\n",
       "      <td>0</td>\n",
       "      <td>0</td>\n",
       "      <td>0</td>\n",
       "      <td>1</td>\n",
       "      <td>0</td>\n",
       "      <td>1</td>\n",
       "      <td>0</td>\n",
       "      <td>0</td>\n",
       "      <td>0</td>\n",
       "    </tr>\n",
       "    <tr>\n",
       "      <th>2</th>\n",
       "      <td>0</td>\n",
       "      <td>1</td>\n",
       "      <td>0</td>\n",
       "      <td>1</td>\n",
       "      <td>0</td>\n",
       "      <td>0</td>\n",
       "      <td>0</td>\n",
       "      <td>1</td>\n",
       "      <td>0</td>\n",
       "    </tr>\n",
       "    <tr>\n",
       "      <th>3</th>\n",
       "      <td>0</td>\n",
       "      <td>1</td>\n",
       "      <td>1</td>\n",
       "      <td>1</td>\n",
       "      <td>0</td>\n",
       "      <td>0</td>\n",
       "      <td>0</td>\n",
       "      <td>1</td>\n",
       "      <td>0</td>\n",
       "    </tr>\n",
       "    <tr>\n",
       "      <th>4</th>\n",
       "      <td>0</td>\n",
       "      <td>0</td>\n",
       "      <td>0</td>\n",
       "      <td>0</td>\n",
       "      <td>0</td>\n",
       "      <td>1</td>\n",
       "      <td>0</td>\n",
       "      <td>0</td>\n",
       "      <td>0</td>\n",
       "    </tr>\n",
       "    <tr>\n",
       "      <th>5</th>\n",
       "      <td>0</td>\n",
       "      <td>1</td>\n",
       "      <td>1</td>\n",
       "      <td>0</td>\n",
       "      <td>0</td>\n",
       "      <td>0</td>\n",
       "      <td>0</td>\n",
       "      <td>1</td>\n",
       "      <td>0</td>\n",
       "    </tr>\n",
       "    <tr>\n",
       "      <th>...</th>\n",
       "      <td>...</td>\n",
       "      <td>...</td>\n",
       "      <td>...</td>\n",
       "      <td>...</td>\n",
       "      <td>...</td>\n",
       "      <td>...</td>\n",
       "      <td>...</td>\n",
       "      <td>...</td>\n",
       "      <td>...</td>\n",
       "    </tr>\n",
       "    <tr>\n",
       "      <th>495</th>\n",
       "      <td>0</td>\n",
       "      <td>0</td>\n",
       "      <td>0</td>\n",
       "      <td>1</td>\n",
       "      <td>0</td>\n",
       "      <td>1</td>\n",
       "      <td>0</td>\n",
       "      <td>0</td>\n",
       "      <td>0</td>\n",
       "    </tr>\n",
       "    <tr>\n",
       "      <th>496</th>\n",
       "      <td>0</td>\n",
       "      <td>0</td>\n",
       "      <td>0</td>\n",
       "      <td>0</td>\n",
       "      <td>1</td>\n",
       "      <td>0</td>\n",
       "      <td>0</td>\n",
       "      <td>0</td>\n",
       "      <td>0</td>\n",
       "    </tr>\n",
       "    <tr>\n",
       "      <th>497</th>\n",
       "      <td>0</td>\n",
       "      <td>0</td>\n",
       "      <td>0</td>\n",
       "      <td>0</td>\n",
       "      <td>0</td>\n",
       "      <td>1</td>\n",
       "      <td>0</td>\n",
       "      <td>0</td>\n",
       "      <td>0</td>\n",
       "    </tr>\n",
       "    <tr>\n",
       "      <th>498</th>\n",
       "      <td>0</td>\n",
       "      <td>1</td>\n",
       "      <td>0</td>\n",
       "      <td>0</td>\n",
       "      <td>0</td>\n",
       "      <td>0</td>\n",
       "      <td>0</td>\n",
       "      <td>1</td>\n",
       "      <td>0</td>\n",
       "    </tr>\n",
       "    <tr>\n",
       "      <th>499</th>\n",
       "      <td>0</td>\n",
       "      <td>1</td>\n",
       "      <td>1</td>\n",
       "      <td>0</td>\n",
       "      <td>0</td>\n",
       "      <td>0</td>\n",
       "      <td>0</td>\n",
       "      <td>1</td>\n",
       "      <td>0</td>\n",
       "    </tr>\n",
       "  </tbody>\n",
       "</table>\n",
       "<p>499 rows × 9 columns</p>\n",
       "</div>"
      ],
      "text/plain": [
       "      \"Hacking into users' accounts\"   \"Publicly posting on users' profiles\"  \\\n",
       "1                                  0                                       0   \n",
       "2                                  0                                       1   \n",
       "3                                  0                                       1   \n",
       "4                                  0                                       0   \n",
       "5                                  0                                       1   \n",
       "..                               ...                                     ...   \n",
       "495                                0                                       0   \n",
       "496                                0                                       0   \n",
       "497                                0                                       0   \n",
       "498                                0                                       1   \n",
       "499                                0                                       1   \n",
       "\n",
       "      'Creating fake accounts (\"bots\")'  \\\n",
       "1                                     0   \n",
       "2                                     0   \n",
       "3                                     1   \n",
       "4                                     0   \n",
       "5                                     1   \n",
       "..                                  ...   \n",
       "495                                   0   \n",
       "496                                   0   \n",
       "497                                   0   \n",
       "498                                   0   \n",
       "499                                   1   \n",
       "\n",
       "      'Secretly changing the content of what users see'  \\\n",
       "1                                                    1    \n",
       "2                                                    1    \n",
       "3                                                    1    \n",
       "4                                                    0    \n",
       "5                                                    0    \n",
       "..                                                 ...    \n",
       "495                                                  1    \n",
       "496                                                  0    \n",
       "497                                                  0    \n",
       "498                                                  0    \n",
       "499                                                  0    \n",
       "\n",
       "     \"Publicly posting on users' profiles\"  'Creating fake accounts (\"bots\")'  \\\n",
       "1                                        0                                  1   \n",
       "2                                        0                                  0   \n",
       "3                                        0                                  0   \n",
       "4                                        0                                  1   \n",
       "5                                        0                                  0   \n",
       "..                                     ...                                ...   \n",
       "495                                      0                                  1   \n",
       "496                                      1                                  0   \n",
       "497                                      0                                  1   \n",
       "498                                      0                                  0   \n",
       "499                                      0                                  0   \n",
       "\n",
       "     'None of the above'  'Privately messaging users'  \\\n",
       "1                      0                            0   \n",
       "2                      0                            1   \n",
       "3                      0                            1   \n",
       "4                      0                            0   \n",
       "5                      0                            1   \n",
       "..                   ...                          ...   \n",
       "495                    0                            0   \n",
       "496                    0                            0   \n",
       "497                    0                            0   \n",
       "498                    0                            1   \n",
       "499                    0                            1   \n",
       "\n",
       "     'Secretly changing the content of what users see'  \n",
       "1                                                    0  \n",
       "2                                                    0  \n",
       "3                                                    0  \n",
       "4                                                    0  \n",
       "5                                                    0  \n",
       "..                                                 ...  \n",
       "495                                                  0  \n",
       "496                                                  0  \n",
       "497                                                  0  \n",
       "498                                                  0  \n",
       "499                                                  0  \n",
       "\n",
       "[499 rows x 9 columns]"
      ]
     },
     "execution_count": 9,
     "metadata": {},
     "output_type": "execute_result"
    }
   ],
   "source": [
    "# view dummies\n",
    "dummy_df"
   ]
  },
  {
   "cell_type": "markdown",
   "id": "cb90c48e",
   "metadata": {},
   "source": [
    "**Why does `dummy_df` have 9 columns with some column names looking identical?**"
   ]
  },
  {
   "cell_type": "code",
   "execution_count": 10,
   "id": "82417054",
   "metadata": {},
   "outputs": [],
   "source": [
    "# janky fix -- add the identical cols together\n",
    "dummy_df['public_post'] = dummy_df[dummy_df.columns[1]] | dummy_df[dummy_df.columns[4]]\n",
    "dummy_df['use_bots'] = dummy_df[dummy_df.columns[2]] | dummy_df[dummy_df.columns[5]]\n",
    "dummy_df['secrent_content_change'] = dummy_df[dummy_df.columns[3]] | dummy_df[dummy_df.columns[8]]"
   ]
  },
  {
   "cell_type": "code",
   "execution_count": 11,
   "id": "fc3bf37d",
   "metadata": {},
   "outputs": [
    {
     "data": {
      "text/plain": [
       " \"Hacking into users' accounts\"                        17\n",
       " \"Publicly posting on users' profiles\"                150\n",
       " 'Creating fake accounts (\"bots\")'                    233\n",
       " 'Secretly changing the content of what users see'    136\n",
       "\"Publicly posting on users' profiles\"                  64\n",
       "'Creating fake accounts (\"bots\")'                      98\n",
       "'None of the above'                                    69\n",
       "'Privately messaging users'                           258\n",
       "'Secretly changing the content of what users see'      10\n",
       "public_post                                           214\n",
       "use_bots                                              331\n",
       "secrent_content_change                                146\n",
       "dtype: int64"
      ]
     },
     "execution_count": 11,
     "metadata": {},
     "output_type": "execute_result"
    }
   ],
   "source": [
    "df_sum = dummy_df.sum(axis=0)\n",
    "df_sum"
   ]
  },
  {
   "cell_type": "code",
   "execution_count": 12,
   "id": "6c4ee229",
   "metadata": {},
   "outputs": [
    {
     "data": {
      "text/plain": [
       "Moderately aware    128\n",
       "Very aware          119\n",
       "Slightly aware      117\n",
       "Not at all aware     76\n",
       "Extremely aware      59\n",
       "Name: aware_sm_res, dtype: int64"
      ]
     },
     "execution_count": 12,
     "metadata": {},
     "output_type": "execute_result"
    }
   ],
   "source": [
    "digex_df['aware_sm_res'].value_counts(normalize=False, dropna=False)"
   ]
  },
  {
   "cell_type": "markdown",
   "id": "298b0645-1ce8-40c1-b923-584d14c2c581",
   "metadata": {},
   "source": [
    "Privately messaging users # Publicly posting on users’ profiles # Creating fake accounts (“bots”) # Secretly changing the content of what users see # Hacking into users’ accounts, None of the above"
   ]
  },
  {
   "cell_type": "code",
   "execution_count": 14,
   "id": "63b5ac90-9417-4667-93d8-dfd4b0f5dab5",
   "metadata": {},
   "outputs": [
    {
     "data": {
      "image/png": "[encoded data removed]",
      "text/plain": [
       "<Figure size 660x500 with 1 Axes>"
      ]
     },
     "metadata": {},
     "output_type": "display_data"
    }
   ],
   "source": [
    "df = pd.DataFrame({'interaction':df_sum.index, 'count':df_sum.values})\n",
    "\n",
    "df.loc[df['interaction'] == df.interaction[1], 'count'] = 214\n",
    "df.loc[df['interaction'] == df.interaction[2], 'count'] = 331\n",
    "df.loc[df['interaction'] == df.interaction[3], 'count'] = 146\n",
    "\n",
    "df = df.drop([4, 5, 8, 9, 10, 11])\n",
    "df = df.sort_values('count', ascending=False)\n",
    "df['total'] = 499\n",
    "\n",
    "# Calculate percentage\n",
    "df['percentage'] = (df['count'] / df['total']) * 100\n",
    "\n",
    "df = df.reset_index()\n",
    "df.iloc[5], df.iloc[4] = df.iloc[4], df.iloc[5]\n",
    "\n",
    "sns.barplot(\n",
    "    data=df, x=\"percentage\", y=\"interaction\", palette=digex_palette[0::2])\n",
    "\n",
    "# Set x-axis range\n",
    "plt.xlim(0, 100)\n",
    "\n",
    "# Remove tick labels\n",
    "plt.tick_params(\n",
    "    axis='x',          # changes apply to the x-axis\n",
    "    which='minor',      # both major and minor ticks are affected\n",
    "    top=False,         # ticks along the top edge are off\n",
    "    bottom=True) # labels along the bottom edge are off  \n",
    "\n",
    "plt.tick_params(\n",
    "    axis='x',          # changes apply to the x-axis\n",
    "    which='major',      # both major and minor ticks are affected\n",
    "    top=False)         # ticks along the top edge are off\n",
    "\n",
    "plt.tick_params(\n",
    "    axis='y',          # changes apply to the x-axis\n",
    "    which='both',      # both major and minor ticks are affected\n",
    "    left=False,       # ticks along the bottom edge are off\n",
    "    right=False)         # ticks along the top edge are off\n",
    "\n",
    "# New y axis labels\n",
    "ylabels = [\n",
    "    \"Creating fake accounts\\n('bots')\",\n",
    "    \"Privately messaging users\",\n",
    "    \"Publicly posting on users\\'\\nprofiles\",\n",
    "    \"Secretly changing the\\ncontent of what users see\",\n",
    "    \"Hacking into users\\'\\naccounts\",\n",
    "    \"None of the above\",   \n",
    "]\n",
    "\n",
    "# Set the tick labels \n",
    "yticks, yticklabels = plt.yticks()\n",
    "plt.yticks(yticks, ylabels, rotation=0, fontsize=7, font='Helvetica', color='#242423')\n",
    "plt.xticks(fontsize=7, font='Helvetica', color='#242423')\n",
    "\n",
    "plt.xlabel('Percentage (%) of participants who think academic \\nresearchers have used treament in their experiments', \n",
    "           fontsize=8, color='black', font='Helvetica')\n",
    "plt.ylabel('\\n\\nTreatment\\n', fontsize=8, color='black', font='Helvetica')\n",
    "\n",
    "\n",
    "plt.savefig('../reports/figures/ic2s2-fig1a.svg', bbox_inches='tight', dpi=1200)"
   ]
  },
  {
   "cell_type": "markdown",
   "id": "f7dfbeed-33b9-43db-9dd0-73a38b9824d4",
   "metadata": {},
   "source": [
    "### Study descriptions"
   ]
  },
  {
   "cell_type": "markdown",
   "id": "6ac8ac2f-a24b-450c-952b-30ee1c95f625",
   "metadata": {},
   "source": [
    "**Variables to examine: 16-27**"
   ]
  },
  {
   "cell_type": "markdown",
   "id": "2ab99530-bf28-43e2-9364-58b763c091f6",
   "metadata": {},
   "source": [
    "#### Study 1"
   ]
  },
  {
   "cell_type": "code",
   "execution_count": 15,
   "id": "2bf7c828-3723-4b47-9630-b6a84e576d18",
   "metadata": {},
   "outputs": [
    {
     "data": {
      "text/plain": [
       "Completely acceptable      0.314629\n",
       "Somewhat acceptable        0.288577\n",
       "Somewhat unacceptable      0.162325\n",
       "Neutral                    0.124248\n",
       "Completely unacceptable    0.110220\n",
       "Name: study_1_ethic_acc, dtype: float64"
      ]
     },
     "execution_count": 15,
     "metadata": {},
     "output_type": "execute_result"
    }
   ],
   "source": [
    "digex_df['study_1_ethic_acc'].value_counts(normalize=True, dropna=False)"
   ]
  },
  {
   "cell_type": "markdown",
   "id": "64d556f4-5174-440b-bd1a-31b39d6ce7e8",
   "metadata": {},
   "source": [
    "#### Study 2"
   ]
  },
  {
   "cell_type": "code",
   "execution_count": 16,
   "id": "a8e8e5ca-6dc6-4c10-a59d-08b518df0d80",
   "metadata": {},
   "outputs": [
    {
     "data": {
      "text/plain": [
       "Somewhat acceptable        0.266533\n",
       "Completely acceptable      0.232465\n",
       "Somewhat unacceptable      0.222445\n",
       "Neutral                    0.164329\n",
       "Completely unacceptable    0.114228\n",
       "Name: study_2_ethic_acc, dtype: float64"
      ]
     },
     "execution_count": 16,
     "metadata": {},
     "output_type": "execute_result"
    }
   ],
   "source": [
    "digex_df['study_2_ethic_acc'].value_counts(normalize=True, dropna=False)"
   ]
  },
  {
   "cell_type": "markdown",
   "id": "ef6125e8-4a4f-4216-82fe-e3979a564a5f",
   "metadata": {},
   "source": [
    "#### Study 3"
   ]
  },
  {
   "cell_type": "code",
   "execution_count": 17,
   "id": "8ffb67b7-e050-40ca-b88f-b08702fdfe2b",
   "metadata": {},
   "outputs": [
    {
     "data": {
      "text/plain": [
       "Completely acceptable      0.498998\n",
       "Somewhat acceptable        0.268537\n",
       "Neutral                    0.112224\n",
       "Somewhat unacceptable      0.078156\n",
       "Completely unacceptable    0.042084\n",
       "Name: study_3_ethic_acc, dtype: float64"
      ]
     },
     "execution_count": 17,
     "metadata": {},
     "output_type": "execute_result"
    }
   ],
   "source": [
    "digex_df['study_3_ethic_acc'].value_counts(normalize=True, dropna=False)"
   ]
  },
  {
   "cell_type": "markdown",
   "id": "092d4157-3768-4b0c-8aa6-808d44a1c107",
   "metadata": {},
   "source": [
    "#### Study 4"
   ]
  },
  {
   "cell_type": "code",
   "execution_count": 18,
   "id": "8d02c135-f3c7-4e93-8d22-0a406548e9b0",
   "metadata": {},
   "outputs": [
    {
     "data": {
      "text/plain": [
       "Somewhat acceptable        0.242485\n",
       "Completely acceptable      0.230461\n",
       "Somewhat unacceptable      0.220441\n",
       "Neutral                    0.176353\n",
       "Completely unacceptable    0.130261\n",
       "Name: study_4_ethic_acc, dtype: float64"
      ]
     },
     "execution_count": 18,
     "metadata": {},
     "output_type": "execute_result"
    }
   ],
   "source": [
    "digex_df['study_4_ethic_acc'].value_counts(normalize=True, dropna=False)"
   ]
  },
  {
   "cell_type": "markdown",
   "id": "06f2671f",
   "metadata": {},
   "source": [
    "#### Study comparison"
   ]
  },
  {
   "cell_type": "code",
   "execution_count": 19,
   "id": "5684640a",
   "metadata": {},
   "outputs": [],
   "source": [
    "digex_df['Hangartner et al.'] = digex_df['study_1_ethic_acc'].map({'Completely unacceptable': -2, \n",
    "                                                                       'Somewhat unacceptable': -1, \n",
    "                                                                       'Neutral': 0, \n",
    "                                                                       'Somewhat acceptable': 1, \n",
    "                                                                       'Completely acceptable': 2})\n",
    "\n",
    "digex_df['Pennycook et al.'] = digex_df['study_2_ethic_acc'].map({'Completely unacceptable': -2, \n",
    "                                                                       'Somewhat unacceptable': -1, \n",
    "                                                                       'Neutral': 0, \n",
    "                                                                       'Somewhat acceptable': 1, \n",
    "                                                                       'Completely acceptable': 2})\n",
    "\n",
    "digex_df['Levy'] = digex_df['study_3_ethic_acc'].map({'Completely unacceptable': -2, \n",
    "                                                                       'Somewhat unacceptable': -1, \n",
    "                                                                       'Neutral': 0, \n",
    "                                                                       'Somewhat acceptable': 1, \n",
    "                                                                       'Completely acceptable': 2})\n",
    "\n",
    "digex_df['Mosleh et al.'] = digex_df['study_4_ethic_acc'].map({'Completely unacceptable': -2, \n",
    "                                                                       'Somewhat unacceptable': -1, \n",
    "                                                                       'Neutral': 0, \n",
    "                                                                       'Somewhat acceptable': 1, \n",
    "                                                                       'Completely acceptable': 2})"
   ]
  },
  {
   "cell_type": "code",
   "execution_count": 20,
   "id": "1cee1b08",
   "metadata": {},
   "outputs": [],
   "source": [
    "# Create a list to hold the re-coded values\n",
    "recoded_values = []\n",
    "\n",
    "# Iterate over the values in the column\n",
    "for value in digex_df['politic_views']:\n",
    "    # Check the value and assign a new value based on the criteria\n",
    "    if value in [\"Very liberal\", \"Slightly liberal\"]:\n",
    "        recoded_value = \"liberal\"\n",
    "    elif value in [\"Very conservative\", \"Slightly conservative\"]:\n",
    "        recoded_value = \"conservative\"\n",
    "    else:\n",
    "        recoded_value = \"other\"\n",
    "        \n",
    "    # Add the recoded value to the list\n",
    "    recoded_values.append(recoded_value)"
   ]
  },
  {
   "cell_type": "code",
   "execution_count": 21,
   "id": "a5551ca4",
   "metadata": {},
   "outputs": [],
   "source": [
    "digex_df['Politics'] = recoded_values"
   ]
  },
  {
   "cell_type": "code",
   "execution_count": 22,
   "id": "a1a43063",
   "metadata": {},
   "outputs": [],
   "source": [
    "study_comparison = digex_df[['Politics', 'Hangartner et al.', 'Pennycook et al.', 'Levy', 'Mosleh et al.']]"
   ]
  },
  {
   "cell_type": "code",
   "execution_count": 23,
   "id": "fe99dd29",
   "metadata": {},
   "outputs": [
    {
     "data": {
      "text/plain": [
       "Hangartner et al.    0.535070\n",
       "Pennycook et al.     0.280561\n",
       "Levy                 1.104208\n",
       "Mosleh et al.        0.222445\n",
       "dtype: float64"
      ]
     },
     "execution_count": 23,
     "metadata": {},
     "output_type": "execute_result"
    }
   ],
   "source": [
    "# mean acceptance by study (-2 = completely unacceptable; 2 = completely acceptable)\n",
    "study_comparison.mean(numeric_only=True)"
   ]
  },
  {
   "cell_type": "code",
   "execution_count": 24,
   "id": "c4d7d830",
   "metadata": {},
   "outputs": [
    {
     "data": {
      "text/html": [
       "<div>\n",
       "<style scoped>\n",
       "    .dataframe tbody tr th:only-of-type {\n",
       "        vertical-align: middle;\n",
       "    }\n",
       "\n",
       "    .dataframe tbody tr th {\n",
       "        vertical-align: top;\n",
       "    }\n",
       "\n",
       "    .dataframe thead th {\n",
       "        text-align: right;\n",
       "    }\n",
       "</style>\n",
       "<table border=\"1\" class=\"dataframe\">\n",
       "  <thead>\n",
       "    <tr style=\"text-align: right;\">\n",
       "      <th></th>\n",
       "      <th>Politics</th>\n",
       "      <th>Study</th>\n",
       "      <th>value</th>\n",
       "    </tr>\n",
       "  </thead>\n",
       "  <tbody>\n",
       "    <tr>\n",
       "      <th>0</th>\n",
       "      <td>liberal</td>\n",
       "      <td>Hangartner et al.</td>\n",
       "      <td>0</td>\n",
       "    </tr>\n",
       "    <tr>\n",
       "      <th>1</th>\n",
       "      <td>other</td>\n",
       "      <td>Hangartner et al.</td>\n",
       "      <td>2</td>\n",
       "    </tr>\n",
       "    <tr>\n",
       "      <th>2</th>\n",
       "      <td>liberal</td>\n",
       "      <td>Hangartner et al.</td>\n",
       "      <td>2</td>\n",
       "    </tr>\n",
       "    <tr>\n",
       "      <th>3</th>\n",
       "      <td>conservative</td>\n",
       "      <td>Hangartner et al.</td>\n",
       "      <td>0</td>\n",
       "    </tr>\n",
       "    <tr>\n",
       "      <th>4</th>\n",
       "      <td>liberal</td>\n",
       "      <td>Hangartner et al.</td>\n",
       "      <td>2</td>\n",
       "    </tr>\n",
       "    <tr>\n",
       "      <th>...</th>\n",
       "      <td>...</td>\n",
       "      <td>...</td>\n",
       "      <td>...</td>\n",
       "    </tr>\n",
       "    <tr>\n",
       "      <th>1991</th>\n",
       "      <td>other</td>\n",
       "      <td>Mosleh et al.</td>\n",
       "      <td>2</td>\n",
       "    </tr>\n",
       "    <tr>\n",
       "      <th>1992</th>\n",
       "      <td>conservative</td>\n",
       "      <td>Mosleh et al.</td>\n",
       "      <td>2</td>\n",
       "    </tr>\n",
       "    <tr>\n",
       "      <th>1993</th>\n",
       "      <td>liberal</td>\n",
       "      <td>Mosleh et al.</td>\n",
       "      <td>2</td>\n",
       "    </tr>\n",
       "    <tr>\n",
       "      <th>1994</th>\n",
       "      <td>liberal</td>\n",
       "      <td>Mosleh et al.</td>\n",
       "      <td>0</td>\n",
       "    </tr>\n",
       "    <tr>\n",
       "      <th>1995</th>\n",
       "      <td>liberal</td>\n",
       "      <td>Mosleh et al.</td>\n",
       "      <td>-1</td>\n",
       "    </tr>\n",
       "  </tbody>\n",
       "</table>\n",
       "<p>1996 rows × 3 columns</p>\n",
       "</div>"
      ],
      "text/plain": [
       "          Politics              Study  value\n",
       "0          liberal  Hangartner et al.      0\n",
       "1            other  Hangartner et al.      2\n",
       "2          liberal  Hangartner et al.      2\n",
       "3     conservative  Hangartner et al.      0\n",
       "4          liberal  Hangartner et al.      2\n",
       "...            ...                ...    ...\n",
       "1991         other      Mosleh et al.      2\n",
       "1992  conservative      Mosleh et al.      2\n",
       "1993       liberal      Mosleh et al.      2\n",
       "1994       liberal      Mosleh et al.      0\n",
       "1995       liberal      Mosleh et al.     -1\n",
       "\n",
       "[1996 rows x 3 columns]"
      ]
     },
     "execution_count": 24,
     "metadata": {},
     "output_type": "execute_result"
    }
   ],
   "source": [
    "# Use the melt function to reshape the dataframe\n",
    "study_comparison = study_comparison.melt(id_vars=\"Politics\", var_name=\"Study\", value_name=\"value\")\n",
    "study_comparison"
   ]
  },
  {
   "cell_type": "markdown",
   "id": "cc18ce4b-2b94-4134-9355-75fb0a441135",
   "metadata": {},
   "source": [
    "### Version 1"
   ]
  },
  {
   "cell_type": "code",
   "execution_count": 25,
   "id": "2d556e11",
   "metadata": {},
   "outputs": [
    {
     "data": {
      "image/png": "[encoded data removed]",
      "text/plain": [
       "<Figure size 660x500 with 1 Axes>"
      ]
     },
     "metadata": {},
     "output_type": "display_data"
    }
   ],
   "source": [
    "# Use seaborn's pointplot function to create the error plot\n",
    "sns.pointplot(x=\"Study\", y=\"value\", hue=\"Politics\", data=study_comparison, dodge=0.25, join=False,\n",
    "              palette={\"liberal\": \"blue\", \"conservative\": \"red\", \"other\": \"grey\"})\n",
    "\n",
    "# Get the current tick locations and labels\n",
    "xticks, xticklabels = plt.xticks()\n",
    "\n",
    "# Set the tick labels to be rotated by 45 degrees\n",
    "plt.xticks(xticks, xticklabels, rotation=45)\n",
    "\n",
    "# Adjust the y axis\n",
    "plt.ylim(-2, 2)\n",
    "plt.ylabel(\"Acceptance\")\n",
    "\n",
    "# Add a thin, dashed, horizontal line through 0 on the y-axis using the axhline function\n",
    "plt.axhline(0, linestyle=\"--\", linewidth=1, color=\"black\")\n",
    "\n",
    "# Show the plot\n",
    "plt.show()"
   ]
  },
  {
   "cell_type": "markdown",
   "id": "d0ace563-7ba2-4d98-b63b-7d3c5b8d42e8",
   "metadata": {},
   "source": [
    "### Version 2"
   ]
  },
  {
   "cell_type": "code",
   "execution_count": 26,
   "id": "17e08336-a610-4987-80f7-0f32afc8422a",
   "metadata": {},
   "outputs": [
    {
     "data": {
      "image/png": "[encoded data removed]",
      "text/plain": [
       "<Figure size 660x500 with 1 Axes>"
      ]
     },
     "metadata": {},
     "output_type": "display_data"
    }
   ],
   "source": [
    "# Use seaborn's pointplot function to create the error plot\n",
    "sns.pointplot(x=\"Study\", y=\"value\", hue=\"Politics\", data=study_comparison, dodge=0.25, join=False,\n",
    "              palette={\"liberal\": \"#0015BC\", \"conservative\": \"#FF0000\", \"other\": \"darkgrey\"})\n",
    "\n",
    "# Get the current tick locations and labels\n",
    "xticks, xticklabels = plt.xticks()\n",
    "\n",
    "# New x axis labels\n",
    "xlabels = ['Hangartner \\net al.', 'Pennycook \\net al.', 'Levy', 'Mosleh \\net al.']\n",
    "\n",
    "# Set the tick labels to be rotated by 45 degrees\n",
    "plt.xticks(xticks, xlabels, rotation=0, fontsize=7, font='Helvetica', color='#242423')\n",
    "\n",
    "# Adjust the y axis\n",
    "plt.ylim(-2, 2)\n",
    "plt.ylabel(\"\\nEthical acceptance of study\", font='Helvetica', fontsize=8)\n",
    "\n",
    "# Add a thin, dashed, horizontal line through 0 on the y-axis using the axhline function\n",
    "plt.axhline(0, linestyle=\"--\", linewidth=.8, color=\"#242423\")\n",
    "\n",
    "# Remove tick labels\n",
    "plt.tick_params(\n",
    "    axis='x',          # changes apply to the x-axis\n",
    "    which='minor',      # both major and minor ticks are affected\n",
    "    bottom=False,      # ticks along the bottom edge are off\n",
    "    top=False,         # ticks along the top edge are off\n",
    "    labelbottom=True) # labels along the bottom edge are off\n",
    "\n",
    "plt.tick_params(\n",
    "    axis='x',          # changes apply to the x-axis\n",
    "    which='major',     # both major and minor ticks are affected\n",
    "    bottom=True,       # ticks along the bottom edge are off\n",
    "    top=False,         # ticks along the top edge are off\n",
    "    direction=\"out\")         \n",
    "\n",
    "plt.tick_params(\n",
    "    axis='y',          # changes apply to the x-axis\n",
    "    which='both',      # both major and minor ticks are affected\n",
    "    right=False,       # ticks along the bottom edge are off\n",
    "    top=False)         # ticks along the top edge are off\n",
    "\n",
    "plt.xlabel('Study', fontsize=8, color='black', font='Helvetica')\n",
    "\n",
    "plt.legend(title=\"  Political viewpoint \", bbox_to_anchor=(0.44, 0.37),\n",
    "           ncol=1, fancybox=True, shadow=True, frameon=True, title_fontsize=6.5,\n",
    "           prop={\"family\":\"Helvetica\", \"size\":6.5})\n",
    "\n",
    "plt.savefig('../reports/figures/ic2s2-fig1b.svg', bbox_inches='tight', dpi=1200)"
   ]
  },
  {
   "cell_type": "markdown",
   "id": "ee7e046a-efd4-477d-b322-766b0e39c432",
   "metadata": {},
   "source": [
    "### Study design features"
   ]
  },
  {
   "cell_type": "markdown",
   "id": "35a088a2-f3a6-457a-a7a9-c28be0dbda2a",
   "metadata": {},
   "source": [
    "**VS**: The below code has been updated to match the updated column order"
   ]
  },
  {
   "cell_type": "code",
   "execution_count": 27,
   "id": "8f45cd8a-8ba9-4b28-8318-2fe6b86be47d",
   "metadata": {},
   "outputs": [],
   "source": [
    "# Select columns with index positions 28 through 37 (inclusive)\n",
    "design_fts = digex_df.iloc[:, 28:37]\n",
    "\n",
    "# Recode the values in the column using the replace function\n",
    "design_fts = design_fts.replace({\"Not at all important\": 1, \"Slightly important\": 2, \"Moderately important\": 3, \"Very important\": 4, \"Extremely important\": 5})"
   ]
  },
  {
   "cell_type": "code",
   "execution_count": 28,
   "id": "af8f3acf-7929-45a6-9f72-8b46974b90e6",
   "metadata": {},
   "outputs": [],
   "source": [
    "design_plot = design_fts.melt(var_name=\"Feature\", value_name=\"Importance\")\n",
    "\n",
    "# Update column order to reflect ranking of features (in descending order)\n",
    "cols_descending = list(\n",
    "    dict(design_fts.mean(numeric_only=True).sort_values(ascending=False)).keys()\n",
    ")\n",
    "\n",
    "design_fts = design_fts[cols_descending]"
   ]
  },
  {
   "cell_type": "code",
   "execution_count": 29,
   "id": "fbb109d6",
   "metadata": {},
   "outputs": [
    {
     "data": {
      "text/plain": [
       "design_partic_aware    3.799599\n",
       "design_cont            3.464930\n",
       "design_inter_type      3.438878\n",
       "design_type_data       3.376754\n",
       "design_res_purp        3.360721\n",
       "design_inter_impact    3.310621\n",
       "design_admin_inter     2.917836\n",
       "design_len_data        2.861723\n",
       "design_num_users       2.857715\n",
       "dtype: float64"
      ]
     },
     "execution_count": 29,
     "metadata": {},
     "output_type": "execute_result"
    }
   ],
   "source": [
    "# inspect average importance rating of each study design feature\n",
    "design_fts.mean(numeric_only=True).sort_values(ascending=False)"
   ]
  },
  {
   "cell_type": "markdown",
   "id": "c3f0fca6-344b-45fa-a601-c781ca229403",
   "metadata": {},
   "source": [
    "#### Plot 1 "
   ]
  },
  {
   "cell_type": "code",
   "execution_count": 30,
   "id": "42cece97",
   "metadata": {},
   "outputs": [
    {
     "data": {
      "image/png": "[encoded data removed]",
      "text/plain": [
       "<Figure size 660x500 with 1 Axes>"
      ]
     },
     "metadata": {},
     "output_type": "display_data"
    }
   ],
   "source": [
    "# Use seaborn's pointplot function to create the error plot\n",
    "sns.pointplot(x=\"Feature\", y=\"Importance\", data=design_plot, join=False)\n",
    "\n",
    "# Shift the x-axis ticks to the left using the tick_params function\n",
    "plt.tick_params(axis='x', labelrotation=70)\n",
    "\n",
    "# Adjust the y axis\n",
    "plt.ylim(1, 5)\n",
    "\n",
    "# Show the plot\n",
    "plt.show()"
   ]
  },
  {
   "cell_type": "markdown",
   "id": "12e0a432-7370-4387-8558-7218f6d85c65",
   "metadata": {},
   "source": [
    "#### Plot 2"
   ]
  },
  {
   "cell_type": "code",
   "execution_count": 32,
   "id": "98a4054c-db05-4ac2-b6b1-904f01ebea06",
   "metadata": {
    "tags": []
   },
   "outputs": [
    {
     "ename": "ImportError",
     "evalue": "lxml not found, please install it",
     "output_type": "error",
     "traceback": [
      "\u001b[0;31m---------------------------------------------------------------------------\u001b[0m",
      "\u001b[0;31mImportError\u001b[0m                               Traceback (most recent call last)",
      "Cell \u001b[0;32mIn [32], line 3\u001b[0m\n\u001b[1;32m      1\u001b[0m \u001b[38;5;66;03m# replace variable abbreviations in Feature column with variable names\u001b[39;00m\n\u001b[1;32m      2\u001b[0m feature_var_names \u001b[38;5;241m=\u001b[39m \u001b[38;5;28mlist\u001b[39m(\n\u001b[0;32m----> 3\u001b[0m     \u001b[43mpd\u001b[49m\u001b[38;5;241;43m.\u001b[39;49m\u001b[43mread_html\u001b[49m\u001b[43m(\u001b[49m\u001b[38;5;124;43m'\u001b[39;49m\u001b[38;5;124;43m../reports/variable-table.html\u001b[39;49m\u001b[38;5;124;43m'\u001b[39;49m\u001b[43m)\u001b[49m[\u001b[38;5;241m0\u001b[39m]\u001b[38;5;241m.\u001b[39miloc[\u001b[38;5;241m28\u001b[39m:\u001b[38;5;241m37\u001b[39m,\u001b[38;5;241m2\u001b[39m]\n\u001b[1;32m      4\u001b[0m )\n\u001b[1;32m      6\u001b[0m design_plot[\u001b[38;5;124m'\u001b[39m\u001b[38;5;124mFeature\u001b[39m\u001b[38;5;124m'\u001b[39m]\u001b[38;5;241m.\u001b[39mreplace(\n\u001b[1;32m      7\u001b[0m     \u001b[38;5;28mdict\u001b[39m(\u001b[38;5;28mzip\u001b[39m(design_plot\u001b[38;5;241m.\u001b[39mFeature\u001b[38;5;241m.\u001b[39munique(), feature_var_names)), inplace\u001b[38;5;241m=\u001b[39m\u001b[38;5;28;01mTrue\u001b[39;00m\n\u001b[1;32m      8\u001b[0m )\n\u001b[1;32m     10\u001b[0m label_order \u001b[38;5;241m=\u001b[39m [\n\u001b[1;32m     11\u001b[0m     \u001b[38;5;124m'\u001b[39m\u001b[38;5;124mparticipant awareness of study\u001b[39m\u001b[38;5;124m'\u001b[39m,\n\u001b[1;32m     12\u001b[0m      \u001b[38;5;124m'\u001b[39m\u001b[38;5;124mcontent of data\u001b[39m\u001b[38;5;124m'\u001b[39m,\n\u001b[0;32m   (...)\u001b[0m\n\u001b[1;32m     19\u001b[0m      \u001b[38;5;124m'\u001b[39m\u001b[38;5;124mnumber of users studied\u001b[39m\u001b[38;5;124m'\u001b[39m\n\u001b[1;32m     20\u001b[0m ]\n",
      "File \u001b[0;32m~/Library/Python/3.8/lib/python/site-packages/pandas/util/_decorators.py:331\u001b[0m, in \u001b[0;36mdeprecate_nonkeyword_arguments.<locals>.decorate.<locals>.wrapper\u001b[0;34m(*args, **kwargs)\u001b[0m\n\u001b[1;32m    <a href='file:///~/Library/Python/3.8/lib/python/site-packages/pandas/util/_decorators.py?line=324'>325</a>\u001b[0m \u001b[39mif\u001b[39;00m \u001b[39mlen\u001b[39m(args) \u001b[39m>\u001b[39m num_allow_args:\n\u001b[1;32m    <a href='file:///~/Library/Python/3.8/lib/python/site-packages/pandas/util/_decorators.py?line=325'>326</a>\u001b[0m     warnings\u001b[39m.\u001b[39mwarn(\n\u001b[1;32m    <a href='file:///~/Library/Python/3.8/lib/python/site-packages/pandas/util/_decorators.py?line=326'>327</a>\u001b[0m         msg\u001b[39m.\u001b[39mformat(arguments\u001b[39m=\u001b[39m_format_argument_list(allow_args)),\n\u001b[1;32m    <a href='file:///~/Library/Python/3.8/lib/python/site-packages/pandas/util/_decorators.py?line=327'>328</a>\u001b[0m         \u001b[39mFutureWarning\u001b[39;00m,\n\u001b[1;32m    <a href='file:///~/Library/Python/3.8/lib/python/site-packages/pandas/util/_decorators.py?line=328'>329</a>\u001b[0m         stacklevel\u001b[39m=\u001b[39mfind_stack_level(),\n\u001b[1;32m    <a href='file:///~/Library/Python/3.8/lib/python/site-packages/pandas/util/_decorators.py?line=329'>330</a>\u001b[0m     )\n\u001b[0;32m--> <a href='file:///~/Library/Python/3.8/lib/python/site-packages/pandas/util/_decorators.py?line=330'>331</a>\u001b[0m \u001b[39mreturn\u001b[39;00m func(\u001b[39m*\u001b[39;49margs, \u001b[39m*\u001b[39;49m\u001b[39m*\u001b[39;49mkwargs)\n",
      "File \u001b[0;32m~/Library/Python/3.8/lib/python/site-packages/pandas/io/html.py:1205\u001b[0m, in \u001b[0;36mread_html\u001b[0;34m(io, match, flavor, header, index_col, skiprows, attrs, parse_dates, thousands, encoding, decimal, converters, na_values, keep_default_na, displayed_only, extract_links)\u001b[0m\n\u001b[1;32m   <a href='file:///~/Library/Python/3.8/lib/python/site-packages/pandas/io/html.py?line=1200'>1201</a>\u001b[0m validate_header_arg(header)\n\u001b[1;32m   <a href='file:///~/Library/Python/3.8/lib/python/site-packages/pandas/io/html.py?line=1202'>1203</a>\u001b[0m io \u001b[39m=\u001b[39m stringify_path(io)\n\u001b[0;32m-> <a href='file:///~/Library/Python/3.8/lib/python/site-packages/pandas/io/html.py?line=1204'>1205</a>\u001b[0m \u001b[39mreturn\u001b[39;00m _parse(\n\u001b[1;32m   <a href='file:///~/Library/Python/3.8/lib/python/site-packages/pandas/io/html.py?line=1205'>1206</a>\u001b[0m     flavor\u001b[39m=\u001b[39;49mflavor,\n\u001b[1;32m   <a href='file:///~/Library/Python/3.8/lib/python/site-packages/pandas/io/html.py?line=1206'>1207</a>\u001b[0m     io\u001b[39m=\u001b[39;49mio,\n\u001b[1;32m   <a href='file:///~/Library/Python/3.8/lib/python/site-packages/pandas/io/html.py?line=1207'>1208</a>\u001b[0m     match\u001b[39m=\u001b[39;49mmatch,\n\u001b[1;32m   <a href='file:///~/Library/Python/3.8/lib/python/site-packages/pandas/io/html.py?line=1208'>1209</a>\u001b[0m     header\u001b[39m=\u001b[39;49mheader,\n\u001b[1;32m   <a href='file:///~/Library/Python/3.8/lib/python/site-packages/pandas/io/html.py?line=1209'>1210</a>\u001b[0m     index_col\u001b[39m=\u001b[39;49mindex_col,\n\u001b[1;32m   <a href='file:///~/Library/Python/3.8/lib/python/site-packages/pandas/io/html.py?line=1210'>1211</a>\u001b[0m     skiprows\u001b[39m=\u001b[39;49mskiprows,\n\u001b[1;32m   <a href='file:///~/Library/Python/3.8/lib/python/site-packages/pandas/io/html.py?line=1211'>1212</a>\u001b[0m     parse_dates\u001b[39m=\u001b[39;49mparse_dates,\n\u001b[1;32m   <a href='file:///~/Library/Python/3.8/lib/python/site-packages/pandas/io/html.py?line=1212'>1213</a>\u001b[0m     thousands\u001b[39m=\u001b[39;49mthousands,\n\u001b[1;32m   <a href='file:///~/Library/Python/3.8/lib/python/site-packages/pandas/io/html.py?line=1213'>1214</a>\u001b[0m     attrs\u001b[39m=\u001b[39;49mattrs,\n\u001b[1;32m   <a href='file:///~/Library/Python/3.8/lib/python/site-packages/pandas/io/html.py?line=1214'>1215</a>\u001b[0m     encoding\u001b[39m=\u001b[39;49mencoding,\n\u001b[1;32m   <a href='file:///~/Library/Python/3.8/lib/python/site-packages/pandas/io/html.py?line=1215'>1216</a>\u001b[0m     decimal\u001b[39m=\u001b[39;49mdecimal,\n\u001b[1;32m   <a href='file:///~/Library/Python/3.8/lib/python/site-packages/pandas/io/html.py?line=1216'>1217</a>\u001b[0m     converters\u001b[39m=\u001b[39;49mconverters,\n\u001b[1;32m   <a href='file:///~/Library/Python/3.8/lib/python/site-packages/pandas/io/html.py?line=1217'>1218</a>\u001b[0m     na_values\u001b[39m=\u001b[39;49mna_values,\n\u001b[1;32m   <a href='file:///~/Library/Python/3.8/lib/python/site-packages/pandas/io/html.py?line=1218'>1219</a>\u001b[0m     keep_default_na\u001b[39m=\u001b[39;49mkeep_default_na,\n\u001b[1;32m   <a href='file:///~/Library/Python/3.8/lib/python/site-packages/pandas/io/html.py?line=1219'>1220</a>\u001b[0m     displayed_only\u001b[39m=\u001b[39;49mdisplayed_only,\n\u001b[1;32m   <a href='file:///~/Library/Python/3.8/lib/python/site-packages/pandas/io/html.py?line=1220'>1221</a>\u001b[0m     extract_links\u001b[39m=\u001b[39;49mextract_links,\n\u001b[1;32m   <a href='file:///~/Library/Python/3.8/lib/python/site-packages/pandas/io/html.py?line=1221'>1222</a>\u001b[0m )\n",
      "File \u001b[0;32m~/Library/Python/3.8/lib/python/site-packages/pandas/io/html.py:982\u001b[0m, in \u001b[0;36m_parse\u001b[0;34m(flavor, io, match, attrs, encoding, displayed_only, extract_links, **kwargs)\u001b[0m\n\u001b[1;32m    <a href='file:///~/Library/Python/3.8/lib/python/site-packages/pandas/io/html.py?line=979'>980</a>\u001b[0m retained \u001b[39m=\u001b[39m \u001b[39mNone\u001b[39;00m\n\u001b[1;32m    <a href='file:///~/Library/Python/3.8/lib/python/site-packages/pandas/io/html.py?line=980'>981</a>\u001b[0m \u001b[39mfor\u001b[39;00m flav \u001b[39min\u001b[39;00m flavor:\n\u001b[0;32m--> <a href='file:///~/Library/Python/3.8/lib/python/site-packages/pandas/io/html.py?line=981'>982</a>\u001b[0m     parser \u001b[39m=\u001b[39m _parser_dispatch(flav)\n\u001b[1;32m    <a href='file:///~/Library/Python/3.8/lib/python/site-packages/pandas/io/html.py?line=982'>983</a>\u001b[0m     p \u001b[39m=\u001b[39m parser(io, compiled_match, attrs, encoding, displayed_only, extract_links)\n\u001b[1;32m    <a href='file:///~/Library/Python/3.8/lib/python/site-packages/pandas/io/html.py?line=984'>985</a>\u001b[0m     \u001b[39mtry\u001b[39;00m:\n",
      "File \u001b[0;32m~/Library/Python/3.8/lib/python/site-packages/pandas/io/html.py:939\u001b[0m, in \u001b[0;36m_parser_dispatch\u001b[0;34m(flavor)\u001b[0m\n\u001b[1;32m    <a href='file:///~/Library/Python/3.8/lib/python/site-packages/pandas/io/html.py?line=936'>937</a>\u001b[0m \u001b[39melse\u001b[39;00m:\n\u001b[1;32m    <a href='file:///~/Library/Python/3.8/lib/python/site-packages/pandas/io/html.py?line=937'>938</a>\u001b[0m     \u001b[39mif\u001b[39;00m \u001b[39mnot\u001b[39;00m _HAS_LXML:\n\u001b[0;32m--> <a href='file:///~/Library/Python/3.8/lib/python/site-packages/pandas/io/html.py?line=938'>939</a>\u001b[0m         \u001b[39mraise\u001b[39;00m \u001b[39mImportError\u001b[39;00m(\u001b[39m\"\u001b[39m\u001b[39mlxml not found, please install it\u001b[39m\u001b[39m\"\u001b[39m)\n\u001b[1;32m    <a href='file:///~/Library/Python/3.8/lib/python/site-packages/pandas/io/html.py?line=939'>940</a>\u001b[0m \u001b[39mreturn\u001b[39;00m _valid_parsers[flavor]\n",
      "\u001b[0;31mImportError\u001b[0m: lxml not found, please install it"
     ]
    }
   ],
   "source": [
    "# replace variable abbreviations in Feature column with variable names\n",
    "feature_var_names = list(\n",
    "    pd.read_html('../reports/variable-table.html')[0].iloc[28:37,2]\n",
    ")\n",
    "\n",
    "design_plot['Feature'].replace(\n",
    "    dict(zip(design_plot.Feature.unique(), feature_var_names)), inplace=True\n",
    ")\n",
    "\n",
    "label_order = [\n",
    "    'participant awareness of study',\n",
    "     'content of data',\n",
    "     'type of intervention',\n",
    "     'type of data',\n",
    "     'research purpose',\n",
    "     'impact of intervention',\n",
    "     'administration of intervention',\n",
    "     'length of data collection',\n",
    "     'number of users studied'\n",
    "]\n",
    "\n",
    "df['Feature'] = pd.Categorical(df['Feature'], label_order)\n",
    "\n",
    "df = df.sort_values(['Feature','Importance'])\n",
    "\n",
    "grouped = df.groupby(\"Feature\", sort=False)\n",
    "\n",
    "# plot figure using joypy\n",
    "fig, ax = joypy.joyplot(grouped, \n",
    "                        column='Importance', \n",
    "                        linewidth=.5,\n",
    "                        # labels=labels,\n",
    "                        figsize=(6,3),\n",
    "                        grid=True,\n",
    "                        colormap=cm.Wistia_r)\n",
    "\n",
    "plt.tick_params(axis='x', colors='#4d4d4d') \n",
    "for ax in ax:\n",
    "    label = ax.get_yticklabels()\n",
    "    label[0].set_color('#242423')\n",
    "    label[0].set_font('Helvetica')\n",
    "\n",
    "    \n",
    "plt.xlabel('\\n\\n\\nImportance',  fontsize=8, color='black', font='Helvetica')\n",
    "plt.text(-1.9, 0.41, 'Factors', fontsize=8, color='black', rotation=90, font='Helvetica')\n",
    "\n",
    "plt.text(0.66, -0.13, '$\\,$not at all\\nimportant', fontsize=7, color='#242423', font='Helvetica')\n",
    "plt.text(2.64, -0.13, 'moderately\\n important', fontsize=7, color='#242423', font='Helvetica')\n",
    "plt.text(4.68, -0.13, 'extremely\\nimportant', fontsize=7, color='#242423', font='Helvetica')\n",
    "\n",
    "plt.savefig('../reports/figures/ic2s2-fig1c.svg', bbox_inches='tight', dpi=1200)"
   ]
  },
  {
   "cell_type": "markdown",
   "id": "6a902bbb-df46-4fd0-beaf-d6441b9e03d6",
   "metadata": {},
   "source": [
    "**Attitudes on the importance of different study design factors.** Distribution of importance ratings for study design factors. Participants responded to the question “How important are the following factors for determining your level of concern with academic research conducted on social media, such as online experiments?\", and had to answer using a 5-point rating scale (1 = not at all important, 5 = extremely important)."
   ]
  },
  {
   "cell_type": "markdown",
   "id": "8daeb637-77b7-4b9b-af82-323eaad79f28",
   "metadata": {},
   "source": [
    "#### Ranking order"
   ]
  },
  {
   "cell_type": "code",
   "execution_count": 34,
   "id": "500ed237-9ba9-4264-aa78-ea5d42e2e4d5",
   "metadata": {},
   "outputs": [
    {
     "data": {
      "text/plain": [
       "design_partic_aware    3.799599\n",
       "design_cont            3.464930\n",
       "design_inter_type      3.438878\n",
       "design_type_data       3.376754\n",
       "design_res_purp        3.360721\n",
       "design_inter_impact    3.310621\n",
       "design_admin_inter     2.917836\n",
       "design_len_data        2.861723\n",
       "design_num_users       2.857715\n",
       "dtype: float64"
      ]
     },
     "execution_count": 34,
     "metadata": {},
     "output_type": "execute_result"
    }
   ],
   "source": [
    "design_fts.mean(numeric_only=True).sort_values(ascending=False)"
   ]
  },
  {
   "cell_type": "code",
   "execution_count": 35,
   "id": "4b6672cc-5f8e-4c30-9a54-300dbe155ee6",
   "metadata": {},
   "outputs": [
    {
     "data": {
      "text/plain": [
       "design_partic_aware    4.0\n",
       "design_cont            4.0\n",
       "design_inter_type      4.0\n",
       "design_type_data       4.0\n",
       "design_res_purp        4.0\n",
       "design_inter_impact    3.0\n",
       "design_admin_inter     3.0\n",
       "design_len_data        3.0\n",
       "design_num_users       3.0\n",
       "dtype: float64"
      ]
     },
     "execution_count": 35,
     "metadata": {},
     "output_type": "execute_result"
    }
   ],
   "source": [
    "design_fts.median(numeric_only=True).sort_values(ascending=False)"
   ]
  },
  {
   "cell_type": "code",
   "execution_count": 272,
   "id": "50d53a88-1f54-4698-a436-9e1fcf40103e",
   "metadata": {},
   "outputs": [
    {
     "data": {
      "text/html": [
       "<div>\n",
       "<style scoped>\n",
       "    .dataframe tbody tr th:only-of-type {\n",
       "        vertical-align: middle;\n",
       "    }\n",
       "\n",
       "    .dataframe tbody tr th {\n",
       "        vertical-align: top;\n",
       "    }\n",
       "\n",
       "    .dataframe thead th {\n",
       "        text-align: right;\n",
       "    }\n",
       "</style>\n",
       "<table border=\"1\" class=\"dataframe\">\n",
       "  <thead>\n",
       "    <tr style=\"text-align: right;\">\n",
       "      <th></th>\n",
       "      <th>design_partic_aware</th>\n",
       "      <th>design_cont</th>\n",
       "      <th>design_inter_type</th>\n",
       "      <th>design_type_data</th>\n",
       "      <th>design_res_purp</th>\n",
       "      <th>design_inter_impact</th>\n",
       "      <th>design_admin_inter</th>\n",
       "      <th>design_len_data</th>\n",
       "      <th>design_num_users</th>\n",
       "    </tr>\n",
       "  </thead>\n",
       "  <tbody>\n",
       "    <tr>\n",
       "      <th>count</th>\n",
       "      <td>499.000000</td>\n",
       "      <td>499.000000</td>\n",
       "      <td>499.000000</td>\n",
       "      <td>499.000000</td>\n",
       "      <td>499.000000</td>\n",
       "      <td>499.000000</td>\n",
       "      <td>499.000000</td>\n",
       "      <td>499.000000</td>\n",
       "      <td>499.000000</td>\n",
       "    </tr>\n",
       "    <tr>\n",
       "      <th>mean</th>\n",
       "      <td>3.799599</td>\n",
       "      <td>3.464930</td>\n",
       "      <td>3.438878</td>\n",
       "      <td>3.376754</td>\n",
       "      <td>3.360721</td>\n",
       "      <td>3.310621</td>\n",
       "      <td>2.917836</td>\n",
       "      <td>2.861723</td>\n",
       "      <td>2.857715</td>\n",
       "    </tr>\n",
       "    <tr>\n",
       "      <th>std</th>\n",
       "      <td>1.230437</td>\n",
       "      <td>1.182313</td>\n",
       "      <td>1.132653</td>\n",
       "      <td>1.237930</td>\n",
       "      <td>1.331628</td>\n",
       "      <td>1.294764</td>\n",
       "      <td>1.284470</td>\n",
       "      <td>1.290574</td>\n",
       "      <td>1.435982</td>\n",
       "    </tr>\n",
       "    <tr>\n",
       "      <th>min</th>\n",
       "      <td>1.000000</td>\n",
       "      <td>1.000000</td>\n",
       "      <td>1.000000</td>\n",
       "      <td>1.000000</td>\n",
       "      <td>1.000000</td>\n",
       "      <td>1.000000</td>\n",
       "      <td>1.000000</td>\n",
       "      <td>1.000000</td>\n",
       "      <td>1.000000</td>\n",
       "    </tr>\n",
       "    <tr>\n",
       "      <th>25%</th>\n",
       "      <td>3.000000</td>\n",
       "      <td>3.000000</td>\n",
       "      <td>3.000000</td>\n",
       "      <td>3.000000</td>\n",
       "      <td>2.000000</td>\n",
       "      <td>2.000000</td>\n",
       "      <td>2.000000</td>\n",
       "      <td>2.000000</td>\n",
       "      <td>1.500000</td>\n",
       "    </tr>\n",
       "    <tr>\n",
       "      <th>50%</th>\n",
       "      <td>4.000000</td>\n",
       "      <td>4.000000</td>\n",
       "      <td>4.000000</td>\n",
       "      <td>4.000000</td>\n",
       "      <td>4.000000</td>\n",
       "      <td>3.000000</td>\n",
       "      <td>3.000000</td>\n",
       "      <td>3.000000</td>\n",
       "      <td>3.000000</td>\n",
       "    </tr>\n",
       "    <tr>\n",
       "      <th>75%</th>\n",
       "      <td>5.000000</td>\n",
       "      <td>4.000000</td>\n",
       "      <td>4.000000</td>\n",
       "      <td>4.000000</td>\n",
       "      <td>4.000000</td>\n",
       "      <td>4.000000</td>\n",
       "      <td>4.000000</td>\n",
       "      <td>4.000000</td>\n",
       "      <td>4.000000</td>\n",
       "    </tr>\n",
       "    <tr>\n",
       "      <th>max</th>\n",
       "      <td>5.000000</td>\n",
       "      <td>5.000000</td>\n",
       "      <td>5.000000</td>\n",
       "      <td>5.000000</td>\n",
       "      <td>5.000000</td>\n",
       "      <td>5.000000</td>\n",
       "      <td>5.000000</td>\n",
       "      <td>5.000000</td>\n",
       "      <td>5.000000</td>\n",
       "    </tr>\n",
       "  </tbody>\n",
       "</table>\n",
       "</div>"
      ],
      "text/plain": [
       "       design_partic_aware  design_cont  design_inter_type  design_type_data  \\\n",
       "count           499.000000   499.000000         499.000000        499.000000   \n",
       "mean              3.799599     3.464930           3.438878          3.376754   \n",
       "std               1.230437     1.182313           1.132653          1.237930   \n",
       "min               1.000000     1.000000           1.000000          1.000000   \n",
       "25%               3.000000     3.000000           3.000000          3.000000   \n",
       "50%               4.000000     4.000000           4.000000          4.000000   \n",
       "75%               5.000000     4.000000           4.000000          4.000000   \n",
       "max               5.000000     5.000000           5.000000          5.000000   \n",
       "\n",
       "       design_res_purp  design_inter_impact  design_admin_inter  \\\n",
       "count       499.000000           499.000000          499.000000   \n",
       "mean          3.360721             3.310621            2.917836   \n",
       "std           1.331628             1.294764            1.284470   \n",
       "min           1.000000             1.000000            1.000000   \n",
       "25%           2.000000             2.000000            2.000000   \n",
       "50%           4.000000             3.000000            3.000000   \n",
       "75%           4.000000             4.000000            4.000000   \n",
       "max           5.000000             5.000000            5.000000   \n",
       "\n",
       "       design_len_data  design_num_users  \n",
       "count       499.000000        499.000000  \n",
       "mean          2.861723          2.857715  \n",
       "std           1.290574          1.435982  \n",
       "min           1.000000          1.000000  \n",
       "25%           2.000000          1.500000  \n",
       "50%           3.000000          3.000000  \n",
       "75%           4.000000          4.000000  \n",
       "max           5.000000          5.000000  "
      ]
     },
     "execution_count": 272,
     "metadata": {},
     "output_type": "execute_result"
    }
   ],
   "source": [
    "# use the below to compute the interquartile range\n",
    "design_fts.describe()"
   ]
  },
  {
   "cell_type": "markdown",
   "id": "ebdf076d",
   "metadata": {},
   "source": [
    "### Ethical priorities"
   ]
  },
  {
   "cell_type": "code",
   "execution_count": 13,
   "id": "cef20e7f",
   "metadata": {},
   "outputs": [],
   "source": [
    "ranks = digex_df[['rank_sci_repro', 'rank_resp', 'rank_just', 'rank_anony', 'rank_harms', 'rank_balance', 'rank_pub_interst']]"
   ]
  },
  {
   "cell_type": "markdown",
   "id": "d2582960",
   "metadata": {},
   "source": [
    "Ranks by means (lower value = higher priority)."
   ]
  },
  {
   "cell_type": "code",
   "execution_count": 14,
   "id": "6f3b150b",
   "metadata": {},
   "outputs": [
    {
     "data": {
      "text/plain": [
       "rank_harms          2.697395\n",
       "rank_anony          3.054108\n",
       "rank_resp           3.527054\n",
       "rank_pub_interst    3.573146\n",
       "rank_just           4.651303\n",
       "rank_balance        4.975952\n",
       "rank_sci_repro      5.521042\n",
       "dtype: float64"
      ]
     },
     "execution_count": 14,
     "metadata": {},
     "output_type": "execute_result"
    }
   ],
   "source": [
    "ranks_means = ranks.mean()\n",
    "ranks_means.sort_values(inplace=True, ascending=True)\n",
    "ranks_means"
   ]
  },
  {
   "cell_type": "markdown",
   "id": "a82696cd",
   "metadata": {},
   "source": [
    "Ranks by Borda count (higher value = higher priority)."
   ]
  },
  {
   "cell_type": "code",
   "execution_count": 15,
   "id": "b77dfdb8",
   "metadata": {},
   "outputs": [
    {
     "data": {
      "text/plain": [
       "rank_harms          2147.0\n",
       "rank_anony          1969.0\n",
       "rank_resp           1733.0\n",
       "rank_pub_interst    1710.0\n",
       "rank_just           1172.0\n",
       "rank_balance        1010.0\n",
       "rank_sci_repro       738.0\n",
       "dtype: float64"
      ]
     },
     "execution_count": 15,
     "metadata": {},
     "output_type": "execute_result"
    }
   ],
   "source": [
    "ranks_borda = ranks.replace({1:6, 2:5, 3:4, 4:3, 5:2, 6:1, 7:0})    \n",
    "ranks_borda = ranks_borda.sum()\n",
    "ranks_borda.sort_values(inplace=True, ascending=False)\n",
    "ranks_borda"
   ]
  },
  {
   "cell_type": "code",
   "execution_count": 92,
   "id": "98819672",
   "metadata": {},
   "outputs": [
    {
     "data": {
      "image/png": "[encoded data removed]",
      "text/plain": [
       "<Figure size 660x500 with 1 Axes>"
      ]
     },
     "metadata": {},
     "output_type": "display_data"
    }
   ],
   "source": [
    "import pandas as pd\n",
    "import seaborn as sns\n",
    "import matplotlib.pyplot as plt\n",
    "\n",
    "# Given data\n",
    "ranks_borda = pd.Series({\n",
    "    'Avoid harm': 2147.0,\n",
    "    'Participant anonymity': 1969.0,\n",
    "    'Informed consent': 1733.0,\n",
    "    'Lawfulness': 1710.0,\n",
    "    'Fairness': 1172.0,\n",
    "    'Potential benefits': 1010.0,\n",
    "    'Reproducibility': 738.0\n",
    "})\n",
    "\n",
    "# Sort the ranks in ascending order\n",
    "ranks_borda.sort_values(ascending=True, inplace=True)\n",
    "\n",
    "# Create a horizontal bar chart using seaborn\n",
    "sns.barplot(x=ranks_borda.values, y=ranks_borda.index)\n",
    "\n",
    "# Adjust the x-axis label\n",
    "plt.xlabel(\"Borda count\", fontname='Helvetica', fontsize=10)\n",
    "\n",
    "plt.tick_params(\n",
    "    axis='x',          # changes apply to the x-axis\n",
    "    which='minor',      # both major and minor ticks are affected\n",
    "    top=False,         # ticks along the top edge are off\n",
    "    bottom=True) # labels along the bottom edge are off  \n",
    "\n",
    "plt.tick_params(\n",
    "    axis='x',          # changes apply to the x-axis\n",
    "    which='major',      # both major and minor ticks are affected\n",
    "    top=False)         # ticks along the top edge are off\n",
    "\n",
    "plt.tick_params(\n",
    "    axis='y',          # changes apply to the x-axis\n",
    "    which='both',      # both major and minor ticks are affected\n",
    "    left=False,       # ticks along the bottom edge are off\n",
    "    right=False)         # ticks along the top edge are off\n",
    "\n",
    "# Adjust the y-axis tick labels\n",
    "plt.yticks(rotation=0, fontsize=7, fontname='Helvetica', color='#242423')\n",
    "\n",
    "# Set the tick labels on the x-axis\n",
    "plt.xticks(fontsize=7, fontname='Helvetica', color='#242423')\n",
    "\n",
    "# Set x-axis range\n",
    "plt.xlim(0, 3000)\n",
    "\n",
    "# Invert the y-axis\n",
    "plt.gca().invert_yaxis()\n",
    "\n",
    "plt.show()\n"
   ]
  }
 ],
 "metadata": {
  "kernelspec": {
   "display_name": "Python 3 (ipykernel)",
   "language": "python",
   "name": "python3"
  },
  "language_info": {
   "codemirror_mode": {
    "name": "ipython",
    "version": 3
   },
   "file_extension": ".py",
   "mimetype": "text/x-python",
   "name": "python",
   "nbconvert_exporter": "python",
   "pygments_lexer": "ipython3",
   "version": "3.8.9"
  },
  "vscode": {
   "interpreter": {
    "hash": "31f2aee4e71d21fbe5cf8b01ff0e069b9275f58929596ceb00d14d90e3e16cd6"
   }
  }
 },
 "nbformat": 4,
 "nbformat_minor": 5
}
