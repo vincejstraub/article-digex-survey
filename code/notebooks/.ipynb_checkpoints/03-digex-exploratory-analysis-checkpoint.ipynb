{
 "cells": [
  {
   "cell_type": "markdown",
   "id": "b5150774-edf4-4c82-9bd4-35b88db7778d",
   "metadata": {},
   "source": [
    "# Exploratory analysis "
   ]
  },
  {
   "cell_type": "markdown",
   "id": "6009978f-fa14-4786-84ec-6f1d2557b0e0",
   "metadata": {},
   "source": [
    "This notebook contains code for exploratory data analysis of data used in the project: Digital experiments survey."
   ]
  },
  {
   "cell_type": "code",
   "execution_count": 2,
   "id": "0124c32d-cd56-461d-897e-5d230daae8be",
   "metadata": {},
   "outputs": [],
   "source": [
    "import joypy\n",
    "import pandas as pd\n",
    "import numpy as np\n",
    "from matplotlib import pyplot as plt"
   ]
  }
 ],
 "metadata": {
  "kernelspec": {
   "display_name": "Python 3 (ipykernel)",
   "language": "python",
   "name": "python3"
  },
  "language_info": {
   "codemirror_mode": {
    "name": "ipython",
    "version": 3
   },
   "file_extension": ".py",
   "mimetype": "text/x-python",
   "name": "python",
   "nbconvert_exporter": "python",
   "pygments_lexer": "ipython3",
   "version": "3.11.0"
  }
 },
 "nbformat": 4,
 "nbformat_minor": 5
}
